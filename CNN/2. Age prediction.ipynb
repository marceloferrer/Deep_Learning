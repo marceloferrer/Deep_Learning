{
 "cells": [
  {
   "attachments": {},
   "cell_type": "markdown",
   "metadata": {},
   "source": [
    "**Deep Learning Convolutional Neural Network** </br>\n",
    "\n",
    "Development of a convolutional network to predict the age of an individual whose face appears in an image using a pretrained model.\n",
    "\n",
    "Code developed by Marcelo Ferrer and Aymen Merchaoui"
   ]
  },
  {
   "attachments": {},
   "cell_type": "markdown",
   "metadata": {},
   "source": [
    "The notebook is divided in a similar structure that the one used for the gender prediction:\n",
    "1. Imports, declarations and configuration\n",
    "2. Dataset\n",
    "3. Testing </br>\n",
    "    Optimizer Selection</br>\n",
    "    Feature extraction and activation Function Selection</br>\n",
    "    Feature extraction and fine-tuning selection</br>\n",
    "    Optimizer Fine-tuning</br>\n",
    "4. Results</br>"
   ]
  },
  {
   "attachments": {},
   "cell_type": "markdown",
   "metadata": {},
   "source": [
    "## 1. Imports, declarations and configuration\n",
    "\n",
    "In this section we define the necessary imports, declarations and configuration to run the application. \n",
    "\n",
    "The constants for img_height, img_width and batch_size are defined here."
   ]
  },
  {
   "attachments": {},
   "cell_type": "markdown",
   "metadata": {},
   "source": [
    "In the next cell we validate that the GPU is active, as each training for the simple model takes around 25 minutes to run with GPU and without it the time for training is more than one hour each."
   ]
  },
  {
   "cell_type": "code",
   "execution_count": 1,
   "metadata": {},
   "outputs": [
    {
     "name": "stdout",
     "output_type": "stream",
     "text": [
      "Using GPU\n"
     ]
    }
   ],
   "source": [
    "# Verify that GPU is active\n",
    "import tensorflow as tf\n",
    "\n",
    "gpu_active = tf.config.list_physical_devices('GPU')\n",
    "\n",
    "if (len(gpu_active) == 0):\n",
    "    print(\"NO GPU ACTIVE!!!\")\n",
    "else:\n",
    "    print(\"Using GPU\")"
   ]
  },
  {
   "cell_type": "code",
   "execution_count": 2,
   "metadata": {},
   "outputs": [],
   "source": [
    "# imports\n",
    "import matplotlib.pyplot as plt\n",
    "from matplotlib import pyplot\n",
    "import numpy as np\n",
    "\n",
    "from tensorflow import keras\n",
    "from keras.models import load_model\n",
    "from tensorflow.keras import layers\n",
    "from tensorflow.keras import Sequential\n",
    "from tensorflow.keras.layers import Dense\n",
    "from tensorflow.keras import optimizers\n",
    "\n",
    "from keras.callbacks import EarlyStopping\n",
    "from keras.callbacks import ReduceLROnPlateau\n",
    "\n",
    "import visualkeras\n",
    "\n",
    "from os import listdir\n",
    "import os \n",
    "import os.path\n",
    "\n",
    "import json"
   ]
  },
  {
   "cell_type": "code",
   "execution_count": 3,
   "metadata": {},
   "outputs": [],
   "source": [
    "# Size at which images will be processed\n",
    "img_height = 32\n",
    "img_width = 32\n",
    "\n",
    "batch_size = 128\n",
    "\n",
    "# If activated test the optimizers\n",
    "test_optimizer = False\n",
    "# If activated test the models\n",
    "test_models_activation = False\n",
    "# If activated test the models\n",
    "test_models_layers = False"
   ]
  },
  {
   "attachments": {},
   "cell_type": "markdown",
   "metadata": {},
   "source": [
    "Load the paths and verify they exist"
   ]
  },
  {
   "cell_type": "code",
   "execution_count": 4,
   "metadata": {
    "colab": {
     "base_uri": "https://localhost:8080/"
    },
    "executionInfo": {
     "elapsed": 43060,
     "status": "ok",
     "timestamp": 1634385011700,
     "user": {
      "displayName": "Brais CB",
      "photoUrl": "https://lh3.googleusercontent.com/a/default-user=s64",
      "userId": "09113625274943472862"
     },
     "user_tz": -120
    },
    "id": "oZSAcVZq5AC9",
    "outputId": "d88c0280-8244-4adb-f4d9-a758d9e2ab60"
   },
   "outputs": [],
   "source": [
    "# Dataset path\n",
    "PATH = 'datasets/faces/faces_dataset_train/'\n",
    "PATH_TEST = 'datasets/faces/faces_dataset_test/'\n",
    "\n",
    "assert os.path.exists(PATH), 'Verify the above commands'\n",
    "assert os.path.exists(PATH_TEST), 'Verify the above commands'"
   ]
  },
  {
   "cell_type": "code",
   "execution_count": 5,
   "metadata": {},
   "outputs": [],
   "source": [
    "os.environ['KMP_DUPLICATE_LIB_OK'] = 'True'"
   ]
  },
  {
   "attachments": {},
   "cell_type": "markdown",
   "metadata": {},
   "source": [
    "## 2. Dataset\n",
    "\n",
    "In this section we load the dataset for training and validation.\n",
    "The size of the train set is 126865 rows and the training is 200."
   ]
  },
  {
   "attachments": {},
   "cell_type": "markdown",
   "metadata": {
    "id": "7NjzTnkrzNGs"
   },
   "source": [
    "### Metadata access"
   ]
  },
  {
   "cell_type": "code",
   "execution_count": 6,
   "metadata": {
    "colab": {
     "base_uri": "https://localhost:8080/"
    },
    "executionInfo": {
     "elapsed": 608,
     "status": "ok",
     "timestamp": 1634385015531,
     "user": {
      "displayName": "Brais CB",
      "photoUrl": "https://lh3.googleusercontent.com/a/default-user=s64",
      "userId": "09113625274943472862"
     },
     "user_tz": -120
    },
    "id": "SciKNCwQzLoy",
    "outputId": "9d46ed8a-cdbc-4c67-8a8c-e5b5b9f430da"
   },
   "outputs": [
    {
     "name": "stdout",
     "output_type": "stream",
     "text": [
      "i07/nm0322407_rm852269056_1955-3-29_2005.jpg ----> {'age': 50, 'gender': 'M'}\n"
     ]
    }
   ],
   "source": [
    "with open(PATH + 'metadata.json') as fIn:\n",
    "    metadata = json.loads(fIn.read())\n",
    "with open(PATH_TEST + 'metadata.json') as fIn:\n",
    "    metadata_test = json.loads(fIn.read())\n",
    "\n",
    "metadata_example_key = next(iter(metadata.keys()))\n",
    "metadata_example_value = metadata[metadata_example_key]\n",
    "\n",
    "print(metadata_example_key, end=' ----> ')\n",
    "print(metadata_example_value)"
   ]
  },
  {
   "attachments": {},
   "cell_type": "markdown",
   "metadata": {
    "id": "7m5BGd5BboRf"
   },
   "source": [
    "### Image reading"
   ]
  },
  {
   "cell_type": "code",
   "execution_count": 7,
   "metadata": {
    "colab": {
     "base_uri": "https://localhost:8080/",
     "height": 1000
    },
    "executionInfo": {
     "elapsed": 11855,
     "status": "ok",
     "timestamp": 1634385034194,
     "user": {
      "displayName": "Brais CB",
      "photoUrl": "https://lh3.googleusercontent.com/a/default-user=s64",
      "userId": "09113625274943472862"
     },
     "user_tz": -120
    },
    "id": "C11_Qk_RWYoz",
    "outputId": "5b47fc86-f5c9-4f00-f1cb-ab4f268dddd8",
    "scrolled": false
   },
   "outputs": [
    {
     "name": "stdout",
     "output_type": "stream",
     "text": [
      "Count training images: 126865\n",
      "Count test images: 1000\n",
      "Image shape:  (32, 32, 3)\n",
      "Label:  26\n"
     ]
    },
    {
     "data": {
      "image/png": "[encoded data removed]",
      "text/plain": [
       "<Figure size 640x480 with 1 Axes>"
      ]
     },
     "metadata": {},
     "output_type": "display_data"
    },
    {
     "name": "stdout",
     "output_type": "stream",
     "text": [
      "Image shape:  (32, 32, 3)\n",
      "Label:  78\n"
     ]
    },
    {
     "data": {
      "image/png": "[encoded data removed]",
      "text/plain": [
       "<Figure size 640x480 with 1 Axes>"
      ]
     },
     "metadata": {},
     "output_type": "display_data"
    },
    {
     "name": "stdout",
     "output_type": "stream",
     "text": [
      "Image shape:  (32, 32, 3)\n",
      "Label:  28\n"
     ]
    },
    {
     "data": {
      "image/png": "[encoded data removed]",
      "text/plain": [
       "<Figure size 640x480 with 1 Axes>"
      ]
     },
     "metadata": {},
     "output_type": "display_data"
    },
    {
     "name": "stdout",
     "output_type": "stream",
     "text": [
      "Image shape:  (32, 32, 3)\n",
      "Label:  32\n"
     ]
    },
    {
     "data": {
      "image/png": "[encoded data removed]",
      "text/plain": [
       "<Figure size 640x480 with 1 Axes>"
      ]
     },
     "metadata": {},
     "output_type": "display_data"
    },
    {
     "name": "stdout",
     "output_type": "stream",
     "text": [
      "Image shape:  (32, 32, 3)\n",
      "Label:  66\n"
     ]
    },
    {
     "data": {
      "image/png": "[encoded data removed]",
      "text/plain": [
       "<Figure size 640x480 with 1 Axes>"
      ]
     },
     "metadata": {},
     "output_type": "display_data"
    }
   ],
   "source": [
    "def decode_img(img):\n",
    "    '''Transforms a string that represents the path of an image into a matrix\n",
    "    (img_height, img_width, 3) of uint8 representing the pixel values\n",
    "    '''\n",
    "    # Convert the compressed string to a 3D uint8 tensor\n",
    "    img = tf.io.decode_jpeg(img, channels=3)\n",
    "    # Resize the image to the desired size.\n",
    "    return tf.cast(tf.image.resize(img, [img_height, img_width]),tf.uint8)\n",
    "\n",
    "def process_path(file_path):\n",
    "    '''Transforms strings of the form 'path|age|gender' to tuples (image, label)\n",
    "    '''\n",
    "    parts = tf.strings.split(file_path, '|')\n",
    "    age = parts[1]\n",
    "    age = tf.strings.to_number(age, out_type=tf.dtypes.int32)\n",
    "    gender = parts[2]\n",
    "    # Load the raw data from the file as a string\n",
    "    img = tf.io.read_file(parts[0])\n",
    "    img = decode_img(img)\n",
    "    return img, age\n",
    "\n",
    "\n",
    "def format_metadata(m, path):\n",
    "    '''Transforms the metadata dictionary m into a list of strings of the form 'path to the image|age|gender'.\n",
    "    '''\n",
    "    return list(map(lambda x: '{0}{1}|{2}|{3}'.format(path,x,m[x]['age'],m[x]['gender']),m.keys()))\n",
    "\n",
    "# We build a dataset of text strings from the metadata\n",
    "train_metadata = format_metadata(metadata, PATH)\n",
    "train_ds = tf.data.Dataset.from_tensor_slices(train_metadata)\n",
    "\n",
    "# Mapping to an image dataset with tags\n",
    "train_ds = train_ds.shuffle(len(train_ds)).map(process_path)\n",
    "\n",
    "# Same process for test\n",
    "test_ds = tf.data.Dataset.from_tensor_slices(format_metadata(metadata_test, PATH_TEST))\n",
    "test_ds = test_ds.map(process_path)\n",
    "\n",
    "print(\"Count training images:\", len(train_ds))\n",
    "print(\"Count test images:\",len(test_ds))\n",
    "\n",
    "# Checking\n",
    "for image, label in train_ds.take(5):\n",
    "    print(\"Image shape: \", image.numpy().shape)\n",
    "    print(\"Label: \", label.numpy())\n",
    "    pyplot.imshow(image.numpy())\n",
    "    pyplot.show()"
   ]
  },
  {
   "cell_type": "code",
   "execution_count": 8,
   "metadata": {
    "colab": {
     "base_uri": "https://localhost:8080/"
    },
    "executionInfo": {
     "elapsed": 289,
     "status": "ok",
     "timestamp": 1634385053497,
     "user": {
      "displayName": "Brais CB",
      "photoUrl": "https://lh3.googleusercontent.com/a/default-user=s64",
      "userId": "09113625274943472862"
     },
     "user_tz": -120
    },
    "id": "hYx17xd8jDp-",
    "outputId": "960a5992-2ac4-4cc4-9ff9-58ab89cbec7c"
   },
   "outputs": [
    {
     "name": "stdout",
     "output_type": "stream",
     "text": [
      "datasets/faces/faces_dataset_train/i07/nm0322407_rm852269056_1955-3-29_2005.jpg|50|M\n",
      "datasets/faces/faces_dataset_train/i47/nm0716347_rm278112000_1970-9-29_2013.jpg|43|M\n"
     ]
    }
   ],
   "source": [
    "ds_train_transform = train_ds\n",
    "ds_test_transform = test_ds\n",
    "print(train_metadata[0])\n",
    "print(train_metadata[1])"
   ]
  },
  {
   "cell_type": "code",
   "execution_count": 9,
   "metadata": {
    "id": "EtsmgEMAil8H"
   },
   "outputs": [],
   "source": [
    "# OPTIONAL: rescaling input to [-1, 1]\n",
    "ds_train_transform_rs11 = ds_train_transform.map(lambda image, label: (tf.cast(image, tf.float32)/127.5 - 1., label))\n",
    "ds_test_transform_rs11 = ds_test_transform.map(lambda image, label: (tf.cast(image, tf.float32)/127.5 - 1., label))"
   ]
  },
  {
   "cell_type": "code",
   "execution_count": 10,
   "metadata": {
    "id": "L09prZNx7uWn"
   },
   "outputs": [],
   "source": [
    "# OPTIONAL: rescaled output to [0, 1]\n",
    "import numpy as np\n",
    "labels = [int(x.split('|')[1]) for x in train_metadata]\n",
    "max_age = tf.convert_to_tensor(np.max(labels), tf.float32)\n",
    "ds_train_transform_rs01 = ds_train_transform.map(lambda image, label: (image, tf.cast(label, tf.float32)/max_age))\n",
    "ds_test_transform_rs01 = ds_test_transform.map(lambda image, label: (image, tf.cast(label, tf.float32)/max_age))"
   ]
  },
  {
   "attachments": {},
   "cell_type": "markdown",
   "metadata": {},
   "source": [
    "**Data balance**\n",
    "\n",
    "As the dataset is a little imbalance (74253 men and 52612 women), a weight strategy could be a good idea. This will assign more weight to the class with less instances so the model will learn with the same influence for both classes."
   ]
  },
  {
   "cell_type": "code",
   "execution_count": 11,
   "metadata": {
    "colab": {
     "base_uri": "https://localhost:8080/"
    },
    "executionInfo": {
     "elapsed": 211,
     "status": "ok",
     "timestamp": 1634336490127,
     "user": {
      "displayName": "Brais CB",
      "photoUrl": "https://lh3.googleusercontent.com/a/default-user=s64",
      "userId": "09113625274943472862"
     },
     "user_tz": -120
    },
    "id": "lgiNRV9MhIPQ",
    "outputId": "5ff366d2-afc0-4be9-f22d-29833dc8cdd5"
   },
   "outputs": [
    {
     "name": "stdout",
     "output_type": "stream",
     "text": [
      "tf.Tensor(\n",
      "[1.76150383 0.08628557 0.01546083 0.01225852 0.01755069 0.03502511\n",
      " 0.06879879 0.16056922 0.52553153 7.31701591], shape=(10,), dtype=float64)\n"
     ]
    }
   ],
   "source": [
    "# OPTIONAL: sample age weights\n",
    "import numpy as np\n",
    "step = 10\n",
    "labels = [int(x.split('|')[1]) for x in train_metadata]\n",
    "freqs, bins = np.histogram(labels, bins=list(range(0,100,step)) + [200])\n",
    "i_freqs = 1. / freqs\n",
    "sample_weights = tf.convert_to_tensor(len(i_freqs) * i_freqs / i_freqs.sum())\n",
    "print(sample_weights)\n",
    "ds_train_transform_we = ds_train_transform.map(lambda image, label: (image, label, sample_weights[tf.minimum(tf.cast(label, tf.int32) // step, len(i_freqs) - 1)]))\n",
    "ds_test_transform_we = ds_test_transform.map(lambda image, label: (image, label, sample_weights[tf.minimum(tf.cast(label, tf.int32) // step, len(i_freqs) - 1)]))"
   ]
  },
  {
   "cell_type": "code",
   "execution_count": 12,
   "metadata": {},
   "outputs": [],
   "source": [
    "ds_train_transform_rs11_we = ds_train_transform_rs11.map(lambda image, label: (image, label, sample_weights[label]))\n",
    "ds_test_transform_rs11_we = ds_test_transform_rs11.map(lambda image, label: (image, label, sample_weights[label]))"
   ]
  },
  {
   "attachments": {},
   "cell_type": "markdown",
   "metadata": {},
   "source": [
    "Finally we create batch for all the datasets to be used in testing."
   ]
  },
  {
   "cell_type": "code",
   "execution_count": 13,
   "metadata": {
    "executionInfo": {
     "elapsed": 303,
     "status": "ok",
     "timestamp": 1634385057992,
     "user": {
      "displayName": "Brais CB",
      "photoUrl": "https://lh3.googleusercontent.com/a/default-user=s64",
      "userId": "09113625274943472862"
     },
     "user_tz": -120
    },
    "id": "x0vHwUzTAjJ9"
   },
   "outputs": [],
   "source": [
    "ds_train_batch_or = ds_train_transform.batch(batch_size)\n",
    "ds_test_batch_or = ds_test_transform.batch(batch_size)\n",
    "\n",
    "ds_train_batch_rs11 = ds_train_transform_rs11.batch(batch_size)\n",
    "ds_test_batch_rs11 = ds_test_transform_rs11.batch(batch_size)\n",
    "\n",
    "ds_train_batch_rs01 = ds_train_transform_rs01.batch(batch_size)\n",
    "ds_test_batch_rs01 = ds_test_transform_rs01.batch(batch_size)\n",
    "\n",
    "ds_train_batch_we = ds_train_transform_we.batch(batch_size)\n",
    "ds_test_batch_we = ds_test_transform_we.batch(batch_size)\n",
    "\n",
    "ds_train_batch_rs11_we = ds_train_transform_rs11.batch(batch_size)\n",
    "ds_test_batch_rs11_we = ds_test_transform_rs11.batch(batch_size)"
   ]
  },
  {
   "attachments": {},
   "cell_type": "markdown",
   "metadata": {},
   "source": [
    "## 3. Testing\n",
    "\n",
    "In this section we experiment with different models. We use the same datasets, optimizers and models that we use for the gender classification."
   ]
  },
  {
   "attachments": {},
   "cell_type": "markdown",
   "metadata": {},
   "source": [
    "### Default configuration\n",
    "\n",
    "In this subsection we load the default configuration of the application that were defined in previous test of the gender model."
   ]
  },
  {
   "cell_type": "code",
   "execution_count": 14,
   "metadata": {},
   "outputs": [],
   "source": [
    "# Function to print the results of the training\n",
    "def print_plot(name, history):\n",
    "    # summarize history for train accuracy\n",
    "    fig, axs = plt.subplots(1,2)\n",
    "    fig.suptitle(name + ' - Training and validation')\n",
    "    fig.set_figwidth(10)\n",
    "    axs[0].plot(history.history['loss'])\n",
    "    axs[0].plot(history.history['val_loss'])\n",
    "    axs[0].set_title('Loss')\n",
    "    axs[0].set_xlabel('Epochs')\n",
    "    axs[0].legend(['Loss', 'Val_loss'])\n",
    "    axs[1].plot(history.history['mean_absolute_error'])\n",
    "    axs[1].plot(history.history['val_mean_absolute_error'])\n",
    "    axs[1].set_title('MAE')\n",
    "    axs[1].set_xlabel('Epochs')\n",
    "    axs[1].legend(['MAE', 'Val_MAE'])\n",
    "    plt.savefig('images/' + name + '.png')\n",
    "    plt.show()"
   ]
  },
  {
   "cell_type": "code",
   "execution_count": 15,
   "metadata": {},
   "outputs": [],
   "source": [
    "# Get the default optimizer\n",
    "def get_optimizer():\n",
    "    return optimizers.Adam(learning_rate=0.01)"
   ]
  },
  {
   "cell_type": "code",
   "execution_count": 16,
   "metadata": {},
   "outputs": [],
   "source": [
    "# Assign the default dataset. We keep the same that we use in the gender classification\n",
    "ds_train_batch = ds_train_batch_rs11_we\n",
    "ds_test_batch = ds_test_batch_rs11_we\n",
    "\n",
    "# Create call back to use later\n",
    "# If 20 epochs without improvement in the loss, stop the training\n",
    "# This is to save computational power as a 20 epoch value without improvement we know is not going to get better\n",
    "late_stop = EarlyStopping(monitor='val_loss', patience=20, verbose=1)\n",
    "# Reduce the learning rate if we reach a point that the validation loss does not improve more\n",
    "reduce_lr = ReduceLROnPlateau(monitor='val_loss', factor=0.1, patience=8, min_lr=0.000001, cooldown=2, verbose=1)\n",
    "\n",
    "# Activation function defined after testing\n",
    "activation='relu'"
   ]
  },
  {
   "cell_type": "code",
   "execution_count": 17,
   "metadata": {},
   "outputs": [],
   "source": [
    "def get_new_model(activation, num_layers):\n",
    "    old_model = load_model(\"models/best_model.keras\")\n",
    "\n",
    "    new_model = Sequential()\n",
    "    layers_to_train = num_layers * -1\n",
    "\n",
    "    count = 0\n",
    "\n",
    "    for layer in old_model.layers[:-1]:\n",
    "        layer._name = \"Layer_\" + str(count)\n",
    "        new_model.add(layer)\n",
    "\n",
    "        count = count + 1\n",
    "\n",
    "    # We add a new regression layer\n",
    "    # It has a single output neuron and a relu activation\n",
    "    new_model.add(Dense(1, activation=activation))\n",
    "\n",
    "    new_model.trainable = True,\n",
    "    for layer in new_model.layers[:layers_to_train]:\n",
    "        layer.trainable = False\n",
    "\n",
    "    return new_model"
   ]
  },
  {
   "cell_type": "code",
   "execution_count": 18,
   "metadata": {},
   "outputs": [],
   "source": [
    "# Function to get the callbacks for the test of the models\n",
    "def get_callbacks(name):\n",
    "    # This is to save computational power as a 15 epoch value without improvement we know is not going to get better\n",
    "    return [EarlyStopping(monitor='val_loss', patience=15, verbose=1),\n",
    "            # Save only the best model\n",
    "            keras.callbacks.ModelCheckpoint(filepath=\"models/age/\" + name + \".keras\",save_best_only=True,monitor=\"val_loss\", verbose=1)\n",
    "            ]"
   ]
  },
  {
   "cell_type": "code",
   "execution_count": 19,
   "metadata": {},
   "outputs": [],
   "source": [
    "# Function to get the callbacks for the test of the models\n",
    "def get_callbacks_ft(name):\n",
    "    # This is to save computational power as a 15 epoch value without improvement we know is not going to get better\n",
    "    return [EarlyStopping(monitor='val_loss', patience=20, verbose=1),\n",
    "            # Save only the best model\n",
    "            keras.callbacks.ModelCheckpoint(filepath=\"models/age/\" + name + \".keras\",save_best_only=True,monitor=\"val_loss\", verbose=1),\n",
    "            ReduceLROnPlateau(monitor='val_loss', factor=0.1, patience=14, min_lr=0.000001, cooldown=1, verbose=1)\n",
    "            ]"
   ]
  },
  {
   "attachments": {},
   "cell_type": "markdown",
   "metadata": {},
   "source": [
    "Show the model pretrained in the gender notebook"
   ]
  },
  {
   "cell_type": "code",
   "execution_count": 20,
   "metadata": {},
   "outputs": [
    {
     "name": "stdout",
     "output_type": "stream",
     "text": [
      "Model: \"model_1\"\n",
      "_________________________________________________________________\n",
      " Layer (type)                Output Shape              Param #   \n",
      "=================================================================\n",
      " input_2 (InputLayer)        [(None, 32, 32, 3)]       0         \n",
      "                                                                 \n",
      " conv2d_3 (Conv2D)           (None, 28, 28, 32)        2432      \n",
      "                                                                 \n",
      " dropout (Dropout)           (None, 28, 28, 32)        0         \n",
      "                                                                 \n",
      " max_pooling2d_3 (MaxPooling  (None, 14, 14, 32)       0         \n",
      " 2D)                                                             \n",
      "                                                                 \n",
      " conv2d_4 (Conv2D)           (None, 12, 12, 64)        18496     \n",
      "                                                                 \n",
      " dropout_1 (Dropout)         (None, 12, 12, 64)        0         \n",
      "                                                                 \n",
      " max_pooling2d_4 (MaxPooling  (None, 6, 6, 64)         0         \n",
      " 2D)                                                             \n",
      "                                                                 \n",
      " conv2d_5 (Conv2D)           (None, 4, 4, 128)         73856     \n",
      "                                                                 \n",
      " dropout_2 (Dropout)         (None, 4, 4, 128)         0         \n",
      "                                                                 \n",
      " max_pooling2d_5 (MaxPooling  (None, 2, 2, 128)        0         \n",
      " 2D)                                                             \n",
      "                                                                 \n",
      " flatten_1 (Flatten)         (None, 512)               0         \n",
      "                                                                 \n",
      " dense_2 (Dense)             (None, 64)                32832     \n",
      "                                                                 \n",
      " dense_3 (Dense)             (None, 1)                 65        \n",
      "                                                                 \n",
      "=================================================================\n",
      "Total params: 127,681\n",
      "Trainable params: 127,681\n",
      "Non-trainable params: 0\n",
      "_________________________________________________________________\n"
     ]
    },
    {
     "data": {
      "image/png": "[encoded data removed]",
      "text/plain": [
       "<PIL.Image.Image image mode=RGBA size=456x233>"
      ]
     },
     "execution_count": 20,
     "metadata": {},
     "output_type": "execute_result"
    }
   ],
   "source": [
    "# Load the model\n",
    "old_model = load_model(\"models/best_model.keras\")\n",
    "old_model.summary()\n",
    "\n",
    "visualkeras.layered_view(old_model, legend=True)"
   ]
  },
  {
   "attachments": {},
   "cell_type": "markdown",
   "metadata": {},
   "source": [
    "### Optimizer selection\n",
    "\n",
    "In this sub section we determinate which optimizer to use. "
   ]
  },
  {
   "attachments": {},
   "cell_type": "markdown",
   "metadata": {},
   "source": [
    "For the selection of the optimizer, we choose the same optimizers as for the gender model: RMSprop, Adam, Adamax and SGD. In this case, we use a higher value for the learning rate, as the models take many epochs to overfit.\n",
    "\n",
    "Then we execute the simple model and evaluate which one has the better performance after 50 epochs."
   ]
  },
  {
   "cell_type": "code",
   "execution_count": 21,
   "metadata": {},
   "outputs": [],
   "source": [
    "if test_optimizer == True:\n",
    "    opt_names = [\"RMSprop\",\"adam\",\"Adamax\",\"SGD\"]\n",
    "    opt_values = [optimizers.RMSprop(learning_rate=0.01),optimizers.Adam(learning_rate=0.01), optimizers.Adamax(learning_rate=0.01),optimizers.SGD(learning_rate=0.01)]\n",
    "    test_history= []"
   ]
  },
  {
   "cell_type": "code",
   "execution_count": 22,
   "metadata": {},
   "outputs": [],
   "source": [
    "if test_optimizer == True:\n",
    "    for i in range(0,len(opt_names)):\n",
    "        new_model = get_new_model(activation, 1)\n",
    "\n",
    "        new_model.compile(optimizer=opt_values[i], loss=\"mse\", metrics=[\"MeanAbsoluteError\"])\n",
    "        print(\"Testing optimizer:\",opt_names[i])\n",
    "        # No batch size because we did it before\n",
    "        test_history.append(new_model.fit(ds_train_batch, epochs=50, validation_data=ds_test_batch, callbacks=[late_stop, reduce_lr]))"
   ]
  },
  {
   "cell_type": "code",
   "execution_count": 23,
   "metadata": {},
   "outputs": [],
   "source": [
    "if test_optimizer == True:\n",
    "    for i in range(0,len(opt_names)):\n",
    "        print(opt_names[i], \" - MAE:\", min(test_history[i].history['val_mean_absolute_error']))\n",
    "        print_plot(opt_names[i],test_history[i])"
   ]
  },
  {
   "attachments": {},
   "cell_type": "markdown",
   "metadata": {},
   "source": [
    "![Adam execution](images/age/adam.png)\n",
    "![Adamax execution](images/age/Adamax.png)\n",
    "![Rmsprop execution](images/age/Rmsprop.png)"
   ]
  },
  {
   "attachments": {},
   "cell_type": "markdown",
   "metadata": {},
   "source": [
    "In this case, instead of Adamax that we use for the gender classification, the best optimizer was Adam as it get a better stable curve in the plot. We have a similar result for RMSProp but we decide to go with adam because the curves where a little more plain (less fluctuations).\n",
    "\n",
    "For future executions of the notebook, we use the variable test_optimizer in false to not repeat this test."
   ]
  },
  {
   "attachments": {},
   "cell_type": "markdown",
   "metadata": {},
   "source": [
    "### Feature extraction and activation function selection\n",
    "\n",
    "In this subsection we test for the best activation function to train our new model"
   ]
  },
  {
   "attachments": {},
   "cell_type": "markdown",
   "metadata": {},
   "source": [
    "We save the best model to have them as history of execution but we are not going to use them in future tests.\n",
    "\n",
    "We decide to test two possible activations functions relu and linear as this is now a regression problem."
   ]
  },
  {
   "cell_type": "code",
   "execution_count": 24,
   "metadata": {},
   "outputs": [],
   "source": [
    "history = []\n",
    "names = ['Last_layer_relu','Last_layer_identity']\n",
    "activations = ['relu', 'linear']"
   ]
  },
  {
   "cell_type": "code",
   "execution_count": 25,
   "metadata": {},
   "outputs": [],
   "source": [
    "if test_models_activation == True:\n",
    "    for i in range(0,len(names)):\n",
    "        # We create a new model with all the layers of the old one except the last one.\n",
    "        new_model = get_new_model(activations[i], 1)\n",
    "        new_model.summary()\n",
    "\n",
    "        # Train the new model (new_model) with the new labels \n",
    "        new_model.compile(optimizer=get_optimizer(), loss=\"mse\", metrics=[\"MeanAbsoluteError\"])\n",
    "        history.append(new_model.fit(ds_train_batch, epochs=100,validation_data=ds_test_batch, callbacks=get_callbacks(names[i])))"
   ]
  },
  {
   "cell_type": "code",
   "execution_count": 26,
   "metadata": {},
   "outputs": [],
   "source": [
    "if test_models_activation == True:\n",
    "    for i in range(0,len(names)):\n",
    "        print(names[i], \" - MAE:\", min(history[i].history['val_mean_absolute_error']))\n",
    "        print_plot(names[i],history[i])"
   ]
  },
  {
   "attachments": {},
   "cell_type": "markdown",
   "metadata": {},
   "source": [
    "![Execution with relu activation function](images/age/last_layer_relu.png)\n",
    "![Execution with linear activation function](images/age/last_layer_identity.png)"
   ]
  },
  {
   "attachments": {},
   "cell_type": "markdown",
   "metadata": {},
   "source": [
    "After the execution of the two test for the activation function, we have similar results, so we decide to continue with relu as it take less epochs to reach the same mae that the linear function."
   ]
  },
  {
   "attachments": {},
   "cell_type": "markdown",
   "metadata": {},
   "source": [
    "### Feature extraction and fine-tuning selection\n",
    "\n",
    "In this subsection we replace the classification and test unfreezing different amount layers using the decisions we made in the previous sub sections."
   ]
  },
  {
   "attachments": {},
   "cell_type": "markdown",
   "metadata": {},
   "source": [
    "We create an array with the layer we want to unfreeze to execute it in a loop. We decide to try with the classification layer, the fully conected layer and the first of the three convolutional layers. We stop there as we think adding more layer to the trainable param will loose the point of using the pre trained function from the gender classification.\n",
    "\n",
    "As before, the images and models of the execution are stored in the folders."
   ]
  },
  {
   "cell_type": "code",
   "execution_count": 27,
   "metadata": {},
   "outputs": [],
   "source": [
    "history = []\n",
    "best_mae = []\n",
    "names = ['layer_1','layer_2','layer_6']\n",
    "num_layers = [1,2,6]"
   ]
  },
  {
   "cell_type": "code",
   "execution_count": 32,
   "metadata": {},
   "outputs": [],
   "source": [
    "if test_models_layers == True:\n",
    "    for i in range(0,len(names)):\n",
    "\n",
    "        # We create a new model with all the layers of the old one except the last one.\n",
    "        new_model = get_new_model(activation, num_layers[i])\n",
    "\n",
    "        new_model.summary()\n",
    "\n",
    "        new_model.compile(optimizer=get_optimizer(), loss=\"mse\", metrics=[\"MeanAbsoluteError\"])\n",
    "        history.append(new_model.fit(ds_train_batch, epochs=100,validation_data=ds_test_batch, callbacks=get_callbacks(names[i])))"
   ]
  },
  {
   "cell_type": "code",
   "execution_count": 31,
   "metadata": {},
   "outputs": [],
   "source": [
    "if test_models_layers == True:\n",
    "    for i in range(0,len(names)):\n",
    "        print(names[i], \" - MAE:\", min(history[i].history['val_mean_absolute_error']))\n",
    "        print_plot(names[i],history[i])\n",
    "        best_mae.append(min(history[i].history['val_mean_absolute_error']))"
   ]
  },
  {
   "attachments": {},
   "cell_type": "markdown",
   "metadata": {},
   "source": [
    "![Execution with only the first layer trainable](images/age/layer_1.png)\n",
    "![Execution with only the first two layers trainables](images/age/layer_2.png)\n",
    "![Execution with only the first six layers trainables](images/age/layer_6.png)"
   ]
  },
  {
   "attachments": {},
   "cell_type": "markdown",
   "metadata": {},
   "source": [
    "As we can see in the graph above, the layer_2 model start overfitting, with the layer_1 and the layer_2 keep improving. The best metrics are the ones we got from the unfreezing of the 6 layers, that include the activation, the fully conected layer and the last convolutional layer. So, for the final section of the notebook, we will do the optimizer fine-tuning on this model structure.\n",
    "\n",
    "For future executions of the notebook, we use the variable test_models_layers in false to not repeat this test."
   ]
  },
  {
   "attachments": {},
   "cell_type": "markdown",
   "metadata": {},
   "source": [
    "### Optimizer Fine-tuning\n",
    "\n",
    "In this section we do the optimizer fine tuning of the best model. After experimenting with different models and selecting the best, we train the model with a optimizer learning rate and iterate with lower values, so it gets the best possible loss. For this we use the ReduceLROnPlateau of keras that reduce the learning rate if a determinated number of epochs have not improve in the loss."
   ]
  },
  {
   "cell_type": "code",
   "execution_count": 30,
   "metadata": {},
   "outputs": [
    {
     "name": "stdout",
     "output_type": "stream",
     "text": [
      "Model: \"sequential\"\n",
      "_________________________________________________________________\n",
      " Layer (type)                Output Shape              Param #   \n",
      "=================================================================\n",
      " Layer_1 (Conv2D)            (None, 28, 28, 32)        2432      \n",
      "                                                                 \n",
      " Layer_2 (Dropout)           (None, 28, 28, 32)        0         \n",
      "                                                                 \n",
      " Layer_3 (MaxPooling2D)      (None, 14, 14, 32)        0         \n",
      "                                                                 \n",
      " Layer_4 (Conv2D)            (None, 12, 12, 64)        18496     \n",
      "                                                                 \n",
      " Layer_5 (Dropout)           (None, 12, 12, 64)        0         \n",
      "                                                                 \n",
      " Layer_6 (MaxPooling2D)      (None, 6, 6, 64)          0         \n",
      "                                                                 \n",
      " Layer_7 (Conv2D)            (None, 4, 4, 128)         73856     \n",
      "                                                                 \n",
      " Layer_8 (Dropout)           (None, 4, 4, 128)         0         \n",
      "                                                                 \n",
      " Layer_9 (MaxPooling2D)      (None, 2, 2, 128)         0         \n",
      "                                                                 \n",
      " Layer_10 (Flatten)          (None, 512)               0         \n",
      "                                                                 \n",
      " Layer_11 (Dense)            (None, 64)                32832     \n",
      "                                                                 \n",
      " dense (Dense)               (None, 1)                 65        \n",
      "                                                                 \n",
      "=================================================================\n",
      "Total params: 127,681\n",
      "Trainable params: 106,753\n",
      "Non-trainable params: 20,928\n",
      "_________________________________________________________________\n"
     ]
    }
   ],
   "source": [
    "# We create a new model with the best testing results\n",
    "new_model = get_new_model(activation, 6)\n",
    "\n",
    "new_model.summary()\n",
    "visualkeras.layered_view(new_model, legend=True)"
   ]
  },
  {
   "cell_type": "code",
   "execution_count": 31,
   "metadata": {},
   "outputs": [
    {
     "name": "stdout",
     "output_type": "stream",
     "text": [
      "Epoch 1/200\n",
      "992/992 [==============================] - ETA: 0s - loss: 168.3633 - mean_absolute_error: 10.0508\n",
      "Epoch 1: val_loss improved from inf to 1215.64734, saving model to models/age\\age_final_model.keras\n",
      "992/992 [==============================] - 23s 17ms/step - loss: 168.3633 - mean_absolute_error: 10.0508 - val_loss: 1215.6473 - val_mean_absolute_error: 28.4368 - lr: 0.0100\n",
      "Epoch 2/200\n",
      "991/992 [============================>.] - ETA: 0s - loss: 152.9395 - mean_absolute_error: 9.5648\n",
      "Epoch 2: val_loss improved from 1215.64734 to 1213.49365, saving model to models/age\\age_final_model.keras\n",
      "992/992 [==============================] - 17s 17ms/step - loss: 152.9401 - mean_absolute_error: 9.5648 - val_loss: 1213.4937 - val_mean_absolute_error: 28.4009 - lr: 0.0100\n",
      "Epoch 3/200\n",
      "991/992 [============================>.] - ETA: 0s - loss: 150.3797 - mean_absolute_error: 9.4482\n",
      "Epoch 3: val_loss improved from 1213.49365 to 1064.30298, saving model to models/age\\age_final_model.keras\n",
      "992/992 [==============================] - 21s 21ms/step - loss: 150.3710 - mean_absolute_error: 9.4480 - val_loss: 1064.3030 - val_mean_absolute_error: 26.5892 - lr: 0.0100\n",
      "Epoch 4/200\n",
      "991/992 [============================>.] - ETA: 0s - loss: 149.9856 - mean_absolute_error: 9.4114\n",
      "Epoch 4: val_loss improved from 1064.30298 to 1034.03735, saving model to models/age\\age_final_model.keras\n",
      "992/992 [==============================] - 22s 22ms/step - loss: 149.9890 - mean_absolute_error: 9.4117 - val_loss: 1034.0374 - val_mean_absolute_error: 26.2125 - lr: 0.0100\n",
      "Epoch 5/200\n",
      "989/992 [============================>.] - ETA: 0s - loss: 148.8347 - mean_absolute_error: 9.3452\n",
      "Epoch 5: val_loss did not improve from 1034.03735\n",
      "992/992 [==============================] - 20s 20ms/step - loss: 148.8327 - mean_absolute_error: 9.3457 - val_loss: 1084.5621 - val_mean_absolute_error: 26.8553 - lr: 0.0100\n",
      "Epoch 6/200\n",
      "991/992 [============================>.] - ETA: 0s - loss: 149.1017 - mean_absolute_error: 9.3451\n",
      "Epoch 6: val_loss did not improve from 1034.03735\n",
      "992/992 [==============================] - 19s 19ms/step - loss: 149.0974 - mean_absolute_error: 9.3449 - val_loss: 1137.5490 - val_mean_absolute_error: 27.4759 - lr: 0.0100\n",
      "Epoch 7/200\n",
      "989/992 [============================>.] - ETA: 0s - loss: 148.7682 - mean_absolute_error: 9.3159\n",
      "Epoch 7: val_loss did not improve from 1034.03735\n",
      "992/992 [==============================] - 20s 20ms/step - loss: 148.7199 - mean_absolute_error: 9.3147 - val_loss: 1063.9646 - val_mean_absolute_error: 26.5834 - lr: 0.0100\n",
      "Epoch 8/200\n",
      "991/992 [============================>.] - ETA: 0s - loss: 148.7156 - mean_absolute_error: 9.3061\n",
      "Epoch 8: val_loss did not improve from 1034.03735\n",
      "992/992 [==============================] - 20s 20ms/step - loss: 148.7293 - mean_absolute_error: 9.3064 - val_loss: 1057.4456 - val_mean_absolute_error: 26.4824 - lr: 0.0100\n",
      "Epoch 9/200\n",
      "990/992 [============================>.] - ETA: 0s - loss: 148.4437 - mean_absolute_error: 9.2860\n",
      "Epoch 9: val_loss improved from 1034.03735 to 1011.42596, saving model to models/age\\age_final_model.keras\n",
      "992/992 [==============================] - 19s 19ms/step - loss: 148.4786 - mean_absolute_error: 9.2871 - val_loss: 1011.4260 - val_mean_absolute_error: 25.8977 - lr: 0.0100\n",
      "Epoch 10/200\n",
      "990/992 [============================>.] - ETA: 0s - loss: 148.9308 - mean_absolute_error: 9.2928\n",
      "Epoch 10: val_loss improved from 1011.42596 to 976.32886, saving model to models/age\\age_final_model.keras\n",
      "992/992 [==============================] - 20s 20ms/step - loss: 148.9606 - mean_absolute_error: 9.2940 - val_loss: 976.3289 - val_mean_absolute_error: 25.4656 - lr: 0.0100\n",
      "Epoch 11/200\n",
      "989/992 [============================>.] - ETA: 0s - loss: 148.3885 - mean_absolute_error: 9.2717\n",
      "Epoch 11: val_loss did not improve from 976.32886\n",
      "992/992 [==============================] - 19s 19ms/step - loss: 148.3576 - mean_absolute_error: 9.2705 - val_loss: 1000.2686 - val_mean_absolute_error: 25.8020 - lr: 0.0100\n",
      "Epoch 12/200\n",
      "990/992 [============================>.] - ETA: 0s - loss: 148.2441 - mean_absolute_error: 9.2593\n",
      "Epoch 12: val_loss did not improve from 976.32886\n",
      "992/992 [==============================] - 18s 18ms/step - loss: 148.2748 - mean_absolute_error: 9.2603 - val_loss: 997.2563 - val_mean_absolute_error: 25.7519 - lr: 0.0100\n",
      "Epoch 13/200\n",
      "989/992 [============================>.] - ETA: 0s - loss: 148.1345 - mean_absolute_error: 9.2495\n",
      "Epoch 13: val_loss did not improve from 976.32886\n",
      "992/992 [==============================] - 19s 19ms/step - loss: 148.1330 - mean_absolute_error: 9.2496 - val_loss: 1023.2772 - val_mean_absolute_error: 26.0662 - lr: 0.0100\n",
      "Epoch 14/200\n",
      "991/992 [============================>.] - ETA: 0s - loss: 148.4672 - mean_absolute_error: 9.2633\n",
      "Epoch 14: val_loss did not improve from 976.32886\n",
      "992/992 [==============================] - 21s 21ms/step - loss: 148.4753 - mean_absolute_error: 9.2635 - val_loss: 1046.9204 - val_mean_absolute_error: 26.3361 - lr: 0.0100\n",
      "Epoch 15/200\n",
      "989/992 [============================>.] - ETA: 0s - loss: 148.0600 - mean_absolute_error: 9.2379\n",
      "Epoch 15: val_loss improved from 976.32886 to 971.63049, saving model to models/age\\age_final_model.keras\n",
      "992/992 [==============================] - 21s 21ms/step - loss: 148.0874 - mean_absolute_error: 9.2388 - val_loss: 971.6305 - val_mean_absolute_error: 25.4437 - lr: 0.0100\n",
      "Epoch 16/200\n",
      "989/992 [============================>.] - ETA: 0s - loss: 148.0111 - mean_absolute_error: 9.2281\n",
      "Epoch 16: val_loss improved from 971.63049 to 917.85138, saving model to models/age\\age_final_model.keras\n",
      "992/992 [==============================] - 21s 21ms/step - loss: 148.0011 - mean_absolute_error: 9.2275 - val_loss: 917.8514 - val_mean_absolute_error: 24.7464 - lr: 0.0100\n",
      "Epoch 17/200\n",
      "991/992 [============================>.] - ETA: 0s - loss: 147.6341 - mean_absolute_error: 9.2257\n",
      "Epoch 17: val_loss did not improve from 917.85138\n",
      "992/992 [==============================] - 21s 21ms/step - loss: 147.6269 - mean_absolute_error: 9.2254 - val_loss: 1019.5301 - val_mean_absolute_error: 26.0368 - lr: 0.0100\n",
      "Epoch 18/200\n",
      "989/992 [============================>.] - ETA: 0s - loss: 148.1178 - mean_absolute_error: 9.2327\n",
      "Epoch 18: val_loss did not improve from 917.85138\n",
      "992/992 [==============================] - 22s 22ms/step - loss: 148.1214 - mean_absolute_error: 9.2327 - val_loss: 998.9246 - val_mean_absolute_error: 25.8044 - lr: 0.0100\n",
      "Epoch 19/200\n",
      "990/992 [============================>.] - ETA: 0s - loss: 147.4866 - mean_absolute_error: 9.2109\n",
      "Epoch 19: val_loss improved from 917.85138 to 842.67023, saving model to models/age\\age_final_model.keras\n",
      "992/992 [==============================] - 20s 20ms/step - loss: 147.4732 - mean_absolute_error: 9.2106 - val_loss: 842.6702 - val_mean_absolute_error: 23.7377 - lr: 0.0100\n",
      "Epoch 20/200\n",
      "991/992 [============================>.] - ETA: 0s - loss: 147.7261 - mean_absolute_error: 9.2302\n",
      "Epoch 20: val_loss did not improve from 842.67023\n",
      "992/992 [==============================] - 20s 20ms/step - loss: 147.7183 - mean_absolute_error: 9.2300 - val_loss: 910.2364 - val_mean_absolute_error: 24.6162 - lr: 0.0100\n",
      "Epoch 21/200\n",
      "989/992 [============================>.] - ETA: 0s - loss: 148.3207 - mean_absolute_error: 9.2474\n",
      "Epoch 21: val_loss did not improve from 842.67023\n",
      "992/992 [==============================] - 20s 20ms/step - loss: 148.3147 - mean_absolute_error: 9.2473 - val_loss: 960.8376 - val_mean_absolute_error: 25.3105 - lr: 0.0100\n",
      "Epoch 22/200\n",
      "990/992 [============================>.] - ETA: 0s - loss: 147.8541 - mean_absolute_error: 9.2287\n",
      "Epoch 22: val_loss did not improve from 842.67023\n",
      "992/992 [==============================] - 20s 20ms/step - loss: 147.8448 - mean_absolute_error: 9.2285 - val_loss: 903.9061 - val_mean_absolute_error: 24.5823 - lr: 0.0100\n",
      "Epoch 23/200\n",
      "990/992 [============================>.] - ETA: 0s - loss: 147.5393 - mean_absolute_error: 9.2114\n",
      "Epoch 23: val_loss did not improve from 842.67023\n",
      "992/992 [==============================] - 21s 21ms/step - loss: 147.5161 - mean_absolute_error: 9.2107 - val_loss: 938.4025 - val_mean_absolute_error: 25.0530 - lr: 0.0100\n",
      "Epoch 24/200\n",
      "989/992 [============================>.] - ETA: 0s - loss: 147.8131 - mean_absolute_error: 9.2215\n",
      "Epoch 24: val_loss did not improve from 842.67023\n",
      "992/992 [==============================] - 21s 21ms/step - loss: 147.8158 - mean_absolute_error: 9.2212 - val_loss: 866.3385 - val_mean_absolute_error: 24.0374 - lr: 0.0100\n",
      "Epoch 25/200\n",
      "990/992 [============================>.] - ETA: 0s - loss: 147.2915 - mean_absolute_error: 9.2048\n",
      "Epoch 25: val_loss improved from 842.67023 to 822.18591, saving model to models/age\\age_final_model.keras\n",
      "992/992 [==============================] - 21s 21ms/step - loss: 147.3145 - mean_absolute_error: 9.2055 - val_loss: 822.1859 - val_mean_absolute_error: 23.4595 - lr: 0.0100\n",
      "Epoch 26/200\n",
      "989/992 [============================>.] - ETA: 0s - loss: 147.8075 - mean_absolute_error: 9.2224\n",
      "Epoch 26: val_loss did not improve from 822.18591\n",
      "992/992 [==============================] - 20s 20ms/step - loss: 147.7542 - mean_absolute_error: 9.2211 - val_loss: 839.3878 - val_mean_absolute_error: 23.6961 - lr: 0.0100\n",
      "Epoch 27/200\n",
      "989/992 [============================>.] - ETA: 0s - loss: 147.0630 - mean_absolute_error: 9.1901\n",
      "Epoch 27: val_loss did not improve from 822.18591\n",
      "992/992 [==============================] - 21s 21ms/step - loss: 147.0857 - mean_absolute_error: 9.1905 - val_loss: 894.3306 - val_mean_absolute_error: 24.4567 - lr: 0.0100\n",
      "Epoch 28/200\n",
      "991/992 [============================>.] - ETA: 0s - loss: 147.2151 - mean_absolute_error: 9.1999\n",
      "Epoch 28: val_loss did not improve from 822.18591\n",
      "992/992 [==============================] - 20s 20ms/step - loss: 147.2111 - mean_absolute_error: 9.1998 - val_loss: 968.7105 - val_mean_absolute_error: 25.4381 - lr: 0.0100\n",
      "Epoch 29/200\n",
      "992/992 [==============================] - ETA: 0s - loss: 147.0036 - mean_absolute_error: 9.1917\n",
      "Epoch 29: val_loss did not improve from 822.18591\n",
      "992/992 [==============================] - 21s 21ms/step - loss: 147.0036 - mean_absolute_error: 9.1917 - val_loss: 911.5931 - val_mean_absolute_error: 24.6641 - lr: 0.0100\n",
      "Epoch 30/200\n",
      "991/992 [============================>.] - ETA: 0s - loss: 147.6153 - mean_absolute_error: 9.2062\n",
      "Epoch 30: val_loss did not improve from 822.18591\n",
      "992/992 [==============================] - 21s 22ms/step - loss: 147.6199 - mean_absolute_error: 9.2064 - val_loss: 848.5018 - val_mean_absolute_error: 23.8214 - lr: 0.0100\n",
      "Epoch 31/200\n",
      "991/992 [============================>.] - ETA: 0s - loss: 146.7680 - mean_absolute_error: 9.1892\n",
      "Epoch 31: val_loss did not improve from 822.18591\n",
      "992/992 [==============================] - 20s 20ms/step - loss: 146.7724 - mean_absolute_error: 9.1893 - val_loss: 828.3134 - val_mean_absolute_error: 23.5220 - lr: 0.0100\n",
      "Epoch 32/200\n",
      "989/992 [============================>.] - ETA: 0s - loss: 146.9144 - mean_absolute_error: 9.1830\n",
      "Epoch 32: val_loss improved from 822.18591 to 798.01331, saving model to models/age\\age_final_model.keras\n",
      "992/992 [==============================] - 20s 20ms/step - loss: 146.9039 - mean_absolute_error: 9.1824 - val_loss: 798.0133 - val_mean_absolute_error: 23.1231 - lr: 0.0100\n",
      "Epoch 33/200\n",
      "989/992 [============================>.] - ETA: 0s - loss: 146.8653 - mean_absolute_error: 9.1771\n",
      "Epoch 33: val_loss did not improve from 798.01331\n",
      "992/992 [==============================] - 20s 20ms/step - loss: 146.8851 - mean_absolute_error: 9.1780 - val_loss: 850.3365 - val_mean_absolute_error: 23.8377 - lr: 0.0100\n",
      "Epoch 34/200\n",
      "991/992 [============================>.] - ETA: 0s - loss: 147.2529 - mean_absolute_error: 9.1893\n",
      "Epoch 34: val_loss did not improve from 798.01331\n",
      "992/992 [==============================] - 19s 19ms/step - loss: 147.2513 - mean_absolute_error: 9.1892 - val_loss: 869.8634 - val_mean_absolute_error: 24.1381 - lr: 0.0100\n",
      "Epoch 35/200\n",
      "992/992 [==============================] - ETA: 0s - loss: 146.4833 - mean_absolute_error: 9.1815\n",
      "Epoch 35: val_loss did not improve from 798.01331\n",
      "992/992 [==============================] - 19s 19ms/step - loss: 146.4833 - mean_absolute_error: 9.1815 - val_loss: 840.7228 - val_mean_absolute_error: 23.7769 - lr: 0.0100\n",
      "Epoch 36/200\n",
      "989/992 [============================>.] - ETA: 0s - loss: 146.8994 - mean_absolute_error: 9.1801\n",
      "Epoch 36: val_loss improved from 798.01331 to 780.58832, saving model to models/age\\age_final_model.keras\n",
      "992/992 [==============================] - 18s 19ms/step - loss: 146.9139 - mean_absolute_error: 9.1804 - val_loss: 780.5883 - val_mean_absolute_error: 22.9267 - lr: 0.0100\n",
      "Epoch 37/200\n",
      "991/992 [============================>.] - ETA: 0s - loss: 146.8930 - mean_absolute_error: 9.1832\n",
      "Epoch 37: val_loss did not improve from 780.58832\n",
      "992/992 [==============================] - 19s 19ms/step - loss: 146.8927 - mean_absolute_error: 9.1834 - val_loss: 810.8559 - val_mean_absolute_error: 23.3143 - lr: 0.0100\n",
      "Epoch 38/200\n",
      "990/992 [============================>.] - ETA: 0s - loss: 145.9430 - mean_absolute_error: 9.1529\n",
      "Epoch 38: val_loss did not improve from 780.58832\n",
      "992/992 [==============================] - 19s 19ms/step - loss: 145.9200 - mean_absolute_error: 9.1520 - val_loss: 838.4512 - val_mean_absolute_error: 23.7461 - lr: 0.0100\n",
      "Epoch 39/200\n",
      "991/992 [============================>.] - ETA: 0s - loss: 146.8026 - mean_absolute_error: 9.1791\n",
      "Epoch 39: val_loss did not improve from 780.58832\n",
      "992/992 [==============================] - 20s 20ms/step - loss: 146.7974 - mean_absolute_error: 9.1789 - val_loss: 842.3386 - val_mean_absolute_error: 23.7442 - lr: 0.0100\n",
      "Epoch 40/200\n",
      "989/992 [============================>.] - ETA: 0s - loss: 146.4110 - mean_absolute_error: 9.1664\n",
      "Epoch 40: val_loss improved from 780.58832 to 779.94836, saving model to models/age\\age_final_model.keras\n",
      "992/992 [==============================] - 21s 21ms/step - loss: 146.4539 - mean_absolute_error: 9.1684 - val_loss: 779.9484 - val_mean_absolute_error: 22.9101 - lr: 0.0100\n",
      "Epoch 41/200\n",
      "991/992 [============================>.] - ETA: 0s - loss: 146.9217 - mean_absolute_error: 9.1878\n",
      "Epoch 41: val_loss improved from 779.94836 to 776.18042, saving model to models/age\\age_final_model.keras\n",
      "992/992 [==============================] - 23s 23ms/step - loss: 146.9262 - mean_absolute_error: 9.1880 - val_loss: 776.1804 - val_mean_absolute_error: 22.8736 - lr: 0.0100\n",
      "Epoch 42/200\n",
      "991/992 [============================>.] - ETA: 0s - loss: 146.6502 - mean_absolute_error: 9.1753\n",
      "Epoch 42: val_loss did not improve from 776.18042\n",
      "992/992 [==============================] - 20s 20ms/step - loss: 146.6479 - mean_absolute_error: 9.1752 - val_loss: 794.1270 - val_mean_absolute_error: 23.1526 - lr: 0.0100\n",
      "Epoch 43/200\n",
      "992/992 [==============================] - ETA: 0s - loss: 146.2635 - mean_absolute_error: 9.1545\n",
      "Epoch 43: val_loss improved from 776.18042 to 745.69800, saving model to models/age\\age_final_model.keras\n",
      "992/992 [==============================] - 21s 21ms/step - loss: 146.2635 - mean_absolute_error: 9.1545 - val_loss: 745.6980 - val_mean_absolute_error: 22.4783 - lr: 0.0100\n",
      "Epoch 44/200\n",
      "990/992 [============================>.] - ETA: 0s - loss: 146.8537 - mean_absolute_error: 9.1773\n",
      "Epoch 44: val_loss did not improve from 745.69800\n",
      "992/992 [==============================] - 20s 20ms/step - loss: 146.8093 - mean_absolute_error: 9.1752 - val_loss: 748.3791 - val_mean_absolute_error: 22.4700 - lr: 0.0100\n",
      "Epoch 45/200\n",
      "989/992 [============================>.] - ETA: 0s - loss: 145.8024 - mean_absolute_error: 9.1409\n",
      "Epoch 45: val_loss improved from 745.69800 to 731.37140, saving model to models/age\\age_final_model.keras\n",
      "992/992 [==============================] - 20s 20ms/step - loss: 145.7788 - mean_absolute_error: 9.1401 - val_loss: 731.3714 - val_mean_absolute_error: 22.2827 - lr: 0.0100\n",
      "Epoch 46/200\n",
      "990/992 [============================>.] - ETA: 0s - loss: 146.3562 - mean_absolute_error: 9.1592\n",
      "Epoch 46: val_loss did not improve from 731.37140\n",
      "992/992 [==============================] - 20s 20ms/step - loss: 146.3514 - mean_absolute_error: 9.1592 - val_loss: 737.3256 - val_mean_absolute_error: 22.4170 - lr: 0.0100\n",
      "Epoch 47/200\n",
      "989/992 [============================>.] - ETA: 0s - loss: 146.3471 - mean_absolute_error: 9.1529\n",
      "Epoch 47: val_loss did not improve from 731.37140\n",
      "992/992 [==============================] - 21s 21ms/step - loss: 146.3555 - mean_absolute_error: 9.1528 - val_loss: 754.1348 - val_mean_absolute_error: 22.6254 - lr: 0.0100\n",
      "Epoch 48/200\n",
      "990/992 [============================>.] - ETA: 0s - loss: 146.4818 - mean_absolute_error: 9.1587\n",
      "Epoch 48: val_loss did not improve from 731.37140\n",
      "992/992 [==============================] - 20s 20ms/step - loss: 146.4817 - mean_absolute_error: 9.1585 - val_loss: 733.4353 - val_mean_absolute_error: 22.3460 - lr: 0.0100\n",
      "Epoch 49/200\n",
      "989/992 [============================>.] - ETA: 0s - loss: 146.2965 - mean_absolute_error: 9.1508\n",
      "Epoch 49: val_loss improved from 731.37140 to 685.25641, saving model to models/age\\age_final_model.keras\n",
      "992/992 [==============================] - 21s 22ms/step - loss: 146.3277 - mean_absolute_error: 9.1515 - val_loss: 685.2564 - val_mean_absolute_error: 21.5481 - lr: 0.0100\n",
      "Epoch 50/200\n",
      "989/992 [============================>.] - ETA: 0s - loss: 146.1505 - mean_absolute_error: 9.1483\n",
      "Epoch 50: val_loss improved from 685.25641 to 684.53961, saving model to models/age\\age_final_model.keras\n",
      "992/992 [==============================] - 22s 22ms/step - loss: 146.1519 - mean_absolute_error: 9.1485 - val_loss: 684.5396 - val_mean_absolute_error: 21.5634 - lr: 0.0100\n",
      "Epoch 51/200\n",
      "991/992 [============================>.] - ETA: 0s - loss: 146.1386 - mean_absolute_error: 9.1512\n",
      "Epoch 51: val_loss did not improve from 684.53961\n",
      "992/992 [==============================] - 19s 19ms/step - loss: 146.1334 - mean_absolute_error: 9.1511 - val_loss: 711.0310 - val_mean_absolute_error: 22.0342 - lr: 0.0100\n",
      "Epoch 52/200\n",
      "990/992 [============================>.] - ETA: 0s - loss: 146.0634 - mean_absolute_error: 9.1369\n",
      "Epoch 52: val_loss did not improve from 684.53961\n",
      "992/992 [==============================] - 19s 20ms/step - loss: 146.0805 - mean_absolute_error: 9.1374 - val_loss: 713.0425 - val_mean_absolute_error: 22.0685 - lr: 0.0100\n",
      "Epoch 53/200\n",
      "991/992 [============================>.] - ETA: 0s - loss: 145.8688 - mean_absolute_error: 9.1419\n",
      "Epoch 53: val_loss improved from 684.53961 to 654.87000, saving model to models/age\\age_final_model.keras\n",
      "992/992 [==============================] - 19s 19ms/step - loss: 145.8650 - mean_absolute_error: 9.1419 - val_loss: 654.8700 - val_mean_absolute_error: 21.1778 - lr: 0.0100\n",
      "Epoch 54/200\n",
      "991/992 [============================>.] - ETA: 0s - loss: 146.1710 - mean_absolute_error: 9.1429\n",
      "Epoch 54: val_loss did not improve from 654.87000\n",
      "992/992 [==============================] - 21s 21ms/step - loss: 146.1665 - mean_absolute_error: 9.1429 - val_loss: 672.4118 - val_mean_absolute_error: 21.4142 - lr: 0.0100\n",
      "Epoch 55/200\n",
      "989/992 [============================>.] - ETA: 0s - loss: 145.9465 - mean_absolute_error: 9.1281\n",
      "Epoch 55: val_loss did not improve from 654.87000\n",
      "992/992 [==============================] - 21s 21ms/step - loss: 145.9025 - mean_absolute_error: 9.1270 - val_loss: 659.7948 - val_mean_absolute_error: 21.3231 - lr: 0.0100\n",
      "Epoch 56/200\n",
      "989/992 [============================>.] - ETA: 0s - loss: 145.9894 - mean_absolute_error: 9.1443\n",
      "Epoch 56: val_loss did not improve from 654.87000\n",
      "992/992 [==============================] - 20s 20ms/step - loss: 145.9819 - mean_absolute_error: 9.1444 - val_loss: 716.0100 - val_mean_absolute_error: 22.0979 - lr: 0.0100\n",
      "Epoch 57/200\n",
      "990/992 [============================>.] - ETA: 0s - loss: 146.2636 - mean_absolute_error: 9.1449\n",
      "Epoch 57: val_loss did not improve from 654.87000\n",
      "992/992 [==============================] - 19s 19ms/step - loss: 146.2822 - mean_absolute_error: 9.1457 - val_loss: 655.2538 - val_mean_absolute_error: 21.2035 - lr: 0.0100\n",
      "Epoch 58/200\n",
      "991/992 [============================>.] - ETA: 0s - loss: 146.0357 - mean_absolute_error: 9.1376\n",
      "Epoch 58: val_loss did not improve from 654.87000\n",
      "992/992 [==============================] - 21s 21ms/step - loss: 146.0410 - mean_absolute_error: 9.1374 - val_loss: 682.0248 - val_mean_absolute_error: 21.6946 - lr: 0.0100\n",
      "Epoch 59/200\n",
      "989/992 [============================>.] - ETA: 0s - loss: 145.7527 - mean_absolute_error: 9.1251\n",
      "Epoch 59: val_loss improved from 654.87000 to 653.49030, saving model to models/age\\age_final_model.keras\n",
      "992/992 [==============================] - 21s 21ms/step - loss: 145.7588 - mean_absolute_error: 9.1249 - val_loss: 653.4903 - val_mean_absolute_error: 21.2566 - lr: 0.0100\n",
      "Epoch 60/200\n",
      "991/992 [============================>.] - ETA: 0s - loss: 145.1843 - mean_absolute_error: 9.1097\n",
      "Epoch 60: val_loss improved from 653.49030 to 648.21191, saving model to models/age\\age_final_model.keras\n",
      "992/992 [==============================] - 20s 20ms/step - loss: 145.1837 - mean_absolute_error: 9.1099 - val_loss: 648.2119 - val_mean_absolute_error: 21.1274 - lr: 0.0100\n",
      "Epoch 61/200\n",
      "991/992 [============================>.] - ETA: 0s - loss: 145.6586 - mean_absolute_error: 9.1231\n",
      "Epoch 61: val_loss did not improve from 648.21191\n",
      "992/992 [==============================] - 20s 20ms/step - loss: 145.6572 - mean_absolute_error: 9.1230 - val_loss: 673.5964 - val_mean_absolute_error: 21.5474 - lr: 0.0100\n",
      "Epoch 62/200\n",
      "989/992 [============================>.] - ETA: 0s - loss: 145.7745 - mean_absolute_error: 9.1194\n",
      "Epoch 62: val_loss improved from 648.21191 to 642.22620, saving model to models/age\\age_final_model.keras\n",
      "992/992 [==============================] - 23s 23ms/step - loss: 145.7668 - mean_absolute_error: 9.1192 - val_loss: 642.2262 - val_mean_absolute_error: 20.9821 - lr: 0.0100\n",
      "Epoch 63/200\n",
      "990/992 [============================>.] - ETA: 0s - loss: 146.0641 - mean_absolute_error: 9.1327\n",
      "Epoch 63: val_loss did not improve from 642.22620\n",
      "992/992 [==============================] - 20s 20ms/step - loss: 146.0636 - mean_absolute_error: 9.1324 - val_loss: 675.4974 - val_mean_absolute_error: 21.6039 - lr: 0.0100\n",
      "Epoch 64/200\n",
      "991/992 [============================>.] - ETA: 0s - loss: 146.1074 - mean_absolute_error: 9.1282\n",
      "Epoch 64: val_loss did not improve from 642.22620\n",
      "992/992 [==============================] - 20s 20ms/step - loss: 146.1197 - mean_absolute_error: 9.1286 - val_loss: 651.8763 - val_mean_absolute_error: 21.2028 - lr: 0.0100\n",
      "Epoch 65/200\n",
      "989/992 [============================>.] - ETA: 0s - loss: 146.0240 - mean_absolute_error: 9.1311\n",
      "Epoch 65: val_loss improved from 642.22620 to 607.99573, saving model to models/age\\age_final_model.keras\n",
      "992/992 [==============================] - 21s 21ms/step - loss: 146.0274 - mean_absolute_error: 9.1319 - val_loss: 607.9957 - val_mean_absolute_error: 20.5053 - lr: 0.0100\n",
      "Epoch 66/200\n",
      "989/992 [============================>.] - ETA: 0s - loss: 146.3369 - mean_absolute_error: 9.1375\n",
      "Epoch 66: val_loss did not improve from 607.99573\n",
      "992/992 [==============================] - 21s 21ms/step - loss: 146.2803 - mean_absolute_error: 9.1359 - val_loss: 625.5523 - val_mean_absolute_error: 20.9145 - lr: 0.0100\n",
      "Epoch 67/200\n",
      "989/992 [============================>.] - ETA: 0s - loss: 145.4531 - mean_absolute_error: 9.1129\n",
      "Epoch 67: val_loss did not improve from 607.99573\n",
      "992/992 [==============================] - 20s 20ms/step - loss: 145.4093 - mean_absolute_error: 9.1116 - val_loss: 625.2648 - val_mean_absolute_error: 20.7827 - lr: 0.0100\n",
      "Epoch 68/200\n",
      "989/992 [============================>.] - ETA: 0s - loss: 145.5776 - mean_absolute_error: 9.1199\n",
      "Epoch 68: val_loss improved from 607.99573 to 580.99976, saving model to models/age\\age_final_model.keras\n",
      "992/992 [==============================] - 21s 21ms/step - loss: 145.5985 - mean_absolute_error: 9.1207 - val_loss: 580.9998 - val_mean_absolute_error: 20.1034 - lr: 0.0100\n",
      "Epoch 69/200\n",
      "991/992 [============================>.] - ETA: 0s - loss: 145.5108 - mean_absolute_error: 9.1136\n",
      "Epoch 69: val_loss did not improve from 580.99976\n",
      "992/992 [==============================] - 20s 20ms/step - loss: 145.5088 - mean_absolute_error: 9.1134 - val_loss: 665.5920 - val_mean_absolute_error: 21.4555 - lr: 0.0100\n",
      "Epoch 70/200\n",
      "989/992 [============================>.] - ETA: 0s - loss: 145.8710 - mean_absolute_error: 9.1298\n",
      "Epoch 70: val_loss did not improve from 580.99976\n",
      "992/992 [==============================] - 20s 20ms/step - loss: 145.9153 - mean_absolute_error: 9.1311 - val_loss: 669.9536 - val_mean_absolute_error: 21.5535 - lr: 0.0100\n",
      "Epoch 71/200\n",
      "989/992 [============================>.] - ETA: 0s - loss: 145.7279 - mean_absolute_error: 9.1196\n",
      "Epoch 71: val_loss did not improve from 580.99976\n",
      "992/992 [==============================] - 20s 20ms/step - loss: 145.6928 - mean_absolute_error: 9.1185 - val_loss: 609.0051 - val_mean_absolute_error: 20.5868 - lr: 0.0100\n",
      "Epoch 72/200\n",
      "989/992 [============================>.] - ETA: 0s - loss: 145.8113 - mean_absolute_error: 9.1195\n",
      "Epoch 72: val_loss did not improve from 580.99976\n",
      "992/992 [==============================] - 19s 19ms/step - loss: 145.7915 - mean_absolute_error: 9.1196 - val_loss: 614.8778 - val_mean_absolute_error: 20.6010 - lr: 0.0100\n",
      "Epoch 73/200\n",
      "990/992 [============================>.] - ETA: 0s - loss: 145.4498 - mean_absolute_error: 9.1042\n",
      "Epoch 73: val_loss did not improve from 580.99976\n",
      "992/992 [==============================] - 21s 21ms/step - loss: 145.4537 - mean_absolute_error: 9.1043 - val_loss: 627.1602 - val_mean_absolute_error: 20.8727 - lr: 0.0100\n",
      "Epoch 74/200\n",
      "989/992 [============================>.] - ETA: 0s - loss: 145.7892 - mean_absolute_error: 9.1270\n",
      "Epoch 74: val_loss did not improve from 580.99976\n",
      "992/992 [==============================] - 19s 19ms/step - loss: 145.7803 - mean_absolute_error: 9.1261 - val_loss: 598.3187 - val_mean_absolute_error: 20.3871 - lr: 0.0100\n",
      "Epoch 75/200\n",
      "990/992 [============================>.] - ETA: 0s - loss: 145.9850 - mean_absolute_error: 9.1379\n",
      "Epoch 75: val_loss did not improve from 580.99976\n",
      "992/992 [==============================] - 20s 20ms/step - loss: 145.9686 - mean_absolute_error: 9.1373 - val_loss: 615.6354 - val_mean_absolute_error: 20.6123 - lr: 0.0100\n",
      "Epoch 76/200\n",
      "991/992 [============================>.] - ETA: 0s - loss: 145.5849 - mean_absolute_error: 9.1092\n",
      "Epoch 76: val_loss did not improve from 580.99976\n",
      "992/992 [==============================] - 21s 21ms/step - loss: 145.5767 - mean_absolute_error: 9.1089 - val_loss: 606.9468 - val_mean_absolute_error: 20.5776 - lr: 0.0100\n",
      "Epoch 77/200\n",
      "991/992 [============================>.] - ETA: 0s - loss: 146.0564 - mean_absolute_error: 9.1281\n",
      "Epoch 77: val_loss did not improve from 580.99976\n",
      "992/992 [==============================] - 20s 21ms/step - loss: 146.0597 - mean_absolute_error: 9.1281 - val_loss: 612.7177 - val_mean_absolute_error: 20.6003 - lr: 0.0100\n",
      "Epoch 78/200\n",
      "990/992 [============================>.] - ETA: 0s - loss: 145.6981 - mean_absolute_error: 9.1213\n",
      "Epoch 78: val_loss did not improve from 580.99976\n",
      "992/992 [==============================] - 18s 19ms/step - loss: 145.7106 - mean_absolute_error: 9.1219 - val_loss: 618.9692 - val_mean_absolute_error: 20.6598 - lr: 0.0100\n",
      "Epoch 79/200\n",
      "992/992 [==============================] - ETA: 0s - loss: 145.4655 - mean_absolute_error: 9.1073\n",
      "Epoch 79: val_loss did not improve from 580.99976\n",
      "992/992 [==============================] - 20s 20ms/step - loss: 145.4655 - mean_absolute_error: 9.1073 - val_loss: 625.6393 - val_mean_absolute_error: 20.7746 - lr: 0.0100\n",
      "Epoch 80/200\n",
      "990/992 [============================>.] - ETA: 0s - loss: 145.8039 - mean_absolute_error: 9.1309\n",
      "Epoch 80: val_loss did not improve from 580.99976\n",
      "992/992 [==============================] - 21s 21ms/step - loss: 145.7867 - mean_absolute_error: 9.1306 - val_loss: 632.2809 - val_mean_absolute_error: 20.9587 - lr: 0.0100\n",
      "Epoch 81/200\n",
      "989/992 [============================>.] - ETA: 0s - loss: 145.5864 - mean_absolute_error: 9.1159\n",
      "Epoch 81: val_loss did not improve from 580.99976\n",
      "992/992 [==============================] - 20s 21ms/step - loss: 145.5855 - mean_absolute_error: 9.1162 - val_loss: 593.2523 - val_mean_absolute_error: 20.2569 - lr: 0.0100\n",
      "Epoch 82/200\n",
      "989/992 [============================>.] - ETA: 0s - loss: 145.9367 - mean_absolute_error: 9.1272\n",
      "Epoch 82: val_loss did not improve from 580.99976\n",
      "\n",
      "Epoch 82: ReduceLROnPlateau reducing learning rate to 0.0009999999776482583.\n",
      "992/992 [==============================] - 19s 20ms/step - loss: 145.9174 - mean_absolute_error: 9.1267 - val_loss: 602.3235 - val_mean_absolute_error: 20.4257 - lr: 0.0100\n",
      "Epoch 83/200\n",
      "989/992 [============================>.] - ETA: 0s - loss: 141.8351 - mean_absolute_error: 9.0071\n",
      "Epoch 83: val_loss did not improve from 580.99976\n",
      "992/992 [==============================] - 20s 20ms/step - loss: 141.8517 - mean_absolute_error: 9.0073 - val_loss: 582.5480 - val_mean_absolute_error: 20.0443 - lr: 1.0000e-03\n",
      "Epoch 84/200\n",
      "991/992 [============================>.] - ETA: 0s - loss: 140.7769 - mean_absolute_error: 8.9789\n",
      "Epoch 84: val_loss did not improve from 580.99976\n",
      "992/992 [==============================] - 20s 20ms/step - loss: 140.7840 - mean_absolute_error: 8.9791 - val_loss: 581.3297 - val_mean_absolute_error: 20.0523 - lr: 1.0000e-03\n",
      "Epoch 85/200\n",
      "990/992 [============================>.] - ETA: 0s - loss: 140.1477 - mean_absolute_error: 8.9630\n",
      "Epoch 85: val_loss did not improve from 580.99976\n",
      "992/992 [==============================] - 19s 19ms/step - loss: 140.1387 - mean_absolute_error: 8.9624 - val_loss: 588.3743 - val_mean_absolute_error: 20.1783 - lr: 1.0000e-03\n",
      "Epoch 86/200\n",
      "991/992 [============================>.] - ETA: 0s - loss: 139.6628 - mean_absolute_error: 8.9490\n",
      "Epoch 86: val_loss did not improve from 580.99976\n",
      "992/992 [==============================] - 18s 18ms/step - loss: 139.6588 - mean_absolute_error: 8.9488 - val_loss: 585.4558 - val_mean_absolute_error: 20.1450 - lr: 1.0000e-03\n",
      "Epoch 87/200\n",
      "991/992 [============================>.] - ETA: 0s - loss: 139.4439 - mean_absolute_error: 8.9580\n",
      "Epoch 87: val_loss improved from 580.99976 to 575.95099, saving model to models/age\\age_final_model.keras\n",
      "992/992 [==============================] - 21s 21ms/step - loss: 139.4548 - mean_absolute_error: 8.9583 - val_loss: 575.9510 - val_mean_absolute_error: 19.9749 - lr: 1.0000e-03\n",
      "Epoch 88/200\n",
      "989/992 [============================>.] - ETA: 0s - loss: 138.6424 - mean_absolute_error: 8.9339\n",
      "Epoch 88: val_loss did not improve from 575.95099\n",
      "992/992 [==============================] - 21s 21ms/step - loss: 138.6415 - mean_absolute_error: 8.9339 - val_loss: 580.3137 - val_mean_absolute_error: 20.0779 - lr: 1.0000e-03\n",
      "Epoch 89/200\n",
      "990/992 [============================>.] - ETA: 0s - loss: 137.8646 - mean_absolute_error: 8.9204\n",
      "Epoch 89: val_loss did not improve from 575.95099\n",
      "992/992 [==============================] - 20s 20ms/step - loss: 137.8888 - mean_absolute_error: 8.9218 - val_loss: 577.1270 - val_mean_absolute_error: 19.9846 - lr: 1.0000e-03\n",
      "Epoch 90/200\n",
      "989/992 [============================>.] - ETA: 0s - loss: 137.6826 - mean_absolute_error: 8.9115\n",
      "Epoch 90: val_loss improved from 575.95099 to 573.36151, saving model to models/age\\age_final_model.keras\n",
      "992/992 [==============================] - 18s 18ms/step - loss: 137.6553 - mean_absolute_error: 8.9104 - val_loss: 573.3615 - val_mean_absolute_error: 19.9262 - lr: 1.0000e-03\n",
      "Epoch 91/200\n",
      "989/992 [============================>.] - ETA: 0s - loss: 137.5639 - mean_absolute_error: 8.9132\n",
      "Epoch 91: val_loss improved from 573.36151 to 560.06866, saving model to models/age\\age_final_model.keras\n",
      "992/992 [==============================] - 21s 21ms/step - loss: 137.5382 - mean_absolute_error: 8.9122 - val_loss: 560.0687 - val_mean_absolute_error: 19.6507 - lr: 1.0000e-03\n",
      "Epoch 92/200\n",
      "991/992 [============================>.] - ETA: 0s - loss: 137.2018 - mean_absolute_error: 8.9033\n",
      "Epoch 92: val_loss did not improve from 560.06866\n",
      "992/992 [==============================] - 18s 18ms/step - loss: 137.2011 - mean_absolute_error: 8.9032 - val_loss: 568.0043 - val_mean_absolute_error: 19.8288 - lr: 1.0000e-03\n",
      "Epoch 93/200\n",
      "990/992 [============================>.] - ETA: 0s - loss: 137.0645 - mean_absolute_error: 8.9017\n",
      "Epoch 93: val_loss improved from 560.06866 to 552.96863, saving model to models/age\\age_final_model.keras\n",
      "992/992 [==============================] - 19s 19ms/step - loss: 137.1301 - mean_absolute_error: 8.9043 - val_loss: 552.9686 - val_mean_absolute_error: 19.5351 - lr: 1.0000e-03\n",
      "Epoch 94/200\n",
      "989/992 [============================>.] - ETA: 0s - loss: 136.5350 - mean_absolute_error: 8.8886\n",
      "Epoch 94: val_loss did not improve from 552.96863\n",
      "992/992 [==============================] - 20s 20ms/step - loss: 136.5356 - mean_absolute_error: 8.8884 - val_loss: 565.6052 - val_mean_absolute_error: 19.7930 - lr: 1.0000e-03\n",
      "Epoch 95/200\n",
      "989/992 [============================>.] - ETA: 0s - loss: 136.5396 - mean_absolute_error: 8.8943\n",
      "Epoch 95: val_loss did not improve from 552.96863\n",
      "992/992 [==============================] - 19s 19ms/step - loss: 136.5279 - mean_absolute_error: 8.8939 - val_loss: 554.8419 - val_mean_absolute_error: 19.6178 - lr: 1.0000e-03\n",
      "Epoch 96/200\n",
      "990/992 [============================>.] - ETA: 0s - loss: 136.1346 - mean_absolute_error: 8.8774\n",
      "Epoch 96: val_loss did not improve from 552.96863\n",
      "992/992 [==============================] - 20s 20ms/step - loss: 136.1244 - mean_absolute_error: 8.8770 - val_loss: 556.4026 - val_mean_absolute_error: 19.6290 - lr: 1.0000e-03\n",
      "Epoch 97/200\n",
      "991/992 [============================>.] - ETA: 0s - loss: 136.1508 - mean_absolute_error: 8.8911\n",
      "Epoch 97: val_loss did not improve from 552.96863\n",
      "992/992 [==============================] - 19s 19ms/step - loss: 136.1467 - mean_absolute_error: 8.8910 - val_loss: 562.5185 - val_mean_absolute_error: 19.7315 - lr: 1.0000e-03\n",
      "Epoch 98/200\n",
      "990/992 [============================>.] - ETA: 0s - loss: 135.6669 - mean_absolute_error: 8.8743\n",
      "Epoch 98: val_loss did not improve from 552.96863\n",
      "992/992 [==============================] - 21s 21ms/step - loss: 135.6425 - mean_absolute_error: 8.8738 - val_loss: 560.5829 - val_mean_absolute_error: 19.6829 - lr: 1.0000e-03\n",
      "Epoch 99/200\n",
      "990/992 [============================>.] - ETA: 0s - loss: 134.9357 - mean_absolute_error: 8.8521\n",
      "Epoch 99: val_loss did not improve from 552.96863\n",
      "992/992 [==============================] - 20s 20ms/step - loss: 134.9669 - mean_absolute_error: 8.8528 - val_loss: 554.1348 - val_mean_absolute_error: 19.5770 - lr: 1.0000e-03\n",
      "Epoch 100/200\n",
      "991/992 [============================>.] - ETA: 0s - loss: 135.4586 - mean_absolute_error: 8.8730\n",
      "Epoch 100: val_loss improved from 552.96863 to 551.13208, saving model to models/age\\age_final_model.keras\n",
      "992/992 [==============================] - 18s 18ms/step - loss: 135.4517 - mean_absolute_error: 8.8728 - val_loss: 551.1321 - val_mean_absolute_error: 19.5439 - lr: 1.0000e-03\n",
      "Epoch 101/200\n",
      "992/992 [==============================] - ETA: 0s - loss: 135.4746 - mean_absolute_error: 8.8767\n",
      "Epoch 101: val_loss improved from 551.13208 to 545.97137, saving model to models/age\\age_final_model.keras\n",
      "992/992 [==============================] - 19s 19ms/step - loss: 135.4746 - mean_absolute_error: 8.8767 - val_loss: 545.9714 - val_mean_absolute_error: 19.4109 - lr: 1.0000e-03\n",
      "Epoch 102/200\n",
      "991/992 [============================>.] - ETA: 0s - loss: 134.7848 - mean_absolute_error: 8.8478\n",
      "Epoch 102: val_loss did not improve from 545.97137\n",
      "992/992 [==============================] - 19s 19ms/step - loss: 134.7802 - mean_absolute_error: 8.8477 - val_loss: 551.3029 - val_mean_absolute_error: 19.5518 - lr: 1.0000e-03\n",
      "Epoch 103/200\n",
      "992/992 [==============================] - ETA: 0s - loss: 134.7230 - mean_absolute_error: 8.8523\n",
      "Epoch 103: val_loss improved from 545.97137 to 544.03546, saving model to models/age\\age_final_model.keras\n",
      "992/992 [==============================] - 20s 20ms/step - loss: 134.7230 - mean_absolute_error: 8.8523 - val_loss: 544.0355 - val_mean_absolute_error: 19.3967 - lr: 1.0000e-03\n",
      "Epoch 104/200\n",
      "989/992 [============================>.] - ETA: 0s - loss: 134.9125 - mean_absolute_error: 8.8651\n",
      "Epoch 104: val_loss did not improve from 544.03546\n",
      "992/992 [==============================] - 22s 22ms/step - loss: 134.9271 - mean_absolute_error: 8.8657 - val_loss: 549.2984 - val_mean_absolute_error: 19.5063 - lr: 1.0000e-03\n",
      "Epoch 105/200\n",
      "989/992 [============================>.] - ETA: 0s - loss: 134.3564 - mean_absolute_error: 8.8550\n",
      "Epoch 105: val_loss did not improve from 544.03546\n",
      "992/992 [==============================] - 22s 22ms/step - loss: 134.3256 - mean_absolute_error: 8.8540 - val_loss: 548.6542 - val_mean_absolute_error: 19.5006 - lr: 1.0000e-03\n",
      "Epoch 106/200\n",
      "990/992 [============================>.] - ETA: 0s - loss: 134.5910 - mean_absolute_error: 8.8616\n",
      "Epoch 106: val_loss did not improve from 544.03546\n",
      "992/992 [==============================] - 22s 22ms/step - loss: 134.5903 - mean_absolute_error: 8.8616 - val_loss: 549.1157 - val_mean_absolute_error: 19.5103 - lr: 1.0000e-03\n",
      "Epoch 107/200\n",
      "991/992 [============================>.] - ETA: 0s - loss: 133.8677 - mean_absolute_error: 8.8420\n",
      "Epoch 107: val_loss did not improve from 544.03546\n",
      "992/992 [==============================] - 22s 22ms/step - loss: 133.8701 - mean_absolute_error: 8.8421 - val_loss: 546.2350 - val_mean_absolute_error: 19.4748 - lr: 1.0000e-03\n",
      "Epoch 108/200\n",
      "991/992 [============================>.] - ETA: 0s - loss: 133.4729 - mean_absolute_error: 8.8322\n",
      "Epoch 108: val_loss did not improve from 544.03546\n",
      "992/992 [==============================] - 44s 45ms/step - loss: 133.4791 - mean_absolute_error: 8.8325 - val_loss: 558.4582 - val_mean_absolute_error: 19.6528 - lr: 1.0000e-03\n",
      "Epoch 109/200\n",
      "991/992 [============================>.] - ETA: 0s - loss: 133.9419 - mean_absolute_error: 8.8397\n",
      "Epoch 109: val_loss improved from 544.03546 to 540.47015, saving model to models/age\\age_final_model.keras\n",
      "992/992 [==============================] - 100s 100ms/step - loss: 133.9433 - mean_absolute_error: 8.8398 - val_loss: 540.4702 - val_mean_absolute_error: 19.3274 - lr: 1.0000e-03\n",
      "Epoch 110/200\n",
      "989/992 [============================>.] - ETA: 0s - loss: 133.8975 - mean_absolute_error: 8.8294\n",
      "Epoch 110: val_loss improved from 540.47015 to 538.83112, saving model to models/age\\age_final_model.keras\n",
      "992/992 [==============================] - 18s 18ms/step - loss: 133.9184 - mean_absolute_error: 8.8302 - val_loss: 538.8311 - val_mean_absolute_error: 19.3006 - lr: 1.0000e-03\n",
      "Epoch 111/200\n",
      "991/992 [============================>.] - ETA: 0s - loss: 133.8296 - mean_absolute_error: 8.8367\n",
      "Epoch 111: val_loss did not improve from 538.83112\n",
      "992/992 [==============================] - 19s 19ms/step - loss: 133.8325 - mean_absolute_error: 8.8367 - val_loss: 542.1008 - val_mean_absolute_error: 19.3844 - lr: 1.0000e-03\n",
      "Epoch 112/200\n",
      "990/992 [============================>.] - ETA: 0s - loss: 133.7069 - mean_absolute_error: 8.8522\n",
      "Epoch 112: val_loss improved from 538.83112 to 534.85321, saving model to models/age\\age_final_model.keras\n",
      "992/992 [==============================] - 20s 20ms/step - loss: 133.7359 - mean_absolute_error: 8.8532 - val_loss: 534.8532 - val_mean_absolute_error: 19.2406 - lr: 1.0000e-03\n",
      "Epoch 113/200\n",
      "991/992 [============================>.] - ETA: 0s - loss: 133.2795 - mean_absolute_error: 8.8356\n",
      "Epoch 113: val_loss did not improve from 534.85321\n",
      "992/992 [==============================] - 20s 20ms/step - loss: 133.2785 - mean_absolute_error: 8.8357 - val_loss: 534.9234 - val_mean_absolute_error: 19.2698 - lr: 1.0000e-03\n",
      "Epoch 114/200\n",
      "991/992 [============================>.] - ETA: 0s - loss: 133.6335 - mean_absolute_error: 8.8478\n",
      "Epoch 114: val_loss did not improve from 534.85321\n",
      "992/992 [==============================] - 20s 20ms/step - loss: 133.6324 - mean_absolute_error: 8.8477 - val_loss: 540.9419 - val_mean_absolute_error: 19.3643 - lr: 1.0000e-03\n",
      "Epoch 115/200\n",
      "989/992 [============================>.] - ETA: 0s - loss: 133.4064 - mean_absolute_error: 8.8352\n",
      "Epoch 115: val_loss did not improve from 534.85321\n",
      "992/992 [==============================] - 21s 21ms/step - loss: 133.3867 - mean_absolute_error: 8.8353 - val_loss: 537.0932 - val_mean_absolute_error: 19.3080 - lr: 1.0000e-03\n",
      "Epoch 116/200\n",
      "991/992 [============================>.] - ETA: 0s - loss: 133.4324 - mean_absolute_error: 8.8463\n",
      "Epoch 116: val_loss did not improve from 534.85321\n",
      "992/992 [==============================] - 19s 20ms/step - loss: 133.4387 - mean_absolute_error: 8.8464 - val_loss: 543.9411 - val_mean_absolute_error: 19.3936 - lr: 1.0000e-03\n",
      "Epoch 117/200\n",
      "990/992 [============================>.] - ETA: 0s - loss: 133.2970 - mean_absolute_error: 8.8271\n",
      "Epoch 117: val_loss did not improve from 534.85321\n",
      "992/992 [==============================] - 19s 19ms/step - loss: 133.2989 - mean_absolute_error: 8.8273 - val_loss: 550.1082 - val_mean_absolute_error: 19.5160 - lr: 1.0000e-03\n",
      "Epoch 118/200\n",
      "990/992 [============================>.] - ETA: 0s - loss: 133.2404 - mean_absolute_error: 8.8320\n",
      "Epoch 118: val_loss did not improve from 534.85321\n",
      "992/992 [==============================] - 22s 22ms/step - loss: 133.2225 - mean_absolute_error: 8.8314 - val_loss: 548.0041 - val_mean_absolute_error: 19.4863 - lr: 1.0000e-03\n",
      "Epoch 119/200\n",
      "990/992 [============================>.] - ETA: 0s - loss: 133.0356 - mean_absolute_error: 8.8286\n",
      "Epoch 119: val_loss did not improve from 534.85321\n",
      "992/992 [==============================] - 22s 22ms/step - loss: 133.0636 - mean_absolute_error: 8.8294 - val_loss: 554.5455 - val_mean_absolute_error: 19.5933 - lr: 1.0000e-03\n",
      "Epoch 120/200\n",
      "990/992 [============================>.] - ETA: 0s - loss: 133.0980 - mean_absolute_error: 8.8312\n",
      "Epoch 120: val_loss did not improve from 534.85321\n",
      "992/992 [==============================] - 22s 22ms/step - loss: 133.0802 - mean_absolute_error: 8.8308 - val_loss: 542.9526 - val_mean_absolute_error: 19.4378 - lr: 1.0000e-03\n",
      "Epoch 121/200\n",
      "989/992 [============================>.] - ETA: 0s - loss: 132.5691 - mean_absolute_error: 8.8030\n",
      "Epoch 121: val_loss improved from 534.85321 to 532.70728, saving model to models/age\\age_final_model.keras\n",
      "992/992 [==============================] - 22s 22ms/step - loss: 132.5895 - mean_absolute_error: 8.8037 - val_loss: 532.7073 - val_mean_absolute_error: 19.1938 - lr: 1.0000e-03\n",
      "Epoch 122/200\n",
      "989/992 [============================>.] - ETA: 0s - loss: 132.8639 - mean_absolute_error: 8.8208\n",
      "Epoch 122: val_loss did not improve from 532.70728\n",
      "992/992 [==============================] - 22s 22ms/step - loss: 132.8020 - mean_absolute_error: 8.8194 - val_loss: 540.5859 - val_mean_absolute_error: 19.3630 - lr: 1.0000e-03\n",
      "Epoch 123/200\n",
      "992/992 [==============================] - ETA: 0s - loss: 132.5150 - mean_absolute_error: 8.8115\n",
      "Epoch 123: val_loss did not improve from 532.70728\n",
      "992/992 [==============================] - 22s 22ms/step - loss: 132.5150 - mean_absolute_error: 8.8115 - val_loss: 539.0955 - val_mean_absolute_error: 19.2941 - lr: 1.0000e-03\n",
      "Epoch 124/200\n",
      "990/992 [============================>.] - ETA: 0s - loss: 132.9491 - mean_absolute_error: 8.8317\n",
      "Epoch 124: val_loss did not improve from 532.70728\n",
      "992/992 [==============================] - 19s 20ms/step - loss: 132.9375 - mean_absolute_error: 8.8321 - val_loss: 548.1390 - val_mean_absolute_error: 19.4839 - lr: 1.0000e-03\n",
      "Epoch 125/200\n",
      "990/992 [============================>.] - ETA: 0s - loss: 132.2350 - mean_absolute_error: 8.7980\n",
      "Epoch 125: val_loss did not improve from 532.70728\n",
      "992/992 [==============================] - 21s 21ms/step - loss: 132.2358 - mean_absolute_error: 8.7980 - val_loss: 536.5806 - val_mean_absolute_error: 19.2722 - lr: 1.0000e-03\n",
      "Epoch 126/200\n",
      "990/992 [============================>.] - ETA: 0s - loss: 132.3939 - mean_absolute_error: 8.8150\n",
      "Epoch 126: val_loss did not improve from 532.70728\n",
      "992/992 [==============================] - 21s 21ms/step - loss: 132.4096 - mean_absolute_error: 8.8154 - val_loss: 545.0621 - val_mean_absolute_error: 19.4257 - lr: 1.0000e-03\n",
      "Epoch 127/200\n",
      "991/992 [============================>.] - ETA: 0s - loss: 132.1012 - mean_absolute_error: 8.7985\n",
      "Epoch 127: val_loss did not improve from 532.70728\n",
      "992/992 [==============================] - 20s 20ms/step - loss: 132.1058 - mean_absolute_error: 8.7986 - val_loss: 543.1536 - val_mean_absolute_error: 19.3732 - lr: 1.0000e-03\n",
      "Epoch 128/200\n",
      "989/992 [============================>.] - ETA: 0s - loss: 132.5190 - mean_absolute_error: 8.8174\n",
      "Epoch 128: val_loss did not improve from 532.70728\n",
      "992/992 [==============================] - 19s 19ms/step - loss: 132.4970 - mean_absolute_error: 8.8166 - val_loss: 545.6028 - val_mean_absolute_error: 19.4362 - lr: 1.0000e-03\n",
      "Epoch 129/200\n",
      "992/992 [==============================] - ETA: 0s - loss: 132.4560 - mean_absolute_error: 8.8139\n",
      "Epoch 129: val_loss did not improve from 532.70728\n",
      "992/992 [==============================] - 22s 22ms/step - loss: 132.4560 - mean_absolute_error: 8.8139 - val_loss: 546.9196 - val_mean_absolute_error: 19.4641 - lr: 1.0000e-03\n",
      "Epoch 130/200\n",
      "990/992 [============================>.] - ETA: 0s - loss: 132.3556 - mean_absolute_error: 8.8086\n",
      "Epoch 130: val_loss did not improve from 532.70728\n",
      "992/992 [==============================] - 20s 20ms/step - loss: 132.3782 - mean_absolute_error: 8.8096 - val_loss: 543.8252 - val_mean_absolute_error: 19.4118 - lr: 1.0000e-03\n",
      "Epoch 131/200\n",
      "989/992 [============================>.] - ETA: 0s - loss: 132.5124 - mean_absolute_error: 8.8218\n",
      "Epoch 131: val_loss did not improve from 532.70728\n",
      "992/992 [==============================] - 18s 18ms/step - loss: 132.4729 - mean_absolute_error: 8.8200 - val_loss: 544.6364 - val_mean_absolute_error: 19.4294 - lr: 1.0000e-03\n",
      "Epoch 132/200\n",
      "991/992 [============================>.] - ETA: 0s - loss: 132.2703 - mean_absolute_error: 8.8169\n",
      "Epoch 132: val_loss did not improve from 532.70728\n",
      "992/992 [==============================] - 21s 21ms/step - loss: 132.2673 - mean_absolute_error: 8.8169 - val_loss: 534.8704 - val_mean_absolute_error: 19.2561 - lr: 1.0000e-03\n",
      "Epoch 133/200\n",
      "990/992 [============================>.] - ETA: 0s - loss: 131.6040 - mean_absolute_error: 8.7969\n",
      "Epoch 133: val_loss did not improve from 532.70728\n",
      "992/992 [==============================] - 20s 20ms/step - loss: 131.6223 - mean_absolute_error: 8.7974 - val_loss: 539.6951 - val_mean_absolute_error: 19.3292 - lr: 1.0000e-03\n",
      "Epoch 134/200\n",
      "989/992 [============================>.] - ETA: 0s - loss: 132.4613 - mean_absolute_error: 8.8231\n",
      "Epoch 134: val_loss did not improve from 532.70728\n",
      "992/992 [==============================] - 20s 20ms/step - loss: 132.5003 - mean_absolute_error: 8.8246 - val_loss: 533.7779 - val_mean_absolute_error: 19.2478 - lr: 1.0000e-03\n",
      "Epoch 135/200\n",
      "991/992 [============================>.] - ETA: 0s - loss: 132.3882 - mean_absolute_error: 8.8194\n",
      "Epoch 135: val_loss did not improve from 532.70728\n",
      "\n",
      "Epoch 135: ReduceLROnPlateau reducing learning rate to 9.999999310821295e-05.\n",
      "992/992 [==============================] - 20s 20ms/step - loss: 132.3822 - mean_absolute_error: 8.8193 - val_loss: 537.5865 - val_mean_absolute_error: 19.2682 - lr: 1.0000e-03\n",
      "Epoch 136/200\n",
      "991/992 [============================>.] - ETA: 0s - loss: 131.6806 - mean_absolute_error: 8.7996\n",
      "Epoch 136: val_loss did not improve from 532.70728\n",
      "992/992 [==============================] - 22s 22ms/step - loss: 131.6720 - mean_absolute_error: 8.7992 - val_loss: 536.1462 - val_mean_absolute_error: 19.2516 - lr: 1.0000e-04\n",
      "Epoch 137/200\n",
      "989/992 [============================>.] - ETA: 0s - loss: 131.1112 - mean_absolute_error: 8.7766\n",
      "Epoch 137: val_loss did not improve from 532.70728\n",
      "992/992 [==============================] - 21s 21ms/step - loss: 131.0978 - mean_absolute_error: 8.7760 - val_loss: 535.2914 - val_mean_absolute_error: 19.2449 - lr: 1.0000e-04\n",
      "Epoch 138/200\n",
      "989/992 [============================>.] - ETA: 0s - loss: 131.3653 - mean_absolute_error: 8.7894\n",
      "Epoch 138: val_loss did not improve from 532.70728\n",
      "992/992 [==============================] - 19s 19ms/step - loss: 131.3906 - mean_absolute_error: 8.7900 - val_loss: 538.0291 - val_mean_absolute_error: 19.2943 - lr: 1.0000e-04\n",
      "Epoch 139/200\n",
      "989/992 [============================>.] - ETA: 0s - loss: 131.4140 - mean_absolute_error: 8.7903\n",
      "Epoch 139: val_loss did not improve from 532.70728\n",
      "992/992 [==============================] - 20s 20ms/step - loss: 131.3673 - mean_absolute_error: 8.7894 - val_loss: 534.2106 - val_mean_absolute_error: 19.2234 - lr: 1.0000e-04\n",
      "Epoch 140/200\n",
      "989/992 [============================>.] - ETA: 0s - loss: 131.2628 - mean_absolute_error: 8.7836\n",
      "Epoch 140: val_loss did not improve from 532.70728\n",
      "992/992 [==============================] - 21s 21ms/step - loss: 131.2591 - mean_absolute_error: 8.7832 - val_loss: 536.7976 - val_mean_absolute_error: 19.2706 - lr: 1.0000e-04\n",
      "Epoch 141/200\n",
      "990/992 [============================>.] - ETA: 0s - loss: 131.3036 - mean_absolute_error: 8.7929\n",
      "Epoch 141: val_loss did not improve from 532.70728\n",
      "992/992 [==============================] - 20s 20ms/step - loss: 131.2830 - mean_absolute_error: 8.7919 - val_loss: 537.5021 - val_mean_absolute_error: 19.2918 - lr: 1.0000e-04\n",
      "Epoch 141: early stopping\n"
     ]
    }
   ],
   "source": [
    "# Fine-tuning the model\n",
    "new_model.compile(optimizer=get_optimizer(), loss=\"mse\", metrics=[\"MeanAbsoluteError\"])\n",
    "hist = new_model.fit(ds_train_batch, epochs=200,validation_data=ds_test_batch, callbacks=get_callbacks_ft('age_final_model'))"
   ]
  },
  {
   "cell_type": "code",
   "execution_count": 32,
   "metadata": {},
   "outputs": [
    {
     "data": {
      "image/png": "[encoded data removed]",
      "text/plain": [
       "<Figure size 1000x480 with 2 Axes>"
      ]
     },
     "metadata": {},
     "output_type": "display_data"
    },
    {
     "name": "stdout",
     "output_type": "stream",
     "text": [
      "Epoch: 121 - Model MAE: 19.193761825561523 - Best MAE: 19.193761825561523\n"
     ]
    }
   ],
   "source": [
    "print_plot(\"Age final model\", hist)\n",
    "min_loss = min(hist.history['val_loss'])\n",
    "epoch = 0\n",
    "\n",
    "for x in range(0, len(hist.history['val_loss'])):\n",
    "    if hist.history['val_loss'][x] == min_loss:\n",
    "        epoch = x + 1\n",
    "        acc = hist.history['val_mean_absolute_error'][x]\n",
    "\n",
    "print(\"Epoch:\", epoch, \"- Model MAE:\", acc, \"- Best MAE:\", min(hist.history['val_mean_absolute_error']))"
   ]
  },
  {
   "attachments": {},
   "cell_type": "markdown",
   "metadata": {},
   "source": [
    "As we can see in the above code and graph, we try to get the best possible weights for the model that we select to be the final one. \n",
    "\n",
    "We started the tunning with a 0.01 value of learning rate and finish with a 0.0001. In the graph and log of the training we can observe that at first has the more pronounced curves as the model is been training with the highest values. Then with each change in the learning rate, the curve start to get more linear, till reach the end where no improvement is made.\n",
    "\n",
    "For future executions of the notebook this sub section is going to keep been executed, as is the final execution of our model."
   ]
  },
  {
   "attachments": {},
   "cell_type": "markdown",
   "metadata": {},
   "source": [
    "## 4. Results\n",
    "\n",
    "In this section we show the final results"
   ]
  },
  {
   "cell_type": "code",
   "execution_count": 30,
   "metadata": {},
   "outputs": [
    {
     "name": "stdout",
     "output_type": "stream",
     "text": [
      "One layer - MAE: 24.03\n",
      "Six layers - MAE: 20.47\n",
      "Six layers finetuning - MAE: 19.19\n"
     ]
    },
    {
     "data": {
      "image/png": "[encoded data removed]",
      "text/plain": [
       "<Figure size 640x480 with 1 Axes>"
      ]
     },
     "metadata": {},
     "output_type": "display_data"
    }
   ],
   "source": [
    "mae_models = [24.03, 20.47, 19.19]\n",
    "mae_names = [\"One layer\", \"Six layers\", \"Six layers finetuning\"]\n",
    "\n",
    "for i in range(0,len(mae_names)):\n",
    "    print(mae_names[i], '- MAE:', mae_models[i])\n",
    "\n",
    "plt.bar(mae_names,mae_models)\n",
    "plt.title('Final model Metrics evaluation')\n",
    "plt.ylabel('MAE')\n",
    "plt.show()"
   ]
  },
  {
   "attachments": {},
   "cell_type": "markdown",
   "metadata": {},
   "source": [
    "In the above graphic we can see the evolution of our model thought the three steps that we set for our selection, first the test with the pretrained model only replacing the classification layer, then the test replacing the classification layer and unfreezing the fully connected layer and the first convolutional layer and finally the fine tunning of that model.\n",
    "\n",
    "As we mention before, better validation mae metrics have been obtained, but we decide to use the ones that correspond to the lowest loss value. In the final execution of our model, the validation mae was 87.32."
   ]
  }
 ],
 "metadata": {
  "accelerator": "GPU",
  "colab": {
   "collapsed_sections": [],
   "name": "Proyecto_naive_edad.ipynb",
   "provenance": []
  },
  "kernelspec": {
   "display_name": "gpu_dl",
   "language": "python",
   "name": "python3"
  },
  "language_info": {
   "codemirror_mode": {
    "name": "ipython",
    "version": 3
   },
   "file_extension": ".py",
   "mimetype": "text/x-python",
   "name": "python",
   "nbconvert_exporter": "python",
   "pygments_lexer": "ipython3",
   "version": "3.8.15"
  },
  "vscode": {
   "interpreter": {
    "hash": "dc1cbb69057387e89726fbc45f42f32a2aff154018a648512bec8513173a02f9"
   }
  }
 },
 "nbformat": 4,
 "nbformat_minor": 1
}
