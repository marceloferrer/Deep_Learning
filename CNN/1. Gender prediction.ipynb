{
 "cells": [
  {
   "attachments": {},
   "cell_type": "markdown",
   "metadata": {},
   "source": [
    "**Deep Learning Convolutional Neural Network** </br>\n",
    "\n",
    "Development of a convolutional network to predict the gender of an individual whose face appears in an image.\n",
    "\n",
    "Code developed by Marcelo Ferrer and Aymen Merchaoui"
   ]
  },
  {
   "attachments": {},
   "cell_type": "markdown",
   "metadata": {},
   "source": [
    "The notebook is divided in sections with the following structure:\n",
    "1. Imports, declarations and configuration\n",
    "2. Dataset\n",
    "3. Testing </br>\n",
    "    Dataset Selection</br>\n",
    "    Optimizer Selection</br>\n",
    "    Model Selection</br>\n",
    "    Regularization and optimization</br>\n",
    "    Fine-tuning</br>\n",
    "4. Results</br>"
   ]
  },
  {
   "attachments": {},
   "cell_type": "markdown",
   "metadata": {},
   "source": [
    "## 1. Imports, declarations and configuration\n",
    "\n",
    "In this section we define the necessary imports, declarations and configuration to run the application. \n",
    "\n",
    "The constants for img_height, img_width and batch_size are defined here.\n",
    "\n",
    "Also configuration to enable/disable the test for dataset, optimizer, models and regularization."
   ]
  },
  {
   "cell_type": "code",
   "execution_count": 1,
   "metadata": {},
   "outputs": [],
   "source": [
    "import os "
   ]
  },
  {
   "cell_type": "code",
   "execution_count": 2,
   "metadata": {},
   "outputs": [
    {
     "data": {
      "text/plain": [
       "0"
      ]
     },
     "execution_count": 2,
     "metadata": {},
     "output_type": "execute_result"
    }
   ],
   "source": [
    "# For better visualization of convolutional models\n",
    "os.system(\"pip install visualkeras\")"
   ]
  },
  {
   "attachments": {},
   "cell_type": "markdown",
   "metadata": {},
   "source": [
    "In the next cell we validate that the GPU is active, as each training for the simple model takes around 25 minutes to run with GPU and without it the time for training is more than one hour each."
   ]
  },
  {
   "cell_type": "code",
   "execution_count": 3,
   "metadata": {},
   "outputs": [
    {
     "name": "stdout",
     "output_type": "stream",
     "text": [
      "Using GPU\n"
     ]
    }
   ],
   "source": [
    "# Verify that GPU is active\n",
    "import tensorflow as tf\n",
    "\n",
    "gpu_active = tf.config.list_physical_devices('GPU')\n",
    "\n",
    "if (len(gpu_active) == 0):\n",
    "    print(\"NO GPU ACTIVE!!!\")\n",
    "else:\n",
    "    print(\"Using GPU\")"
   ]
  },
  {
   "cell_type": "code",
   "execution_count": 2,
   "metadata": {},
   "outputs": [],
   "source": [
    "from tensorflow import keras\n",
    "from tensorflow.keras import layers\n",
    "from tensorflow.keras import Sequential\n",
    "from tensorflow.keras.layers import Dense\n",
    "from tensorflow.keras import regularizers\n",
    "from tensorflow.keras import optimizers\n",
    "from keras.callbacks import EarlyStopping\n",
    "from keras.callbacks import ReduceLROnPlateau\n",
    "\n",
    "from keras.models import load_model\n",
    "\n",
    "# Graphs\n",
    "import matplotlib.pyplot as plt\n",
    "import visualkeras\n",
    "\n",
    "import shutil\n",
    "\n",
    "from IPython.display import Image\n",
    "\n",
    "from os import listdir\n",
    "import os.path  \n",
    "\n",
    "import numpy as np\n",
    "\n",
    "import json"
   ]
  },
  {
   "cell_type": "code",
   "execution_count": 5,
   "metadata": {},
   "outputs": [],
   "source": [
    "# Size at which images will be processed\n",
    "img_height = 32\n",
    "img_width = 32\n",
    "\n",
    "batch_size = 128\n",
    "\n",
    "# If activated test the model with original, regularization -/1 and the weights\n",
    "test_dataset = False\n",
    "# If activated test the optimizers\n",
    "test_optimizer = False\n",
    "# If activated test the models\n",
    "test_models = False\n",
    "# If activated test the regularizations and optimizations\n",
    "test_reg = False"
   ]
  },
  {
   "attachments": {},
   "cell_type": "markdown",
   "metadata": {},
   "source": [
    "Load the paths and verify they exist"
   ]
  },
  {
   "cell_type": "code",
   "execution_count": 6,
   "metadata": {
    "colab": {
     "base_uri": "https://localhost:8080/"
    },
    "executionInfo": {
     "elapsed": 37916,
     "status": "ok",
     "timestamp": 1634389685004,
     "user": {
      "displayName": "Brais CB",
      "photoUrl": "https://lh3.googleusercontent.com/a/default-user=s64",
      "userId": "09113625274943472862"
     },
     "user_tz": -120
    },
    "id": "oZSAcVZq5AC9",
    "outputId": "afcc1eaa-4d6f-483e-9022-221f11f9ce2a"
   },
   "outputs": [],
   "source": [
    "# Dataset path\n",
    "PATH = 'datasets/faces/faces_dataset_train/'\n",
    "PATH_TEST = 'datasets/faces/faces_dataset_test/'\n",
    "\n",
    "assert os.path.exists(PATH), 'Verify the above commands'\n",
    "assert os.path.exists(PATH_TEST), 'Verify the above commands'"
   ]
  },
  {
   "cell_type": "code",
   "execution_count": 7,
   "metadata": {},
   "outputs": [],
   "source": [
    "os.environ['KMP_DUPLICATE_LIB_OK'] = 'True'"
   ]
  },
  {
   "attachments": {},
   "cell_type": "markdown",
   "metadata": {},
   "source": [
    "## 2. Dataset\n",
    "\n",
    "In this section we load the dataset for training and validation with the provided functions. </br>\n",
    "The size of the train set is 126865 rows and the training is 1000."
   ]
  },
  {
   "attachments": {},
   "cell_type": "markdown",
   "metadata": {
    "id": "7NjzTnkrzNGs"
   },
   "source": [
    "### Metadata access"
   ]
  },
  {
   "attachments": {},
   "cell_type": "markdown",
   "metadata": {},
   "source": [
    "Load the metadata information"
   ]
  },
  {
   "cell_type": "code",
   "execution_count": 8,
   "metadata": {
    "colab": {
     "base_uri": "https://localhost:8080/"
    },
    "executionInfo": {
     "elapsed": 365,
     "status": "ok",
     "timestamp": 1634389779210,
     "user": {
      "displayName": "Brais CB",
      "photoUrl": "https://lh3.googleusercontent.com/a/default-user=s64",
      "userId": "09113625274943472862"
     },
     "user_tz": -120
    },
    "id": "SciKNCwQzLoy",
    "outputId": "5c45ffef-dae8-427e-baba-d80dec526cf8"
   },
   "outputs": [
    {
     "name": "stdout",
     "output_type": "stream",
     "text": [
      "i07/nm0322407_rm852269056_1955-3-29_2005.jpg ----> {'age': 50, 'gender': 'M'}\n"
     ]
    }
   ],
   "source": [
    "with open(PATH + 'metadata.json') as fIn:\n",
    "    metadata = json.loads(fIn.read())\n",
    "with open(PATH_TEST + 'metadata.json') as fIn:\n",
    "    metadata_test = json.loads(fIn.read())\n",
    "\n",
    "metadata_example_key = next(iter(metadata.keys()))\n",
    "metadata_example_value = metadata[metadata_example_key]\n",
    "\n",
    "print(metadata_example_key, end=' ----> ')\n",
    "print(metadata_example_value)"
   ]
  },
  {
   "attachments": {},
   "cell_type": "markdown",
   "metadata": {
    "id": "7m5BGd5BboRf"
   },
   "source": [
    "### Image reading"
   ]
  },
  {
   "cell_type": "code",
   "execution_count": 9,
   "metadata": {
    "colab": {
     "base_uri": "https://localhost:8080/",
     "height": 1000
    },
    "executionInfo": {
     "elapsed": 5108,
     "status": "ok",
     "timestamp": 1634389786793,
     "user": {
      "displayName": "Brais CB",
      "photoUrl": "https://lh3.googleusercontent.com/a/default-user=s64",
      "userId": "09113625274943472862"
     },
     "user_tz": -120
    },
    "id": "C11_Qk_RWYoz",
    "outputId": "01784739-fad7-45b6-85bd-8573e33156ff"
   },
   "outputs": [
    {
     "name": "stdout",
     "output_type": "stream",
     "text": [
      "*** datasets/faces/faces_dataset_train/i07/nm0322407_rm852269056_1955-3-29_2005.jpg|50|M\n",
      "<TakeDataset element_spec=TensorSpec(shape=(), dtype=tf.string, name=None)>\n",
      "Tensor(\"StringSplit/RaggedGetItem/strided_slice_5:0\", shape=(None,), dtype=string)\n",
      "Tensor(\"StringSplit/RaggedGetItem/strided_slice_5:0\", shape=(None,), dtype=string)\n",
      "Count training images: 126865\n",
      "Count test images: 1000\n",
      "Image shape:  (32, 32, 3)\n",
      "Label:  0\n"
     ]
    },
    {
     "data": {
      "image/png": "[encoded data removed]",
      "text/plain": [
       "<Figure size 640x480 with 1 Axes>"
      ]
     },
     "metadata": {},
     "output_type": "display_data"
    },
    {
     "name": "stdout",
     "output_type": "stream",
     "text": [
      "Image shape:  (32, 32, 3)\n",
      "Label:  1\n"
     ]
    },
    {
     "data": {
      "image/png": "[encoded data removed]",
      "text/plain": [
       "<Figure size 640x480 with 1 Axes>"
      ]
     },
     "metadata": {},
     "output_type": "display_data"
    },
    {
     "name": "stdout",
     "output_type": "stream",
     "text": [
      "Image shape:  (32, 32, 3)\n",
      "Label:  0\n"
     ]
    },
    {
     "data": {
      "image/png": "[encoded data removed]",
      "text/plain": [
       "<Figure size 640x480 with 1 Axes>"
      ]
     },
     "metadata": {},
     "output_type": "display_data"
    },
    {
     "name": "stdout",
     "output_type": "stream",
     "text": [
      "Image shape:  (32, 32, 3)\n",
      "Label:  1\n"
     ]
    },
    {
     "data": {
      "image/png": "[encoded data removed]",
      "text/plain": [
       "<Figure size 640x480 with 1 Axes>"
      ]
     },
     "metadata": {},
     "output_type": "display_data"
    },
    {
     "name": "stdout",
     "output_type": "stream",
     "text": [
      "Image shape:  (32, 32, 3)\n",
      "Label:  0\n"
     ]
    },
    {
     "data": {
      "image/png": "[encoded data removed]",
      "text/plain": [
       "<Figure size 640x480 with 1 Axes>"
      ]
     },
     "metadata": {},
     "output_type": "display_data"
    }
   ],
   "source": [
    "def decode_img(img):\n",
    "    '''Transforms a string that represents the path of an image into a matrix\n",
    "    (img_height, img_width, 3) of uint8 representing the pixel values\n",
    "    '''\n",
    "    # Convert the compressed string to a 3D uint8 tensor\n",
    "    img = tf.io.decode_jpeg(img, channels=3)\n",
    "    # Resize the image to the desired size.\n",
    "    return tf.cast(tf.image.resize(img, [img_height, img_width]),tf.uint8)\n",
    "\n",
    "def process_path(file_path):\n",
    "    '''Transforms strings of the form 'path|age|gender' to tuples (image, label)\n",
    "    '''\n",
    "    parts = tf.strings.split(file_path, '|')\n",
    "    print(parts)\n",
    "    gender = tf.cast(0 if parts[2] == 'M' else 1, tf.dtypes.int32)\n",
    "    # Load the raw data from the file as a string\n",
    "    img = tf.io.read_file(parts[0])\n",
    "    img = decode_img(img)\n",
    "    return img, gender\n",
    "\n",
    "def format_metadata(m, path):\n",
    "    '''Transforms the metadata dictionary m into a list of strings of the form 'path to the image|age|gender'.\n",
    "    '''\n",
    "    return list(map(lambda x: '{0}{1}|{2}|{3}'.format(path,x,m[x]['age'],m[x]['gender']),m.keys()))\n",
    "\n",
    "# We build a dataset of text strings from the metadata\n",
    "train_metadata = format_metadata(metadata, PATH)\n",
    "print(\"***\",train_metadata[0])\n",
    "\n",
    "train_ds = tf.data.Dataset.from_tensor_slices(train_metadata)\n",
    "print(train_ds.take(1))\n",
    "\n",
    "# Mapping to an image dataset with tags\n",
    "train_ds = train_ds.shuffle(len(train_ds)).map(process_path)\n",
    "# Same process for test\n",
    "test_ds = tf.data.Dataset.from_tensor_slices(format_metadata(metadata_test, PATH_TEST))\n",
    "test_ds = test_ds.map(process_path)\n",
    "\n",
    "print(\"Count training images:\", len(train_ds))\n",
    "print(\"Count test images:\",len(test_ds))\n",
    "\n",
    "# Checking\n",
    "for image, label in train_ds.take(5):\n",
    "    print(\"Image shape: \", image.numpy().shape)\n",
    "    print(\"Label: \", label.numpy())\n",
    "    plt.imshow(image.numpy())\n",
    "    plt.show()"
   ]
  },
  {
   "cell_type": "code",
   "execution_count": 10,
   "metadata": {
    "colab": {
     "base_uri": "https://localhost:8080/"
    },
    "executionInfo": {
     "elapsed": 301,
     "status": "ok",
     "timestamp": 1634389799360,
     "user": {
      "displayName": "Brais CB",
      "photoUrl": "https://lh3.googleusercontent.com/a/default-user=s64",
      "userId": "09113625274943472862"
     },
     "user_tz": -120
    },
    "id": "hYx17xd8jDp-",
    "outputId": "e57f508a-1d20-42ff-9555-2b27841dcd3a"
   },
   "outputs": [
    {
     "name": "stdout",
     "output_type": "stream",
     "text": [
      "datasets/faces/faces_dataset_train/i07/nm0322407_rm852269056_1955-3-29_2005.jpg|50|M\n",
      "datasets/faces/faces_dataset_train/i47/nm0716347_rm278112000_1970-9-29_2013.jpg|43|M\n"
     ]
    }
   ],
   "source": [
    "ds_train_transform = train_ds\n",
    "ds_test_transform = test_ds\n",
    "print(train_metadata[0])\n",
    "print(train_metadata[1])"
   ]
  },
  {
   "attachments": {},
   "cell_type": "markdown",
   "metadata": {},
   "source": [
    "### Dataset generation"
   ]
  },
  {
   "attachments": {},
   "cell_type": "markdown",
   "metadata": {},
   "source": [
    "**Data normalization**\n",
    "\n",
    "The inputs for our models are pixels values ranging between 0 and 255 so normalizing them will be useful to help the model with the learning process. For that we can choose to normalize our input to values between -1 and 1 or between 0 and 1. </br>\n",
    "For [-1,1] we need to divide the values by 255/2 to rescale in range [0,2] and then to subtract 1 from both sides. </br>\n",
    "For [0,1] we just need to divide by 255. </br>\n",
    "Both normalization will make it easier for the network to learn the features of the images but normalizing to [-1,1] will be better it helps more with model convergence and improves the stability of the training process."
   ]
  },
  {
   "cell_type": "code",
   "execution_count": 11,
   "metadata": {
    "executionInfo": {
     "elapsed": 355,
     "status": "ok",
     "timestamp": 1634389801084,
     "user": {
      "displayName": "Brais CB",
      "photoUrl": "https://lh3.googleusercontent.com/a/default-user=s64",
      "userId": "09113625274943472862"
     },
     "user_tz": -120
    },
    "id": "EtsmgEMAil8H"
   },
   "outputs": [],
   "source": [
    "# OPTIONAL: rescaling input to [-1, 1]\n",
    "ds_train_transform_rs11 = ds_train_transform.map(lambda image, label: (tf.cast(image, tf.float32)/127.5 - 1., label))\n",
    "ds_test_transform_rs11 = ds_test_transform.map(lambda image, label: (tf.cast(image, tf.float32)/127.5 - 1., label))"
   ]
  },
  {
   "cell_type": "code",
   "execution_count": 12,
   "metadata": {},
   "outputs": [],
   "source": [
    "# OPTIONAL: rescaling input to [0, 1]\n",
    "ds_train_transform_rs01 = ds_train_transform.map(lambda image, label: (tf.cast(image, tf.float32)/255, label))\n",
    "ds_test_transform_rs01 = ds_test_transform.map(lambda image, label: (tf.cast(image, tf.float32)/255, label))"
   ]
  },
  {
   "attachments": {},
   "cell_type": "markdown",
   "metadata": {},
   "source": [
    "**Data balance**\n",
    "\n",
    "As the dataset is a little imbalance (74253 men and 52612 women), a weight strategy could be a good idea. This will assign more weight to the class with less instances so the model will learn with the same influence for both classes."
   ]
  },
  {
   "cell_type": "code",
   "execution_count": 13,
   "metadata": {
    "colab": {
     "base_uri": "https://localhost:8080/"
    },
    "executionInfo": {
     "elapsed": 494,
     "status": "ok",
     "timestamp": 1634389803673,
     "user": {
      "displayName": "Brais CB",
      "photoUrl": "https://lh3.googleusercontent.com/a/default-user=s64",
      "userId": "09113625274943472862"
     },
     "user_tz": -120
    },
    "id": "lgiNRV9MhIPQ",
    "outputId": "4c1681a8-52ad-46f2-c9ef-750ccf66d5b0"
   },
   "outputs": [
    {
     "name": "stdout",
     "output_type": "stream",
     "text": [
      "tf.Tensor([0.8294171 1.1705829], shape=(2,), dtype=float64)\n"
     ]
    }
   ],
   "source": [
    "# OPTIONAL: sample gender weights\n",
    "labels = [0 if x.split('|')[2] == 'M' else 1 for x in train_metadata]\n",
    "freqs = np.array([1. - np.mean(labels), np.mean(labels)])\n",
    "i_freqs = 1. / freqs\n",
    "sample_weights = tf.convert_to_tensor(len(i_freqs) * i_freqs / i_freqs.sum())\n",
    "# Sample gender weights (there are 74253 men and 52612 women in the dataset)\n",
    "print(sample_weights)\n",
    "ds_train_transform_we = ds_train_transform.map(lambda image, label: (image, label, sample_weights[label]))\n",
    "ds_test_transform_we = ds_test_transform.map(lambda image, label: (image, label, sample_weights[label]))"
   ]
  },
  {
   "cell_type": "code",
   "execution_count": 14,
   "metadata": {},
   "outputs": [],
   "source": [
    "# Combination of rescaling and weights\n",
    "ds_train_transform_rs11_we = ds_train_transform_rs11.map(lambda image, label: (image, label, sample_weights[label]))\n",
    "ds_test_transform_rs11_we = ds_test_transform_rs11.map(lambda image, label: (image, label, sample_weights[label]))\n",
    "\n",
    "ds_train_transform_rs01_we = ds_train_transform_rs01.map(lambda image, label: (image, label, sample_weights[label]))\n",
    "ds_test_transform_rs01_we = ds_test_transform_rs01.map(lambda image, label: (image, label, sample_weights[label]))"
   ]
  },
  {
   "attachments": {},
   "cell_type": "markdown",
   "metadata": {},
   "source": [
    "Finally we create batch for all the datasets to be used in testing."
   ]
  },
  {
   "cell_type": "code",
   "execution_count": 15,
   "metadata": {
    "executionInfo": {
     "elapsed": 411,
     "status": "ok",
     "timestamp": 1634389806027,
     "user": {
      "displayName": "Brais CB",
      "photoUrl": "https://lh3.googleusercontent.com/a/default-user=s64",
      "userId": "09113625274943472862"
     },
     "user_tz": -120
    },
    "id": "x0vHwUzTAjJ9"
   },
   "outputs": [],
   "source": [
    "ds_train_batch_or = ds_train_transform.batch(batch_size)\n",
    "ds_test_batch_or = ds_test_transform.batch(batch_size)\n",
    "\n",
    "ds_train_batch_rs11 = ds_train_transform_rs11.batch(batch_size)\n",
    "ds_test_batch_rs11 = ds_test_transform_rs11.batch(batch_size)\n",
    "\n",
    "ds_train_batch_rs01 = ds_train_transform_rs01.batch(batch_size)\n",
    "ds_test_batch_rs01 = ds_test_transform_rs01.batch(batch_size)\n",
    "\n",
    "ds_train_batch_we = ds_train_transform_we.batch(batch_size)\n",
    "ds_test_batch_we = ds_test_transform_we.batch(batch_size)\n",
    "\n",
    "ds_train_batch_rs11_we = ds_train_transform_rs11_we.batch(batch_size)\n",
    "ds_test_batch_rs11_we = ds_test_transform_rs11_we.batch(batch_size)\n",
    "\n",
    "ds_train_batch_rs01_we = ds_train_transform_rs01_we.batch(batch_size)\n",
    "ds_test_batch_rs01_we = ds_test_transform_rs01_we.batch(batch_size)"
   ]
  },
  {
   "attachments": {},
   "cell_type": "markdown",
   "metadata": {},
   "source": [
    "## 3. TESTING\n",
    "\n",
    "In this section we experiment with different datasets, optimizers, models, hyperparameters and regularization to define our final model. Each sub section can be enable/disable from the configuration section. Dataset and optimizer selection where only run once, but model, regularization and optimization and fine tunning section where ran iteratively to experiment with different models and parameters.\n",
    "\n",
    "We do not use GridSearch or RandomSearch methods because the time it takes to run only one test is large enough. Using this kind of testing takes hours or in some of our tests, exhaust the resources of our computers."
   ]
  },
  {
   "attachments": {},
   "cell_type": "markdown",
   "metadata": {},
   "source": [
    "### Supplementary functions and default configuration\n",
    "Supplementary functions to plot the data and return some predefined models.\n",
    "Default defined optimizers and datasets."
   ]
  },
  {
   "cell_type": "code",
   "execution_count": 16,
   "metadata": {},
   "outputs": [],
   "source": [
    "# Function to print the results of the training\n",
    "def print_plot(name, history):\n",
    "    # summarize history for train accuracy\n",
    "    fig, axs = plt.subplots(1,2)\n",
    "    fig.suptitle(name + ' - Training and validation')\n",
    "    fig.set_figwidth(10)\n",
    "    axs[0].plot(history.history['loss'])\n",
    "    axs[0].plot(history.history['val_loss'])\n",
    "    axs[0].set_title('Loss')\n",
    "    axs[0].set_xlabel('Epochs')\n",
    "    axs[0].legend(['Loss', 'Val_loss'])\n",
    "    axs[0].set_ylim([0, 0.7])\n",
    "    axs[1].plot(history.history['accuracy'])\n",
    "    axs[1].plot(history.history['val_accuracy'])\n",
    "    axs[1].set_title('Accuracy')\n",
    "    axs[1].set_xlabel('Epochs')\n",
    "    axs[1].legend(['Accuracy', 'Val_accuracy'])\n",
    "    axs[1].set_ylim([0.5, 1])\n",
    "    plt.savefig('images/' + name + '.png')\n",
    "    plt.show()"
   ]
  },
  {
   "cell_type": "code",
   "execution_count": 17,
   "metadata": {},
   "outputs": [],
   "source": [
    "# Function to get the basic model\n",
    "def get_simple_model():\n",
    "    inputs = keras.Input(shape=(img_height, img_width, 3))\n",
    "    x = layers.Conv2D(filters=32, kernel_size=3, activation=\"relu\")(inputs)\n",
    "    x = layers.MaxPooling2D(pool_size=2)(x)\n",
    "    x = layers.Conv2D(filters=32, kernel_size=3, activation=\"relu\")(x)\n",
    "    x = layers.MaxPooling2D(pool_size=2)(x)\n",
    "    x = layers.Conv2D(filters=64, kernel_size=3, activation=\"relu\")(x)\n",
    "    x = layers.MaxPooling2D(pool_size=2)(x)\n",
    "    x = layers.Flatten()(x)\n",
    "    outputs = layers.Dense(1, activation=\"sigmoid\")(x)\n",
    "\n",
    "    return keras.Model(inputs=inputs, outputs=outputs)"
   ]
  },
  {
   "cell_type": "code",
   "execution_count": 18,
   "metadata": {},
   "outputs": [],
   "source": [
    "# Function to get the best model from the test section\n",
    "def get_best_test_model():\n",
    "    inputs = keras.Input(shape=(img_height, img_width, 3))\n",
    "    x = layers.Conv2D(filters=32, kernel_size=5, activation=\"relu\")(inputs)\n",
    "    x = layers.MaxPooling2D(pool_size=2)(x)\n",
    "    x = layers.Conv2D(filters=64, kernel_size=3, activation=\"relu\")(x)\n",
    "    x = layers.MaxPooling2D(pool_size=2)(x)\n",
    "    x = layers.Conv2D(filters=128, kernel_size=3, activation=\"relu\")(x)\n",
    "    x = layers.MaxPooling2D(pool_size=2)(x)\n",
    "    x = layers.Flatten()(x)\n",
    "    x = layers.Dense(64, activation=\"relu\")(x)\n",
    "    outputs = layers.Dense(1, activation=\"sigmoid\")(x)\n",
    "\n",
    "    return keras.Model(inputs=inputs, outputs=outputs)"
   ]
  },
  {
   "cell_type": "code",
   "execution_count": 19,
   "metadata": {},
   "outputs": [],
   "source": [
    "# Function to get the best model from the regularization section\n",
    "def get_best_reg_model():\n",
    "    inputs = keras.Input(shape=(img_height, img_width, 3))\n",
    "    x = layers.Conv2D(filters=32, kernel_size=5, activation=\"relu\", kernel_regularizer=regularizers.l2(0.001))(inputs)\n",
    "    x = layers.Dropout(0.5)(x)\n",
    "    x = layers.MaxPooling2D(pool_size=2)(x)\n",
    "    x = layers.Conv2D(filters=64, kernel_size=3, activation=\"relu\", kernel_regularizer=regularizers.l2(0.001))(x)\n",
    "    x = layers.Dropout(0.5)(x)\n",
    "    x = layers.MaxPooling2D(pool_size=2)(x)\n",
    "    x = layers.Conv2D(filters=128, kernel_size=3, activation=\"relu\", kernel_regularizer=regularizers.l2(0.001))(x)\n",
    "    x = layers.Dropout(0.5)(x)\n",
    "    x = layers.MaxPooling2D(pool_size=2)(x)\n",
    "    x = layers.Flatten()(x)\n",
    "    x = layers.Dense(64, activation=\"relu\")(x)\n",
    "    outputs = layers.Dense(1, activation=\"sigmoid\")(x)\n",
    "\n",
    "    return keras.Model(inputs=inputs, outputs=outputs)"
   ]
  },
  {
   "cell_type": "code",
   "execution_count": 20,
   "metadata": {},
   "outputs": [],
   "source": [
    "# Function to get the callbacks for the test of the models\n",
    "def get_callbacks(name):\n",
    "    # This is to save computational power as a 15 epoch value without improvement we know is not going to get better\n",
    "    return [EarlyStopping(monitor='val_loss', patience=15, verbose=1),\n",
    "            # Save only the best model\n",
    "            keras.callbacks.ModelCheckpoint(filepath=\"models/\" + name + \".keras\",save_best_only=True,monitor=\"val_loss\", verbose=1)\n",
    "            ]"
   ]
  },
  {
   "cell_type": "code",
   "execution_count": 21,
   "metadata": {},
   "outputs": [],
   "source": [
    "# Function to get the callbacks for the test of the models\n",
    "def get_full_callbacks(name):\n",
    "    # This is to save computational power as a 15 epoch value without improvement we know is not going to get better\n",
    "    return [EarlyStopping(monitor='val_loss', patience=15, verbose=1),\n",
    "            # Save only the best model\n",
    "            keras.callbacks.ModelCheckpoint(filepath=\"models/\" + name + \".keras\",save_best_only=True,monitor=\"val_loss\", verbose=1),\n",
    "            ReduceLROnPlateau(monitor='val_loss', factor=0.1, patience=8, min_lr=0.00000001, cooldown=2, verbose=1)\n",
    "            ]"
   ]
  },
  {
   "cell_type": "code",
   "execution_count": 22,
   "metadata": {},
   "outputs": [],
   "source": [
    "# Get the default optimizer\n",
    "def get_optimizer():\n",
    "    return optimizers.Adamax(learning_rate=0.001)"
   ]
  },
  {
   "cell_type": "code",
   "execution_count": 23,
   "metadata": {},
   "outputs": [],
   "source": [
    "# Assign the default dataset\n",
    "ds_train_batch = ds_train_batch_rs11_we\n",
    "ds_test_batch = ds_test_batch_rs11_we\n",
    "\n",
    "# Create call back to use later\n",
    "# If 20 epochs without improvement in the loss, stop the training\n",
    "# This is to save computational power as a 20 epoch value without improvement we know is not going to get better\n",
    "late_stop = EarlyStopping(monitor='val_loss', patience=20, verbose=1)\n",
    "# Reduce the learning rate if we reach a point that the validation loss does not improve more\n",
    "reduce_lr = ReduceLROnPlateau(monitor='val_loss', factor=0.1, patience=8, min_lr=0.000001, cooldown=2, verbose=1)"
   ]
  },
  {
   "attachments": {},
   "cell_type": "markdown",
   "metadata": {},
   "source": [
    "### Dataset selection\n",
    "\n",
    "In this sub section we determinate which dataset to use. "
   ]
  },
  {
   "cell_type": "code",
   "execution_count": 24,
   "metadata": {},
   "outputs": [],
   "source": [
    "if test_dataset == True:\n",
    "    test_history= []\n",
    "    ds_names = [\"original\",\"rescaling [-1,1]\",\"rescaling [0,1]\",\"weights\",\"rescaling [-1,1] weights\",\"rescaling [0,1] weights\"]\n",
    "    ds_train_values= [ds_train_batch_or, ds_train_batch_rs11, ds_train_batch_rs01, ds_train_batch_we, ds_train_batch_rs11_we, ds_train_batch_rs01_we]\n",
    "    ds_test_values= [ds_test_batch_or, ds_test_batch_rs11, ds_test_batch_rs01, ds_test_batch_we, ds_test_batch_rs11_we, ds_test_batch_rs01_we]"
   ]
  },
  {
   "cell_type": "code",
   "execution_count": 25,
   "metadata": {},
   "outputs": [],
   "source": [
    "if test_dataset == True:\n",
    "    for i in range(0,len(ds_names)):\n",
    "        model = get_simple_model()\n",
    "\n",
    "        # Weigthed metrics for weight datasets\n",
    "        if (ds_names[i].__contains__(\"weight\")):\n",
    "            model.compile(optimizer=get_optimizer(),loss=\"binary_crossentropy\", weighted_metrics=[\"accuracy\"])\n",
    "        else:\n",
    "            model.compile(optimizer=get_optimizer(),loss=\"binary_crossentropy\", metrics=[\"accuracy\"])\n",
    "\n",
    "        print(\"Testing dataset:\",ds_names[i])\n",
    "        test_history.append(model.fit(ds_train_values[i], epochs=30, validation_data=ds_test_values[i], callbacks=[late_stop]))"
   ]
  },
  {
   "cell_type": "code",
   "execution_count": 26,
   "metadata": {},
   "outputs": [],
   "source": [
    "# Show the results of the test\n",
    "if test_dataset == True:\n",
    "    for i in range(0,len(ds_names)):\n",
    "        print(ds_names[i],\" - Acc:\",max(test_history[i].history['val_accuracy']))\n",
    "        print_plot(ds_names[i], test_history[i])"
   ]
  },
  {
   "attachments": {},
   "cell_type": "markdown",
   "metadata": {},
   "source": [
    "As no abnormalities have been detected in the comparison of the datasets (all ranges between 83 and 87 of validation accuracy with similar graphs), we can use the previously select dataset with the combination of [-1, 1] rescaling and weighting. \n",
    "\n",
    "For future executions of the notebook, we use the variable test_dataset in false to not repeat this test."
   ]
  },
  {
   "attachments": {},
   "cell_type": "markdown",
   "metadata": {},
   "source": [
    "### Optimizer selection\n",
    "\n",
    "In this sub section we determinate which optimizer to use. "
   ]
  },
  {
   "cell_type": "code",
   "execution_count": 27,
   "metadata": {},
   "outputs": [],
   "source": [
    "if test_optimizer == True:\n",
    "    opt_names = [\"RMSprop\",\"adam\",\"Adamax\",\"SGD\"]\n",
    "    opt_values = [optimizers.RMSprop(learning_rate=0.001),optimizers.Adam(learning_rate=0.001), optimizers.Adamax(learning_rate=0.001),optimizers.SGD(learning_rate=0.01)]\n",
    "    test_history= []"
   ]
  },
  {
   "cell_type": "code",
   "execution_count": 28,
   "metadata": {},
   "outputs": [],
   "source": [
    "if test_optimizer == True:\n",
    "    for i in range(0,len(opt_names)):\n",
    "        model = get_simple_model()\n",
    "\n",
    "        model.compile(optimizer=opt_values[i],loss=\"binary_crossentropy\", weighted_metrics=[\"accuracy\"])\n",
    "        print(\"Testing optimizer:\",opt_names[i])\n",
    "        # No batch size because we did it before\n",
    "        test_history.append(model.fit(ds_train_batch, epochs=50, validation_data=ds_test_batch, callbacks=[late_stop, reduce_lr]))"
   ]
  },
  {
   "cell_type": "code",
   "execution_count": 29,
   "metadata": {},
   "outputs": [],
   "source": [
    "if test_optimizer == True:\n",
    "    for i in range(0,len(opt_names)):\n",
    "        print(opt_names[i], \" - Acc:\", max(test_history[i].history['val_accuracy']))\n",
    "        print_plot(opt_names[i], test_history[i])"
   ]
  },
  {
   "attachments": {},
   "cell_type": "markdown",
   "metadata": {},
   "source": [
    "In the case of RMSProp and adam, the validation loss stops improving after the first five epochs, making them very fast to converge, and in the case of SGD it takes more than 20 epochs. On the other hand, for adamax we get ten epochs before the validation loss start increasing, making it the more stable optimizer for this particular implementation.\n",
    "\n",
    "For future executions of the notebook, we use the variable test_optimizer in false to not repeat this test."
   ]
  },
  {
   "attachments": {},
   "cell_type": "markdown",
   "metadata": {},
   "source": [
    "### Model selection\n",
    "\n",
    "In this section we do testing of different model structures and hyperparameters to reach our final model."
   ]
  },
  {
   "attachments": {},
   "cell_type": "markdown",
   "metadata": {},
   "source": [
    "We save the best model to have them as history of execution but when we are not going to use them when why apply regularization. For now we just want to know what is the better structure to use it in our get_best_model function.\n",
    "\n",
    "To train our models, we active the ModelCheckpoint callback, which will save in disk only the model when it has the best weights. To do this, it evaluates the validation loss and only save the model when it improves (in our case, when it have the less value in the binary crossentropy metric). We decide to use the validation accuracy of this instance instead of the best validation accuracy of the model to compare, as it will be the real accuracy given when the model stops learning instead of other accuracies given by epochs with a higher loss.\n",
    "\n",
    "This was the result of the execution before disabling the section to move on with regularization (images and models available in complementary folders). The epoch and the model accuracy are taken when the model has the lower loss, while best accuracy is the higher value of validation accuracy without taking into account the validation loss value:\n",
    "\n",
    "Model: Test_Simple_Model - Epoch: 13 - Model accuracy: 0.8666162490844727 - Best accuracy: 0.8710255026817322 </br>\n",
    "Model: Test_Max_pool - Epoch: 8 - Model accuracy: 0.8548726439476013 - Best accuracy: 0.8555405139923096 </br>\n",
    "Model: Test_extra_layer - Epoch: 9 - Model accuracy: 0.852819561958313 - Best accuracy: 0.8623058199882507 </br>\n",
    "Model: Test_fully_conected - Epoch: 12 - Model accuracy: 0.8531782031059265 - Best accuracy: 0.8598445653915405 </br>\n",
    "Model: Test_average_pool - Epoch: 56 - Model accuracy: 0.8621711012840271 - Best accuracy: 0.8649711012840271 </br>\n",
    "Model: Test_strides - Epoch: 18 - Model accuracy: 0.8524609208106995 - Best accuracy: 0.8592818379402161 </br>\n",
    "Model: Test_padding - Epoch: 11 - Model accuracy: 0.8649217486381531 - Best accuracy: 0.8649217486381531 </br>\n",
    "Model: Test_residual - Epoch: 8 - Model accuracy: 0.8660535216331482 - Best accuracy: 0.8660535216331482 </br>\n",
    "Model: Test_extra_layer_max - Epoch: 4 - Model accuracy: 0.8630790114402771 - Best accuracy: 0.8691762685775757 </br>\n",
    "Model: Test_extra_layer_strides - Epoch: 7 - Model accuracy: 0.8573338985443115 - Best accuracy: 0.8613845109939575 </br>\n",
    "Model: Test_wide - Epoch: 35 - Model accuracy: 0.8628191351890564 - Best accuracy: 0.8643589019775391 </br>\n",
    "Model: Test_fully_conected_v2 - Epoch: 6 - Model accuracy: 0.8592818379402161 - Best accuracy: 0.8650268912315369 </br>"
   ]
  },
  {
   "attachments": {},
   "cell_type": "markdown",
   "metadata": {},
   "source": [
    "Simple model to use for comparison with different architectures"
   ]
  },
  {
   "cell_type": "code",
   "execution_count": 30,
   "metadata": {},
   "outputs": [],
   "source": [
    "if test_models == True:\n",
    "    test_model = get_simple_model()\n",
    "    names = [\"Test_Simple_Model\"]\n",
    "    models = [test_model]\n",
    "    test_history = []\n",
    "    best_acc = []"
   ]
  },
  {
   "attachments": {},
   "cell_type": "markdown",
   "metadata": {},
   "source": [
    "*-Test of max pooling for the three layers:* <br> Maxpooling is not always necessary after each convolution, that's why we are going to try with just one maxpool layer after all the convolution layers, with this we can save some computaional time. The model was overfitting after some epochs."
   ]
  },
  {
   "cell_type": "code",
   "execution_count": 31,
   "metadata": {},
   "outputs": [],
   "source": [
    "if test_models == True:\n",
    "    names.append(\"Test_Max_pool\")\n",
    "    inputs = keras.Input(shape=(img_height, img_width, 3))\n",
    "    x = layers.Conv2D(filters=32, kernel_size=3, activation=\"relu\")(inputs)\n",
    "    x = layers.Conv2D(filters=32, kernel_size=3, activation=\"relu\")(x)\n",
    "    x = layers.Conv2D(filters=64, kernel_size=3, activation=\"relu\")(x)\n",
    "    x = layers.MaxPooling2D(pool_size=2)(x)\n",
    "    x = layers.Flatten()(x)\n",
    "    outputs = layers.Dense(1, activation=\"sigmoid\")(x)\n",
    "\n",
    "    test_model = keras.Model(inputs=inputs, outputs=outputs)\n",
    "    models.append(test_model)\n",
    "    test_model.summary()"
   ]
  },
  {
   "attachments": {},
   "cell_type": "markdown",
   "metadata": {},
   "source": [
    "![Test_Max_pool training and validation](images/gender/Models/Test_Max_pool.png)"
   ]
  },
  {
   "attachments": {},
   "cell_type": "markdown",
   "metadata": {},
   "source": [
    "*-Add extra layer and change the size of the first kernel:* <br>\n",
    "Larger kernel sizes are better in detecting large features, we tried this just to show that a large convolutional kernel will not result in a better performance as our problem is detecting the gender from faces which needs a small kernel size for detecting better the faces features."
   ]
  },
  {
   "cell_type": "code",
   "execution_count": 32,
   "metadata": {},
   "outputs": [],
   "source": [
    "if test_models == True:\n",
    "    names.append(\"Test_extra_layer\")\n",
    "    inputs = keras.Input(shape=(img_height, img_width, 3))\n",
    "    x = layers.Conv2D(filters=32, kernel_size=5, activation=\"relu\")(inputs)\n",
    "    x = layers.MaxPooling2D(pool_size=2)(x)\n",
    "    x = layers.Conv2D(filters=32, kernel_size=3, activation=\"relu\")(x)\n",
    "    x = layers.MaxPooling2D(pool_size=2)(x)\n",
    "    x = layers.Conv2D(filters=64, kernel_size=3, activation=\"relu\")(x)\n",
    "    x = layers.Conv2D(filters=64, kernel_size=3, activation=\"relu\")(x)\n",
    "    x = layers.MaxPooling2D(pool_size=2)(x)\n",
    "    x = layers.Flatten()(x)\n",
    "    outputs = layers.Dense(1, activation=\"sigmoid\")(x)\n",
    "\n",
    "    test_model = keras.Model(inputs=inputs, outputs=outputs)\n",
    "    models.append(test_model)\n",
    "    test_model.summary()"
   ]
  },
  {
   "attachments": {},
   "cell_type": "markdown",
   "metadata": {},
   "source": [
    "![Test_extra_layer training and validation](images/gender/Models/Test_extra_layer.png)"
   ]
  },
  {
   "attachments": {},
   "cell_type": "markdown",
   "metadata": {},
   "source": [
    "*-Add fully conected layer:* <br> \n",
    "As we said before adding a fully connected layer before the classifier will help the model to learn the complex patterns extracted from all the convolutions. It's preferable that the number of hidden layers is lower than the number of outputs from the previous layer. As an activation function we will use relu because it will allow the model learn non-linear relationship between the extracted features and the target class."
   ]
  },
  {
   "cell_type": "code",
   "execution_count": 33,
   "metadata": {},
   "outputs": [],
   "source": [
    "if test_models == True:\n",
    "    names.append(\"Test_fully_conected\")\n",
    "    inputs = keras.Input(shape=(img_height, img_width, 3))\n",
    "    x = layers.Conv2D(filters=32, kernel_size=5, activation=\"relu\")(inputs)\n",
    "    x = layers.MaxPooling2D(pool_size=2)(x)\n",
    "    x = layers.Conv2D(filters=32, kernel_size=3, activation=\"relu\")(x)\n",
    "    x = layers.MaxPooling2D(pool_size=2)(x)\n",
    "    x = layers.Conv2D(filters=64, kernel_size=3, activation=\"relu\")(x)\n",
    "    x = layers.MaxPooling2D(pool_size=2)(x)\n",
    "    x = layers.Flatten()(x)\n",
    "    x = layers.Dense(64, activation=\"relu\")(x)\n",
    "    outputs = layers.Dense(1, activation=\"sigmoid\")(x)\n",
    "\n",
    "    test_model = keras.Model(inputs=inputs, outputs=outputs)\n",
    "    models.append(test_model)\n",
    "    test_model.summary()"
   ]
  },
  {
   "attachments": {},
   "cell_type": "markdown",
   "metadata": {},
   "source": [
    "![Test_fully_connected training and validation](images/gender/Models/Test_fully_conected.png)"
   ]
  },
  {
   "attachments": {},
   "cell_type": "markdown",
   "metadata": {},
   "source": [
    "*-Test with average instead of maxpooling:* <br>\n",
    "The difference between average pooling and maxpooling is that it applies the pooling operation over the entire feature map, not just over a local region like in maxpooling. In our case of gender classification using faces, the features learned by the convolutions are distributed over all the feature map, instead of being concentrated in specific locations. That's why we will try global average pooling after the last convolutional layer to allow the model to capture these global patterns by computing the average of each feature map."
   ]
  },
  {
   "cell_type": "code",
   "execution_count": 34,
   "metadata": {},
   "outputs": [],
   "source": [
    "if test_models == True:\n",
    "    names.append(\"Test_average_pool\")\n",
    "    inputs = keras.Input(shape=(img_height, img_width, 3))\n",
    "    x = layers.Conv2D(filters=32, kernel_size=5, activation=\"relu\")(inputs)\n",
    "    x = layers.MaxPooling2D(pool_size=2)(x)\n",
    "    x = layers.Conv2D(filters=32, kernel_size=3, activation=\"relu\")(x)\n",
    "    x = layers.Conv2D(filters=64, kernel_size=3, activation=\"relu\")(x)\n",
    "    x = layers.GlobalAveragePooling2D()(x)\n",
    "    x = layers.Flatten()(x)\n",
    "    x = layers.Dense(64, activation=\"relu\")(x)\n",
    "    outputs = layers.Dense(1, activation=\"sigmoid\")(x)\n",
    "\n",
    "    test_model = keras.Model(inputs=inputs, outputs=outputs)\n",
    "    models.append(test_model)\n",
    "    test_model.summary()"
   ]
  },
  {
   "attachments": {},
   "cell_type": "markdown",
   "metadata": {},
   "source": [
    "![Test_extra_layer training and validation](images/gender/Models/Test_average_pool.png)"
   ]
  },
  {
   "attachments": {},
   "cell_type": "markdown",
   "metadata": {},
   "source": [
    "*-Test with strides and without max pooling:* <br>\n",
    "Instead of maxpooling with pool_size=2 we can change the stride hyperparameter of the convolutional layer to 2, and that will save us more computation time because the downsampling of the image will be done while the convolution is performed. \n",
    "So both techniques will result in downsampling the image, the only difference is that conv with stride=2 we will produce a reduced feature map while maxpooling will be performed after the convolution in order to preserve the most important features while reducing the dimensions."
   ]
  },
  {
   "cell_type": "code",
   "execution_count": 35,
   "metadata": {},
   "outputs": [],
   "source": [
    "if test_models == True:\n",
    "    names.append(\"Test_strides\")\n",
    "    inputs = keras.Input(shape=(img_height, img_width, 3))\n",
    "    x = layers.Conv2D(filters=32, kernel_size=3, activation=\"relu\")(inputs)\n",
    "    x = layers.Conv2D(filters=32, kernel_size=3, activation=\"relu\",strides=(2, 2))(x)\n",
    "    x = layers.Conv2D(filters=64, kernel_size=3, activation=\"relu\",strides=(2, 2))(x)\n",
    "    x = layers.Flatten()(x)\n",
    "    outputs = layers.Dense(1, activation=\"sigmoid\")(x)\n",
    "    test_model = keras.Model(inputs=inputs, outputs=outputs)\n",
    "    models.append(test_model)\n",
    "    test_model.summary()\n",
    "    \n"
   ]
  },
  {
   "attachments": {},
   "cell_type": "markdown",
   "metadata": {},
   "source": [
    "![Test_extra_layer training and validation](images/gender/Models/Test_strides.png)"
   ]
  },
  {
   "attachments": {},
   "cell_type": "markdown",
   "metadata": {},
   "source": [
    "*-Changing padding:* <br>\n",
    "In the convolutional layer there is a hyperparameter called padding, by default padding=’valid’. In this case the kernel will start passing over the image like a sliding window without extending beyond the boundaries of the input image.\n",
    "The output of the convolution will be the image reduced since the filter can’t be centered on the pixels along the edges of the input image.\n",
    "Therefore we can lose some information at the edges, but mostly our images contain faces which are centered in the images and those edges will not contribute too much in helping the model classify because the most important features are in the center. That’s why for the first convolution layer we will keep the padding=’valid’, but for the next ones we will try changing padding=’same’ where the input is padded with zeros in a way that the output feature map has the same spatial dimensions as the input image. In that case we will avoid losing important features."
   ]
  },
  {
   "cell_type": "code",
   "execution_count": 36,
   "metadata": {},
   "outputs": [],
   "source": [
    "if test_models == True:\n",
    "    names.append(\"Test_padding\")\n",
    "    inputs = keras.Input(shape=(img_height, img_width, 3))\n",
    "    x = layers.Conv2D(filters=32, kernel_size=3, activation=\"relu\")(inputs)\n",
    "    x = layers.MaxPooling2D(pool_size=2)(x)\n",
    "    x = layers.Conv2D(filters=32, kernel_size=3, activation=\"relu\", padding='same')(x)\n",
    "    x = layers.MaxPooling2D(pool_size=2)(x)\n",
    "    x = layers.Conv2D(filters=64, kernel_size=3, activation=\"relu\",  padding='same')(x)\n",
    "    x = layers.MaxPooling2D(pool_size=2)(x)\n",
    "    x = layers.Flatten()(x)\n",
    "    x= layers.Dense(128, activation=\"relu\")(x)\n",
    "    outputs = layers.Dense(1, activation=\"sigmoid\")(x)\n",
    "    test_model = keras.Model(inputs=inputs, outputs=outputs)\n",
    "    models.append(test_model)\n",
    "    test_model.summary()"
   ]
  },
  {
   "attachments": {},
   "cell_type": "markdown",
   "metadata": {},
   "source": [
    "![Test_extra_layer training and validation](images/gender/Models/Test_padding.png)"
   ]
  },
  {
   "attachments": {},
   "cell_type": "markdown",
   "metadata": {},
   "source": [
    "*-Test with residual network:*<br>\n",
    "It's a technique that can help improve the model's learning performance and make the convergence faster. The results weren't good and the model was overfitting."
   ]
  },
  {
   "cell_type": "code",
   "execution_count": 37,
   "metadata": {},
   "outputs": [],
   "source": [
    "if test_models == True:\n",
    "    names.append(\"Test_residual\")\n",
    "    inputs = keras.Input(shape=(img_height, img_width, 3))\n",
    "    x = layers.Conv2D(filters=32, kernel_size=3, activation=\"relu\", padding='same')(inputs)\n",
    "    residual = x\n",
    "    x = layers.Conv2D(filters=32, kernel_size=3, activation=\"relu\")(x)\n",
    "    x = layers.MaxPooling2D(2, padding=\"same\")(x)\n",
    "    residual = layers.Conv2D(filters=32, kernel_size=3, strides=2)(residual)\n",
    "    x = layers.add([x, residual])\n",
    "    x = layers.MaxPooling2D(pool_size=2)(x)\n",
    "    x = layers.Conv2D(filters=64, kernel_size=3, activation=\"relu\")(x)\n",
    "    x = layers.MaxPooling2D(pool_size=2)(x)\n",
    "    x = layers.Flatten()(x)\n",
    "    x= layers.Dense(64, activation=\"relu\")(x)\n",
    "    outputs = layers.Dense(1, activation=\"sigmoid\")(x)\n",
    "    test_model = keras.Model(inputs=inputs, outputs=outputs)\n",
    "    models.append(test_model)\n",
    "    test_model.summary()"
   ]
  },
  {
   "attachments": {},
   "cell_type": "markdown",
   "metadata": {},
   "source": [
    "![Test_extra_layer training and validation](images/gender/Models/Test_residual.png)"
   ]
  },
  {
   "attachments": {},
   "cell_type": "markdown",
   "metadata": {},
   "source": [
    "We tried training a network with wadding extra convolution layer after the first and the second one. With this, the model can learn different complex features and can extract some high level patterns with several combinations. We wanted to see if the model performance will be better or no with capturing more information from the images."
   ]
  },
  {
   "cell_type": "code",
   "execution_count": 38,
   "metadata": {},
   "outputs": [],
   "source": [
    "if test_models == True:\n",
    "    names.append(\"Test_extra_layer_max\")\n",
    "    inputs = keras.Input(shape=(img_height, img_width, 3))\n",
    "    x = layers.Conv2D(filters=32, kernel_size=5, activation=\"relu\", padding='same')(inputs)\n",
    "    x = layers.Conv2D(filters=32, kernel_size=5, activation=\"relu\")(x)\n",
    "    x = layers.MaxPooling2D(pool_size=2)(x)\n",
    "    x = layers.Conv2D(filters=64, kernel_size=3, activation=\"relu\")(x)\n",
    "    x = layers.Conv2D(filters=64, kernel_size=3, activation=\"relu\")(x)\n",
    "    x = layers.MaxPooling2D(pool_size=2)(x)\n",
    "    x = layers.Conv2D(filters=128, kernel_size=3, activation=\"relu\")(x)\n",
    "    x = layers.MaxPooling2D(pool_size=2)(x)\n",
    "    x = layers.Flatten()(x)\n",
    "    outputs = layers.Dense(1, activation=\"sigmoid\")(x)\n",
    "\n",
    "    test_model = keras.Model(inputs=inputs, outputs=outputs)\n",
    "    models.append(test_model)\n",
    "    test_model.summary()"
   ]
  },
  {
   "attachments": {},
   "cell_type": "markdown",
   "metadata": {},
   "source": [
    "![Test_extra_layer training and validation](images/gender/Models/Test_extra_layer_max.png)"
   ]
  },
  {
   "attachments": {},
   "cell_type": "markdown",
   "metadata": {},
   "source": [
    "This one is the same as the previous architecture where we replaced the maxpooling layers by changing the stride to 2 in the convolutional layers but this time with the extra fully connected layer before the classifier. Since using the extra dense layer had better results we wanted to know what is better for our problem: downsampling with maxpool or with the strides."
   ]
  },
  {
   "cell_type": "code",
   "execution_count": 39,
   "metadata": {},
   "outputs": [],
   "source": [
    "if test_models == True:\n",
    "    names.append(\"Test_extra_layer_strides\")\n",
    "    inputs = keras.Input(shape=(img_height, img_width, 3))\n",
    "    x = layers.Conv2D(filters=32, kernel_size=3, activation=\"relu\")(inputs)\n",
    "    x = layers.Conv2D(filters=64, kernel_size=3, activation=\"relu\",strides=2)(x)\n",
    "    x = layers.Conv2D(filters=128, kernel_size=3, activation=\"relu\",strides=2 )(x)\n",
    "    x = layers.Flatten()(x)\n",
    "    x= layers.Dense(64, activation=\"relu\")(x)\n",
    "    outputs = layers.Dense(1, activation=\"sigmoid\")(x)\n",
    "\n",
    "    test_model = keras.Model(inputs=inputs, outputs=outputs)\n",
    "    models.append(test_model)\n",
    "    test_model.summary()"
   ]
  },
  {
   "attachments": {},
   "cell_type": "markdown",
   "metadata": {},
   "source": [
    "![Test_extra_layer_strides training and validation](images/gender/Models/Test_extra_layer_strides.png)"
   ]
  },
  {
   "attachments": {},
   "cell_type": "markdown",
   "metadata": {},
   "source": [
    "In this case we try to implement the aproach that we saw in the advanced CNN notebook. The idea is to make the model wider intead of deeper. The results where similar to the previous models that we are experimenting."
   ]
  },
  {
   "cell_type": "code",
   "execution_count": 40,
   "metadata": {},
   "outputs": [],
   "source": [
    "if test_models == True:\n",
    "    names.append(\"Test_wide\")\n",
    "\n",
    "    inputs = keras.Input(shape=(img_height, img_width, 3))\n",
    " \n",
    "    x = layers.Conv2D(filters=32, kernel_size=5, use_bias=False)(inputs)\n",
    " \n",
    "    for size in [32, 64, 128]:\n",
    "        residual = x\n",
    "\n",
    "        x = layers.Activation(\"relu\")(x)\n",
    "        x = layers.SeparableConv2D(size, 3, padding=\"same\", use_bias=False)(x)\n",
    "    \n",
    "        x = layers.Activation(\"relu\")(x)\n",
    "        x = layers.SeparableConv2D(size, 3, padding=\"same\", use_bias=False)(x)\n",
    "    \n",
    "        x = layers.MaxPooling2D(3, strides=2, padding=\"same\")(x)\n",
    "    \n",
    "        residual = layers.Conv2D(size, 1, strides=2, padding=\"same\", use_bias=False)(residual)\n",
    "        x = layers.add([x, residual])\n",
    "\n",
    "    x = layers.GlobalAveragePooling2D()(x)\n",
    "    outputs = layers.Dense(1, activation=\"sigmoid\")(x)\n",
    "\n",
    "    test_model = keras.Model(inputs=inputs, outputs=outputs)\n",
    "    models.append(test_model)\n",
    "    test_model.summary()"
   ]
  },
  {
   "attachments": {},
   "cell_type": "markdown",
   "metadata": {},
   "source": [
    "![Test_wide training and validation](images/gender/Models/Test_wide.png)"
   ]
  },
  {
   "attachments": {},
   "cell_type": "markdown",
   "metadata": {},
   "source": [
    "For this one, we are keeping the fully connected layer before the classifier and we tried to change the number of the filters of the second convolutional layer. We are now trying to increase the number of filter each time we do a convolution and that's to allow the model to look deeper into the images and extract more and more complex patterns."
   ]
  },
  {
   "cell_type": "code",
   "execution_count": 41,
   "metadata": {},
   "outputs": [],
   "source": [
    "if test_models == True:\n",
    "    names.append(\"Test_fully_conected_v2\")\n",
    "    inputs = keras.Input(shape=(img_height, img_width, 3))\n",
    "    x = layers.Conv2D(filters=32, kernel_size=3, activation=\"relu\")(inputs)\n",
    "    x = layers.MaxPooling2D(pool_size=2)(x)\n",
    "    x = layers.Conv2D(filters=64, kernel_size=3, activation=\"relu\")(x)\n",
    "    x = layers.MaxPooling2D(pool_size=2)(x)\n",
    "    x = layers.Conv2D(filters=128, kernel_size=3, activation=\"relu\")(x)\n",
    "    x = layers.MaxPooling2D(pool_size=2)(x)\n",
    "    x = layers.Flatten()(x)\n",
    "    x = layers.Dense(64, activation=\"relu\")(x)\n",
    "    outputs = layers.Dense(1, activation=\"sigmoid\")(x)\n",
    "\n",
    "    test_model = keras.Model(inputs=inputs, outputs=outputs)\n",
    "    models.append(test_model)\n",
    "    test_model.summary()\n",
    "    "
   ]
  },
  {
   "attachments": {},
   "cell_type": "markdown",
   "metadata": {},
   "source": [
    "![Test_fully connected layer version2 training and validation](images/gender/Models/Test_fully_conected_v2.png)"
   ]
  },
  {
   "cell_type": "code",
   "execution_count": 42,
   "metadata": {},
   "outputs": [],
   "source": [
    "if test_models == True:\n",
    "    for i in range(0,len(names)):\n",
    "        print(\"Testing model:\",names[i])\n",
    "        models[i].compile(optimizer=get_optimizer(),loss=\"binary_crossentropy\", weighted_metrics=[\"accuracy\"])\n",
    "        test_history.append(models[i].fit(ds_train_batch, epochs=50, validation_data=ds_test_batch, callbacks=get_callbacks(names[i])))"
   ]
  },
  {
   "cell_type": "code",
   "execution_count": 43,
   "metadata": {},
   "outputs": [],
   "source": [
    "if test_models == True:\n",
    "    for i in range(0,len(names)):\n",
    "        print_plot(names[i], test_history[i])\n",
    "        min_loss = min(test_history[i].history['val_loss'])\n",
    "        epoch = 0\n",
    "\n",
    "        for x in range(0, len(test_history[i].history['val_loss'])):\n",
    "            if test_history[i].history['val_loss'][x] == min_loss:\n",
    "                epoch = x + 1\n",
    "                acc = test_history[i].history['val_accuracy'][x]\n",
    "\n",
    "        print(\"Model:\", names[i], \"- Epoch:\", epoch, \"- Model accuracy:\", acc, \"- Best accuracy:\", max(test_history[i].history['val_accuracy']))"
   ]
  },
  {
   "attachments": {},
   "cell_type": "markdown",
   "metadata": {},
   "source": [
    "As we can see in the above code, we tested several different arquitectures. The models and graph images are available in a separate folder. All the models presented in this sub section have a model validation accuracy between 0.85 and 0.87, so we continue to experiment with them in the next subsection.\n",
    "\n",
    "For future executions of the notebook, we use the variable test_models in false to not repeat this test."
   ]
  },
  {
   "attachments": {},
   "cell_type": "markdown",
   "metadata": {},
   "source": [
    "### Regularization and optimization"
   ]
  },
  {
   "attachments": {},
   "cell_type": "markdown",
   "metadata": {},
   "source": [
    "As we did in the previous subsection, we active the ModelCheckpoint callback and we keep using the validation accuracy of the less loss instance instead of the best validation accuracy of the model to compare.\n",
    "\n",
    "This was the result of the execution before disabling the section to move on with fine tuning (images and models available in complementary folders). The epoch and the model accuracy are taken when the model has the lower loss, while best accuracy is the higher value of validation accuracy without taking into account the validation loss value:\n",
    "\n",
    "Model: Reg_normalization - Epoch: 6 - Model accuracy: 0.8447120189666748 - Best accuracy: 0.8604073524475098 </br>\n",
    "Model: Reg_DataAugmentation - Epoch: 39 - Model accuracy: 0.8572845458984375 - Best accuracy: 0.8635428547859192 </br>\n",
    "Model: Reg_dropout_fl - Epoch: 23 - Model accuracy: 0.8663069605827332 - Best accuracy: 0.8744080662727356 </br>\n",
    "Model: Reg_dropout_mx - Epoch: 46 - Model accuracy: 0.8510821461677551 - Best accuracy: 0.8586204648017883 </br>\n",
    "Model: Reg_L2 - Epoch: 35 - Model accuracy: 0.8622070550918579 - Best accuracy: 0.8671789169311523 </br>\n",
    "Model: Reg_L2DropOut - Epoch: 50 - Model accuracy: 0.8531845808029175 - Best accuracy: 0.8607723712921143 </br>\n",
    "Model: Reg_L2Normalization - Epoch: 9 - Model accuracy: 0.8545633554458618 - Best accuracy: 0.8572782278060913 </br>\n",
    "Model: Reg_Drop_l2 - Epoch: 89 - Model accuracy: 0.8806663155555725 - Best accuracy: 0.8806663155555725 </br>"
   ]
  },
  {
   "cell_type": "code",
   "execution_count": 44,
   "metadata": {},
   "outputs": [],
   "source": [
    "if test_reg == True:\n",
    "    names = []\n",
    "    test_history = []\n",
    "    test_models = []\n",
    "    best_acc = []"
   ]
  },
  {
   "cell_type": "code",
   "execution_count": 45,
   "metadata": {},
   "outputs": [
    {
     "name": "stdout",
     "output_type": "stream",
     "text": [
      "Model: \"model\"\n",
      "_________________________________________________________________\n",
      " Layer (type)                Output Shape              Param #   \n",
      "=================================================================\n",
      " input_1 (InputLayer)        [(None, 32, 32, 3)]       0         \n",
      "                                                                 \n",
      " conv2d (Conv2D)             (None, 28, 28, 32)        2432      \n",
      "                                                                 \n",
      " max_pooling2d (MaxPooling2D  (None, 14, 14, 32)       0         \n",
      " )                                                               \n",
      "                                                                 \n",
      " conv2d_1 (Conv2D)           (None, 12, 12, 64)        18496     \n",
      "                                                                 \n",
      " max_pooling2d_1 (MaxPooling  (None, 6, 6, 64)         0         \n",
      " 2D)                                                             \n",
      "                                                                 \n",
      " conv2d_2 (Conv2D)           (None, 4, 4, 128)         73856     \n",
      "                                                                 \n",
      " max_pooling2d_2 (MaxPooling  (None, 2, 2, 128)        0         \n",
      " 2D)                                                             \n",
      "                                                                 \n",
      " flatten (Flatten)           (None, 512)               0         \n",
      "                                                                 \n",
      " dense (Dense)               (None, 64)                32832     \n",
      "                                                                 \n",
      " dense_1 (Dense)             (None, 1)                 65        \n",
      "                                                                 \n",
      "=================================================================\n",
      "Total params: 127,681\n",
      "Trainable params: 127,681\n",
      "Non-trainable params: 0\n",
      "_________________________________________________________________\n"
     ]
    }
   ],
   "source": [
    "old_model = get_best_test_model()\n",
    "old_model.summary()"
   ]
  },
  {
   "cell_type": "code",
   "execution_count": 46,
   "metadata": {},
   "outputs": [
    {
     "data": {
      "image/png": "[encoded data removed]",
      "text/plain": [
       "<PIL.Image.Image image mode=RGBA size=366x233>"
      ]
     },
     "execution_count": 46,
     "metadata": {},
     "output_type": "execute_result"
    }
   ],
   "source": [
    "visualkeras.layered_view(old_model, legend=True)"
   ]
  },
  {
   "attachments": {},
   "cell_type": "markdown",
   "metadata": {},
   "source": [
    "*-Use BatchNormalization layers:* <br>\n",
    "Normalizing the inputs of some layer could help to reduce overfitting, we are going to add a batch normalization layer after each maxpooling layer and that's to normalize the inputs of each of the next convolutional layer or the inputs of the fully connected layer after the last convolution."
   ]
  },
  {
   "cell_type": "code",
   "execution_count": 47,
   "metadata": {},
   "outputs": [],
   "source": [
    "if test_reg == True:\n",
    "    names.append(\"Reg_normalization\")\n",
    "    model = get_best_test_model()\n",
    "    new_model = Sequential()\n",
    "    for layer in model.layers:\n",
    "        if (type(layer) is layers.MaxPooling2D):\n",
    "            new_model.add(layers.BatchNormalization())\n",
    "        new_model.add(layer)\n",
    "\n",
    "    test_models.append(new_model)"
   ]
  },
  {
   "attachments": {},
   "cell_type": "markdown",
   "metadata": {},
   "source": [
    "![Test_ batch normalization training and validation](images/gender/Regularization/Reg_normalization.png)"
   ]
  },
  {
   "attachments": {},
   "cell_type": "markdown",
   "metadata": {},
   "source": [
    "Another technique we could use is data augmentation which consist on increasing the number of the training images and that's by creating different images by applying transoformations like fliiping or rotating. With this we can have provide the model with more unseen data from our original images. "
   ]
  },
  {
   "cell_type": "code",
   "execution_count": 48,
   "metadata": {},
   "outputs": [],
   "source": [
    "if test_reg == True:\n",
    "    names.append(\"Reg_DataAugmentation\")\n",
    "    model = get_best_test_model()\n",
    "    data_augmentation = keras.Sequential(\n",
    "        [\n",
    "            layers.RandomFlip(\"horizontal\"),\n",
    "            layers.RandomRotation(0.1),\n",
    "            layers.RandomZoom(0.2),\n",
    "        ]\n",
    "    )\n",
    "\n",
    "    new_model = Sequential()\n",
    "    new_model.add(data_augmentation)\n",
    "    for layer in model.layers:\n",
    "        new_model.add(layer)\n",
    "\n",
    "    test_models.append(new_model)"
   ]
  },
  {
   "attachments": {},
   "cell_type": "markdown",
   "metadata": {},
   "source": [
    "![Test data augmentation training and validation](images/gender/Regularization/Reg_DataAugmentation.png)"
   ]
  },
  {
   "attachments": {},
   "cell_type": "markdown",
   "metadata": {},
   "source": [
    "Another technique to prevent the model from overfitting is dropout. The first architecture will conisit of using just one dropout layer after the flatten layer; it randomly drops out some of the features before passing them to the fully connected layer. That's to make the model not relying too much on certain features and pushes it to learn more instead of memorizing what it saw."
   ]
  },
  {
   "cell_type": "code",
   "execution_count": 49,
   "metadata": {},
   "outputs": [],
   "source": [
    "if test_reg == True:\n",
    "    names.append(\"Reg_dropout_fl\")\n",
    "    model = get_best_test_model()\n",
    "    new_model = Sequential()\n",
    "    count = 0\n",
    "    for layer in model.layers:\n",
    "        new_model.add(layer)\n",
    "        if (type(layer) is layers.Flatten):\n",
    "            new_model.add(layers.Dropout(0.5, name=\"Layer_\" + str(count)))\n",
    "            count = count + 1\n",
    "\n",
    "    test_models.append(new_model)"
   ]
  },
  {
   "attachments": {},
   "cell_type": "markdown",
   "metadata": {},
   "source": [
    "![Test_drpout fl training and validation](images/gender/Regularization/Reg_dropout_fl.png)"
   ]
  },
  {
   "attachments": {},
   "cell_type": "markdown",
   "metadata": {},
   "source": [
    "In this architecture we used a dropout layer after each maxpooling layer in addition to the flatten layer. By using a dropout layer in multiple levels of the network we can improve more the model's ability to generalize new data and prevent overfitting."
   ]
  },
  {
   "cell_type": "code",
   "execution_count": 50,
   "metadata": {},
   "outputs": [],
   "source": [
    "if test_reg == True:\n",
    "    names.append(\"Reg_dropout_mx\")\n",
    "    model = get_best_test_model()\n",
    "\n",
    "    new_model = Sequential()\n",
    "    for layer in model.layers:\n",
    "        new_model.add(layer)\n",
    "        if (type(layer) is layers.Flatten or type(layer) is layers.MaxPooling2D):\n",
    "            new_model.add(layers.Dropout(0.5))\n",
    "\n",
    "    test_models.append(new_model)"
   ]
  },
  {
   "attachments": {},
   "cell_type": "markdown",
   "metadata": {},
   "source": [
    "![Test_dropout mx training and validation](images/gender/Regularization/Reg_dropout_mx.png)"
   ]
  },
  {
   "attachments": {},
   "cell_type": "markdown",
   "metadata": {},
   "source": [
    "We use only L2 regularization as it gives us the best results in previous iteration. Other possible options where be L1 and l1_l2 but we remove them to do not lose time testing them."
   ]
  },
  {
   "cell_type": "code",
   "execution_count": null,
   "metadata": {},
   "outputs": [],
   "source": [
    "#if test_reg == True:\n",
    "#    names.append(\"Reg_L1\")\n",
    "#    model = get_best_test_model()\n",
    "#    new_model = Sequential()\n",
    "#    for layer in model.layers:\n",
    "#        if (type(layer) is layers.Conv2D):\n",
    "#            new_model.add(layers.Conv2D(filters=layer.filters, kernel_size=layer.kernel_size, \n",
    "#                                        activation=layer.activation, kernel_regularizer=regularizers.l1(0.001)))\n",
    "#        else:\n",
    "#            new_model.add(layer)\n",
    "\n",
    "#    test_models.append(new_model)"
   ]
  },
  {
   "cell_type": "code",
   "execution_count": 51,
   "metadata": {},
   "outputs": [],
   "source": [
    "if test_reg == True:\n",
    "    names.append(\"Reg_L2\")\n",
    "    model = get_best_test_model()\n",
    "    new_model = Sequential()\n",
    "    for layer in model.layers:\n",
    "        if (type(layer) is layers.Conv2D):\n",
    "            new_model.add(layers.Conv2D(filters=layer.filters, kernel_size=layer.kernel_size, \n",
    "                                        activation=layer.activation, kernel_regularizer=regularizers.l2(0.001)))\n",
    "        else:\n",
    "            new_model.add(layer)\n",
    "\n",
    "    test_models.append(new_model)"
   ]
  },
  {
   "attachments": {},
   "cell_type": "markdown",
   "metadata": {},
   "source": [
    "![Test_reg l2 training and validation](images/gender/Regularization/Reg_L2.png)"
   ]
  },
  {
   "cell_type": "code",
   "execution_count": null,
   "metadata": {},
   "outputs": [],
   "source": [
    "#if test_reg == True:\n",
    "#    names.append(\"Reg_L1_L2\")\n",
    "#    model = get_best_test_model()\n",
    "#    new_model = Sequential()\n",
    "#    for layer in model.layers:\n",
    "#        if (type(layer) is layers.Conv2D):\n",
    "#            new_model.add(layers.Conv2D(filters=layer.filters, kernel_size=layer.kernel_size, \n",
    "#                                        activation=layer.activation, kernel_regularizer=regularizers.l1_l2(l1=0.001, l2=0.001)))\n",
    "#        else:\n",
    "#            new_model.add(layer)\n",
    "\n",
    "#    test_models.append(new_model)"
   ]
  },
  {
   "attachments": {},
   "cell_type": "markdown",
   "metadata": {},
   "source": [
    "Other possible regularization technique is the use of initializers. As in the past we tested this kind of technique without good results and conv2d layers use by default the glorot_uniform, we decided just to leave this one and do not implement other initializers."
   ]
  },
  {
   "attachments": {},
   "cell_type": "markdown",
   "metadata": {},
   "source": [
    "Next we test some combinations to see if we get better results that individually. We did not test dropout at the same time that batch normalization as they do not work well together. Dropout could randomly drop out neurons that normalization is taking into account to makes its calculations."
   ]
  },
  {
   "cell_type": "code",
   "execution_count": 53,
   "metadata": {},
   "outputs": [],
   "source": [
    "if test_reg == True:\n",
    "    names.append(\"Reg_L2DropOut\")\n",
    "    model = get_best_test_model()\n",
    "    new_model = Sequential()\n",
    "    for layer in model.layers:\n",
    "        if (type(layer) is layers.Conv2D):\n",
    "            new_model.add(layers.Conv2D(filters=layer.filters, kernel_size=layer.kernel_size, \n",
    "                                        activation=layer.activation, kernel_regularizer=regularizers.l2(0.001)))\n",
    "        else:\n",
    "            new_model.add(layer)\n",
    "            if (type(layer) is layers.Flatten or type(layer) is layers.MaxPooling2D):\n",
    "                new_model.add(layers.Dropout(0.5))\n",
    "\n",
    "    test_models.append(new_model)"
   ]
  },
  {
   "attachments": {},
   "cell_type": "markdown",
   "metadata": {},
   "source": [
    "![Test_l2 dropout training and validation](images/gender/Regularization/Reg_L2DropOut.png)"
   ]
  },
  {
   "cell_type": "code",
   "execution_count": 54,
   "metadata": {},
   "outputs": [],
   "source": [
    "if test_reg == True:\n",
    "    names.append(\"Reg_L2Normalization\")\n",
    "    model = get_best_test_model()\n",
    "    new_model = Sequential()\n",
    "    for layer in model.layers:\n",
    "        if (type(layer) is layers.Conv2D):\n",
    "            new_model.add(layers.Conv2D(filters=layer.filters, kernel_size=layer.kernel_size, \n",
    "                                        activation=layer.activation, kernel_regularizer=regularizers.l2(0.001)))\n",
    "            new_model.add(layers.BatchNormalization())\n",
    "        else:\n",
    "            new_model.add(layer)\n",
    "\n",
    "    test_models.append(new_model)"
   ]
  },
  {
   "attachments": {},
   "cell_type": "markdown",
   "metadata": {},
   "source": [
    "![Test_reg l2 normalization training and validation](images/gender/Regularization/Reg_L2normalization.png)"
   ]
  },
  {
   "cell_type": "code",
   "execution_count": 55,
   "metadata": {},
   "outputs": [],
   "source": [
    "if test_reg == True:\n",
    "    names.append(\"Reg_Drop_l2\")\n",
    "    model = get_best_test_model()\n",
    "    new_model = Sequential()\n",
    "    for layer in model.layers:\n",
    "        if (type(layer) is layers.Conv2D):\n",
    "            new_model.add(layers.Conv2D(filters=layer.filters, kernel_size=layer.kernel_size, \n",
    "                                        activation=layer.activation, kernel_regularizer=regularizers.l2(0.001)))\n",
    "            new_model.add(layers.Dropout(0.5))\n",
    "        else:\n",
    "            new_model.add(layer)\n",
    "\n",
    "    test_models.append(new_model)\n"
   ]
  },
  {
   "attachments": {},
   "cell_type": "markdown",
   "metadata": {},
   "source": [
    "![Test_drop l2 training and validation](images/gender/Regularization/Reg_Drop_l2.png)"
   ]
  },
  {
   "cell_type": "code",
   "execution_count": 56,
   "metadata": {},
   "outputs": [],
   "source": [
    "if test_reg == True:\n",
    "    for i in range(0,len(names)):\n",
    "        print(\"Testing model:\",names[i])\n",
    "        test_models[i].compile(optimizer=get_optimizer(),loss=\"binary_crossentropy\", weighted_metrics=[\"accuracy\"])\n",
    "        test_history.append(test_models[i].fit(ds_train_batch, epochs=100, validation_data=ds_test_batch, callbacks=get_callbacks(names[i])))"
   ]
  },
  {
   "cell_type": "code",
   "execution_count": 57,
   "metadata": {},
   "outputs": [],
   "source": [
    "if test_reg == True:\n",
    "    for i in range(0,len(names)):\n",
    "        print_plot(names[i], test_history[i])\n",
    "        min_loss = min(test_history[i].history['val_loss'])\n",
    "        epoch = 0\n",
    "\n",
    "        for x in range(0, len(test_history[i].history['val_loss'])):\n",
    "            if test_history[i].history['val_loss'][x] == min_loss:\n",
    "                epoch = x + 1\n",
    "                acc = test_history[i].history['val_accuracy'][x]\n",
    "\n",
    "        print(\"Model:\", names[i], \"- Epoch:\", epoch, \"- Model accuracy:\", acc, \"- Best accuracy:\", max(test_history[i].history['val_accuracy']))"
   ]
  },
  {
   "attachments": {},
   "cell_type": "markdown",
   "metadata": {},
   "source": [
    "As we can see in the above code, we tested several different regularization techniques. The models and graph images of the last tested model are available in a separate folder. \n",
    "\n",
    "For future executions of the notebook, we use the variable test_reg in false to not repeat this test."
   ]
  },
  {
   "attachments": {},
   "cell_type": "markdown",
   "metadata": {},
   "source": [
    "### Optimizing learning rate\n",
    "\n",
    "In this section we do the fine tuning of the best regularizated model. After experimenting with different models and regularization techniques, we selected the model to \"tune it\", this means, we train the model with a optimizer learning rate and iterate with lower values, so it gets the best possible loss. For this we create the model and use the modalcheckpoint as an auxiliar to save only the best of each iteration."
   ]
  },
  {
   "attachments": {},
   "cell_type": "markdown",
   "metadata": {},
   "source": [
    "First we show the summary of the selected model to fine tune:"
   ]
  },
  {
   "cell_type": "code",
   "execution_count": 58,
   "metadata": {},
   "outputs": [
    {
     "name": "stdout",
     "output_type": "stream",
     "text": [
      "Model: \"model_1\"\n",
      "_________________________________________________________________\n",
      " Layer (type)                Output Shape              Param #   \n",
      "=================================================================\n",
      " input_2 (InputLayer)        [(None, 32, 32, 3)]       0         \n",
      "                                                                 \n",
      " conv2d_3 (Conv2D)           (None, 28, 28, 32)        2432      \n",
      "                                                                 \n",
      " dropout (Dropout)           (None, 28, 28, 32)        0         \n",
      "                                                                 \n",
      " max_pooling2d_3 (MaxPooling  (None, 14, 14, 32)       0         \n",
      " 2D)                                                             \n",
      "                                                                 \n",
      " conv2d_4 (Conv2D)           (None, 12, 12, 64)        18496     \n",
      "                                                                 \n",
      " dropout_1 (Dropout)         (None, 12, 12, 64)        0         \n",
      "                                                                 \n",
      " max_pooling2d_4 (MaxPooling  (None, 6, 6, 64)         0         \n",
      " 2D)                                                             \n",
      "                                                                 \n",
      " conv2d_5 (Conv2D)           (None, 4, 4, 128)         73856     \n",
      "                                                                 \n",
      " dropout_2 (Dropout)         (None, 4, 4, 128)         0         \n",
      "                                                                 \n",
      " max_pooling2d_5 (MaxPooling  (None, 2, 2, 128)        0         \n",
      " 2D)                                                             \n",
      "                                                                 \n",
      " flatten_1 (Flatten)         (None, 512)               0         \n",
      "                                                                 \n",
      " dense_2 (Dense)             (None, 64)                32832     \n",
      "                                                                 \n",
      " dense_3 (Dense)             (None, 1)                 65        \n",
      "                                                                 \n",
      "=================================================================\n",
      "Total params: 127,681\n",
      "Trainable params: 127,681\n",
      "Non-trainable params: 0\n",
      "_________________________________________________________________\n"
     ]
    },
    {
     "data": {
      "image/png": "[encoded data removed]",
      "text/plain": [
       "<PIL.Image.Image image mode=RGBA size=456x233>"
      ]
     },
     "execution_count": 58,
     "metadata": {},
     "output_type": "execute_result"
    }
   ],
   "source": [
    "final_hist = []\n",
    "final_model = get_best_reg_model()\n",
    "final_model.summary()\n",
    "\n",
    "visualkeras.layered_view(final_model, legend=True)"
   ]
  },
  {
   "cell_type": "code",
   "execution_count": 59,
   "metadata": {},
   "outputs": [
    {
     "name": "stdout",
     "output_type": "stream",
     "text": [
      "Epoch 1/120\n",
      "992/992 [==============================] - ETA: 0s - loss: 0.5846 - accuracy: 0.7593\n",
      "Epoch 1: val_loss improved from inf to 0.60958, saving model to models\\fine_tunning001.keras\n",
      "992/992 [==============================] - 23s 21ms/step - loss: 0.5846 - accuracy: 0.7593 - val_loss: 0.6096 - val_accuracy: 0.8173\n",
      "Epoch 2/120\n",
      "989/992 [============================>.] - ETA: 0s - loss: 0.4646 - accuracy: 0.8209\n",
      "Epoch 2: val_loss improved from 0.60958 to 0.55695, saving model to models\\fine_tunning001.keras\n",
      "992/992 [==============================] - 22s 22ms/step - loss: 0.4646 - accuracy: 0.8209 - val_loss: 0.5570 - val_accuracy: 0.7776\n",
      "Epoch 3/120\n",
      "990/992 [============================>.] - ETA: 0s - loss: 0.4199 - accuracy: 0.8368\n",
      "Epoch 3: val_loss improved from 0.55695 to 0.52303, saving model to models\\fine_tunning001.keras\n",
      "992/992 [==============================] - 22s 22ms/step - loss: 0.4200 - accuracy: 0.8367 - val_loss: 0.5230 - val_accuracy: 0.8105\n",
      "Epoch 4/120\n",
      "992/992 [==============================] - ETA: 0s - loss: 0.3953 - accuracy: 0.8449\n",
      "Epoch 4: val_loss improved from 0.52303 to 0.49641, saving model to models\\fine_tunning001.keras\n",
      "992/992 [==============================] - 19s 19ms/step - loss: 0.3953 - accuracy: 0.8449 - val_loss: 0.4964 - val_accuracy: 0.8029\n",
      "Epoch 5/120\n",
      "991/992 [============================>.] - ETA: 0s - loss: 0.3799 - accuracy: 0.8507\n",
      "Epoch 5: val_loss improved from 0.49641 to 0.46346, saving model to models\\fine_tunning001.keras\n",
      "992/992 [==============================] - 20s 20ms/step - loss: 0.3799 - accuracy: 0.8507 - val_loss: 0.4635 - val_accuracy: 0.8396\n",
      "Epoch 6/120\n",
      "989/992 [============================>.] - ETA: 0s - loss: 0.3706 - accuracy: 0.8535\n",
      "Epoch 6: val_loss improved from 0.46346 to 0.45573, saving model to models\\fine_tunning001.keras\n",
      "992/992 [==============================] - 19s 19ms/step - loss: 0.3707 - accuracy: 0.8535 - val_loss: 0.4557 - val_accuracy: 0.8235\n",
      "Epoch 7/120\n",
      "991/992 [============================>.] - ETA: 0s - loss: 0.3619 - accuracy: 0.8575\n",
      "Epoch 7: val_loss improved from 0.45573 to 0.44689, saving model to models\\fine_tunning001.keras\n",
      "992/992 [==============================] - 17s 17ms/step - loss: 0.3619 - accuracy: 0.8575 - val_loss: 0.4469 - val_accuracy: 0.8427\n",
      "Epoch 8/120\n",
      "991/992 [============================>.] - ETA: 0s - loss: 0.3564 - accuracy: 0.8604\n",
      "Epoch 8: val_loss improved from 0.44689 to 0.42245, saving model to models\\fine_tunning001.keras\n",
      "992/992 [==============================] - 23s 23ms/step - loss: 0.3564 - accuracy: 0.8604 - val_loss: 0.4225 - val_accuracy: 0.8425\n",
      "Epoch 9/120\n",
      "991/992 [============================>.] - ETA: 0s - loss: 0.3536 - accuracy: 0.8605\n",
      "Epoch 9: val_loss did not improve from 0.42245\n",
      "992/992 [==============================] - 19s 19ms/step - loss: 0.3536 - accuracy: 0.8605 - val_loss: 0.4381 - val_accuracy: 0.8340\n",
      "Epoch 10/120\n",
      "991/992 [============================>.] - ETA: 0s - loss: 0.3498 - accuracy: 0.8628\n",
      "Epoch 10: val_loss improved from 0.42245 to 0.42203, saving model to models\\fine_tunning001.keras\n",
      "992/992 [==============================] - 19s 19ms/step - loss: 0.3498 - accuracy: 0.8628 - val_loss: 0.4220 - val_accuracy: 0.8471\n",
      "Epoch 11/120\n",
      "991/992 [============================>.] - ETA: 0s - loss: 0.3452 - accuracy: 0.8657\n",
      "Epoch 11: val_loss improved from 0.42203 to 0.40384, saving model to models\\fine_tunning001.keras\n",
      "992/992 [==============================] - 18s 19ms/step - loss: 0.3452 - accuracy: 0.8657 - val_loss: 0.4038 - val_accuracy: 0.8522\n",
      "Epoch 12/120\n",
      "989/992 [============================>.] - ETA: 0s - loss: 0.3441 - accuracy: 0.8653\n",
      "Epoch 12: val_loss did not improve from 0.40384\n",
      "992/992 [==============================] - 20s 20ms/step - loss: 0.3441 - accuracy: 0.8653 - val_loss: 0.4201 - val_accuracy: 0.8391\n",
      "Epoch 13/120\n",
      "991/992 [============================>.] - ETA: 0s - loss: 0.3431 - accuracy: 0.8661\n",
      "Epoch 13: val_loss improved from 0.40384 to 0.39885, saving model to models\\fine_tunning001.keras\n",
      "992/992 [==============================] - 20s 20ms/step - loss: 0.3431 - accuracy: 0.8661 - val_loss: 0.3989 - val_accuracy: 0.8593\n",
      "Epoch 14/120\n",
      "992/992 [==============================] - ETA: 0s - loss: 0.3410 - accuracy: 0.8681\n",
      "Epoch 14: val_loss did not improve from 0.39885\n",
      "992/992 [==============================] - 20s 20ms/step - loss: 0.3410 - accuracy: 0.8681 - val_loss: 0.4034 - val_accuracy: 0.8563\n",
      "Epoch 15/120\n",
      "990/992 [============================>.] - ETA: 0s - loss: 0.3409 - accuracy: 0.8669\n",
      "Epoch 15: val_loss did not improve from 0.39885\n",
      "992/992 [==============================] - 20s 20ms/step - loss: 0.3409 - accuracy: 0.8669 - val_loss: 0.4082 - val_accuracy: 0.8394\n",
      "Epoch 16/120\n",
      "991/992 [============================>.] - ETA: 0s - loss: 0.3374 - accuracy: 0.8701\n",
      "Epoch 16: val_loss improved from 0.39885 to 0.39708, saving model to models\\fine_tunning001.keras\n",
      "992/992 [==============================] - 19s 20ms/step - loss: 0.3374 - accuracy: 0.8701 - val_loss: 0.3971 - val_accuracy: 0.8557\n",
      "Epoch 17/120\n",
      "990/992 [============================>.] - ETA: 0s - loss: 0.3378 - accuracy: 0.8688\n",
      "Epoch 17: val_loss improved from 0.39708 to 0.39528, saving model to models\\fine_tunning001.keras\n",
      "992/992 [==============================] - 20s 20ms/step - loss: 0.3377 - accuracy: 0.8689 - val_loss: 0.3953 - val_accuracy: 0.8538\n",
      "Epoch 18/120\n",
      "992/992 [==============================] - ETA: 0s - loss: 0.3365 - accuracy: 0.8705\n",
      "Epoch 18: val_loss did not improve from 0.39528\n",
      "992/992 [==============================] - 20s 20ms/step - loss: 0.3365 - accuracy: 0.8705 - val_loss: 0.3986 - val_accuracy: 0.8584\n",
      "Epoch 19/120\n",
      "991/992 [============================>.] - ETA: 0s - loss: 0.3354 - accuracy: 0.8703\n",
      "Epoch 19: val_loss did not improve from 0.39528\n",
      "992/992 [==============================] - 20s 20ms/step - loss: 0.3354 - accuracy: 0.8703 - val_loss: 0.4084 - val_accuracy: 0.8472\n",
      "Epoch 20/120\n",
      "989/992 [============================>.] - ETA: 0s - loss: 0.3345 - accuracy: 0.8711\n",
      "Epoch 20: val_loss did not improve from 0.39528\n",
      "992/992 [==============================] - 21s 21ms/step - loss: 0.3346 - accuracy: 0.8710 - val_loss: 0.3991 - val_accuracy: 0.8547\n",
      "Epoch 21/120\n",
      "990/992 [============================>.] - ETA: 0s - loss: 0.3351 - accuracy: 0.8709\n",
      "Epoch 21: val_loss did not improve from 0.39528\n",
      "992/992 [==============================] - 21s 21ms/step - loss: 0.3352 - accuracy: 0.8709 - val_loss: 0.4013 - val_accuracy: 0.8601\n",
      "Epoch 22/120\n",
      "989/992 [============================>.] - ETA: 0s - loss: 0.3338 - accuracy: 0.8721\n",
      "Epoch 22: val_loss improved from 0.39528 to 0.39213, saving model to models\\fine_tunning001.keras\n",
      "992/992 [==============================] - 19s 19ms/step - loss: 0.3336 - accuracy: 0.8721 - val_loss: 0.3921 - val_accuracy: 0.8537\n",
      "Epoch 23/120\n",
      "992/992 [==============================] - ETA: 0s - loss: 0.3347 - accuracy: 0.8711\n",
      "Epoch 23: val_loss improved from 0.39213 to 0.38868, saving model to models\\fine_tunning001.keras\n",
      "992/992 [==============================] - 19s 19ms/step - loss: 0.3347 - accuracy: 0.8711 - val_loss: 0.3887 - val_accuracy: 0.8662\n",
      "Epoch 24/120\n",
      "990/992 [============================>.] - ETA: 0s - loss: 0.3329 - accuracy: 0.8724\n",
      "Epoch 24: val_loss improved from 0.38868 to 0.38752, saving model to models\\fine_tunning001.keras\n",
      "992/992 [==============================] - 20s 20ms/step - loss: 0.3329 - accuracy: 0.8725 - val_loss: 0.3875 - val_accuracy: 0.8580\n",
      "Epoch 25/120\n",
      "992/992 [==============================] - ETA: 0s - loss: 0.3331 - accuracy: 0.8720\n",
      "Epoch 25: val_loss did not improve from 0.38752\n",
      "992/992 [==============================] - 21s 21ms/step - loss: 0.3331 - accuracy: 0.8720 - val_loss: 0.3977 - val_accuracy: 0.8408\n",
      "Epoch 26/120\n",
      "990/992 [============================>.] - ETA: 0s - loss: 0.3322 - accuracy: 0.8722\n",
      "Epoch 26: val_loss did not improve from 0.38752\n",
      "992/992 [==============================] - 20s 20ms/step - loss: 0.3323 - accuracy: 0.8721 - val_loss: 0.3991 - val_accuracy: 0.8598\n",
      "Epoch 27/120\n",
      "992/992 [==============================] - ETA: 0s - loss: 0.3314 - accuracy: 0.8728\n",
      "Epoch 27: val_loss did not improve from 0.38752\n",
      "992/992 [==============================] - 22s 22ms/step - loss: 0.3314 - accuracy: 0.8728 - val_loss: 0.4035 - val_accuracy: 0.8430\n",
      "Epoch 28/120\n",
      "990/992 [============================>.] - ETA: 0s - loss: 0.3302 - accuracy: 0.8734\n",
      "Epoch 28: val_loss improved from 0.38752 to 0.38267, saving model to models\\fine_tunning001.keras\n",
      "992/992 [==============================] - 21s 21ms/step - loss: 0.3302 - accuracy: 0.8734 - val_loss: 0.3827 - val_accuracy: 0.8588\n",
      "Epoch 29/120\n",
      "991/992 [============================>.] - ETA: 0s - loss: 0.3294 - accuracy: 0.8737\n",
      "Epoch 29: val_loss did not improve from 0.38267\n",
      "992/992 [==============================] - 21s 21ms/step - loss: 0.3294 - accuracy: 0.8737 - val_loss: 0.3876 - val_accuracy: 0.8589\n",
      "Epoch 30/120\n",
      "991/992 [============================>.] - ETA: 0s - loss: 0.3294 - accuracy: 0.8738\n",
      "Epoch 30: val_loss did not improve from 0.38267\n",
      "992/992 [==============================] - 20s 21ms/step - loss: 0.3294 - accuracy: 0.8738 - val_loss: 0.3926 - val_accuracy: 0.8573\n",
      "Epoch 31/120\n",
      "992/992 [==============================] - ETA: 0s - loss: 0.3311 - accuracy: 0.8736\n",
      "Epoch 31: val_loss improved from 0.38267 to 0.37971, saving model to models\\fine_tunning001.keras\n",
      "992/992 [==============================] - 21s 21ms/step - loss: 0.3311 - accuracy: 0.8736 - val_loss: 0.3797 - val_accuracy: 0.8628\n",
      "Epoch 32/120\n",
      "989/992 [============================>.] - ETA: 0s - loss: 0.3284 - accuracy: 0.8747\n",
      "Epoch 32: val_loss did not improve from 0.37971\n",
      "992/992 [==============================] - 20s 20ms/step - loss: 0.3284 - accuracy: 0.8746 - val_loss: 0.3985 - val_accuracy: 0.8564\n",
      "Epoch 33/120\n",
      "991/992 [============================>.] - ETA: 0s - loss: 0.3285 - accuracy: 0.8738\n",
      "Epoch 33: val_loss improved from 0.37971 to 0.37822, saving model to models\\fine_tunning001.keras\n",
      "992/992 [==============================] - 20s 20ms/step - loss: 0.3285 - accuracy: 0.8738 - val_loss: 0.3782 - val_accuracy: 0.8574\n",
      "Epoch 34/120\n",
      "991/992 [============================>.] - ETA: 0s - loss: 0.3297 - accuracy: 0.8751\n",
      "Epoch 34: val_loss improved from 0.37822 to 0.37589, saving model to models\\fine_tunning001.keras\n",
      "992/992 [==============================] - 21s 21ms/step - loss: 0.3297 - accuracy: 0.8751 - val_loss: 0.3759 - val_accuracy: 0.8637\n",
      "Epoch 35/120\n",
      "991/992 [============================>.] - ETA: 0s - loss: 0.3282 - accuracy: 0.8750\n",
      "Epoch 35: val_loss did not improve from 0.37589\n",
      "992/992 [==============================] - 21s 21ms/step - loss: 0.3282 - accuracy: 0.8750 - val_loss: 0.4080 - val_accuracy: 0.8429\n",
      "Epoch 36/120\n",
      "989/992 [============================>.] - ETA: 0s - loss: 0.3296 - accuracy: 0.8741\n",
      "Epoch 36: val_loss did not improve from 0.37589\n",
      "992/992 [==============================] - 20s 20ms/step - loss: 0.3297 - accuracy: 0.8741 - val_loss: 0.3790 - val_accuracy: 0.8562\n",
      "Epoch 37/120\n",
      "990/992 [============================>.] - ETA: 0s - loss: 0.3284 - accuracy: 0.8741\n",
      "Epoch 37: val_loss did not improve from 0.37589\n",
      "992/992 [==============================] - 20s 20ms/step - loss: 0.3285 - accuracy: 0.8740 - val_loss: 0.3878 - val_accuracy: 0.8604\n",
      "Epoch 38/120\n",
      "991/992 [============================>.] - ETA: 0s - loss: 0.3272 - accuracy: 0.8759\n",
      "Epoch 38: val_loss did not improve from 0.37589\n",
      "992/992 [==============================] - 20s 20ms/step - loss: 0.3272 - accuracy: 0.8759 - val_loss: 0.3784 - val_accuracy: 0.8608\n",
      "Epoch 39/120\n",
      "990/992 [============================>.] - ETA: 0s - loss: 0.3284 - accuracy: 0.8757\n",
      "Epoch 39: val_loss did not improve from 0.37589\n",
      "992/992 [==============================] - 21s 21ms/step - loss: 0.3285 - accuracy: 0.8756 - val_loss: 0.3921 - val_accuracy: 0.8532\n",
      "Epoch 40/120\n",
      "991/992 [============================>.] - ETA: 0s - loss: 0.3275 - accuracy: 0.8758\n",
      "Epoch 40: val_loss improved from 0.37589 to 0.37038, saving model to models\\fine_tunning001.keras\n",
      "992/992 [==============================] - 22s 22ms/step - loss: 0.3275 - accuracy: 0.8758 - val_loss: 0.3704 - val_accuracy: 0.8703\n",
      "Epoch 41/120\n",
      "990/992 [============================>.] - ETA: 0s - loss: 0.3272 - accuracy: 0.8753\n",
      "Epoch 41: val_loss did not improve from 0.37038\n",
      "992/992 [==============================] - 23s 23ms/step - loss: 0.3272 - accuracy: 0.8753 - val_loss: 0.3806 - val_accuracy: 0.8711\n",
      "Epoch 42/120\n",
      "991/992 [============================>.] - ETA: 0s - loss: 0.3280 - accuracy: 0.8753\n",
      "Epoch 42: val_loss did not improve from 0.37038\n",
      "992/992 [==============================] - 21s 21ms/step - loss: 0.3280 - accuracy: 0.8753 - val_loss: 0.3910 - val_accuracy: 0.8557\n",
      "Epoch 43/120\n",
      "991/992 [============================>.] - ETA: 0s - loss: 0.3274 - accuracy: 0.8752\n",
      "Epoch 43: val_loss did not improve from 0.37038\n",
      "992/992 [==============================] - 22s 22ms/step - loss: 0.3274 - accuracy: 0.8752 - val_loss: 0.3771 - val_accuracy: 0.8628\n",
      "Epoch 44/120\n",
      "991/992 [============================>.] - ETA: 0s - loss: 0.3255 - accuracy: 0.8762\n",
      "Epoch 44: val_loss did not improve from 0.37038\n",
      "992/992 [==============================] - 22s 22ms/step - loss: 0.3255 - accuracy: 0.8762 - val_loss: 0.3735 - val_accuracy: 0.8602\n",
      "Epoch 45/120\n",
      "990/992 [============================>.] - ETA: 0s - loss: 0.3260 - accuracy: 0.8768\n",
      "Epoch 45: val_loss did not improve from 0.37038\n",
      "992/992 [==============================] - 22s 23ms/step - loss: 0.3260 - accuracy: 0.8768 - val_loss: 0.3796 - val_accuracy: 0.8546\n",
      "Epoch 46/120\n",
      "991/992 [============================>.] - ETA: 0s - loss: 0.3248 - accuracy: 0.8773\n",
      "Epoch 46: val_loss did not improve from 0.37038\n",
      "992/992 [==============================] - 22s 22ms/step - loss: 0.3248 - accuracy: 0.8773 - val_loss: 0.3832 - val_accuracy: 0.8603\n",
      "Epoch 47/120\n",
      "990/992 [============================>.] - ETA: 0s - loss: 0.3266 - accuracy: 0.8764\n",
      "Epoch 47: val_loss did not improve from 0.37038\n",
      "992/992 [==============================] - 21s 21ms/step - loss: 0.3265 - accuracy: 0.8765 - val_loss: 0.3779 - val_accuracy: 0.8646\n",
      "Epoch 48/120\n",
      "990/992 [============================>.] - ETA: 0s - loss: 0.3264 - accuracy: 0.8761\n",
      "Epoch 48: val_loss did not improve from 0.37038\n",
      "992/992 [==============================] - 19s 19ms/step - loss: 0.3264 - accuracy: 0.8760 - val_loss: 0.3862 - val_accuracy: 0.8670\n",
      "Epoch 49/120\n",
      "991/992 [============================>.] - ETA: 0s - loss: 0.3252 - accuracy: 0.8777\n",
      "Epoch 49: val_loss did not improve from 0.37038\n",
      "992/992 [==============================] - 20s 20ms/step - loss: 0.3252 - accuracy: 0.8777 - val_loss: 0.3791 - val_accuracy: 0.8659\n",
      "Epoch 50/120\n",
      "991/992 [============================>.] - ETA: 0s - loss: 0.3251 - accuracy: 0.8773\n",
      "Epoch 50: val_loss did not improve from 0.37038\n",
      "992/992 [==============================] - 23s 23ms/step - loss: 0.3251 - accuracy: 0.8773 - val_loss: 0.3801 - val_accuracy: 0.8575\n",
      "Epoch 51/120\n",
      "989/992 [============================>.] - ETA: 0s - loss: 0.3260 - accuracy: 0.8772\n",
      "Epoch 51: val_loss did not improve from 0.37038\n",
      "992/992 [==============================] - 22s 22ms/step - loss: 0.3259 - accuracy: 0.8772 - val_loss: 0.3808 - val_accuracy: 0.8574\n",
      "Epoch 52/120\n",
      "990/992 [============================>.] - ETA: 0s - loss: 0.3255 - accuracy: 0.8767\n",
      "Epoch 52: val_loss did not improve from 0.37038\n",
      "992/992 [==============================] - 22s 22ms/step - loss: 0.3255 - accuracy: 0.8768 - val_loss: 0.3841 - val_accuracy: 0.8593\n",
      "Epoch 53/120\n",
      "990/992 [============================>.] - ETA: 0s - loss: 0.3246 - accuracy: 0.8771\n",
      "Epoch 53: val_loss did not improve from 0.37038\n",
      "992/992 [==============================] - 21s 22ms/step - loss: 0.3245 - accuracy: 0.8772 - val_loss: 0.3780 - val_accuracy: 0.8666\n",
      "Epoch 54/120\n",
      "991/992 [============================>.] - ETA: 0s - loss: 0.3253 - accuracy: 0.8770\n",
      "Epoch 54: val_loss did not improve from 0.37038\n",
      "992/992 [==============================] - 22s 22ms/step - loss: 0.3253 - accuracy: 0.8770 - val_loss: 0.3735 - val_accuracy: 0.8714\n",
      "Epoch 55/120\n",
      "989/992 [============================>.] - ETA: 0s - loss: 0.3247 - accuracy: 0.8765\n",
      "Epoch 55: val_loss did not improve from 0.37038\n",
      "992/992 [==============================] - 22s 22ms/step - loss: 0.3248 - accuracy: 0.8765 - val_loss: 0.3778 - val_accuracy: 0.8604\n",
      "Epoch 56/120\n",
      "990/992 [============================>.] - ETA: 0s - loss: 0.3242 - accuracy: 0.8774\n",
      "Epoch 56: val_loss did not improve from 0.37038\n",
      "992/992 [==============================] - 22s 22ms/step - loss: 0.3242 - accuracy: 0.8774 - val_loss: 0.3785 - val_accuracy: 0.8614\n",
      "Epoch 57/120\n",
      "989/992 [============================>.] - ETA: 0s - loss: 0.3245 - accuracy: 0.8770\n",
      "Epoch 57: val_loss did not improve from 0.37038\n",
      "992/992 [==============================] - 21s 21ms/step - loss: 0.3244 - accuracy: 0.8769 - val_loss: 0.3757 - val_accuracy: 0.8541\n",
      "Epoch 58/120\n",
      "990/992 [============================>.] - ETA: 0s - loss: 0.3245 - accuracy: 0.8783\n",
      "Epoch 58: val_loss did not improve from 0.37038\n",
      "992/992 [==============================] - 22s 22ms/step - loss: 0.3246 - accuracy: 0.8783 - val_loss: 0.3921 - val_accuracy: 0.8447\n",
      "Epoch 59/120\n",
      "990/992 [============================>.] - ETA: 0s - loss: 0.3239 - accuracy: 0.8783\n",
      "Epoch 59: val_loss did not improve from 0.37038\n",
      "992/992 [==============================] - 20s 20ms/step - loss: 0.3238 - accuracy: 0.8784 - val_loss: 0.3860 - val_accuracy: 0.8589\n",
      "Epoch 60/120\n",
      "989/992 [============================>.] - ETA: 0s - loss: 0.3238 - accuracy: 0.8785\n",
      "Epoch 60: val_loss did not improve from 0.37038\n",
      "992/992 [==============================] - 22s 22ms/step - loss: 0.3239 - accuracy: 0.8784 - val_loss: 0.3839 - val_accuracy: 0.8567\n",
      "Epoch 60: early stopping\n"
     ]
    }
   ],
   "source": [
    "callbacks = [keras.callbacks.ModelCheckpoint(filepath=\"models/fine_tunning001.keras\",save_best_only=True,monitor=\"val_loss\", verbose=1), late_stop]\n",
    "final_model.compile(optimizer=get_optimizer(),loss=\"binary_crossentropy\", weighted_metrics=[\"accuracy\"])\n",
    "hist = final_model.fit(ds_train_batch, epochs=120, validation_data=ds_test_batch, callbacks=callbacks)"
   ]
  },
  {
   "cell_type": "code",
   "execution_count": 60,
   "metadata": {},
   "outputs": [
    {
     "data": {
      "image/png": "[encoded data removed]",
      "text/plain": [
       "<Figure size 1000x480 with 2 Axes>"
      ]
     },
     "metadata": {},
     "output_type": "display_data"
    },
    {
     "name": "stdout",
     "output_type": "stream",
     "text": [
      "Epoch: 40 - Model accuracy: 0.8703081607818604 - Best accuracy: 0.8713840842247009\n"
     ]
    }
   ],
   "source": [
    "print_plot(\"Fine_tuning_001\", hist)\n",
    "min_loss = min(hist.history['val_loss'])\n",
    "epoch = 0\n",
    "\n",
    "for x in range(0, len(hist.history['val_loss'])):\n",
    "    if hist.history['val_loss'][x] == min_loss:\n",
    "        epoch = x + 1\n",
    "        acc = hist.history['val_accuracy'][x]\n",
    "\n",
    "print(\"Epoch:\", epoch, \"- Model accuracy:\", acc, \"- Best accuracy:\", max(hist.history['val_accuracy']))"
   ]
  },
  {
   "cell_type": "code",
   "execution_count": 61,
   "metadata": {},
   "outputs": [
    {
     "name": "stdout",
     "output_type": "stream",
     "text": [
      "Epoch 1/120\n",
      "991/992 [============================>.] - ETA: 0s - loss: 0.3152 - accuracy: 0.8826\n",
      "Epoch 1: val_loss improved from inf to 0.37154, saving model to models\\fine_tunning00001.keras\n",
      "992/992 [==============================] - 23s 22ms/step - loss: 0.3152 - accuracy: 0.8826 - val_loss: 0.3715 - val_accuracy: 0.8646\n",
      "Epoch 2/120\n",
      "990/992 [============================>.] - ETA: 0s - loss: 0.3111 - accuracy: 0.8848\n",
      "Epoch 2: val_loss improved from 0.37154 to 0.36955, saving model to models\\fine_tunning00001.keras\n",
      "992/992 [==============================] - 21s 22ms/step - loss: 0.3110 - accuracy: 0.8848 - val_loss: 0.3695 - val_accuracy: 0.8674\n",
      "Epoch 3/120\n",
      "992/992 [==============================] - ETA: 0s - loss: 0.3099 - accuracy: 0.8850\n",
      "Epoch 3: val_loss did not improve from 0.36955\n",
      "992/992 [==============================] - 22s 22ms/step - loss: 0.3099 - accuracy: 0.8850 - val_loss: 0.3742 - val_accuracy: 0.8641\n",
      "Epoch 4/120\n",
      "991/992 [============================>.] - ETA: 0s - loss: 0.3082 - accuracy: 0.8859\n",
      "Epoch 4: val_loss improved from 0.36955 to 0.36902, saving model to models\\fine_tunning00001.keras\n",
      "992/992 [==============================] - 21s 21ms/step - loss: 0.3082 - accuracy: 0.8859 - val_loss: 0.3690 - val_accuracy: 0.8681\n",
      "Epoch 5/120\n",
      "991/992 [============================>.] - ETA: 0s - loss: 0.3080 - accuracy: 0.8852\n",
      "Epoch 5: val_loss improved from 0.36902 to 0.36711, saving model to models\\fine_tunning00001.keras\n",
      "992/992 [==============================] - 21s 21ms/step - loss: 0.3080 - accuracy: 0.8852 - val_loss: 0.3671 - val_accuracy: 0.8700\n",
      "Epoch 6/120\n",
      "991/992 [============================>.] - ETA: 0s - loss: 0.3064 - accuracy: 0.8862\n",
      "Epoch 6: val_loss improved from 0.36711 to 0.36450, saving model to models\\fine_tunning00001.keras\n",
      "992/992 [==============================] - 22s 22ms/step - loss: 0.3064 - accuracy: 0.8862 - val_loss: 0.3645 - val_accuracy: 0.8737\n",
      "Epoch 7/120\n",
      "989/992 [============================>.] - ETA: 0s - loss: 0.3058 - accuracy: 0.8864\n",
      "Epoch 7: val_loss did not improve from 0.36450\n",
      "992/992 [==============================] - 21s 22ms/step - loss: 0.3057 - accuracy: 0.8864 - val_loss: 0.3678 - val_accuracy: 0.8706\n",
      "Epoch 8/120\n",
      "991/992 [============================>.] - ETA: 0s - loss: 0.3045 - accuracy: 0.8865\n",
      "Epoch 8: val_loss did not improve from 0.36450\n",
      "992/992 [==============================] - 21s 21ms/step - loss: 0.3046 - accuracy: 0.8865 - val_loss: 0.3677 - val_accuracy: 0.8716\n",
      "Epoch 9/120\n",
      "989/992 [============================>.] - ETA: 0s - loss: 0.3046 - accuracy: 0.8871\n",
      "Epoch 9: val_loss improved from 0.36450 to 0.36277, saving model to models\\fine_tunning00001.keras\n",
      "992/992 [==============================] - 22s 22ms/step - loss: 0.3046 - accuracy: 0.8871 - val_loss: 0.3628 - val_accuracy: 0.8722\n",
      "Epoch 10/120\n",
      "991/992 [============================>.] - ETA: 0s - loss: 0.3021 - accuracy: 0.8876\n",
      "Epoch 10: val_loss did not improve from 0.36277\n",
      "992/992 [==============================] - 23s 23ms/step - loss: 0.3022 - accuracy: 0.8876 - val_loss: 0.3641 - val_accuracy: 0.8723\n",
      "Epoch 11/120\n",
      "991/992 [============================>.] - ETA: 0s - loss: 0.3026 - accuracy: 0.8873\n",
      "Epoch 11: val_loss improved from 0.36277 to 0.35989, saving model to models\\fine_tunning00001.keras\n",
      "992/992 [==============================] - 23s 23ms/step - loss: 0.3026 - accuracy: 0.8874 - val_loss: 0.3599 - val_accuracy: 0.8675\n",
      "Epoch 12/120\n",
      "991/992 [============================>.] - ETA: 0s - loss: 0.3009 - accuracy: 0.8884\n",
      "Epoch 12: val_loss did not improve from 0.35989\n",
      "992/992 [==============================] - 23s 23ms/step - loss: 0.3008 - accuracy: 0.8884 - val_loss: 0.3682 - val_accuracy: 0.8641\n",
      "Epoch 13/120\n",
      "990/992 [============================>.] - ETA: 0s - loss: 0.3002 - accuracy: 0.8881\n",
      "Epoch 13: val_loss did not improve from 0.35989\n",
      "992/992 [==============================] - 22s 22ms/step - loss: 0.3001 - accuracy: 0.8882 - val_loss: 0.3652 - val_accuracy: 0.8704\n",
      "Epoch 14/120\n",
      "991/992 [============================>.] - ETA: 0s - loss: 0.3007 - accuracy: 0.8875\n",
      "Epoch 14: val_loss did not improve from 0.35989\n",
      "992/992 [==============================] - 21s 21ms/step - loss: 0.3007 - accuracy: 0.8875 - val_loss: 0.3626 - val_accuracy: 0.8722\n",
      "Epoch 15/120\n",
      "991/992 [============================>.] - ETA: 0s - loss: 0.2998 - accuracy: 0.8882\n",
      "Epoch 15: val_loss did not improve from 0.35989\n",
      "992/992 [==============================] - 21s 21ms/step - loss: 0.2998 - accuracy: 0.8882 - val_loss: 0.3654 - val_accuracy: 0.8724\n",
      "Epoch 16/120\n",
      "991/992 [============================>.] - ETA: 0s - loss: 0.2982 - accuracy: 0.8891\n",
      "Epoch 16: val_loss did not improve from 0.35989\n",
      "992/992 [==============================] - 21s 21ms/step - loss: 0.2982 - accuracy: 0.8891 - val_loss: 0.3664 - val_accuracy: 0.8664\n",
      "Epoch 17/120\n",
      "990/992 [============================>.] - ETA: 0s - loss: 0.2993 - accuracy: 0.8878\n",
      "Epoch 17: val_loss did not improve from 0.35989\n",
      "992/992 [==============================] - 21s 21ms/step - loss: 0.2993 - accuracy: 0.8878 - val_loss: 0.3650 - val_accuracy: 0.8724\n",
      "Epoch 18/120\n",
      "990/992 [============================>.] - ETA: 0s - loss: 0.2987 - accuracy: 0.8889\n",
      "Epoch 18: val_loss did not improve from 0.35989\n",
      "992/992 [==============================] - 21s 21ms/step - loss: 0.2986 - accuracy: 0.8889 - val_loss: 0.3599 - val_accuracy: 0.8727\n",
      "Epoch 19/120\n",
      "991/992 [============================>.] - ETA: 0s - loss: 0.2968 - accuracy: 0.8891\n",
      "Epoch 19: val_loss did not improve from 0.35989\n",
      "992/992 [==============================] - 21s 21ms/step - loss: 0.2969 - accuracy: 0.8891 - val_loss: 0.3627 - val_accuracy: 0.8704\n",
      "Epoch 20/120\n",
      "991/992 [============================>.] - ETA: 0s - loss: 0.2979 - accuracy: 0.8884\n",
      "Epoch 20: val_loss did not improve from 0.35989\n",
      "992/992 [==============================] - 22s 22ms/step - loss: 0.2979 - accuracy: 0.8884 - val_loss: 0.3603 - val_accuracy: 0.8692\n",
      "Epoch 21/120\n",
      "990/992 [============================>.] - ETA: 0s - loss: 0.2964 - accuracy: 0.8894\n",
      "Epoch 21: val_loss did not improve from 0.35989\n",
      "992/992 [==============================] - 20s 21ms/step - loss: 0.2963 - accuracy: 0.8894 - val_loss: 0.3606 - val_accuracy: 0.8708\n",
      "Epoch 22/120\n",
      "992/992 [==============================] - ETA: 0s - loss: 0.2952 - accuracy: 0.8892\n",
      "Epoch 22: val_loss did not improve from 0.35989\n",
      "992/992 [==============================] - 21s 21ms/step - loss: 0.2952 - accuracy: 0.8892 - val_loss: 0.3639 - val_accuracy: 0.8647\n",
      "Epoch 23/120\n",
      "991/992 [============================>.] - ETA: 0s - loss: 0.2968 - accuracy: 0.8887\n",
      "Epoch 23: val_loss did not improve from 0.35989\n",
      "992/992 [==============================] - 21s 21ms/step - loss: 0.2968 - accuracy: 0.8887 - val_loss: 0.3600 - val_accuracy: 0.8704\n",
      "Epoch 24/120\n",
      "991/992 [============================>.] - ETA: 0s - loss: 0.2960 - accuracy: 0.8889\n",
      "Epoch 24: val_loss did not improve from 0.35989\n",
      "992/992 [==============================] - 21s 21ms/step - loss: 0.2960 - accuracy: 0.8890 - val_loss: 0.3625 - val_accuracy: 0.8720\n",
      "Epoch 25/120\n",
      "989/992 [============================>.] - ETA: 0s - loss: 0.2946 - accuracy: 0.8892\n",
      "Epoch 25: val_loss improved from 0.35989 to 0.35778, saving model to models\\fine_tunning00001.keras\n",
      "992/992 [==============================] - 21s 21ms/step - loss: 0.2945 - accuracy: 0.8892 - val_loss: 0.3578 - val_accuracy: 0.8711\n",
      "Epoch 26/120\n",
      "990/992 [============================>.] - ETA: 0s - loss: 0.2948 - accuracy: 0.8898\n",
      "Epoch 26: val_loss did not improve from 0.35778\n",
      "992/992 [==============================] - 21s 21ms/step - loss: 0.2948 - accuracy: 0.8898 - val_loss: 0.3617 - val_accuracy: 0.8706\n",
      "Epoch 27/120\n",
      "989/992 [============================>.] - ETA: 0s - loss: 0.2948 - accuracy: 0.8892\n",
      "Epoch 27: val_loss did not improve from 0.35778\n",
      "992/992 [==============================] - 20s 20ms/step - loss: 0.2948 - accuracy: 0.8891 - val_loss: 0.3635 - val_accuracy: 0.8672\n",
      "Epoch 28/120\n",
      "991/992 [============================>.] - ETA: 0s - loss: 0.2944 - accuracy: 0.8891\n",
      "Epoch 28: val_loss did not improve from 0.35778\n",
      "992/992 [==============================] - 20s 20ms/step - loss: 0.2944 - accuracy: 0.8891 - val_loss: 0.3621 - val_accuracy: 0.8729\n",
      "Epoch 29/120\n",
      "990/992 [============================>.] - ETA: 0s - loss: 0.2931 - accuracy: 0.8895\n",
      "Epoch 29: val_loss did not improve from 0.35778\n",
      "992/992 [==============================] - 20s 20ms/step - loss: 0.2930 - accuracy: 0.8895 - val_loss: 0.3626 - val_accuracy: 0.8664\n",
      "Epoch 30/120\n",
      "990/992 [============================>.] - ETA: 0s - loss: 0.2933 - accuracy: 0.8897\n",
      "Epoch 30: val_loss improved from 0.35778 to 0.35357, saving model to models\\fine_tunning00001.keras\n",
      "992/992 [==============================] - 21s 21ms/step - loss: 0.2933 - accuracy: 0.8897 - val_loss: 0.3536 - val_accuracy: 0.8733\n",
      "Epoch 31/120\n",
      "989/992 [============================>.] - ETA: 0s - loss: 0.2924 - accuracy: 0.8903\n",
      "Epoch 31: val_loss did not improve from 0.35357\n",
      "992/992 [==============================] - 21s 21ms/step - loss: 0.2922 - accuracy: 0.8904 - val_loss: 0.3562 - val_accuracy: 0.8706\n",
      "Epoch 32/120\n",
      "991/992 [============================>.] - ETA: 0s - loss: 0.2925 - accuracy: 0.8897\n",
      "Epoch 32: val_loss did not improve from 0.35357\n",
      "992/992 [==============================] - 22s 23ms/step - loss: 0.2925 - accuracy: 0.8897 - val_loss: 0.3615 - val_accuracy: 0.8687\n",
      "Epoch 33/120\n",
      "990/992 [============================>.] - ETA: 0s - loss: 0.2916 - accuracy: 0.8914\n",
      "Epoch 33: val_loss did not improve from 0.35357\n",
      "992/992 [==============================] - 23s 23ms/step - loss: 0.2916 - accuracy: 0.8914 - val_loss: 0.3566 - val_accuracy: 0.8725\n",
      "Epoch 34/120\n",
      "992/992 [==============================] - ETA: 0s - loss: 0.2928 - accuracy: 0.8895\n",
      "Epoch 34: val_loss did not improve from 0.35357\n",
      "992/992 [==============================] - 23s 23ms/step - loss: 0.2928 - accuracy: 0.8895 - val_loss: 0.3584 - val_accuracy: 0.8746\n",
      "Epoch 35/120\n",
      "991/992 [============================>.] - ETA: 0s - loss: 0.2909 - accuracy: 0.8907\n",
      "Epoch 35: val_loss did not improve from 0.35357\n",
      "992/992 [==============================] - 22s 22ms/step - loss: 0.2909 - accuracy: 0.8907 - val_loss: 0.3601 - val_accuracy: 0.8726\n",
      "Epoch 36/120\n",
      "991/992 [============================>.] - ETA: 0s - loss: 0.2916 - accuracy: 0.8897\n",
      "Epoch 36: val_loss did not improve from 0.35357\n",
      "992/992 [==============================] - 22s 22ms/step - loss: 0.2916 - accuracy: 0.8897 - val_loss: 0.3574 - val_accuracy: 0.8687\n",
      "Epoch 37/120\n",
      "990/992 [============================>.] - ETA: 0s - loss: 0.2909 - accuracy: 0.8906\n",
      "Epoch 37: val_loss did not improve from 0.35357\n",
      "992/992 [==============================] - 22s 22ms/step - loss: 0.2908 - accuracy: 0.8907 - val_loss: 0.3625 - val_accuracy: 0.8731\n",
      "Epoch 38/120\n",
      "992/992 [==============================] - ETA: 0s - loss: 0.2909 - accuracy: 0.8902\n",
      "Epoch 38: val_loss did not improve from 0.35357\n",
      "992/992 [==============================] - 22s 22ms/step - loss: 0.2909 - accuracy: 0.8902 - val_loss: 0.3686 - val_accuracy: 0.8634\n",
      "Epoch 39/120\n",
      "989/992 [============================>.] - ETA: 0s - loss: 0.2898 - accuracy: 0.8911\n",
      "Epoch 39: val_loss did not improve from 0.35357\n",
      "992/992 [==============================] - 23s 23ms/step - loss: 0.2899 - accuracy: 0.8911 - val_loss: 0.3600 - val_accuracy: 0.8706\n",
      "Epoch 40/120\n",
      "990/992 [============================>.] - ETA: 0s - loss: 0.2898 - accuracy: 0.8907\n",
      "Epoch 40: val_loss did not improve from 0.35357\n",
      "992/992 [==============================] - 24s 24ms/step - loss: 0.2897 - accuracy: 0.8907 - val_loss: 0.3578 - val_accuracy: 0.8710\n",
      "Epoch 41/120\n",
      "992/992 [==============================] - ETA: 0s - loss: 0.2899 - accuracy: 0.8916\n",
      "Epoch 41: val_loss did not improve from 0.35357\n",
      "992/992 [==============================] - 23s 23ms/step - loss: 0.2899 - accuracy: 0.8916 - val_loss: 0.3643 - val_accuracy: 0.8711\n",
      "Epoch 42/120\n",
      "991/992 [============================>.] - ETA: 0s - loss: 0.2901 - accuracy: 0.8911\n",
      "Epoch 42: val_loss did not improve from 0.35357\n",
      "992/992 [==============================] - 23s 23ms/step - loss: 0.2901 - accuracy: 0.8911 - val_loss: 0.3652 - val_accuracy: 0.8705\n",
      "Epoch 43/120\n",
      "991/992 [============================>.] - ETA: 0s - loss: 0.2899 - accuracy: 0.8908\n",
      "Epoch 43: val_loss did not improve from 0.35357\n",
      "992/992 [==============================] - 23s 23ms/step - loss: 0.2899 - accuracy: 0.8908 - val_loss: 0.3651 - val_accuracy: 0.8700\n",
      "Epoch 44/120\n",
      "991/992 [============================>.] - ETA: 0s - loss: 0.2896 - accuracy: 0.8915\n",
      "Epoch 44: val_loss did not improve from 0.35357\n",
      "992/992 [==============================] - 22s 22ms/step - loss: 0.2896 - accuracy: 0.8915 - val_loss: 0.3558 - val_accuracy: 0.8722\n",
      "Epoch 45/120\n",
      "989/992 [============================>.] - ETA: 0s - loss: 0.2895 - accuracy: 0.8906\n",
      "Epoch 45: val_loss did not improve from 0.35357\n",
      "992/992 [==============================] - 22s 22ms/step - loss: 0.2896 - accuracy: 0.8906 - val_loss: 0.3594 - val_accuracy: 0.8720\n",
      "Epoch 46/120\n",
      "991/992 [============================>.] - ETA: 0s - loss: 0.2892 - accuracy: 0.8910\n",
      "Epoch 46: val_loss did not improve from 0.35357\n",
      "992/992 [==============================] - 22s 23ms/step - loss: 0.2892 - accuracy: 0.8910 - val_loss: 0.3567 - val_accuracy: 0.8694\n",
      "Epoch 47/120\n",
      "992/992 [==============================] - ETA: 0s - loss: 0.2883 - accuracy: 0.8915\n",
      "Epoch 47: val_loss did not improve from 0.35357\n",
      "992/992 [==============================] - 22s 23ms/step - loss: 0.2883 - accuracy: 0.8915 - val_loss: 0.3586 - val_accuracy: 0.8710\n",
      "Epoch 48/120\n",
      "990/992 [============================>.] - ETA: 0s - loss: 0.2886 - accuracy: 0.8918\n",
      "Epoch 48: val_loss did not improve from 0.35357\n",
      "992/992 [==============================] - 22s 22ms/step - loss: 0.2886 - accuracy: 0.8919 - val_loss: 0.3552 - val_accuracy: 0.8741\n",
      "Epoch 49/120\n",
      "990/992 [============================>.] - ETA: 0s - loss: 0.2885 - accuracy: 0.8915\n",
      "Epoch 49: val_loss did not improve from 0.35357\n",
      "992/992 [==============================] - 22s 22ms/step - loss: 0.2885 - accuracy: 0.8915 - val_loss: 0.3581 - val_accuracy: 0.8696\n",
      "Epoch 50/120\n",
      "990/992 [============================>.] - ETA: 0s - loss: 0.2877 - accuracy: 0.8913\n",
      "Epoch 50: val_loss did not improve from 0.35357\n",
      "992/992 [==============================] - 22s 23ms/step - loss: 0.2877 - accuracy: 0.8913 - val_loss: 0.3560 - val_accuracy: 0.8718\n",
      "Epoch 50: early stopping\n"
     ]
    }
   ],
   "source": [
    "tune_model = load_model(\"models/fine_tunning001.keras\")\n",
    "callbacks = [keras.callbacks.ModelCheckpoint(filepath=\"models/fine_tunning00001.keras\",save_best_only=True,monitor=\"val_loss\", verbose=1), late_stop]\n",
    "tune_model.compile(optimizer=optimizers.Adamax(0.0001),loss=\"binary_crossentropy\", weighted_metrics=[\"accuracy\"])\n",
    "hist = tune_model.fit(ds_train_batch, epochs=120, validation_data=ds_test_batch, callbacks=callbacks)"
   ]
  },
  {
   "cell_type": "code",
   "execution_count": 62,
   "metadata": {},
   "outputs": [
    {
     "data": {
      "image/png": "[encoded data removed]",
      "text/plain": [
       "<Figure size 1000x480 with 2 Axes>"
      ]
     },
     "metadata": {},
     "output_type": "display_data"
    },
    {
     "name": "stdout",
     "output_type": "stream",
     "text": [
      "Epoch: 30 - Model accuracy: 0.8733320236206055 - Best accuracy: 0.874612033367157\n"
     ]
    }
   ],
   "source": [
    "print_plot(\"Fine_tuning_00001\", hist)\n",
    "min_loss = min(hist.history['val_loss'])\n",
    "epoch = 0\n",
    "\n",
    "for x in range(0, len(hist.history['val_loss'])):\n",
    "    if hist.history['val_loss'][x] == min_loss:\n",
    "        epoch = x + 1\n",
    "        acc = hist.history['val_accuracy'][x]\n",
    "\n",
    "print(\"Epoch:\", epoch, \"- Model accuracy:\", acc, \"- Best accuracy:\", max(hist.history['val_accuracy']))"
   ]
  },
  {
   "cell_type": "code",
   "execution_count": 63,
   "metadata": {},
   "outputs": [
    {
     "name": "stdout",
     "output_type": "stream",
     "text": [
      "Epoch 1/120\n",
      "990/992 [============================>.] - ETA: 0s - loss: 0.2915 - accuracy: 0.8913\n",
      "Epoch 1: val_loss improved from inf to 0.35784, saving model to models\\best_model.keras\n",
      "992/992 [==============================] - 22s 21ms/step - loss: 0.2914 - accuracy: 0.8914 - val_loss: 0.3578 - val_accuracy: 0.8725\n",
      "Epoch 2/120\n",
      "991/992 [============================>.] - ETA: 0s - loss: 0.2908 - accuracy: 0.8910\n",
      "Epoch 2: val_loss did not improve from 0.35784\n",
      "992/992 [==============================] - 20s 21ms/step - loss: 0.2908 - accuracy: 0.8910 - val_loss: 0.3608 - val_accuracy: 0.8724\n",
      "Epoch 3/120\n",
      "990/992 [============================>.] - ETA: 0s - loss: 0.2902 - accuracy: 0.8917\n",
      "Epoch 3: val_loss did not improve from 0.35784\n",
      "992/992 [==============================] - 22s 22ms/step - loss: 0.2902 - accuracy: 0.8917 - val_loss: 0.3589 - val_accuracy: 0.8741\n",
      "Epoch 4/120\n",
      "989/992 [============================>.] - ETA: 0s - loss: 0.2910 - accuracy: 0.8907\n",
      "Epoch 4: val_loss did not improve from 0.35784\n",
      "992/992 [==============================] - 23s 23ms/step - loss: 0.2910 - accuracy: 0.8907 - val_loss: 0.3587 - val_accuracy: 0.8724\n",
      "Epoch 5/120\n",
      "990/992 [============================>.] - ETA: 0s - loss: 0.2909 - accuracy: 0.8912\n",
      "Epoch 5: val_loss did not improve from 0.35784\n",
      "992/992 [==============================] - 22s 22ms/step - loss: 0.2909 - accuracy: 0.8912 - val_loss: 0.3604 - val_accuracy: 0.8718\n",
      "Epoch 6/120\n",
      "989/992 [============================>.] - ETA: 0s - loss: 0.2898 - accuracy: 0.8912\n",
      "Epoch 6: val_loss did not improve from 0.35784\n",
      "992/992 [==============================] - 22s 22ms/step - loss: 0.2897 - accuracy: 0.8913 - val_loss: 0.3584 - val_accuracy: 0.8724\n",
      "Epoch 7/120\n",
      "989/992 [============================>.] - ETA: 0s - loss: 0.2900 - accuracy: 0.8918\n",
      "Epoch 7: val_loss did not improve from 0.35784\n",
      "992/992 [==============================] - 21s 21ms/step - loss: 0.2902 - accuracy: 0.8917 - val_loss: 0.3584 - val_accuracy: 0.8715\n",
      "Epoch 8/120\n",
      "991/992 [============================>.] - ETA: 0s - loss: 0.2897 - accuracy: 0.8918\n",
      "Epoch 8: val_loss did not improve from 0.35784\n",
      "992/992 [==============================] - 22s 22ms/step - loss: 0.2897 - accuracy: 0.8917 - val_loss: 0.3583 - val_accuracy: 0.8724\n",
      "Epoch 9/120\n",
      "989/992 [============================>.] - ETA: 0s - loss: 0.2904 - accuracy: 0.8911\n",
      "Epoch 9: val_loss did not improve from 0.35784\n",
      "992/992 [==============================] - 21s 21ms/step - loss: 0.2902 - accuracy: 0.8912 - val_loss: 0.3588 - val_accuracy: 0.8697\n",
      "Epoch 10/120\n",
      "990/992 [============================>.] - ETA: 0s - loss: 0.2893 - accuracy: 0.8915\n",
      "Epoch 10: val_loss did not improve from 0.35784\n",
      "992/992 [==============================] - 19s 19ms/step - loss: 0.2893 - accuracy: 0.8916 - val_loss: 0.3582 - val_accuracy: 0.8732\n",
      "Epoch 11/120\n",
      "991/992 [============================>.] - ETA: 0s - loss: 0.2898 - accuracy: 0.8914\n",
      "Epoch 11: val_loss did not improve from 0.35784\n",
      "992/992 [==============================] - 21s 21ms/step - loss: 0.2899 - accuracy: 0.8914 - val_loss: 0.3597 - val_accuracy: 0.8706\n",
      "Epoch 12/120\n",
      "992/992 [==============================] - ETA: 0s - loss: 0.2902 - accuracy: 0.8914\n",
      "Epoch 12: val_loss did not improve from 0.35784\n",
      "992/992 [==============================] - 22s 22ms/step - loss: 0.2902 - accuracy: 0.8914 - val_loss: 0.3596 - val_accuracy: 0.8706\n",
      "Epoch 13/120\n",
      "989/992 [============================>.] - ETA: 0s - loss: 0.2904 - accuracy: 0.8913\n",
      "Epoch 13: val_loss did not improve from 0.35784\n",
      "992/992 [==============================] - 18s 18ms/step - loss: 0.2905 - accuracy: 0.8913 - val_loss: 0.3604 - val_accuracy: 0.8692\n",
      "Epoch 14/120\n",
      "990/992 [============================>.] - ETA: 0s - loss: 0.2905 - accuracy: 0.8908\n",
      "Epoch 14: val_loss did not improve from 0.35784\n",
      "992/992 [==============================] - 19s 19ms/step - loss: 0.2905 - accuracy: 0.8908 - val_loss: 0.3585 - val_accuracy: 0.8741\n",
      "Epoch 15/120\n",
      "991/992 [============================>.] - ETA: 0s - loss: 0.2898 - accuracy: 0.8912\n",
      "Epoch 15: val_loss did not improve from 0.35784\n",
      "992/992 [==============================] - 20s 20ms/step - loss: 0.2898 - accuracy: 0.8912 - val_loss: 0.3579 - val_accuracy: 0.8729\n",
      "Epoch 16/120\n",
      "989/992 [============================>.] - ETA: 0s - loss: 0.2902 - accuracy: 0.8911\n",
      "Epoch 16: val_loss improved from 0.35784 to 0.35780, saving model to models\\best_model.keras\n",
      "992/992 [==============================] - 20s 20ms/step - loss: 0.2903 - accuracy: 0.8911 - val_loss: 0.3578 - val_accuracy: 0.8711\n",
      "Epoch 17/120\n",
      "990/992 [============================>.] - ETA: 0s - loss: 0.2890 - accuracy: 0.8920\n",
      "Epoch 17: val_loss did not improve from 0.35780\n",
      "992/992 [==============================] - 19s 19ms/step - loss: 0.2890 - accuracy: 0.8920 - val_loss: 0.3580 - val_accuracy: 0.8732\n",
      "Epoch 18/120\n",
      "992/992 [==============================] - ETA: 0s - loss: 0.2890 - accuracy: 0.8916\n",
      "Epoch 18: val_loss did not improve from 0.35780\n",
      "992/992 [==============================] - 20s 20ms/step - loss: 0.2890 - accuracy: 0.8916 - val_loss: 0.3587 - val_accuracy: 0.8724\n",
      "Epoch 19/120\n",
      "989/992 [============================>.] - ETA: 0s - loss: 0.2900 - accuracy: 0.8918\n",
      "Epoch 19: val_loss improved from 0.35780 to 0.35762, saving model to models\\best_model.keras\n",
      "992/992 [==============================] - 21s 21ms/step - loss: 0.2901 - accuracy: 0.8918 - val_loss: 0.3576 - val_accuracy: 0.8729\n",
      "Epoch 20/120\n",
      "989/992 [============================>.] - ETA: 0s - loss: 0.2898 - accuracy: 0.8915\n",
      "Epoch 20: val_loss did not improve from 0.35762\n",
      "992/992 [==============================] - 19s 19ms/step - loss: 0.2899 - accuracy: 0.8915 - val_loss: 0.3604 - val_accuracy: 0.8731\n",
      "Epoch 21/120\n",
      "991/992 [============================>.] - ETA: 0s - loss: 0.2894 - accuracy: 0.8922\n",
      "Epoch 21: val_loss did not improve from 0.35762\n",
      "992/992 [==============================] - 19s 19ms/step - loss: 0.2894 - accuracy: 0.8922 - val_loss: 0.3592 - val_accuracy: 0.8706\n",
      "Epoch 22/120\n",
      "989/992 [============================>.] - ETA: 0s - loss: 0.2902 - accuracy: 0.8909\n",
      "Epoch 22: val_loss did not improve from 0.35762\n",
      "992/992 [==============================] - 21s 21ms/step - loss: 0.2901 - accuracy: 0.8909 - val_loss: 0.3600 - val_accuracy: 0.8692\n",
      "Epoch 23/120\n",
      "989/992 [============================>.] - ETA: 0s - loss: 0.2904 - accuracy: 0.8913\n",
      "Epoch 23: val_loss did not improve from 0.35762\n",
      "992/992 [==============================] - 21s 21ms/step - loss: 0.2904 - accuracy: 0.8913 - val_loss: 0.3592 - val_accuracy: 0.8710\n",
      "Epoch 24/120\n",
      "992/992 [==============================] - ETA: 0s - loss: 0.2898 - accuracy: 0.8914\n",
      "Epoch 24: val_loss did not improve from 0.35762\n",
      "992/992 [==============================] - 22s 22ms/step - loss: 0.2898 - accuracy: 0.8914 - val_loss: 0.3581 - val_accuracy: 0.8750\n",
      "Epoch 25/120\n",
      "992/992 [==============================] - ETA: 0s - loss: 0.2899 - accuracy: 0.8912\n",
      "Epoch 25: val_loss did not improve from 0.35762\n",
      "992/992 [==============================] - 22s 22ms/step - loss: 0.2899 - accuracy: 0.8912 - val_loss: 0.3612 - val_accuracy: 0.8684\n",
      "Epoch 26/120\n",
      "990/992 [============================>.] - ETA: 0s - loss: 0.2892 - accuracy: 0.8916\n",
      "Epoch 26: val_loss improved from 0.35762 to 0.35760, saving model to models\\best_model.keras\n",
      "992/992 [==============================] - 22s 22ms/step - loss: 0.2892 - accuracy: 0.8916 - val_loss: 0.3576 - val_accuracy: 0.8729\n",
      "Epoch 27/120\n",
      "990/992 [============================>.] - ETA: 0s - loss: 0.2900 - accuracy: 0.8910\n",
      "Epoch 27: val_loss did not improve from 0.35760\n",
      "992/992 [==============================] - 21s 21ms/step - loss: 0.2900 - accuracy: 0.8910 - val_loss: 0.3598 - val_accuracy: 0.8727\n",
      "Epoch 28/120\n",
      "990/992 [============================>.] - ETA: 0s - loss: 0.2897 - accuracy: 0.8922\n",
      "Epoch 28: val_loss did not improve from 0.35760\n",
      "992/992 [==============================] - 19s 19ms/step - loss: 0.2897 - accuracy: 0.8921 - val_loss: 0.3583 - val_accuracy: 0.8732\n",
      "Epoch 29/120\n",
      "990/992 [============================>.] - ETA: 0s - loss: 0.2884 - accuracy: 0.8920\n",
      "Epoch 29: val_loss did not improve from 0.35760\n",
      "992/992 [==============================] - 21s 21ms/step - loss: 0.2884 - accuracy: 0.8919 - val_loss: 0.3581 - val_accuracy: 0.8732\n",
      "Epoch 30/120\n",
      "990/992 [============================>.] - ETA: 0s - loss: 0.2883 - accuracy: 0.8925\n",
      "Epoch 30: val_loss did not improve from 0.35760\n",
      "992/992 [==============================] - 23s 23ms/step - loss: 0.2882 - accuracy: 0.8924 - val_loss: 0.3591 - val_accuracy: 0.8736\n",
      "Epoch 31/120\n",
      "992/992 [==============================] - ETA: 0s - loss: 0.2885 - accuracy: 0.8915\n",
      "Epoch 31: val_loss did not improve from 0.35760\n",
      "992/992 [==============================] - 23s 23ms/step - loss: 0.2885 - accuracy: 0.8915 - val_loss: 0.3604 - val_accuracy: 0.8684\n",
      "Epoch 32/120\n",
      "992/992 [==============================] - ETA: 0s - loss: 0.2888 - accuracy: 0.8922\n",
      "Epoch 32: val_loss did not improve from 0.35760\n",
      "992/992 [==============================] - 23s 23ms/step - loss: 0.2888 - accuracy: 0.8922 - val_loss: 0.3596 - val_accuracy: 0.8680\n",
      "Epoch 33/120\n",
      "990/992 [============================>.] - ETA: 0s - loss: 0.2894 - accuracy: 0.8918\n",
      "Epoch 33: val_loss did not improve from 0.35760\n",
      "992/992 [==============================] - 23s 23ms/step - loss: 0.2893 - accuracy: 0.8919 - val_loss: 0.3594 - val_accuracy: 0.8718\n",
      "Epoch 34/120\n",
      "990/992 [============================>.] - ETA: 0s - loss: 0.2894 - accuracy: 0.8912\n",
      "Epoch 34: val_loss did not improve from 0.35760\n",
      "992/992 [==============================] - 23s 23ms/step - loss: 0.2893 - accuracy: 0.8913 - val_loss: 0.3581 - val_accuracy: 0.8736\n",
      "Epoch 35/120\n",
      "990/992 [============================>.] - ETA: 0s - loss: 0.2884 - accuracy: 0.8917\n",
      "Epoch 35: val_loss did not improve from 0.35760\n",
      "992/992 [==============================] - 23s 23ms/step - loss: 0.2884 - accuracy: 0.8916 - val_loss: 0.3584 - val_accuracy: 0.8732\n",
      "Epoch 36/120\n",
      "990/992 [============================>.] - ETA: 0s - loss: 0.2895 - accuracy: 0.8910\n",
      "Epoch 36: val_loss did not improve from 0.35760\n",
      "992/992 [==============================] - 22s 22ms/step - loss: 0.2895 - accuracy: 0.8910 - val_loss: 0.3581 - val_accuracy: 0.8724\n",
      "Epoch 37/120\n",
      "990/992 [============================>.] - ETA: 0s - loss: 0.2879 - accuracy: 0.8929\n",
      "Epoch 37: val_loss did not improve from 0.35760\n",
      "992/992 [==============================] - 23s 23ms/step - loss: 0.2880 - accuracy: 0.8929 - val_loss: 0.3591 - val_accuracy: 0.8715\n",
      "Epoch 38/120\n",
      "990/992 [============================>.] - ETA: 0s - loss: 0.2887 - accuracy: 0.8920\n",
      "Epoch 38: val_loss improved from 0.35760 to 0.35734, saving model to models\\best_model.keras\n",
      "992/992 [==============================] - 24s 24ms/step - loss: 0.2887 - accuracy: 0.8920 - val_loss: 0.3573 - val_accuracy: 0.8732\n",
      "Epoch 39/120\n",
      "991/992 [============================>.] - ETA: 0s - loss: 0.2885 - accuracy: 0.8918\n",
      "Epoch 39: val_loss did not improve from 0.35734\n",
      "992/992 [==============================] - 23s 24ms/step - loss: 0.2885 - accuracy: 0.8918 - val_loss: 0.3577 - val_accuracy: 0.8750\n",
      "Epoch 40/120\n",
      "990/992 [============================>.] - ETA: 0s - loss: 0.2885 - accuracy: 0.8922\n",
      "Epoch 40: val_loss did not improve from 0.35734\n",
      "992/992 [==============================] - 23s 23ms/step - loss: 0.2885 - accuracy: 0.8922 - val_loss: 0.3611 - val_accuracy: 0.8687\n",
      "Epoch 41/120\n",
      "990/992 [============================>.] - ETA: 0s - loss: 0.2880 - accuracy: 0.8928\n",
      "Epoch 41: val_loss did not improve from 0.35734\n",
      "992/992 [==============================] - 23s 23ms/step - loss: 0.2880 - accuracy: 0.8928 - val_loss: 0.3598 - val_accuracy: 0.8713\n",
      "Epoch 42/120\n",
      "991/992 [============================>.] - ETA: 0s - loss: 0.2895 - accuracy: 0.8919\n",
      "Epoch 42: val_loss did not improve from 0.35734\n",
      "992/992 [==============================] - 23s 23ms/step - loss: 0.2895 - accuracy: 0.8919 - val_loss: 0.3594 - val_accuracy: 0.8727\n",
      "Epoch 43/120\n",
      "989/992 [============================>.] - ETA: 0s - loss: 0.2878 - accuracy: 0.8920\n",
      "Epoch 43: val_loss did not improve from 0.35734\n",
      "992/992 [==============================] - 23s 23ms/step - loss: 0.2879 - accuracy: 0.8919 - val_loss: 0.3596 - val_accuracy: 0.8701\n",
      "Epoch 44/120\n",
      "992/992 [==============================] - ETA: 0s - loss: 0.2878 - accuracy: 0.8923\n",
      "Epoch 44: val_loss did not improve from 0.35734\n",
      "992/992 [==============================] - 23s 23ms/step - loss: 0.2878 - accuracy: 0.8923 - val_loss: 0.3605 - val_accuracy: 0.8705\n",
      "Epoch 45/120\n",
      "990/992 [============================>.] - ETA: 0s - loss: 0.2888 - accuracy: 0.8915\n",
      "Epoch 45: val_loss did not improve from 0.35734\n",
      "992/992 [==============================] - 23s 23ms/step - loss: 0.2888 - accuracy: 0.8914 - val_loss: 0.3589 - val_accuracy: 0.8710\n",
      "Epoch 46/120\n",
      "992/992 [==============================] - ETA: 0s - loss: 0.2880 - accuracy: 0.8923\n",
      "Epoch 46: val_loss did not improve from 0.35734\n",
      "992/992 [==============================] - 22s 22ms/step - loss: 0.2880 - accuracy: 0.8923 - val_loss: 0.3594 - val_accuracy: 0.8713\n",
      "Epoch 47/120\n",
      "989/992 [============================>.] - ETA: 0s - loss: 0.2876 - accuracy: 0.8923\n",
      "Epoch 47: val_loss did not improve from 0.35734\n",
      "992/992 [==============================] - 22s 23ms/step - loss: 0.2877 - accuracy: 0.8922 - val_loss: 0.3580 - val_accuracy: 0.8736\n",
      "Epoch 48/120\n",
      "992/992 [==============================] - ETA: 0s - loss: 0.2880 - accuracy: 0.8916\n",
      "Epoch 48: val_loss did not improve from 0.35734\n",
      "992/992 [==============================] - 23s 23ms/step - loss: 0.2880 - accuracy: 0.8916 - val_loss: 0.3591 - val_accuracy: 0.8692\n",
      "Epoch 49/120\n",
      "990/992 [============================>.] - ETA: 0s - loss: 0.2883 - accuracy: 0.8928\n",
      "Epoch 49: val_loss did not improve from 0.35734\n",
      "992/992 [==============================] - 23s 23ms/step - loss: 0.2883 - accuracy: 0.8928 - val_loss: 0.3576 - val_accuracy: 0.8715\n",
      "Epoch 50/120\n",
      "989/992 [============================>.] - ETA: 0s - loss: 0.2888 - accuracy: 0.8924\n",
      "Epoch 50: val_loss did not improve from 0.35734\n",
      "992/992 [==============================] - 23s 23ms/step - loss: 0.2888 - accuracy: 0.8923 - val_loss: 0.3592 - val_accuracy: 0.8710\n",
      "Epoch 51/120\n",
      "991/992 [============================>.] - ETA: 0s - loss: 0.2874 - accuracy: 0.8926\n",
      "Epoch 51: val_loss did not improve from 0.35734\n",
      "992/992 [==============================] - 22s 23ms/step - loss: 0.2874 - accuracy: 0.8926 - val_loss: 0.3594 - val_accuracy: 0.8705\n",
      "Epoch 52/120\n",
      "989/992 [============================>.] - ETA: 0s - loss: 0.2881 - accuracy: 0.8919\n",
      "Epoch 52: val_loss did not improve from 0.35734\n",
      "992/992 [==============================] - 23s 23ms/step - loss: 0.2881 - accuracy: 0.8919 - val_loss: 0.3584 - val_accuracy: 0.8727\n",
      "Epoch 53/120\n",
      "989/992 [============================>.] - ETA: 0s - loss: 0.2888 - accuracy: 0.8917\n",
      "Epoch 53: val_loss did not improve from 0.35734\n",
      "992/992 [==============================] - 23s 23ms/step - loss: 0.2888 - accuracy: 0.8917 - val_loss: 0.3582 - val_accuracy: 0.8736\n",
      "Epoch 54/120\n",
      "990/992 [============================>.] - ETA: 0s - loss: 0.2877 - accuracy: 0.8919\n",
      "Epoch 54: val_loss did not improve from 0.35734\n",
      "992/992 [==============================] - 23s 23ms/step - loss: 0.2878 - accuracy: 0.8919 - val_loss: 0.3596 - val_accuracy: 0.8734\n",
      "Epoch 55/120\n",
      "991/992 [============================>.] - ETA: 0s - loss: 0.2877 - accuracy: 0.8926\n",
      "Epoch 55: val_loss did not improve from 0.35734\n",
      "992/992 [==============================] - 22s 23ms/step - loss: 0.2877 - accuracy: 0.8925 - val_loss: 0.3579 - val_accuracy: 0.8727\n",
      "Epoch 56/120\n",
      "989/992 [============================>.] - ETA: 0s - loss: 0.2879 - accuracy: 0.8922\n",
      "Epoch 56: val_loss did not improve from 0.35734\n",
      "992/992 [==============================] - 23s 23ms/step - loss: 0.2879 - accuracy: 0.8922 - val_loss: 0.3583 - val_accuracy: 0.8727\n",
      "Epoch 57/120\n",
      "989/992 [============================>.] - ETA: 0s - loss: 0.2869 - accuracy: 0.8928\n",
      "Epoch 57: val_loss did not improve from 0.35734\n",
      "992/992 [==============================] - 23s 23ms/step - loss: 0.2869 - accuracy: 0.8927 - val_loss: 0.3592 - val_accuracy: 0.8705\n",
      "Epoch 58/120\n",
      "990/992 [============================>.] - ETA: 0s - loss: 0.2874 - accuracy: 0.8920\n",
      "Epoch 58: val_loss did not improve from 0.35734\n",
      "992/992 [==============================] - 23s 23ms/step - loss: 0.2874 - accuracy: 0.8921 - val_loss: 0.3578 - val_accuracy: 0.8727\n",
      "Epoch 58: early stopping\n"
     ]
    }
   ],
   "source": [
    "tune_model = load_model(\"models/fine_tunning00001.keras\")\n",
    "callbacks = [keras.callbacks.ModelCheckpoint(filepath=\"models/best_model.keras\",save_best_only=True,monitor=\"val_loss\", verbose=1), late_stop]\n",
    "tune_model.compile(optimizer=optimizers.Adamax(0.00001),loss=\"binary_crossentropy\", weighted_metrics=[\"accuracy\"])\n",
    "hist = tune_model.fit(ds_train_batch, epochs=120, validation_data=ds_test_batch, callbacks=callbacks)"
   ]
  },
  {
   "cell_type": "code",
   "execution_count": 64,
   "metadata": {},
   "outputs": [
    {
     "data": {
      "image/png": "[encoded data removed]",
      "text/plain": [
       "<Figure size 1000x480 with 2 Axes>"
      ]
     },
     "metadata": {},
     "output_type": "display_data"
    },
    {
     "name": "stdout",
     "output_type": "stream",
     "text": [
      "Epoch: 38 - Model accuracy: 0.8732268214225769 - Best accuracy: 0.8749707341194153\n"
     ]
    }
   ],
   "source": [
    "print_plot(\"Fine_tuning_000001\", hist)\n",
    "min_loss = min(hist.history['val_loss'])\n",
    "epoch = 0\n",
    "\n",
    "for x in range(0, len(hist.history['val_loss'])):\n",
    "    if hist.history['val_loss'][x] == min_loss:\n",
    "        epoch = x + 1\n",
    "        acc = hist.history['val_accuracy'][x]\n",
    "\n",
    "print(\"Epoch:\", epoch, \"- Model accuracy:\", acc, \"- Best accuracy:\", max(hist.history['val_accuracy']))"
   ]
  },
  {
   "attachments": {},
   "cell_type": "markdown",
   "metadata": {},
   "source": [
    "## 4.Results\n",
    "\n",
    "In this section we show the final results"
   ]
  },
  {
   "cell_type": "code",
   "execution_count": 67,
   "metadata": {},
   "outputs": [
    {
     "name": "stdout",
     "output_type": "stream",
     "text": [
      "Test model - Acc: 85.92\n",
      "Test model with reg - Acc: 87.06\n",
      "Test model finetuning - Acc: 87.32\n"
     ]
    },
    {
     "data": {
      "image/png": "[encoded data removed]",
      "text/plain": [
       "<Figure size 640x480 with 1 Axes>"
      ]
     },
     "metadata": {},
     "output_type": "display_data"
    }
   ],
   "source": [
    "acc_models = [85.92, 87.06, 87.32]\n",
    "acc_names = [\"Test model\", \"Test model with reg\", \"Test model finetuning\"]\n",
    "\n",
    "for i in range(0,len(acc_names)):\n",
    "    print(acc_names[i], '- Acc:', acc_models[i])\n",
    "\n",
    "plt.bar(acc_names,acc_models)\n",
    "plt.title('Final model Metrics evaluation')\n",
    "plt.ylabel('Accuracy')\n",
    "plt.show()"
   ]
  },
  {
   "attachments": {},
   "cell_type": "markdown",
   "metadata": {},
   "source": [
    "In the above graphic we can see the evolution of our model two the three steps that we set for our selection, first the test of different arquitectures, then the test of different regularization techniques on those models and finally the fine tunning of our final model.\n",
    "\n",
    "As stated before, better validation accuracy metrics have been obtained, but we decide to use the ones that correspond to the lowest loss value. In the final execution of our model, the validation accuracy was 87.32."
   ]
  }
 ],
 "metadata": {
  "accelerator": "GPU",
  "colab": {
   "collapsed_sections": [],
   "name": "Proyecto_naive_sexo.ipynb",
   "provenance": [
    {
     "file_id": "1b4Umu49DXkRlP0wTHxe9Uh6daxBZY3Ow",
     "timestamp": 1634319602209
    }
   ]
  },
  "kernelspec": {
   "display_name": "gpu_dl",
   "language": "python",
   "name": "python3"
  },
  "language_info": {
   "codemirror_mode": {
    "name": "ipython",
    "version": 3
   },
   "file_extension": ".py",
   "mimetype": "text/x-python",
   "name": "python",
   "nbconvert_exporter": "python",
   "pygments_lexer": "ipython3",
   "version": "3.9.16"
  },
  "vscode": {
   "interpreter": {
    "hash": "dc1cbb69057387e89726fbc45f42f32a2aff154018a648512bec8513173a02f9"
   }
  }
 },
 "nbformat": 4,
 "nbformat_minor": 1
}
