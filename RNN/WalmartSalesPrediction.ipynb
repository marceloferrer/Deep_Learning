{
 "cells": [
  {
   "attachments": {},
   "cell_type": "markdown",
   "id": "ff7c0fb8",
   "metadata": {},
   "source": [
    "Deep Learning Recurrent Neural Network\n",
    "\n",
    "Development of a recurrent network to solve a prediction problem for time series. The feature to be predicted is the weakly sales in 3 weeks."
   ]
  },
  {
   "attachments": {},
   "cell_type": "markdown",
   "id": "f27bfc7a",
   "metadata": {},
   "source": [
    "The notebook is divided in sections with the following structure:\n",
    "1. Imports, declarations and configuration\n",
    "2. Dataset\n",
    "3. Testing </br>\n",
    "    Base Model</br>\n",
    "    Optimizer Selection</br>\n",
    "    Test length</br>\n",
    "    Complex models</br>\n",
    "    Regularization</br>\n",
    "    Optimizing learning rate</br>\n",
    "4. Results</br>"
   ]
  },
  {
   "attachments": {},
   "cell_type": "markdown",
   "id": "6953c431",
   "metadata": {},
   "source": [
    "## 1. Imports, declarations and configuration\n",
    "\n",
    "In this section we define the necessary imports, declarations and configuration to run the application. "
   ]
  },
  {
   "cell_type": "code",
   "execution_count": 1,
   "id": "e9bb350f",
   "metadata": {},
   "outputs": [],
   "source": [
    "import os\n",
    "import numpy as np\n",
    "import tensorflow as tf\n",
    "from tensorflow import keras\n",
    "from tensorflow.keras import layers\n",
    "from keras.callbacks import EarlyStopping\n",
    "import matplotlib.pyplot as plt\n",
    "from tensorflow.keras import regularizers\n",
    "from tensorflow.keras import optimizers"
   ]
  },
  {
   "cell_type": "code",
   "execution_count": 2,
   "id": "7a963cd9",
   "metadata": {},
   "outputs": [
    {
     "name": "stdout",
     "output_type": "stream",
     "text": [
      "Using GPU\n"
     ]
    }
   ],
   "source": [
    "# Verify that GPU is active\n",
    "gpu_active = tf.config.list_physical_devices('GPU')\n",
    "\n",
    "if (len(gpu_active) == 0):\n",
    "    print(\"NO GPU ACTIVE!!!\")\n",
    "else:\n",
    "    print(\"Using GPU\")"
   ]
  },
  {
   "cell_type": "code",
   "execution_count": 3,
   "id": "3827e1de",
   "metadata": {},
   "outputs": [],
   "source": [
    "# The only parameter that can be modified for the data preparation method is the length of the sequences to be generated\n",
    "length_value = 8\n",
    "\n",
    "# If activated test the simple models\n",
    "test_simple = False\n",
    "# If activated test the optimizers\n",
    "test_optimizer = False\n",
    "# If activated test different lengths for the sequence\n",
    "test_length = False\n",
    "# If activated test the complex models\n",
    "test_complex = False\n",
    "# If activated test the regularization and optimizations\n",
    "test_reg = False"
   ]
  },
  {
   "attachments": {},
   "cell_type": "markdown",
   "id": "ec5464a3",
   "metadata": {},
   "source": [
    "## 2. Dataset\n",
    "\n",
    "In this section we load the dataset for training and validation with the provided functions. </br>"
   ]
  },
  {
   "cell_type": "code",
   "execution_count": 4,
   "id": "649b0883",
   "metadata": {},
   "outputs": [],
   "source": [
    "#Returns a numpy array with size nrows x ncolumns-1. nrows and ncolums are the rows and columns of the dataset\n",
    "#the Date column is skipped (ncolumns-1)\n",
    "def readData(fname):\n",
    "    with open(fname) as f:\n",
    "        fileData = f.read()\n",
    "  \n",
    "    lines = fileData.split(\"\\n\")\n",
    "    header = lines[0].split(\",\")\n",
    "    lines = lines[1:] \n",
    "    #print(header) \n",
    "    #print(\"Data rows: \", len(lines))\n",
    "\n",
    "    rawData = np.zeros((len(lines), len(header)-1)) #skip the Date column\n",
    "\n",
    "    for i, aLine in enumerate(lines):       \n",
    "        splittedLine = aLine.split(\",\")[:]\n",
    "        rawData[i, 0] = splittedLine[0]\n",
    "        rawData[i, 1:] = [float(x) for x in splittedLine[2:]] \n",
    "\n",
    "    return rawData"
   ]
  },
  {
   "cell_type": "code",
   "execution_count": 5,
   "id": "4cedb758",
   "metadata": {},
   "outputs": [],
   "source": [
    "#Returns the train and test data, normalized. It also returns the standard deviation of Weekly_Sales\n",
    "#Each list has a size equal to the number of stores\n",
    "#For each store there is a list of size trainNSaples (testNSamples) x nColums-1 (the store id is skipped)\n",
    "#Columns: Weekly_Sales,Holiday_Flag,Temperature,Fuel_Price,CPI,Unemployment\n",
    "def splitTrainTest(rawData, testPercent):\n",
    "\n",
    "    listStore = np.unique(rawData[:, 0])\n",
    "    trainNSamples = np.zeros(len(listStore))\n",
    "    \n",
    "    for i, storeId in enumerate(listStore):\n",
    "        trainNSamples[i] = np.count_nonzero(rawData[:, 0] == storeId)\n",
    "    trainNSamples = np.floor((1-testPercent) *  trainNSamples)\n",
    "\n",
    "    tmpTrain = np.zeros((int(np.sum(trainNSamples)), len(rawData[0])))\n",
    "\n",
    "    store = -1\n",
    "    counter = 0\n",
    "    counterTrain = 0\n",
    "    storeDict = dict(zip(listStore, trainNSamples))\n",
    "    for i, aLine in enumerate(rawData):\n",
    "        if store != aLine[0]:\n",
    "            store = int(aLine[0])\n",
    "            counter = 0\n",
    "        if(counter < storeDict.get(store)):\n",
    "            tmpTrain[counterTrain] = rawData[i][:]\n",
    "            counterTrain += 1\n",
    "            counter += 1\n",
    "\n",
    "    meanData = tmpTrain.mean(axis=0)\n",
    "    stdData = tmpTrain.std(axis=0)\n",
    "    rawNormData = (rawData - meanData) / stdData\n",
    "\n",
    "    allTrain = list()\n",
    "    allTest = list()\n",
    "    store = -1\n",
    "    counter = 0\n",
    "    for i, aLine in enumerate(rawNormData):\n",
    "        splittedLine = [float(x) for x in aLine[1:]] #skip store id\n",
    "        if store != rawData[i][0]:\n",
    "            if i != 0:\n",
    "                allTrain.append(storeDataTrain)\n",
    "                allTest.append(storeDataTest)\n",
    "            store = int(rawData[i][0])\n",
    "            storeDataTrain = list()\n",
    "            storeDataTest = list()\n",
    "            counter = 0\n",
    "\n",
    "        if(counter < storeDict.get(store)):\n",
    "            storeDataTrain.append(splittedLine)\n",
    "            counter += 1\n",
    "        else:\n",
    "            storeDataTest.append(splittedLine)\n",
    "\n",
    "        if i == len(rawNormData)-1:\n",
    "            allTrain.append(storeDataTrain)\n",
    "            allTest.append(storeDataTest)\n",
    "\n",
    "    return allTrain, allTest, stdData[1] #std of wSales"
   ]
  },
  {
   "cell_type": "code",
   "execution_count": 6,
   "id": "1eb8e1f6",
   "metadata": {},
   "outputs": [],
   "source": [
    "#generates a time series given the input and output data, the sequence length and the batch size\n",
    "#seqLength is the number of weeks (observations) of data to be used as input\n",
    "#the target will be the weekly sales in 2 weeks\n",
    "def generateTimeSeries(data, wSales, seqLength, batchSize):   \n",
    "    sampling_rate = 1 #keep all the data points \n",
    "    weeksInAdvance = 3\n",
    "    delay = sampling_rate * (seqLength + weeksInAdvance - 1) #the target will be the weekly sales in 2 weeks\n",
    "    \n",
    "    dataset = keras.utils.timeseries_dataset_from_array(\n",
    "        data[:-delay],\n",
    "        targets=wSales[delay:],\n",
    "        sampling_rate=sampling_rate,\n",
    "        sequence_length=seqLength,\n",
    "        shuffle=True,\n",
    "        batch_size=batchSize,\n",
    "        start_index=0)\n",
    "    \n",
    "    return dataset"
   ]
  },
  {
   "cell_type": "code",
   "execution_count": 7,
   "id": "d09807fa",
   "metadata": {},
   "outputs": [],
   "source": [
    "def printTimeSeriesList(theList):\n",
    "    print('list length', len(theList))\n",
    "    print('First element')\n",
    "    input, target = theList[0]\n",
    "    print([float(x) for x in input.numpy().flatten()], [float(x) for x in target.numpy().flatten()])\n",
    "    print('Last element')\n",
    "    input, target = theList[-1]\n",
    "    print([float(x) for x in input.numpy().flatten()], [float(x) for x in target.numpy().flatten()])"
   ]
  },
  {
   "cell_type": "code",
   "execution_count": 8,
   "id": "bbeb5250",
   "metadata": {},
   "outputs": [],
   "source": [
    "#returns the training and test time series\n",
    "#it also returns the standard deviation of Weekly_Sales, and the number of input features\n",
    "def generateTrainTestData(fileName, testPercent, seqLength, batchSize):\n",
    "    rawData = readData(os.path.join(fileName))\n",
    "    allTrain, allTest, stdSales = splitTrainTest(rawData, testPercent)\n",
    "    \n",
    "    for i in range(len(allTrain)):\n",
    "        tmp_train = generateTimeSeries(np.array(allTrain[i]), np.array(allTrain[i])[:,0], seqLength, batchSize)\n",
    "        tmp_test = generateTimeSeries(np.array(allTest[i]), np.array(allTest[i])[:,0], seqLength, batchSize)\n",
    "\n",
    "        if i == 0:\n",
    "            train_dataset = tmp_train\n",
    "            test_dataset = tmp_test\n",
    "        else:\n",
    "            train_dataset = train_dataset.concatenate(tmp_train)\n",
    "            test_dataset = test_dataset.concatenate(tmp_test)\n",
    "    \n",
    "    return train_dataset, test_dataset, stdSales, np.shape(allTrain)[2]"
   ]
  },
  {
   "cell_type": "code",
   "execution_count": 9,
   "id": "c42e5791",
   "metadata": {},
   "outputs": [],
   "source": [
    "#generateTrainTestData(fileName, testPercent, seqLength, batchSize):\n",
    "#trainData, testData: each element comes from keras.utils.timeseries_dataset_from_array, i.e., is a time series\n",
    "#Columns: Weekly_Sales,Holiday_Flag,Temperature,Fuel_Price,CPI,Unemployment\n",
    "\n",
    "testPercent = 0.2\n",
    "seqLength = length_value\n",
    "batchSize = 1\n",
    "trainData, testData, stdSales, nFeatures = generateTrainTestData(\"dataset/walmart-sales-dataset-of-45stores.csv\",\n",
    "    testPercent, seqLength, batchSize) "
   ]
  },
  {
   "cell_type": "code",
   "execution_count": 10,
   "id": "8d39b028",
   "metadata": {},
   "outputs": [
    {
     "name": "stdout",
     "output_type": "stream",
     "text": [
      "Training rows:  4365\n",
      "Test rows: 540\n",
      "Standard deviation: 571854.7800576452\n",
      "6\n"
     ]
    }
   ],
   "source": [
    "print(\"Training rows: \", len(trainData))\n",
    "print(\"Test rows:\", len(testData))\n",
    "print(\"Standard deviation:\", stdSales)\n",
    "print(nFeatures)"
   ]
  },
  {
   "cell_type": "code",
   "execution_count": 11,
   "id": "4e9f49cb",
   "metadata": {},
   "outputs": [
    {
     "data": {
      "text/plain": [
       "tensorflow.python.data.ops.dataset_ops.ConcatenateDataset"
      ]
     },
     "execution_count": 11,
     "metadata": {},
     "output_type": "execute_result"
    }
   ],
   "source": [
    "print(type(trainData))"
   ]
  },
  {
   "cell_type": "code",
   "execution_count": 12,
   "id": "21465001",
   "metadata": {},
   "outputs": [
    {
     "name": "stdout",
     "output_type": "stream",
     "text": [
      "samples shape: (1, 8, 6)\n",
      "targets shape: (1,)\n"
     ]
    }
   ],
   "source": [
    "for samples, targets in trainData:\n",
    "    print(\"samples shape:\", samples.shape)\n",
    "    print(\"targets shape:\", targets.shape)\n",
    "    break"
   ]
  },
  {
   "attachments": {},
   "cell_type": "markdown",
   "id": "b25937b7",
   "metadata": {},
   "source": [
    "## 3. Testing\n",
    "\n",
    "In the testing section we experiment with different length, optimizers, models, hyperparameter and regularization to define our final model. We stored the testing results graph of the training and validation metrics in the images folder and the executed models in the models folder. Once we finish with the testing in each section, we disable it with the use of variables so we don't run it again every time we execute the notebook.\n",
    "\n",
    "Do not use GridSearch or RandomSearch methods because the time it takes to run only one test is large enough. Using this kind of testing takes hours or in some of our tests, exhaust the resources of the computer."
   ]
  },
  {
   "attachments": {},
   "cell_type": "markdown",
   "id": "c8662c47",
   "metadata": {},
   "source": [
    "### Supplementary functions and default configuration\n",
    "Supplementary functions to plot the data and return some predefined models. Default defined optimizers."
   ]
  },
  {
   "cell_type": "code",
   "execution_count": 13,
   "id": "bc439403",
   "metadata": {},
   "outputs": [],
   "source": [
    "# Function to get the callbacks for the test of the models\n",
    "def get_callbacks(name):\n",
    "    # This is to save computational power as a 15 epoch value without improvement we know is not going to get better\n",
    "    return [EarlyStopping(monitor='val_loss', patience=15, verbose=1),\n",
    "            # Save only the best model\n",
    "            keras.callbacks.ModelCheckpoint(filepath=\"models/\" + name + \".keras\",save_best_only=True,monitor=\"val_loss\", verbose=1)\n",
    "            ]"
   ]
  },
  {
   "cell_type": "code",
   "execution_count": 14,
   "id": "7cd39d34",
   "metadata": {},
   "outputs": [],
   "source": [
    "# Function to print the results of the training\n",
    "def print_plot(name, history, evaluate):\n",
    "    fig, axs = plt.subplots(1,1)\n",
    "    fig.suptitle(name)\n",
    "    fig.set_figwidth(10)\n",
    "    axs.plot(history.history['loss'])\n",
    "    axs.plot(history.history['val_loss'])\n",
    "    axs.set_title('Best metrics: ' + evaluate)\n",
    "    axs.set_xlabel('Epochs')\n",
    "    axs.legend(['MAE', 'Val_MAE'])\n",
    "    axs.set_ylim([0, 0.6])\n",
    "    plt.savefig('images/' + name + '.png')\n",
    "    plt.show()"
   ]
  },
  {
   "cell_type": "code",
   "execution_count": 15,
   "id": "6469fecd",
   "metadata": {},
   "outputs": [],
   "source": [
    "# Function to get the basic model\n",
    "def get_base_model():\n",
    "    inputs = keras.Input(shape=(seqLength, nFeatures))\n",
    "    x = layers.GRU(16, return_sequences=True)(inputs)\n",
    "    x = layers.GRU(16)(x)\n",
    "    outputs = layers.Dense(1)(x)\n",
    "    \n",
    "    return keras.Model(inputs, outputs)"
   ]
  },
  {
   "cell_type": "code",
   "execution_count": 16,
   "id": "7db9e629",
   "metadata": {},
   "outputs": [],
   "source": [
    "# Function to get the best optimizer (obtained in the test optimizer section)\n",
    "def get_optimizer():\n",
    "    return optimizers.Adamax(learning_rate=0.001)"
   ]
  },
  {
   "attachments": {},
   "cell_type": "markdown",
   "id": "42ffb0d7",
   "metadata": {},
   "source": [
    "### Base models\n",
    "\n",
    "In this subsection we start experiment with some basic models."
   ]
  },
  {
   "cell_type": "code",
   "execution_count": 17,
   "id": "cc796743",
   "metadata": {},
   "outputs": [],
   "source": [
    "if test_simple == True:\n",
    "    name = 'SimpleDense'\n",
    "    inputs = keras.Input(shape=(seqLength, nFeatures))\n",
    "    x = layers.Flatten()(inputs)\n",
    "    x = layers.Dense(16, activation=\"relu\")(x)\n",
    "    x = layers.Dense(16, activation=\"relu\")(x)\n",
    "    outputs = layers.Dense(1)(x)\n",
    "    model = keras.Model(inputs, outputs)\n",
    "    model.summary()\n",
    "\n",
    "    model.compile(optimizer=get_optimizer(), loss=\"mae\", metrics=[\"mae\"])\n",
    "    history = model.fit(trainData, validation_data=testData, epochs=100, callbacks=get_callbacks(name))"
   ]
  },
  {
   "attachments": {},
   "cell_type": "markdown",
   "id": "75b4b709",
   "metadata": {},
   "source": [
    "For obtaining the real MAE metrics we need to denormalize by multiplying by the standard deviation."
   ]
  },
  {
   "cell_type": "code",
   "execution_count": 18,
   "id": "611f87e6",
   "metadata": {},
   "outputs": [],
   "source": [
    "if test_simple == True:\n",
    "    model = keras.models.load_model(\"models/\" + name + \".keras\") \n",
    "    res = model.evaluate(testData)[1]\n",
    "\n",
    "    print_plot(name, history, f\"Test MAE: {res:.4f} - \" + f\"Real MAE: {res*stdSales:.2f}\")"
   ]
  },
  {
   "attachments": {},
   "cell_type": "markdown",
   "id": "f589f869",
   "metadata": {},
   "source": [
    "When we run the model, we save the images and the model in disk so we can use the model later if we need it and to show the result of the training in a markdown cell. This way, we don't need to rerun the cell to show the results.\n",
    "\n",
    "![](images/SimpleDense.png)"
   ]
  },
  {
   "attachments": {},
   "cell_type": "markdown",
   "id": "78afcc86",
   "metadata": {},
   "source": [
    "As expected, we can see that the results with this simple model is not what we are looking for as its far from the 68.000 threshold, and that's why we will proceed to build more complex models based in RNN layers that could effectively learn the patterns of our sequence data. </br>\n",
    "\n",
    "**SimpleRNN Model**"
   ]
  },
  {
   "cell_type": "code",
   "execution_count": 19,
   "id": "02d89f0b",
   "metadata": {},
   "outputs": [],
   "source": [
    "if test_simple == True:\n",
    "    name = 'SimpleRNN'\n",
    "    inputs = keras.Input(shape=(seqLength, nFeatures))\n",
    "    x = layers.SimpleRNN(16, return_sequences=True)(inputs)\n",
    "    x = layers.SimpleRNN(16)(x)\n",
    "    outputs = layers.Dense(1)(x)\n",
    "    model = keras.Model(inputs, outputs)\n",
    "    model.summary()\n",
    "\n",
    "    model.compile(optimizer=get_optimizer(), loss=\"mae\", metrics=[\"mae\"])\n",
    "    history = model.fit(trainData, validation_data=testData, epochs=100, callbacks=get_callbacks(name))"
   ]
  },
  {
   "cell_type": "code",
   "execution_count": 20,
   "id": "a6910265",
   "metadata": {},
   "outputs": [],
   "source": [
    "if test_simple == True:\n",
    "    model = keras.models.load_model(\"models/\" + name + \".keras\") \n",
    "    res = model.evaluate(testData)[1]\n",
    "\n",
    "    print_plot(name, history, f\"Test MAE: {res:.4f} - \" + f\"Real MAE: {res*stdSales:.2f}\")"
   ]
  },
  {
   "attachments": {},
   "cell_type": "markdown",
   "id": "2adc5c67",
   "metadata": {},
   "source": [
    "As we can see, the results are not better that the ones obtained with the dense model.\n",
    "\n",
    "![](images/SimpleRNN.png)"
   ]
  },
  {
   "attachments": {},
   "cell_type": "markdown",
   "id": "9eeccefe",
   "metadata": {},
   "source": [
    "**SimpleGRU**"
   ]
  },
  {
   "cell_type": "code",
   "execution_count": 21,
   "id": "c87ed480",
   "metadata": {},
   "outputs": [],
   "source": [
    "if test_simple == True:\n",
    "    name = 'SimpleGRU'\n",
    "    inputs = keras.Input(shape=(seqLength, nFeatures))\n",
    "    x = layers.GRU(16, return_sequences=True)(inputs)\n",
    "    x = layers.GRU(16)(x)\n",
    "    outputs = layers.Dense(1)(x)\n",
    "    model = keras.Model(inputs, outputs)\n",
    "    model.summary()\n",
    "\n",
    "    model.compile(optimizer=get_optimizer(), loss=\"mae\", metrics=[\"mae\"])\n",
    "    history = model.fit(trainData, validation_data=testData, epochs=100, callbacks=get_callbacks(name))"
   ]
  },
  {
   "cell_type": "code",
   "execution_count": 22,
   "id": "ef9d4aac",
   "metadata": {},
   "outputs": [],
   "source": [
    "if test_simple == True:\n",
    "    model = keras.models.load_model(\"models/\" + name + \".keras\") \n",
    "    res = model.evaluate(testData)[1]\n",
    "\n",
    "    print_plot(name, history, f\"Test MAE: {res:.4f} - \" + f\"Real MAE: {res*stdSales:.2f}\")"
   ]
  },
  {
   "attachments": {},
   "cell_type": "markdown",
   "id": "0da9574d",
   "metadata": {},
   "source": [
    "We can see that the metrics really improve compared to the Dense and SimpleRNN models.\n",
    "\n",
    "![](images/SimpleGRU.png)"
   ]
  },
  {
   "attachments": {},
   "cell_type": "markdown",
   "id": "1832b01b",
   "metadata": {},
   "source": [
    "**SimpleLSTM**"
   ]
  },
  {
   "cell_type": "code",
   "execution_count": 23,
   "id": "0c62a4a8",
   "metadata": {},
   "outputs": [],
   "source": [
    "if test_simple == True:\n",
    "    name = 'SimpleLSTM'\n",
    "    inputs = keras.Input(shape=(seqLength, nFeatures))\n",
    "    x = layers.LSTM(16, return_sequences=True)(inputs)\n",
    "    x = layers.LSTM(16)(x)\n",
    "    outputs = layers.Dense(1)(x)\n",
    "    model = keras.Model(inputs, outputs)\n",
    "    model.summary()\n",
    "\n",
    "    model.compile(optimizer=get_optimizer(), loss=\"mae\", metrics=[\"mae\"])\n",
    "    history = model.fit(trainData, validation_data=testData, epochs=100, callbacks=get_callbacks(name))"
   ]
  },
  {
   "cell_type": "code",
   "execution_count": 24,
   "id": "eed9ccdc",
   "metadata": {},
   "outputs": [],
   "source": [
    "if test_simple == True:\n",
    "    model = keras.models.load_model(\"models/\" + name + \".keras\") \n",
    "    res = model.evaluate(testData)[1]\n",
    "\n",
    "    print_plot(name, history, f\"Test MAE: {res:.4f} - \" + f\"Real MAE: {res*stdSales:.2f}\")"
   ]
  },
  {
   "attachments": {},
   "cell_type": "markdown",
   "id": "263cf698",
   "metadata": {},
   "source": [
    "We can see that the results are similar to the GRU model, variating only in a 0.3 MAE for worse. We decide to keep using GRU as is a simpler and faster layer to train.\n",
    "\n",
    "![](images/SimpleLSTM.png)"
   ]
  },
  {
   "attachments": {},
   "cell_type": "markdown",
   "id": "1e00a3f7",
   "metadata": {},
   "source": [
    "**SimpleBidireccional** </br>\n",
    "In general bidirectional layers are not recommended in problems where the chronological processing is important to the success of the approach."
   ]
  },
  {
   "cell_type": "code",
   "execution_count": 25,
   "id": "73bdb089",
   "metadata": {},
   "outputs": [],
   "source": [
    "if test_simple == True:\n",
    "    name = 'SimpleBidireccional'\n",
    "    inputs = keras.Input(shape=(seqLength, nFeatures))\n",
    "    x = layers.Bidirectional(layers.LSTM(16, return_sequences=True))(inputs)\n",
    "    x = layers.Bidirectional(layers.LSTM(16))(x)\n",
    "    outputs = layers.Dense(1)(x)\n",
    "    model = keras.Model(inputs, outputs)\n",
    "    model.summary()\n",
    "\n",
    "    model.compile(optimizer=get_optimizer(), loss=\"mae\", metrics=[\"mae\"])\n",
    "    history = model.fit(trainData, validation_data=testData, epochs=100, callbacks=get_callbacks(name))"
   ]
  },
  {
   "cell_type": "code",
   "execution_count": 26,
   "id": "268a363b",
   "metadata": {},
   "outputs": [],
   "source": [
    "if test_simple == True:\n",
    "    model = keras.models.load_model(\"models/\" + name + \".keras\") \n",
    "    res = model.evaluate(testData)[1]\n",
    "\n",
    "    print_plot(name, history, f\"Test MAE: {res:.4f} - \" + f\"Real MAE: {res*stdSales:.2f}\")"
   ]
  },
  {
   "attachments": {},
   "cell_type": "markdown",
   "id": "0ee557e2",
   "metadata": {},
   "source": [
    "As expected, the result of this model are worse that the ones in the GRU and LSTM model.\n",
    "\n",
    "![](images/SimpleBidireccional.png)"
   ]
  },
  {
   "attachments": {},
   "cell_type": "markdown",
   "id": "daedebff",
   "metadata": {},
   "source": [
    "As we saw the best results were achieved by the GRU and LSTM networks. We decided to focus on optimizing the GRU network to improve its performance as it has a faster time for training and a better metric that the LSTM. So for the rest of the work we continued the GRU network to explore various optimizations and try to obtain better results."
   ]
  },
  {
   "attachments": {},
   "cell_type": "markdown",
   "id": "c7fea817",
   "metadata": {},
   "source": [
    "### Optimizer selection\n",
    "\n",
    "In this sub section we determinate which optimizer to use. "
   ]
  },
  {
   "cell_type": "code",
   "execution_count": 27,
   "id": "b3c0f4b8",
   "metadata": {},
   "outputs": [],
   "source": [
    "# Instance the four optimizers\n",
    "if test_optimizer == True:\n",
    "    opt_names = [\"RMSprop\",\"adam\",\"Adamax\",\"SGD\"]\n",
    "    opt_values = [optimizers.RMSprop(learning_rate=0.001),optimizers.Adam(learning_rate=0.001), optimizers.Adamax(learning_rate=0.001),optimizers.SGD(learning_rate=0.01)]\n",
    "    test_history= []"
   ]
  },
  {
   "cell_type": "code",
   "execution_count": 28,
   "id": "a3ba2ce6",
   "metadata": {},
   "outputs": [],
   "source": [
    "# Train the models\n",
    "if test_optimizer == True:\n",
    "    for i in range(0,len(opt_names)):\n",
    "        model = get_base_model()\n",
    "\n",
    "        model.compile(optimizer=opt_values[i], loss=\"mae\", metrics=[\"mae\"])\n",
    "        print(\"Testing optimizer:\",opt_names[i])\n",
    "        \n",
    "        test_history.append(model.fit(trainData, validation_data=testData, epochs=100, callbacks=get_callbacks(opt_names[i])))"
   ]
  },
  {
   "cell_type": "code",
   "execution_count": 29,
   "id": "b410b84c",
   "metadata": {},
   "outputs": [],
   "source": [
    "# Generate the results\n",
    "if test_optimizer == True:\n",
    "    for i in range(0,len(opt_names)):\n",
    "        model = keras.models.load_model(\"models/\" + opt_names[i] + \".keras\") \n",
    "        res = model.evaluate(testData)[1]\n",
    "        print_plot(opt_names[i], test_history[i], f\"Test MAE: {res:.4f} - \" + f\"Real MAE: {res*stdSales:.2f}\")"
   ]
  },
  {
   "attachments": {},
   "cell_type": "markdown",
   "id": "e24dccac",
   "metadata": {},
   "source": [
    "![](images/RMSprop.png)\n",
    "\n",
    "![](images/adam.png)\n",
    "\n",
    "![](images/Adamax.png)\n",
    "\n",
    "![](images/SGD.png)"
   ]
  },
  {
   "attachments": {},
   "cell_type": "markdown",
   "id": "493aba9c",
   "metadata": {},
   "source": [
    "As we can see in the four plots shown before, Adamax optimizer was the one with the best results, that's why we will use it for the rest of the work. Other alternative could by Adam (same family of optimizers that Adamax), but we consider that the metrics and the number of epochs obtained by the Adamax optimizer are better."
   ]
  },
  {
   "attachments": {},
   "cell_type": "markdown",
   "id": "82ed4722",
   "metadata": {},
   "source": [
    "### Test Lenghts </br>\n",
    "\n",
    "In this sub section we try different sizes of the length.\n"
   ]
  },
  {
   "attachments": {},
   "cell_type": "markdown",
   "id": "3c0b30a0",
   "metadata": {},
   "source": [
    "The sequence length hyperparameter represents the historical step (weekly data) that will be used as inputs values to the model for prediction. It determines the period of time for one training sample in the dataset. By changing the sequence length, the method generateTrainTestData will generate different datasets with different training data, each having the specific number of weeks for training, but for the target it will always be the number of sales in 3 weeks after the last week of the sequence."
   ]
  },
  {
   "cell_type": "code",
   "execution_count": 30,
   "id": "f2a2a9f4",
   "metadata": {},
   "outputs": [],
   "source": [
    "# Declare the sequence to test\n",
    "if test_length == True:\n",
    "    opt_names = [\"length_2\",\"length_4\",\"length_7\",\"length_8\",\"length_9\",\"length_10\",\"length_11\",\"length_12\",\"length_13\"]\n",
    "    opt_values = [2,4,7,8,9,10,11,12,13]\n",
    "    test_history= []\n",
    "    test_data = []"
   ]
  },
  {
   "cell_type": "code",
   "execution_count": 31,
   "id": "3ecc69b8",
   "metadata": {},
   "outputs": [],
   "source": [
    "if test_length == True:\n",
    "    test_values = [2,4,7,8,9,10,11,12,13,14]\n",
    "    for i in range(0,len(test_values)):   \n",
    "        seqLength = test_values[i]\n",
    "        trainData, testData, stdSales, nFeatures = generateTrainTestData(\"dataset/walmart-sales-dataset-of-45stores.csv\",\n",
    "            testPercent, seqLength, batchSize)\n",
    "\n",
    "        print('Length: ' + str(test_values[i]), ' - Train: ' + str(len(trainData)), ' - Test: ' + str(len(testData)))"
   ]
  },
  {
   "attachments": {},
   "cell_type": "markdown",
   "id": "ee2af23d",
   "metadata": {},
   "source": [
    "**Data analysis**</br>\n",
    "Length: 2  - Train: 4905  - Test: 1080</br>\n",
    "Length: 4  - Train: 4725  - Test: 900</br>\n",
    "Length: 7  - Train: 4455  - Test: 630</br>\n",
    "Length: 8  - Train: 4365  - Test: 540</br>\n",
    "Length: 9  - Train: 4275  - Test: 450</br>\n",
    "Length: 10  - Train: 4185  - Test: 360</br>\n",
    "Length: 11  - Train: 4095  - Test: 270</br>\n",
    "Length: 12  - Train: 4005  - Test: 180</br>\n",
    "Length: 13  - Train: 3915  - Test: 90</br>\n",
    "Length: 14  - Train: 3825  - Test: 0</br>\n",
    "\n",
    "As we can see while increasing the number of sequences, the number of rows available for training will decrease. We will have more information for one sample but less data rows. For length 14, the number of rows in the test set will be zero, so it does not make sense keep testing after this value."
   ]
  },
  {
   "cell_type": "code",
   "execution_count": 32,
   "id": "2b049147",
   "metadata": {},
   "outputs": [],
   "source": [
    "# Train the models\n",
    "if test_length == True:\n",
    "    for i in range(0,len(opt_names)):\n",
    "        seqLength = opt_values[i]\n",
    "        trainData, testData, stdSales, nFeatures = generateTrainTestData(\"dataset/walmart-sales-dataset-of-45stores.csv\",\n",
    "            testPercent, seqLength, batchSize) \n",
    "\n",
    "        # Save to use latter in evaluation\n",
    "        test_data.append(testData)\n",
    "        model = get_base_model()\n",
    "\n",
    "        model.compile(optimizer=get_optimizer(), loss=\"mae\", metrics=[\"mae\"])\n",
    "        test_history.append(model.fit(trainData, validation_data=testData, epochs=120, callbacks=get_callbacks(opt_names[i])))"
   ]
  },
  {
   "cell_type": "code",
   "execution_count": 33,
   "id": "dce52ceb",
   "metadata": {},
   "outputs": [],
   "source": [
    "# Generate the results\n",
    "if test_length == True:\n",
    "    for i in range(0,len(opt_names)):\n",
    "        model = keras.models.load_model(\"models/\" + opt_names[i] + \".keras\") \n",
    "        res = model.evaluate(testData[i])[1]\n",
    "        print_plot(opt_names[i], test_history[i], f\"Test MAE: {res:.4f} - \" + f\"Real MAE: {res*stdSales:.2f}\")"
   ]
  },
  {
   "attachments": {},
   "cell_type": "markdown",
   "id": "599930bc",
   "metadata": {},
   "source": [
    "\n",
    "![](images/length_2.png)\n",
    "\n",
    "![](images/length_4.png)\n",
    "\n",
    "![](images/length_7.png)\n",
    "\n",
    "![](images/length_8.png)\n",
    "\n",
    "![](images/length_9.png)\n",
    "\n",
    "![](images/length_10.png)\n",
    "\n",
    "![](images/length_11.png)\n",
    "\n",
    "![](images/length_12.png)\n",
    "\n",
    "![](images/length_13.png)"
   ]
  },
  {
   "attachments": {},
   "cell_type": "markdown",
   "id": "cb880be2",
   "metadata": {},
   "source": [
    "In the training results of the models we can see that some of the plots show that the validation data is better predicted that the training data. It is not common for the validation metrics to be consistently better than the training metrics as the model is adjusted on the training data and should be better at predicting it compared to the validation data. Some reasons that could lead to this is the use of data augmentation techniques (not this case), regularization techniques (not this case) and small datasets (as we see before, the test set is smaller as the length increases).\n",
    "\n",
    "For this reason, even if the lengths 9,11,12,13 give better final mae results, we decide to keep using length=8 as it has a more stable training/validation curve."
   ]
  },
  {
   "attachments": {},
   "cell_type": "markdown",
   "id": "a1a4e7ef",
   "metadata": {},
   "source": [
    "### Complex models\n",
    "\n",
    "In this subsection we try more complex models using our SimpleGRU as base for the new models."
   ]
  },
  {
   "cell_type": "code",
   "execution_count": 34,
   "id": "17b09499",
   "metadata": {},
   "outputs": [],
   "source": [
    "if test_complex == True:\n",
    "    name = 'simpleGRUDense_seq_' + str(length_value)\n",
    "    inputs = keras.Input(shape=(seqLength, nFeatures))\n",
    "    x = layers.GRU(16, return_sequences=True)(inputs)\n",
    "    x = layers.GRU(16)(x)\n",
    "    x = layers.Dense(32)(x)\n",
    "    outputs = layers.Dense(1)(x)\n",
    "    model = keras.Model(inputs, outputs)\n",
    "    model.summary()\n",
    "\n",
    "    model.compile(optimizer=get_optimizer(), loss=\"mae\", metrics=[\"mae\"])\n",
    "    history = model.fit(trainData, validation_data=testData, epochs=100, callbacks=get_callbacks(name))"
   ]
  },
  {
   "cell_type": "code",
   "execution_count": 35,
   "id": "6a018f47",
   "metadata": {},
   "outputs": [],
   "source": [
    "if test_complex == True:\n",
    "    model = keras.models.load_model(\"models/\" + name + \".keras\") \n",
    "    res = model.evaluate(testData)[1]\n",
    "\n",
    "    print_plot(name, history, f\"Test MAE: {res:.4f} - \" + f\"Real MAE: {res*stdSales:.2f}\")"
   ]
  },
  {
   "attachments": {},
   "cell_type": "markdown",
   "id": "2386ddf0",
   "metadata": {},
   "source": [
    "As we can see in the plot, the results where not better that the ones we get from our SimpleGRU model.\n",
    "\n",
    "![](images/simpleGRUDense_seq_8.png)"
   ]
  },
  {
   "cell_type": "code",
   "execution_count": 36,
   "id": "a4878386",
   "metadata": {},
   "outputs": [],
   "source": [
    "if test_complex == True:\n",
    "    name = 'TripleGRU_seq_' + str(length_value)\n",
    "    inputs = keras.Input(shape=(seqLength, nFeatures))\n",
    "    x = layers.GRU(16, return_sequences=True)(inputs)\n",
    "    x = layers.GRU(16, return_sequences=True)(x)\n",
    "    x = layers.GRU(16)(x)\n",
    "    outputs = layers.Dense(1)(x)\n",
    "    model = keras.Model(inputs, outputs)\n",
    "    model.summary()\n",
    "\n",
    "    model.compile(optimizer=get_optimizer(), loss=\"mae\", metrics=[\"mae\"])\n",
    "    history = model.fit(trainData, validation_data=testData, epochs=100, callbacks=get_callbacks(name))"
   ]
  },
  {
   "cell_type": "code",
   "execution_count": 37,
   "id": "1ab995b2",
   "metadata": {},
   "outputs": [],
   "source": [
    "if test_complex == True:\n",
    "    model = keras.models.load_model(\"models/\" + name + \".keras\") \n",
    "    res = model.evaluate(testData)[1]\n",
    "\n",
    "    print_plot(name, history, f\"Test MAE: {res:.4f} - \" + f\"Real MAE: {res*stdSales:.2f}\")"
   ]
  },
  {
   "attachments": {},
   "cell_type": "markdown",
   "id": "05a5e4b0",
   "metadata": {},
   "source": [
    "As we can see in the plot, the results where not better that the ones we get from our SimpleGRU model.\n",
    "\n",
    "![](images/TripleGRU_seq_8.png)"
   ]
  },
  {
   "cell_type": "code",
   "execution_count": 38,
   "id": "248f3e23",
   "metadata": {},
   "outputs": [],
   "source": [
    "if test_complex == True:\n",
    "    name = 'SimpleGRU32'\n",
    "    inputs = keras.Input(shape=(seqLength, nFeatures))\n",
    "    x = layers.GRU(16, return_sequences=True)(inputs)\n",
    "    x = layers.GRU(32)(x)\n",
    "    outputs = layers.Dense(1)(x)\n",
    "    model = keras.Model(inputs, outputs)\n",
    "    model.summary()\n",
    "\n",
    "    model.compile(optimizer=get_optimizer(), loss=\"mae\", metrics=[\"mae\"])\n",
    "    history = model.fit(trainData, validation_data=testData, epochs=100, callbacks=get_callbacks(name))"
   ]
  },
  {
   "cell_type": "code",
   "execution_count": 39,
   "id": "8c0974b9",
   "metadata": {},
   "outputs": [],
   "source": [
    "if test_complex == True:\n",
    "    model = keras.models.load_model(\"models/\" + name + \".keras\") \n",
    "    res = model.evaluate(testData)[1]\n",
    "\n",
    "    print_plot(name, history, f\"Test MAE: {res:.4f} - \" + f\"Real MAE: {res*stdSales:.2f}\")"
   ]
  },
  {
   "attachments": {},
   "cell_type": "markdown",
   "id": "381692f2",
   "metadata": {},
   "source": [
    "As we can see, this model improves the previous results to a value of 56298.53\n",
    "\n",
    "![](images/simpleGRU32.png)"
   ]
  },
  {
   "attachments": {},
   "cell_type": "markdown",
   "id": "4d98145b",
   "metadata": {},
   "source": [
    "After observing that increasing the number of units has led to better results, we decided to apply this strategy for the next model. We constructed a model with two consecutive GRU layers where the first layer has 32 units and the second has 64 units."
   ]
  },
  {
   "cell_type": "code",
   "execution_count": null,
   "id": "c43a70af",
   "metadata": {},
   "outputs": [],
   "source": [
    "if test_complex == True:\n",
    "    name = 'SimpleGRU64'\n",
    "    inputs = keras.Input(shape=(seqLength, nFeatures))\n",
    "    x = layers.GRU(32, return_sequences=True)(inputs)\n",
    "    x = layers.GRU(64)(x)\n",
    "    outputs = layers.Dense(1)(x)\n",
    "    model = keras.Model(inputs, outputs)\n",
    "    model.summary()\n",
    "\n",
    "    model.compile(optimizer=get_optimizer(), loss=\"mae\", metrics=[\"mae\"])\n",
    "    history = model.fit(trainData, validation_data=testData, epochs=100, callbacks=get_callbacks(name))"
   ]
  },
  {
   "cell_type": "code",
   "execution_count": null,
   "id": "1d3d2975",
   "metadata": {},
   "outputs": [],
   "source": [
    "if test_complex == True:\n",
    "    model = keras.models.load_model(\"models/\" + name + \".keras\") \n",
    "    res = model.evaluate(testData)[1]\n",
    "\n",
    "    print_plot(name, history, f\"Test MAE: {res:.4f} - \" + f\"Real MAE: {res*stdSales:.2f}\")"
   ]
  },
  {
   "attachments": {},
   "cell_type": "markdown",
   "id": "1170427a",
   "metadata": {},
   "source": [
    "As we can see in the plot, the results where not better that the ones we get from our previous model with a layer of 16 and other of 32.\n",
    "\n",
    "![](images/simpleGRU64.png)"
   ]
  },
  {
   "attachments": {},
   "cell_type": "markdown",
   "id": "32dda765",
   "metadata": {},
   "source": [
    "The best model from this section was the one containing two GRU layers, one of 16 units and other of 32 units, so for the regularization and learning rate optimization sections we will continue with this one."
   ]
  },
  {
   "attachments": {},
   "cell_type": "markdown",
   "id": "4e5c882a",
   "metadata": {},
   "source": [
    "### Regularization\n",
    "\n",
    "In this section we try different regularization techniques to improve the results of our model."
   ]
  },
  {
   "cell_type": "code",
   "execution_count": 40,
   "id": "f4c50b13",
   "metadata": {},
   "outputs": [],
   "source": [
    "if test_reg == True:\n",
    "    name = 'SimpleGRU32_Dropout'\n",
    "    inputs = keras.Input(shape=(seqLength, nFeatures))\n",
    "    x = layers.GRU(16, dropout=0.2 , recurrent_dropout=0.2,return_sequences=True)(inputs)\n",
    "    x = layers.GRU(32, dropout=0.2 , recurrent_dropout=0.2)(x)\n",
    "    x = layers.Dropout(0.5)(x)\n",
    "    outputs = layers.Dense(1)(x)\n",
    "    model = keras.Model(inputs, outputs)\n",
    "    model.summary()\n",
    "\n",
    "    model.compile(optimizer=get_optimizer(), loss=\"mae\", metrics=[\"mae\"])\n",
    "    history = model.fit(trainData, validation_data=testData, epochs=100, callbacks=get_callbacks(name))"
   ]
  },
  {
   "cell_type": "code",
   "execution_count": 41,
   "id": "4c84ed52",
   "metadata": {},
   "outputs": [],
   "source": [
    "if test_reg == True:\n",
    "    model = keras.models.load_model(\"models/\" + name + \".keras\") \n",
    "    res = model.evaluate(testData)[1]\n",
    "\n",
    "    print_plot(name, history, f\"Test MAE: {res:.4f} - \" + f\"Real MAE: {res*stdSales:.2f}\")"
   ]
  },
  {
   "attachments": {},
   "cell_type": "markdown",
   "id": "361d43d0",
   "metadata": {},
   "source": [
    "The results of our model do not improve adding the dropout techniques. \n",
    "\n",
    "![](images/SimpleGRU32_Dropout.png)"
   ]
  },
  {
   "cell_type": "code",
   "execution_count": null,
   "id": "5c455499",
   "metadata": {},
   "outputs": [],
   "source": [
    "if test_reg == True:\n",
    "    name = 'SimpleGRU32_recdropout'\n",
    "    inputs = keras.Input(shape=(seqLength, nFeatures))\n",
    "    x = layers.GRU(16, recurrent_dropout=0.2,return_sequences=True)(inputs)\n",
    "    x = layers.GRU(32, recurrent_dropout=0.2)(x)\n",
    "    outputs = layers.Dense(1)(x)\n",
    "    model = keras.Model(inputs, outputs)\n",
    "    model.summary()\n",
    "\n",
    "    model.compile(optimizer=get_optimizer(), loss=\"mae\", metrics=[\"mae\"])\n",
    "    history = model.fit(trainData, validation_data=testData, epochs=100, callbacks=get_callbacks(name))"
   ]
  },
  {
   "cell_type": "code",
   "execution_count": null,
   "id": "86fd35bd",
   "metadata": {},
   "outputs": [],
   "source": [
    "if test_reg == True:\n",
    "    model = keras.models.load_model(\"models/\" + name + \".keras\") \n",
    "    res = model.evaluate(testData)[1]\n",
    "\n",
    "    print_plot(name, history, f\"Test MAE: {res:.4f} - \" + f\"Real MAE: {res*stdSales:.2f}\")"
   ]
  },
  {
   "attachments": {},
   "cell_type": "markdown",
   "id": "a5d65c89",
   "metadata": {},
   "source": [
    "The results of our model do not improve adding only the recurrent dropout technique. \n",
    "\n",
    "![](images/SimpleGRU32_recdropout.png)"
   ]
  },
  {
   "cell_type": "code",
   "execution_count": 42,
   "id": "12748b7a",
   "metadata": {},
   "outputs": [],
   "source": [
    "if test_reg == True:\n",
    "    name = 'simpleGRU32_Norm'\n",
    "    inputs = keras.Input(shape=(seqLength, nFeatures))\n",
    "    x = layers.GRU(16, return_sequences=True)(inputs)\n",
    "    x = layers.BatchNormalization()(x)\n",
    "    x = layers.GRU(32)(x)\n",
    "    x = layers.BatchNormalization()(x)\n",
    "    outputs = layers.Dense(1)(x)\n",
    "    model = keras.Model(inputs, outputs)\n",
    "    model.summary()\n",
    "\n",
    "    model.compile(optimizer=get_optimizer(), loss=\"mae\", metrics=[\"mae\"])\n",
    "    history = model.fit(trainData, validation_data=testData, epochs=100, callbacks=get_callbacks(name))"
   ]
  },
  {
   "cell_type": "code",
   "execution_count": 43,
   "id": "3c4a9eae",
   "metadata": {},
   "outputs": [],
   "source": [
    "if test_reg == True:\n",
    "    model = keras.models.load_model(\"models/\" + name + \".keras\") \n",
    "    res = model.evaluate(testData)[1]\n",
    "\n",
    "    print_plot(name, history, f\"Test MAE: {res:.4f} - \" + f\"Real MAE: {res*stdSales:.2f}\")"
   ]
  },
  {
   "attachments": {},
   "cell_type": "markdown",
   "id": "5460db2b",
   "metadata": {},
   "source": [
    "The result of the normalization are so out of range that they are not display in the plot, so we discard its use."
   ]
  },
  {
   "attachments": {},
   "cell_type": "markdown",
   "id": "f2966010",
   "metadata": {},
   "source": [
    "![](images/simpleGRU32_Norm.png)"
   ]
  },
  {
   "attachments": {},
   "cell_type": "markdown",
   "id": "c61b1ed9",
   "metadata": {},
   "source": [
    "For our next test, we try with weight decay, we use only L2 regularization as it gives us the best results in previous iterations. Other possible options could be L1 and the combination of L1 and L2."
   ]
  },
  {
   "cell_type": "code",
   "execution_count": 44,
   "id": "428f421a",
   "metadata": {},
   "outputs": [],
   "source": [
    "if test_reg == True:\n",
    "    name = 'SimpleGRU32_L2'\n",
    "    inputs = keras.Input(shape=(seqLength, nFeatures))\n",
    "    x = layers.GRU(16, kernel_regularizer=regularizers.l2(0.01),return_sequences=True)(inputs)\n",
    "    x = layers.GRU(32, kernel_regularizer=regularizers.l2(0.01))(x)\n",
    "    outputs = layers.Dense(1)(x)\n",
    "    model = keras.Model(inputs, outputs)\n",
    "    model.summary()\n",
    "\n",
    "    model.compile(optimizer=get_optimizer(), loss=\"mae\", metrics=[\"mae\"])\n",
    "    history = model.fit(trainData, validation_data=testData, epochs=100, callbacks=get_callbacks(name))"
   ]
  },
  {
   "cell_type": "code",
   "execution_count": 45,
   "id": "80038b9f",
   "metadata": {},
   "outputs": [],
   "source": [
    "if test_reg == True:\n",
    "    model = keras.models.load_model(\"models/\" + name + \".keras\") \n",
    "    res = model.evaluate(testData)[1]\n",
    "\n",
    "    print_plot(name, history, f\"Test MAE: {res:.4f} - \" + f\"Real MAE: {res*stdSales:.2f}\")"
   ]
  },
  {
   "attachments": {},
   "cell_type": "markdown",
   "id": "5549e521",
   "metadata": {},
   "source": [
    "The results of our model do not improve adding the L2 regularization technique. \n",
    "\n",
    "![](images/simpleGRU32_L2.png)"
   ]
  },
  {
   "cell_type": "code",
   "execution_count": 46,
   "id": "26a2209e",
   "metadata": {},
   "outputs": [],
   "source": [
    "if test_reg == True:\n",
    "    # Add a GRU layer with dropout and L2 regularization\n",
    "    name = 'SimpleGRU_DropoutL2'\n",
    "    inputs = keras.Input(shape=(seqLength, nFeatures))\n",
    "    x = layers.GRU(16, dropout=0.2 , recurrent_dropout=0.2,kernel_regularizer=regularizers.l2(0.01),return_sequences=True)(inputs)\n",
    "    x = layers.GRU(32, dropout=0.2 , recurrent_dropout=0.2,kernel_regularizer=regularizers.l2(0.01))(x)\n",
    "    outputs = layers.Dense(1)(x)\n",
    "    model = keras.Model(inputs, outputs)\n",
    "    model.summary()\n",
    "\n",
    "    model.compile(optimizer=get_optimizer(), loss=\"mae\", metrics=[\"mae\"])\n",
    "    history = model.fit(trainData, validation_data=testData, epochs=100, callbacks=get_callbacks(name))"
   ]
  },
  {
   "cell_type": "code",
   "execution_count": 47,
   "id": "ebe52c31",
   "metadata": {},
   "outputs": [],
   "source": [
    "if test_reg == True:\n",
    "    model = keras.models.load_model(\"models/\" + name + \".keras\") \n",
    "    res = model.evaluate(testData)[1]\n",
    "\n",
    "    print_plot(name, history, f\"Test MAE: {res:.4f} - \" + f\"Real MAE: {res*stdSales:.2f}\")"
   ]
  },
  {
   "attachments": {},
   "cell_type": "markdown",
   "id": "2eaaa460",
   "metadata": {},
   "source": [
    "The results of our model do not improve with the combination of dropout and L2 techniques. \n",
    "\n",
    "![](images/simpleGRU32_DropoutL2.png)"
   ]
  },
  {
   "attachments": {},
   "cell_type": "markdown",
   "id": "c658dcfe",
   "metadata": {},
   "source": [
    "As we seen in this section, non of the regularization techniques that we use give a better result that our previous SimpleGRU32 model. This could mean that the model have data quality issues, where the performance may be limited by issues with the quality or quantity of your data. \n",
    "We will use in the optimizing learning rate section the model that we already have from our complex model testing section."
   ]
  },
  {
   "attachments": {},
   "cell_type": "markdown",
   "id": "7c383bf9",
   "metadata": {},
   "source": [
    "### Optimizing learning rate\n",
    "\n",
    "In this subsection we do the fine tuning of the best model. "
   ]
  },
  {
   "cell_type": "code",
   "execution_count": 63,
   "id": "70c4cc19",
   "metadata": {},
   "outputs": [
    {
     "name": "stdout",
     "output_type": "stream",
     "text": [
      "Epoch 1/100\n",
      "4355/4365 [============================>.] - ETA: 0s - loss: 0.0893 - mae: 0.0893\n",
      "Epoch 1: val_loss improved from inf to 0.10195, saving model to models\\FinalModel_lr00001.keras\n",
      "4365/4365 [==============================] - 31s 6ms/step - loss: 0.0893 - mae: 0.0893 - val_loss: 0.1019 - val_mae: 0.1019\n",
      "Epoch 2/100\n",
      "4355/4365 [============================>.] - ETA: 0s - loss: 0.0901 - mae: 0.0901\n",
      "Epoch 2: val_loss did not improve from 0.10195\n",
      "4365/4365 [==============================] - 25s 6ms/step - loss: 0.0901 - mae: 0.0901 - val_loss: 0.1082 - val_mae: 0.1082\n",
      "Epoch 3/100\n",
      "4360/4365 [============================>.] - ETA: 0s - loss: 0.0891 - mae: 0.0891\n",
      "Epoch 3: val_loss did not improve from 0.10195\n",
      "4365/4365 [==============================] - 25s 6ms/step - loss: 0.0891 - mae: 0.0891 - val_loss: 0.1044 - val_mae: 0.1044\n",
      "Epoch 4/100\n",
      "4363/4365 [============================>.] - ETA: 0s - loss: 0.0891 - mae: 0.0891\n",
      "Epoch 4: val_loss did not improve from 0.10195\n",
      "4365/4365 [==============================] - 24s 6ms/step - loss: 0.0890 - mae: 0.0890 - val_loss: 0.1032 - val_mae: 0.1032\n",
      "Epoch 5/100\n",
      "4359/4365 [============================>.] - ETA: 0s - loss: 0.0884 - mae: 0.0884\n",
      "Epoch 5: val_loss did not improve from 0.10195\n",
      "4365/4365 [==============================] - 25s 6ms/step - loss: 0.0884 - mae: 0.0884 - val_loss: 0.1029 - val_mae: 0.1029\n",
      "Epoch 6/100\n",
      "4361/4365 [============================>.] - ETA: 0s - loss: 0.0874 - mae: 0.0874\n",
      "Epoch 6: val_loss improved from 0.10195 to 0.09938, saving model to models\\FinalModel_lr00001.keras\n",
      "4365/4365 [==============================] - 25s 6ms/step - loss: 0.0874 - mae: 0.0874 - val_loss: 0.0994 - val_mae: 0.0994\n",
      "Epoch 7/100\n",
      "4360/4365 [============================>.] - ETA: 0s - loss: 0.0877 - mae: 0.0877\n",
      "Epoch 7: val_loss did not improve from 0.09938\n",
      "4365/4365 [==============================] - 25s 6ms/step - loss: 0.0877 - mae: 0.0877 - val_loss: 0.1009 - val_mae: 0.1009\n",
      "Epoch 8/100\n",
      "4355/4365 [============================>.] - ETA: 0s - loss: 0.0875 - mae: 0.0875\n",
      "Epoch 8: val_loss improved from 0.09938 to 0.09902, saving model to models\\FinalModel_lr00001.keras\n",
      "4365/4365 [==============================] - 25s 6ms/step - loss: 0.0875 - mae: 0.0875 - val_loss: 0.0990 - val_mae: 0.0990\n",
      "Epoch 9/100\n",
      "4364/4365 [============================>.] - ETA: 0s - loss: 0.0876 - mae: 0.0876\n",
      "Epoch 9: val_loss did not improve from 0.09902\n",
      "4365/4365 [==============================] - 25s 6ms/step - loss: 0.0877 - mae: 0.0877 - val_loss: 0.1035 - val_mae: 0.1035\n",
      "Epoch 10/100\n",
      "4357/4365 [============================>.] - ETA: 0s - loss: 0.0870 - mae: 0.0870\n",
      "Epoch 10: val_loss improved from 0.09902 to 0.09578, saving model to models\\FinalModel_lr00001.keras\n",
      "4365/4365 [==============================] - 25s 6ms/step - loss: 0.0871 - mae: 0.0871 - val_loss: 0.0958 - val_mae: 0.0958\n",
      "Epoch 11/100\n",
      "4356/4365 [============================>.] - ETA: 0s - loss: 0.0865 - mae: 0.0865\n",
      "Epoch 11: val_loss did not improve from 0.09578\n",
      "4365/4365 [==============================] - 26s 6ms/step - loss: 0.0865 - mae: 0.0865 - val_loss: 0.1030 - val_mae: 0.1030\n",
      "Epoch 12/100\n",
      "4365/4365 [==============================] - ETA: 0s - loss: 0.0865 - mae: 0.0865\n",
      "Epoch 12: val_loss did not improve from 0.09578\n",
      "4365/4365 [==============================] - 27s 6ms/step - loss: 0.0865 - mae: 0.0865 - val_loss: 0.1004 - val_mae: 0.1004\n",
      "Epoch 13/100\n",
      "4365/4365 [==============================] - ETA: 0s - loss: 0.0861 - mae: 0.0861\n",
      "Epoch 13: val_loss did not improve from 0.09578\n",
      "4365/4365 [==============================] - 25s 6ms/step - loss: 0.0861 - mae: 0.0861 - val_loss: 0.0990 - val_mae: 0.0990\n",
      "Epoch 14/100\n",
      "4358/4365 [============================>.] - ETA: 0s - loss: 0.0858 - mae: 0.0858\n",
      "Epoch 14: val_loss did not improve from 0.09578\n",
      "4365/4365 [==============================] - 24s 5ms/step - loss: 0.0859 - mae: 0.0859 - val_loss: 0.1045 - val_mae: 0.1045\n",
      "Epoch 15/100\n",
      "4365/4365 [==============================] - ETA: 0s - loss: 0.0863 - mae: 0.0863\n",
      "Epoch 15: val_loss did not improve from 0.09578\n",
      "4365/4365 [==============================] - 24s 6ms/step - loss: 0.0863 - mae: 0.0863 - val_loss: 0.1020 - val_mae: 0.1020\n",
      "Epoch 16/100\n",
      "4355/4365 [============================>.] - ETA: 0s - loss: 0.0857 - mae: 0.0857\n",
      "Epoch 16: val_loss did not improve from 0.09578\n",
      "4365/4365 [==============================] - 25s 6ms/step - loss: 0.0857 - mae: 0.0857 - val_loss: 0.0998 - val_mae: 0.0998\n",
      "Epoch 17/100\n",
      "4357/4365 [============================>.] - ETA: 0s - loss: 0.0855 - mae: 0.0855\n",
      "Epoch 17: val_loss did not improve from 0.09578\n",
      "4365/4365 [==============================] - 25s 6ms/step - loss: 0.0855 - mae: 0.0855 - val_loss: 0.0993 - val_mae: 0.0993\n",
      "Epoch 18/100\n",
      "4363/4365 [============================>.] - ETA: 0s - loss: 0.0856 - mae: 0.0856\n",
      "Epoch 18: val_loss did not improve from 0.09578\n",
      "4365/4365 [==============================] - 27s 6ms/step - loss: 0.0856 - mae: 0.0856 - val_loss: 0.1042 - val_mae: 0.1042\n",
      "Epoch 19/100\n",
      "4362/4365 [============================>.] - ETA: 0s - loss: 0.0852 - mae: 0.0852\n",
      "Epoch 19: val_loss did not improve from 0.09578\n",
      "4365/4365 [==============================] - 26s 6ms/step - loss: 0.0851 - mae: 0.0851 - val_loss: 0.1024 - val_mae: 0.1024\n",
      "Epoch 20/100\n",
      "4361/4365 [============================>.] - ETA: 0s - loss: 0.0848 - mae: 0.0848\n",
      "Epoch 20: val_loss did not improve from 0.09578\n",
      "4365/4365 [==============================] - 27s 6ms/step - loss: 0.0848 - mae: 0.0848 - val_loss: 0.1012 - val_mae: 0.1012\n",
      "Epoch 21/100\n",
      "4360/4365 [============================>.] - ETA: 0s - loss: 0.0838 - mae: 0.0838\n",
      "Epoch 21: val_loss did not improve from 0.09578\n",
      "4365/4365 [==============================] - 24s 6ms/step - loss: 0.0838 - mae: 0.0838 - val_loss: 0.1084 - val_mae: 0.1084\n",
      "Epoch 22/100\n",
      "4365/4365 [==============================] - ETA: 0s - loss: 0.0848 - mae: 0.0848\n",
      "Epoch 22: val_loss did not improve from 0.09578\n",
      "4365/4365 [==============================] - 27s 6ms/step - loss: 0.0848 - mae: 0.0848 - val_loss: 0.1034 - val_mae: 0.1034\n",
      "Epoch 23/100\n",
      "4354/4365 [============================>.] - ETA: 0s - loss: 0.0841 - mae: 0.0841\n",
      "Epoch 23: val_loss did not improve from 0.09578\n",
      "4365/4365 [==============================] - 24s 6ms/step - loss: 0.0842 - mae: 0.0842 - val_loss: 0.1055 - val_mae: 0.1055\n",
      "Epoch 24/100\n",
      "4364/4365 [============================>.] - ETA: 0s - loss: 0.0845 - mae: 0.0845\n",
      "Epoch 24: val_loss did not improve from 0.09578\n",
      "4365/4365 [==============================] - 25s 6ms/step - loss: 0.0845 - mae: 0.0845 - val_loss: 0.1014 - val_mae: 0.1014\n",
      "Epoch 25/100\n",
      "4362/4365 [============================>.] - ETA: 0s - loss: 0.0840 - mae: 0.0840\n",
      "Epoch 25: val_loss did not improve from 0.09578\n",
      "4365/4365 [==============================] - 24s 6ms/step - loss: 0.0840 - mae: 0.0840 - val_loss: 0.1024 - val_mae: 0.1024\n",
      "Epoch 25: early stopping\n"
     ]
    }
   ],
   "source": [
    "name = \"FinalModel_lr00001\"\n",
    "model = keras.models.load_model(\"models/SimpleGRU32.keras\") \n",
    "\n",
    "optimizer = get_optimizer()\n",
    "optimizer.learningrate=0.00001\n",
    "\n",
    "model.compile(optimizer=optimizer, loss=\"mae\", metrics=[\"mae\"])\n",
    "history = model.fit(trainData, validation_data=testData, epochs=100, callbacks=get_callbacks(name))"
   ]
  },
  {
   "cell_type": "code",
   "execution_count": 64,
   "id": "6a32f4ca",
   "metadata": {},
   "outputs": [
    {
     "name": "stdout",
     "output_type": "stream",
     "text": [
      "540/540 [==============================] - 3s 5ms/step - loss: 0.0958 - mae: 0.0958\n"
     ]
    },
    {
     "data": {
      "image/png": "[encoded data removed]",
      "text/plain": [
       "<Figure size 1000x480 with 1 Axes>"
      ]
     },
     "metadata": {},
     "output_type": "display_data"
    }
   ],
   "source": [
    "model = keras.models.load_model(\"models/\" + name + \".keras\") \n",
    "res = model.evaluate(testData)[1]\n",
    "\n",
    "print_plot(name, history, f\"Test MAE: {res:.4f} - \" + f\"Real MAE: {res*stdSales:.2f}\")"
   ]
  },
  {
   "attachments": {},
   "cell_type": "markdown",
   "id": "a96f7125",
   "metadata": {},
   "source": [
    "The Real MAE of the model decrease from 56298.53 to 54770.72."
   ]
  },
  {
   "attachments": {},
   "cell_type": "markdown",
   "id": "f1a8ae2a",
   "metadata": {},
   "source": [
    "## 4.Results and conclusions\n",
    "\n",
    "In this section we show the final results and we make some conclusions about the project"
   ]
  },
  {
   "cell_type": "code",
   "execution_count": 77,
   "id": "9d12d094",
   "metadata": {},
   "outputs": [
    {
     "name": "stdout",
     "output_type": "stream",
     "text": [
      "Basic model - Acc: 0.1185\n",
      "Optimizer selection - Acc: 0.1157\n",
      "Complex model - Acc: 0.0984\n",
      "Complex model with regularization - Acc: 0.1087\n",
      "Complex model with fine tuning - Acc: 0.0958\n"
     ]
    },
    {
     "data": {
      "image/png": "[encoded data removed]",
      "text/plain": [
       "<Figure size 640x480 with 1 Axes>"
      ]
     },
     "metadata": {},
     "output_type": "display_data"
    },
    {
     "data": {
      "image/png": "[encoded data removed]",
      "text/plain": [
       "<Figure size 640x480 with 1 Axes>"
      ]
     },
     "metadata": {},
     "output_type": "display_data"
    }
   ],
   "source": [
    "mae_models = [0.1185, 0.1157, 0.0984, 0.1087, 0.0958]\n",
    "real_mae_models = [67778.31, 66184.13, 56298.53, 62152.80, 54770.72]\n",
    "names = [\"Basic model\", \"Optimizer selection\", \"Complex model\", \"Complex model with regularization\", \"Complex model with fine tuning\"]\n",
    "\n",
    "for i in range(0,len(mae_models)):\n",
    "    print(names[i], '- Acc:', mae_models[i])\n",
    "\n",
    "plt.bar(names, mae_models)\n",
    "plt.title('Final model mae evaluation')\n",
    "plt.ylabel('MAE')\n",
    "plt.tick_params(axis='x', rotation=70)\n",
    "plt.show()\n",
    "\n",
    "plt.bar(names, real_mae_models)\n",
    "plt.title('Final model real mae evaluation')\n",
    "plt.ylabel('MAE')\n",
    "plt.tick_params(axis='x', rotation=70)\n",
    "plt.show()"
   ]
  },
  {
   "attachments": {},
   "cell_type": "markdown",
   "id": "f6e86f1e",
   "metadata": {},
   "source": [
    "In the above graphic we can see the evolution of our model thought the different steps that we set for our selection, first the test of different basic architectures, then the selection of the optimizer, the test of more complex models, the use of different regularization techniques and finally the fine tunning of our final model.\n",
    "\n",
    "We can see how our metrics improve in each step, except in the case of the regularization, that give worst values that complex model section.\n",
    "\n",
    "In the final execution of our model, the MAE was 0.0958 with a denormalized value of 54770.72."
   ]
  }
 ],
 "metadata": {
  "kernelspec": {
   "display_name": "Python 3 (ipykernel)",
   "language": "python",
   "name": "python3"
  },
  "language_info": {
   "codemirror_mode": {
    "name": "ipython",
    "version": 3
   },
   "file_extension": ".py",
   "mimetype": "text/x-python",
   "name": "python",
   "nbconvert_exporter": "python",
   "pygments_lexer": "ipython3",
   "version": "3.8.15"
  }
 },
 "nbformat": 4,
 "nbformat_minor": 5
}
