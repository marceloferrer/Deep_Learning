{
 "cells": [
  {
   "attachments": {},
   "cell_type": "markdown",
   "id": "a7ee76bb",
   "metadata": {},
   "source": [
    "Deep Learning Recurrent Neural Network\n",
    "\n",
    "Development of a recurrent network to solve a text classification problem. The feature to be predicted is the classification accuracy of a Amazon Reviews for Sentiment Analysis dataset."
   ]
  },
  {
   "attachments": {},
   "cell_type": "markdown",
   "id": "ff35cc80",
   "metadata": {},
   "source": [
    "The notebook is divided in sections with the following structure:\n",
    "1. Imports, declarations and configuration\n",
    "2. Dataset\n",
    "3. Testing </br>\n",
    "    Base Model</br>\n",
    "    Optimizer Selection</br>\n",
    "    Test max features</br>\n",
    "    Test length</br>\n",
    "    Test embedding size</br>\n",
    "    Complex models</br>\n",
    "    Regularization</br>\n",
    "    Optimizing learning rate</br>\n",
    "4. Results"
   ]
  },
  {
   "attachments": {},
   "cell_type": "markdown",
   "id": "e632e18e",
   "metadata": {},
   "source": [
    "## 1. Imports, declarations and configuration\n",
    "\n",
    "In this section we define the necessary imports, declarations and configuration to run the application. "
   ]
  },
  {
   "cell_type": "code",
   "execution_count": 1,
   "id": "1b6e3b20",
   "metadata": {},
   "outputs": [],
   "source": [
    "import os\n",
    "import numpy as np\n",
    "import tensorflow as tf\n",
    "from tensorflow import keras\n",
    "from tensorflow.keras import layers\n",
    "from keras.callbacks import EarlyStopping\n",
    "import matplotlib.pyplot as plt\n",
    "from tensorflow.keras import regularizers\n",
    "from tensorflow.keras import optimizers"
   ]
  },
  {
   "cell_type": "code",
   "execution_count": 2,
   "id": "e79374f1",
   "metadata": {},
   "outputs": [],
   "source": [
    "# Size of the vocabulary. Value selected after testing in subsection max_feature testing\n",
    "#maxFeatures = 2500\n",
    "maxFeatures = 100000\n",
    "\n",
    "# Maximum length of the text for each sample. If the text of a sample is shorter than seqLength, \n",
    "# TextVectorization will add 0 at the end to complete the input vector. This is to give the embedding layer a fixed length in the sentences.\n",
    "# If seq_Length = 0, the value returned from the readData function will be use. \n",
    "# Its calculated with the formula average(lineLength) + 2*np.std(lineLength) where lineLength is an array with all the length of the lines of the dataset.\n",
    "# Value confirmed after testing in subsection length testing\n",
    "seq_Length = 0\n",
    "\n",
    "# The embedding dimension. Value selected after testing in subsection embedding size testing\n",
    "#emb_dim = 128\n",
    "emb_dim = 64\n",
    "\n",
    "# Size of the batch use in the fit function, it determines the number of samples used in each iteration of training. \n",
    "# We begin with a long value and reduce it when we start testing complex models.\n",
    "# A larger batch size faster training, but less accurate. A smaller batch size slower training, but more accurate.\n",
    "batch_size=512\n",
    "\n",
    "# If activated test the simple models\n",
    "test_simple = False\n",
    "# If activated test the optimizers\n",
    "test_optimizer = False\n",
    "# If activated test max features\n",
    "test_maxfeatures = False\n",
    "# If activated test different lengths for the sequence\n",
    "test_length = False\n",
    "# If activated test the embedding size\n",
    "test_embedding = False\n",
    "# If activated test the complex models\n",
    "test_complex = False\n",
    "# If activated test the regularizations and optimizations\n",
    "test_reg = False"
   ]
  },
  {
   "attachments": {},
   "cell_type": "markdown",
   "id": "108e0067",
   "metadata": {},
   "source": [
    "## 2. Dataset\n",
    "\n",
    "In this section we load the dataset for training and validation with the provided functions. </br>"
   ]
  },
  {
   "cell_type": "code",
   "execution_count": 3,
   "id": "d2a09fb1",
   "metadata": {},
   "outputs": [],
   "source": [
    "#reads a file. Each line has the format: label text\n",
    "#Returns a list with the text and a list with the labels\n",
    "### We change the removeprefix method for replace as it was not compatible with our python version\n",
    "def readData(fname):\n",
    "\n",
    "    with open(fname, 'r', encoding=\"utf-8\") as f:\n",
    "        fileData = f.read()\n",
    "  \n",
    "    lines = fileData.split(\"\\n\")\n",
    "    textData = list()\n",
    "    textLabel = list()\n",
    "    lineLength = np.zeros(len(lines))\n",
    "    \n",
    "    for i, aLine in enumerate(lines):    \n",
    "        if not aLine:\n",
    "            break  \n",
    "        label = aLine.split(\" \")[0]\n",
    "        lineLength[i] = len(aLine.split(\" \"))\n",
    "        if(label == \"__label__1\"):\n",
    "            textLabel.append(0)\n",
    "            ### We change the removeprefix method for replace as it was not compatible with our python version\n",
    "            #textData.append(aLine.removeprefix(\"__label__1 \"))\n",
    "            textData.append(aLine.replace(\"__label__1 \",\"\"))\n",
    "\n",
    "        elif(label == \"__label__2\"):\n",
    "            textLabel.append(1)\n",
    "            ### We change the removeprefix method for replace as it was not compatible with our python version\n",
    "            #textData.append(aLine.removeprefix(\"__label__2 \"))\n",
    "            textData.append(aLine.replace(\"__label__2 \",\"\"))\n",
    "\n",
    "        else:\n",
    "            print(\"\\nError in readData: \", i, aLine)\n",
    "            exit()\n",
    "    \n",
    "    f.close()\n",
    "    return textData, textLabel, int(np.average(lineLength)+2*np.std(lineLength))"
   ]
  },
  {
   "cell_type": "code",
   "execution_count": 4,
   "id": "2731ee70",
   "metadata": {},
   "outputs": [],
   "source": [
    "def transformData(x_train, y_train, x_test, y_test, maxFeatures, seqLength):\n",
    "    #transforms text input to int input based on the vocabulary\n",
    "    #max_tokens = maxFeatures is the size of the vocabulary\n",
    "    #output_sequence_length =  seqLength is the maximum length of the transformed text. Adds 0 is text length is shorter\n",
    "    precLayer = layers.experimental.preprocessing.TextVectorization(max_tokens = maxFeatures, \n",
    "        standardize =  'lower_and_strip_punctuation', split = 'whitespace', output_mode = 'int', \n",
    "        output_sequence_length =  seqLength)\n",
    "    precLayer.adapt(x_train)\n",
    "    #print(precLayer.get_vocabulary())\n",
    "    x_train_int = precLayer(x_train)\n",
    "    y_train = tf.convert_to_tensor(y_train)\n",
    "    #print(x_train_int)\n",
    "    #print(y_train)\n",
    "    x_test_int= precLayer(x_test)\n",
    "    y_test = tf.convert_to_tensor(y_test)\n",
    "    #print(x_test_int)\n",
    "    #print(y_test)\n",
    "\n",
    "    return x_train_int, y_train, x_test_int, y_test"
   ]
  },
  {
   "cell_type": "code",
   "execution_count": 5,
   "id": "db189834",
   "metadata": {},
   "outputs": [],
   "source": [
    "x_train, y_train, seqLength = readData(\"dataset/train_small.txt\")\n",
    "x_test, y_test, tmp = readData(\"dataset/test_small.txt\")\n",
    "\n",
    "# If no seq length is configurated, use the one returned from the function\n",
    "# int(np.average(lineLength)+2*np.std(lineLength))\n",
    "if seq_Length == 0:\n",
    "    seq_Length = seqLength\n",
    "\n",
    "x_train_int, y_train, x_test_int, y_test = transformData(x_train, y_train, x_test, y_test, maxFeatures, seq_Length)"
   ]
  },
  {
   "cell_type": "code",
   "execution_count": 6,
   "id": "b5a760d6",
   "metadata": {},
   "outputs": [
    {
     "name": "stdout",
     "output_type": "stream",
     "text": [
      "Total number of unique words in the train set:  147917\n"
     ]
    }
   ],
   "source": [
    "unique_words = set()\n",
    "\n",
    "for item in x_train:\n",
    "    words = item.split()\n",
    "    unique_words.update(words)\n",
    "\n",
    "count_unique_words = len(unique_words)\n",
    "\n",
    "print(\"Total number of unique words in the train set: \", count_unique_words)"
   ]
  },
  {
   "cell_type": "code",
   "execution_count": 7,
   "id": "5a5d9db0",
   "metadata": {},
   "outputs": [
    {
     "name": "stdout",
     "output_type": "stream",
     "text": [
      "Max length of the words in the train set: 1015\n"
     ]
    }
   ],
   "source": [
    "max_length = 0\n",
    "for i in x_train:\n",
    "    if (len(i) > max_length):\n",
    "        max_length = len(i)\n",
    "\n",
    "print(\"Max length of the words in the train set:\", max_length)"
   ]
  },
  {
   "attachments": {},
   "cell_type": "markdown",
   "id": "02646823",
   "metadata": {},
   "source": [
    "## 3. Testing\n",
    "\n",
    "In this section we experiment with different datasets, optimizers, models, hyperparameters and regularization to define our final model. Each sub section can be enable/disable from the configuration section."
   ]
  },
  {
   "attachments": {},
   "cell_type": "markdown",
   "id": "03cad1e1",
   "metadata": {},
   "source": [
    "### Supplementary functions and default configuration\n",
    "Supplementary functions to plot the data, return some predefined model, callback and optimizer."
   ]
  },
  {
   "cell_type": "code",
   "execution_count": 8,
   "id": "06dbd3b7",
   "metadata": {},
   "outputs": [],
   "source": [
    "# Function to print the results of the training\n",
    "def print_plot(name, history, best_loss, best_accuracy):\n",
    "    # summarize history for train accuracy\n",
    "    fig, axs = plt.subplots(1,2)\n",
    "    fig.suptitle(name + ' - Training and validation')\n",
    "    fig.set_figwidth(10)\n",
    "    axs[0].plot(history.history['loss'])\n",
    "    axs[0].plot(history.history['val_loss'])\n",
    "    axs[0].set_title(best_loss)\n",
    "    axs[0].set_xlabel('Epochs')\n",
    "    axs[0].legend(['Loss', 'Val_loss'])\n",
    "    axs[0].set_ylim([0, 0.7])\n",
    "    axs[1].plot(history.history['accuracy'])\n",
    "    axs[1].plot(history.history['val_accuracy'])\n",
    "    axs[1].set_title(best_accuracy)\n",
    "    axs[1].set_xlabel('Epochs')\n",
    "    axs[1].legend(['Accuracy', 'Val_accuracy'])\n",
    "    axs[1].set_ylim([0.5, 1])\n",
    "    plt.savefig('images/' + name + '.png')\n",
    "    plt.show()"
   ]
  },
  {
   "cell_type": "code",
   "execution_count": 9,
   "id": "d7c7bfd6",
   "metadata": {},
   "outputs": [],
   "source": [
    "# Function to get the callbacks for the test of the models\n",
    "def get_callbacks(name, patience=10):\n",
    "    # This is to save computational power as a 10 epoch value without improvement we know is not going to get better\n",
    "    return [EarlyStopping(monitor='val_loss', patience=patience, verbose=1),\n",
    "            # Save only the best model\n",
    "            keras.callbacks.ModelCheckpoint(filepath=\"models/\" + name + \".keras\",save_best_only=True,monitor=\"val_loss\", verbose=1)\n",
    "            ]"
   ]
  },
  {
   "cell_type": "code",
   "execution_count": 10,
   "id": "08473c1c",
   "metadata": {},
   "outputs": [],
   "source": [
    "# Function to get the basic model\n",
    "def get_base_model(max_features=2000, embedding_dimension=128):\n",
    "    inputs = keras.Input(shape=(None,), dtype=\"int32\")\n",
    "    x = layers.Embedding(max_features, embedding_dimension, mask_zero=True)(inputs)\n",
    "    x = layers.Bidirectional(layers.GRU(8, return_sequences=True))(x)\n",
    "    x = layers.Bidirectional(layers.GRU(8))(x)\n",
    "    outputs = layers.Dense(1, activation=\"sigmoid\")(x)\n",
    "    return keras.Model(inputs, outputs)"
   ]
  },
  {
   "cell_type": "code",
   "execution_count": 11,
   "id": "f1b5cbf8",
   "metadata": {},
   "outputs": [],
   "source": [
    "# Function to get the best optimizer (obtained in the test optimizer section)\n",
    "def get_optimizer(lr=0.001):\n",
    "    return optimizers.Adamax(learning_rate=lr)"
   ]
  },
  {
   "attachments": {},
   "cell_type": "markdown",
   "id": "332429bf",
   "metadata": {},
   "source": [
    "### Base models\n",
    "\n",
    "In this subsection we start experiment with some basic models."
   ]
  },
  {
   "cell_type": "code",
   "execution_count": 12,
   "id": "e8d439a9",
   "metadata": {},
   "outputs": [],
   "source": [
    "if test_simple == True:\n",
    "    name = 'SimpleRNN'\n",
    "    inputs = keras.Input(shape=(None,), dtype=\"int32\")    \n",
    "    x = layers.Embedding(maxFeatures, emb_dim, mask_zero=True)(inputs)\n",
    "    x = layers.SimpleRNN(8, return_sequences=True)(x)   \n",
    "    x = layers.SimpleRNN(8)(x)   \n",
    "    outputs = layers.Dense(1, activation=\"sigmoid\")(x)\n",
    "    model = keras.Model(inputs, outputs)\n",
    "    model.summary()\n",
    "\n",
    "    model.compile(optimizer=get_optimizer(), loss=\"binary_crossentropy\", metrics=[\"accuracy\"])\n",
    "    history = model.fit(x_train_int, y_train, batch_size=batch_size, epochs=50, validation_data=(x_test_int, y_test), callbacks=get_callbacks(name))"
   ]
  },
  {
   "cell_type": "code",
   "execution_count": 13,
   "id": "a8b10d1e",
   "metadata": {},
   "outputs": [],
   "source": [
    "if test_simple == True:\n",
    "    model = keras.models.load_model(\"models/\" + name + \".keras\") \n",
    "    res = model.evaluate(x=x_test_int, y=y_test)[1]\n",
    "\n",
    "    print_plot(name, history, f\"Best val Loss: {min(history.history['val_loss']):.4f} - \",f\"Best val Accuracy: {res:.4f} - \")"
   ]
  },
  {
   "attachments": {},
   "cell_type": "markdown",
   "id": "2c7fca00",
   "metadata": {},
   "source": [
    "When we run the model, we save the images and the model in disk so we can use the model later if we need it and to show the result of the training in a markdown cell. In this way, we don't need to rerun the cell to show the results.\n",
    "\n",
    "![](images/SimpleRNN.png)"
   ]
  },
  {
   "attachments": {},
   "cell_type": "markdown",
   "id": "4819208c",
   "metadata": {},
   "source": [
    "**SimpleGRU**"
   ]
  },
  {
   "cell_type": "code",
   "execution_count": 14,
   "id": "bc406322",
   "metadata": {},
   "outputs": [],
   "source": [
    "if test_simple == True:\n",
    "    name = 'SimpleGRU'\n",
    "    inputs = keras.Input(shape=(None,), dtype=\"int32\")    \n",
    "    x = layers.Embedding(maxFeatures, emb_dim, mask_zero=True)(inputs)\n",
    "    x = layers.GRU(8, return_sequences=True)(x)   \n",
    "    x = layers.GRU(8)(x) \n",
    "    outputs = layers.Dense(1, activation=\"sigmoid\")(x)\n",
    "    model = keras.Model(inputs, outputs)\n",
    "    model.summary()\n",
    "\n",
    "    model.compile(optimizer=get_optimizer(), loss=\"binary_crossentropy\", metrics=[\"accuracy\"])\n",
    "    history = model.fit(x_train_int, y_train, batch_size=batch_size, epochs=50, validation_data=(x_test_int, y_test), callbacks=get_callbacks(name))"
   ]
  },
  {
   "cell_type": "code",
   "execution_count": 15,
   "id": "9c81110d",
   "metadata": {},
   "outputs": [],
   "source": [
    "if test_simple == True:\n",
    "    model = keras.models.load_model(\"models/\" + name + \".keras\") \n",
    "    res = model.evaluate(x=x_test_int, y=y_test)[1]\n",
    "\n",
    "    print_plot(name, history, f\"Best val Loss: {min(history.history['val_loss']):.4f} - \",f\"Best val Accuracy: {res:.4f} - \")"
   ]
  },
  {
   "attachments": {},
   "cell_type": "markdown",
   "id": "98e3ec0e",
   "metadata": {},
   "source": [
    "![](images/SimpleGRU.png)"
   ]
  },
  {
   "attachments": {},
   "cell_type": "markdown",
   "id": "f76e3127",
   "metadata": {},
   "source": [
    "**SimpleLSTM**"
   ]
  },
  {
   "cell_type": "code",
   "execution_count": 16,
   "id": "840f0e5d",
   "metadata": {},
   "outputs": [],
   "source": [
    "if test_simple == True:\n",
    "    name = \"SimpleLSTM\"\n",
    "    inputs = keras.Input(shape=(None,), dtype=\"int32\")\n",
    "    x = layers.Embedding(maxFeatures, emb_dim, mask_zero=True)(inputs)\n",
    "    x = layers.LSTM(8, return_sequences=True)(x)   \n",
    "    x = layers.LSTM(8)(x)\n",
    "    outputs = layers.Dense(1, activation=\"sigmoid\")(x)\n",
    "    model = keras.Model(inputs, outputs)\n",
    "    model.summary()\n",
    "\n",
    "    model.compile(optimizer=get_optimizer(), loss=\"binary_crossentropy\", metrics=[\"accuracy\"])\n",
    "    history = model.fit(x_train_int, y_train, batch_size=batch_size, epochs=50, validation_data=(x_test_int, y_test), callbacks=get_callbacks(name))"
   ]
  },
  {
   "cell_type": "code",
   "execution_count": 17,
   "id": "13c9cdc3",
   "metadata": {},
   "outputs": [],
   "source": [
    "if test_simple == True:\n",
    "    model = keras.models.load_model(\"models/\" + name + \".keras\") \n",
    "    res = model.evaluate(x=x_test_int, y=y_test)[1]\n",
    "\n",
    "    print_plot(name, history, f\"Best val Loss: {min(history.history['val_loss']):.4f} - \",f\"Best val Accuracy: {res:.4f} - \")"
   ]
  },
  {
   "attachments": {},
   "cell_type": "markdown",
   "id": "aa63305e",
   "metadata": {},
   "source": [
    "![](images/SimpleLSTM.png)"
   ]
  },
  {
   "attachments": {},
   "cell_type": "markdown",
   "id": "0c815568",
   "metadata": {},
   "source": [
    "**SimpleBidireccional**"
   ]
  },
  {
   "cell_type": "code",
   "execution_count": 18,
   "id": "408a37cc",
   "metadata": {},
   "outputs": [],
   "source": [
    "if test_simple == True:\n",
    "    name = \"SimpleBidireccionalLSTM\"\n",
    "    inputs = keras.Input(shape=(None,), dtype=\"int32\")\n",
    "    x = layers.Embedding(maxFeatures, emb_dim, mask_zero=True)(inputs)\n",
    "    x = layers.Bidirectional(layers.LSTM(8, return_sequences=True))(x)\n",
    "    x = layers.Bidirectional(layers.LSTM(8))(x)\n",
    "    outputs = layers.Dense(1, activation=\"sigmoid\")(x)\n",
    "    model = keras.Model(inputs, outputs)\n",
    "    model.summary()\n",
    "\n",
    "    model.compile(optimizer=get_optimizer(), loss=\"binary_crossentropy\", metrics=[\"accuracy\"])\n",
    "    history = model.fit(x_train_int, y_train, batch_size=batch_size, epochs=50, validation_data=(x_test_int, y_test), callbacks=get_callbacks(name))"
   ]
  },
  {
   "cell_type": "code",
   "execution_count": 19,
   "id": "ccc5d93b",
   "metadata": {},
   "outputs": [],
   "source": [
    "if test_simple == True:\n",
    "    model = keras.models.load_model(\"models/\" + name + \".keras\") \n",
    "    res = model.evaluate(x=x_test_int, y=y_test)[1]\n",
    "\n",
    "    print_plot(name, history, f\"Best val Loss: {min(history.history['val_loss']):.4f} - \",f\"Best val Accuracy: {res:.4f} - \")"
   ]
  },
  {
   "attachments": {},
   "cell_type": "markdown",
   "id": "f0681365",
   "metadata": {},
   "source": [
    "![](images/SimpleBidireccionalLSTM.png)"
   ]
  },
  {
   "attachments": {},
   "cell_type": "markdown",
   "id": "13e33c3c",
   "metadata": {},
   "source": [
    "**SimpleBidireccionalGRU**"
   ]
  },
  {
   "cell_type": "code",
   "execution_count": 20,
   "id": "c791f51f",
   "metadata": {},
   "outputs": [],
   "source": [
    "if test_simple == True:\n",
    "    name = \"SimpleBidireccionalGRU\"\n",
    "    inputs = keras.Input(shape=(None,), dtype=\"int32\")\n",
    "    x = layers.Embedding(maxFeatures, emb_dim, mask_zero=True)(inputs)\n",
    "    x = layers.Bidirectional(layers.GRU(8, return_sequences=True))(x)\n",
    "    x = layers.Bidirectional(layers.GRU(8))(x)\n",
    "    outputs = layers.Dense(1, activation=\"sigmoid\")(x)\n",
    "    model = keras.Model(inputs, outputs)\n",
    "    model.summary()\n",
    "\n",
    "    model.compile(optimizer=get_optimizer(), loss=\"binary_crossentropy\", metrics=[\"accuracy\"])\n",
    "    history = model.fit(x_train_int, y_train, batch_size=batch_size, epochs=50, validation_data=(x_test_int, y_test), callbacks=get_callbacks(name))"
   ]
  },
  {
   "cell_type": "code",
   "execution_count": 21,
   "id": "1532b093",
   "metadata": {},
   "outputs": [],
   "source": [
    "if test_simple == True:\n",
    "    model = keras.models.load_model(\"models/\" + name + \".keras\") \n",
    "    res = model.evaluate(x=x_test_int, y=y_test)[1]\n",
    "\n",
    "    print_plot(name, history, f\"Best val Loss: {min(history.history['val_loss']):.4f}\",f\"Best val Accuracy: {res:.4f}\")"
   ]
  },
  {
   "attachments": {},
   "cell_type": "markdown",
   "id": "d3f59c37",
   "metadata": {},
   "source": [
    "![](images/SimpleBidireccionalGRU.png)"
   ]
  },
  {
   "attachments": {},
   "cell_type": "markdown",
   "id": "456e7305",
   "metadata": {},
   "source": [
    "The result of this model are a little better than the ones in the previous experiments, 1% more over the simple GRU model and 0.5% against the bidireccional LSTM model. \n",
    "\n",
    "As we can see, both GRU and LSTM have good results for this particular problem. We decided to focus on optimizing the GRU network to improve its performance as it has a faster time for training and a little better metric that the LSTM. For the rest of the work we continued with the GRU network to explore various optimizations and try to obtain better results.\n"
   ]
  },
  {
   "attachments": {},
   "cell_type": "markdown",
   "id": "61eb2dae",
   "metadata": {},
   "source": [
    "### Optimizer Selection\n",
    "\n",
    "In this sub section we determinate which optimizer to use. "
   ]
  },
  {
   "cell_type": "code",
   "execution_count": 22,
   "id": "edf6601e",
   "metadata": {},
   "outputs": [],
   "source": [
    "# Instance the optimizers\n",
    "if test_optimizer == True:\n",
    "    opt_names = [\"RMSprop\",\"adam\",\"Adamax\"]\n",
    "    opt_values = [optimizers.RMSprop(learning_rate=0.001),optimizers.Adam(learning_rate=0.001), optimizers.Adamax(learning_rate=0.001)]\n",
    "    test_history= []"
   ]
  },
  {
   "cell_type": "code",
   "execution_count": 23,
   "id": "9b2f2709",
   "metadata": {},
   "outputs": [],
   "source": [
    "# Train the models\n",
    "if test_optimizer == True:\n",
    "    for i in range(0,len(opt_names)):\n",
    "        model = get_base_model(max_features=maxFeatures, embedding_dimension=emb_dim)\n",
    "\n",
    "        model.compile(optimizer=opt_values[i], loss=\"binary_crossentropy\", metrics=[\"accuracy\"])\n",
    "        print(\"Testing optimizer:\",opt_names[i])\n",
    "        \n",
    "        test_history.append(model.fit(x_train_int, y_train, batch_size=batch_size, epochs=50, validation_data=(x_test_int, y_test), callbacks=get_callbacks(opt_names[i])))"
   ]
  },
  {
   "cell_type": "code",
   "execution_count": 24,
   "id": "69f3f6e3",
   "metadata": {},
   "outputs": [],
   "source": [
    "# Generate the results\n",
    "if test_optimizer == True:\n",
    "    for i in range(0,len(opt_names)):\n",
    "        model = keras.models.load_model(\"models/\" + opt_names[i] + \".keras\") \n",
    "        res = model.evaluate(x=x_test_int, y=y_test)[1]\n",
    "        print_plot(opt_names[i], test_history[i], f\"Best val Loss: {min(test_history[i].history['val_loss']):.4f} - \",f\"Best val Accuracy: {res:.4f} - \")"
   ]
  },
  {
   "attachments": {},
   "cell_type": "markdown",
   "id": "8635f4f7",
   "metadata": {},
   "source": [
    "![](images/Rmsprop.png)\n",
    "\n",
    "![](images/Adam.png)\n",
    "\n",
    "![](images/Adamax.png)"
   ]
  },
  {
   "attachments": {},
   "cell_type": "markdown",
   "id": "3c1de3d1",
   "metadata": {},
   "source": [
    "As we can see in the three plots shown before, all optimizers have similar results in the range of 87% accuracy. Adamax optimizer was the one with the best results, that's why we will use it for the rest of the work. In a matter of fact, the other optimizers are good alternatives and perform closely to Adamax."
   ]
  },
  {
   "attachments": {},
   "cell_type": "markdown",
   "id": "9e78f971",
   "metadata": {},
   "source": [
    "### Test max features\n",
    "\n",
    "In this sub section we try different size of maximum features."
   ]
  },
  {
   "cell_type": "code",
   "execution_count": 25,
   "id": "65ce6bbf",
   "metadata": {},
   "outputs": [],
   "source": [
    "if test_maxfeatures == True:\n",
    "    opt_names = [\"max_500\",\"max_1000\",\"max_2000\",\"max_2500\",\"max_3000\",\"max_5000\",\"max_8000\",\"max_15000\",\"max_25000\",\"max_40000\",\"max_80000\",\"max_100000\",\"max_120000\",\"max_147917\"]\n",
    "    opt_values = [500,1000,2000,2500,3000,5000,8000,15000,25000,40000,80000,100000,120000,147917]\n",
    "    test_history= []"
   ]
  },
  {
   "cell_type": "code",
   "execution_count": 26,
   "id": "4e81d9d3",
   "metadata": {},
   "outputs": [],
   "source": [
    "# Train the models\n",
    "if test_maxfeatures == True:\n",
    "    for i in range(0,len(opt_names)):\n",
    "        x_train_int, y_train, x_test_int, y_test = transformData(x_train, y_train, x_test, y_test, opt_values[i], seq_Length)\n",
    "\n",
    "        model = get_base_model(max_features=opt_values[i], embedding_dimension=emb_dim)\n",
    "\n",
    "        model.compile(optimizer=get_optimizer(), loss=\"binary_crossentropy\", metrics=[\"accuracy\"])\n",
    "        print(\"Testing value:\",opt_names[i])\n",
    "        \n",
    "        test_history.append(model.fit(x_train_int, y_train, batch_size=batch_size, epochs=100, validation_data=(x_test_int, y_test), callbacks=get_callbacks(opt_names[i])))"
   ]
  },
  {
   "cell_type": "code",
   "execution_count": 27,
   "id": "305f996b",
   "metadata": {},
   "outputs": [],
   "source": [
    "# Generate the results\n",
    "if test_maxfeatures == True:\n",
    "    for i in range(0,len(opt_names)):\n",
    "        model = keras.models.load_model(\"models/\" + opt_names[i] + \".keras\") \n",
    "        res = model.evaluate(x=x_test_int, y=y_test)[1]\n",
    "        print_plot(opt_names[i], test_history[i], f\"Best val Loss: {min(test_history[i].history['val_loss']):.4f} - \",f\"Best val Accuracy: {res:.4f} - \")"
   ]
  },
  {
   "attachments": {},
   "cell_type": "markdown",
   "id": "36c0ddb7",
   "metadata": {},
   "source": [
    "![](images/max_1000.png)\n",
    "\n",
    "![](images/max_1500.png)\n",
    "\n",
    "![](images/max_2000.png)\n",
    "\n",
    "![](images/max_2500.png)\n",
    "\n",
    "![](images/max_3000.png)\n",
    "\n",
    "![](images/max_4000.png)\n",
    "\n",
    "![](images/max_5000.png)\n",
    "\n",
    "![](images/max_10000.png)\n",
    "\n",
    "![](images/max_20000.png)\n",
    "\n",
    "![](images/max_40000.png)\n",
    "\n",
    "![](images/max_80000.png)\n",
    "\n",
    "![](images/max_100000.png)\n",
    "\n",
    "![](images/max_120000.png)\n",
    "\n",
    "![](images/max_147917.png)"
   ]
  },
  {
   "attachments": {},
   "cell_type": "markdown",
   "id": "8f614460",
   "metadata": {},
   "source": [
    "### Test length\n",
    "\n",
    "In this sub section we try different sizes for the length."
   ]
  },
  {
   "cell_type": "code",
   "execution_count": 29,
   "id": "af161d68",
   "metadata": {},
   "outputs": [],
   "source": [
    "if test_length == True:\n",
    "    x_train, y_train, seqLength = readData(\"dataset/train_small.txt\")\n",
    "    x_test, y_test, tmp = readData(\"dataset/test_small.txt\")\n",
    "\n",
    "    opt_names = [\"length_50\",\"length_100\",\"length_200\",\"length_300\",\"length_400\",\"length_1000\"]\n",
    "    opt_values = [50,100,200,300,400,1000]\n",
    "\n",
    "    # int(np.average(lineLength)+2*np.std(lineLength)) = 166\n",
    "    opt_names.append(\"length_\" + str(seq_Length))\n",
    "    opt_values.append(seqLength)\n",
    "\n",
    "    test_history= []"
   ]
  },
  {
   "cell_type": "code",
   "execution_count": 30,
   "id": "0656e217",
   "metadata": {},
   "outputs": [],
   "source": [
    "# Train the models\n",
    "if test_length == True:\n",
    "    for i in range(0,len(opt_names)):\n",
    "        model = get_base_model(max_features=maxFeatures, embedding_dimension=emb_dim)\n",
    "\n",
    "        model.compile(optimizer=get_optimizer(), loss=\"binary_crossentropy\", metrics=[\"accuracy\"])\n",
    "        print(\"Testing value:\",opt_names[i])\n",
    "\n",
    "        x_train_int, y_train, x_test_int, y_test = transformData(x_train, y_train, x_test, y_test, maxFeatures, opt_values[i])\n",
    "        \n",
    "        test_history.append(model.fit(x_train_int, y_train, batch_size=batch_size, epochs=100, validation_data=(x_test_int, y_test), callbacks=get_callbacks(opt_names[i])))"
   ]
  },
  {
   "cell_type": "code",
   "execution_count": 31,
   "id": "6334c5b3",
   "metadata": {},
   "outputs": [],
   "source": [
    "# Generate the results\n",
    "if test_length == True:\n",
    "    for i in range(0,len(opt_names)):\n",
    "        model = keras.models.load_model(\"models/\" + opt_names[i] + \".keras\") \n",
    "        res = model.evaluate(x=x_test_int, y=y_test)[1]\n",
    "        print_plot(opt_names[i], test_history[i], f\"Best val Loss: {min(test_history[i].history['val_loss']):.4f}\",f\"Best val Accuracy: {res:.4f}\")"
   ]
  },
  {
   "attachments": {},
   "cell_type": "markdown",
   "id": "3419316b",
   "metadata": {},
   "source": [
    "![](images/length_50.png)\n",
    "\n",
    "![](images/length_100.png)\n",
    "\n",
    "![](images/length_166.png)\n",
    "\n",
    "![](images/length_200.png)\n",
    "\n",
    "![](images/length_300.png)\n",
    "\n",
    "![](images/length_400.png)\n",
    "\n",
    "![](images/length_1000.png)"
   ]
  },
  {
   "attachments": {},
   "cell_type": "markdown",
   "id": "bb0f59a8",
   "metadata": {},
   "source": [
    "### Test embedding size\n",
    "\n",
    "In this sub section we will experiment different models with different embedding layer's size."
   ]
  },
  {
   "cell_type": "code",
   "execution_count": 32,
   "id": "96d0cea9",
   "metadata": {},
   "outputs": [],
   "source": [
    "if test_embedding == True:\n",
    "    # More than 1024 we loss the GPU\n",
    "    opt_names = [\"emb_16\",\"emb_32\",\"emb_64\",\"emb_128\",\"emb_256\",\"emb_512\"]\n",
    "    opt_values = [16,32,64,128,256,512]\n",
    "    test_history= []"
   ]
  },
  {
   "cell_type": "code",
   "execution_count": 33,
   "id": "c92ae0da",
   "metadata": {},
   "outputs": [],
   "source": [
    "# Train the models\n",
    "if test_embedding == True:\n",
    "    for i in range(0,len(opt_names)):\n",
    "        model = get_base_model(max_features=maxFeatures, embedding_dimension=opt_values[i])\n",
    "\n",
    "        model.compile(optimizer=get_optimizer(), loss=\"binary_crossentropy\", metrics=[\"accuracy\"])\n",
    "        print(\"Testing value:\",opt_names[i])\n",
    "        \n",
    "        test_history.append(model.fit(x_train_int, y_train, batch_size=batch_size, epochs=100, validation_data=(x_test_int, y_test), callbacks=get_callbacks(opt_names[i])))"
   ]
  },
  {
   "cell_type": "code",
   "execution_count": 34,
   "id": "d06a1ab4",
   "metadata": {},
   "outputs": [],
   "source": [
    "# Generate the results\n",
    "if test_embedding == True:\n",
    "    for i in range(0,len(opt_names)):\n",
    "        model = keras.models.load_model(\"models/\" + opt_names[i] + \".keras\") \n",
    "        res = model.evaluate(x=x_test_int, y=y_test)[1]\n",
    "        print_plot(opt_names[i], test_history[i], f\"Best val Loss: {min(test_history[i].history['val_loss']):.4f}\",f\"Best val Accuracy: {res:.4f}\")"
   ]
  },
  {
   "attachments": {},
   "cell_type": "markdown",
   "id": "60b1a939",
   "metadata": {},
   "source": [
    "![](images/emb_16.png)\n",
    "\n",
    "![](images/emb_32.png)\n",
    "\n",
    "![](images/emb_64.png)\n",
    "\n",
    "![](images/emb_128.png)\n",
    "\n",
    "![](images/emb_256.png)\n",
    "\n",
    "![](images/emb_512.png)"
   ]
  },
  {
   "attachments": {},
   "cell_type": "markdown",
   "id": "e614d8ce",
   "metadata": {},
   "source": [
    "### Complex models\n",
    "\n",
    "In this subsection we will try more complex models using our bidirectional GRU as a base for the new models and with the previous hyperparameters selected."
   ]
  },
  {
   "attachments": {},
   "cell_type": "markdown",
   "id": "13abb12a",
   "metadata": {},
   "source": [
    "As we started testing more final models, we decide to also reduce the batch size and learning rate so the model while converge more slowly but potentially to a better minimum loss even if it take more time to train."
   ]
  },
  {
   "cell_type": "code",
   "execution_count": 35,
   "id": "ec0d229d",
   "metadata": {},
   "outputs": [],
   "source": [
    "batch_size = 128\n",
    "lr=0.0001"
   ]
  },
  {
   "attachments": {},
   "cell_type": "markdown",
   "id": "e531c2b3",
   "metadata": {},
   "source": [
    "Our first test is actually a grid search for the best parameters for the units of the bidirectional gru contained in the architecture that we already defined. In this case we use two for instruction with values of 8, 16 and 32. Increasing the number of units for GRU layers will result in a more complex model that could better learn the underlying patterns of our text data and deduct more accurately the relationship between them. We will see if this approach give us a more performant model."
   ]
  },
  {
   "cell_type": "code",
   "execution_count": 36,
   "id": "840ad695",
   "metadata": {},
   "outputs": [],
   "source": [
    "if test_complex == True:\n",
    "    grid_history = []\n",
    "    units1 = [8, 16, 32]\n",
    "    units2 = [8, 16, 32]\n",
    "\n",
    "    for i in range(0,len(units1)):\n",
    "        for ii in range(0, len(units2)):\n",
    "            name = \"SimpleBidireccional_\" + str(units1[i]) + \"_\" + str(units2[ii])\n",
    "            print(\"Testing value:\",name)\n",
    "\n",
    "            inputs = keras.Input(shape=(None,), dtype=\"int32\")\n",
    "            x = layers.Embedding(maxFeatures, emb_dim, mask_zero=True)(inputs)\n",
    "            x = layers.Bidirectional(layers.GRU(units1[i], return_sequences=True))(x)\n",
    "            x = layers.Bidirectional(layers.GRU(units2[ii]))(x)\n",
    "            outputs = layers.Dense(1, activation=\"sigmoid\")(x)\n",
    "            model = keras.Model(inputs, outputs)\n",
    "\n",
    "            model.compile(optimizer=get_optimizer(lr), loss=\"binary_crossentropy\", metrics=[\"accuracy\"])\n",
    "            grid_history.append(model.fit(x_train_int, y_train, batch_size=batch_size, epochs=50, validation_data=(x_test_int, y_test), callbacks=get_callbacks(name)))"
   ]
  },
  {
   "cell_type": "code",
   "execution_count": 37,
   "id": "a599871a",
   "metadata": {},
   "outputs": [],
   "source": [
    "if test_complex == True:\n",
    "    iii = 0\n",
    "    for i in range(0,len(units1)):\n",
    "        for ii in range(0, len(units2)):\n",
    "            name = \"SimpleBidireccional_\" + str(units1[i]) + \"_\" + str(units2[ii])\n",
    "            model = keras.models.load_model(\"models/\" + name + \".keras\") \n",
    "            res = model.evaluate(x=x_test_int, y=y_test)[1]\n",
    "\n",
    "            print_plot(name, grid_history[iii], f\"Best val Loss: {min(grid_history[iii].history['val_loss']):.4f}\",f\"Best val Accuracy: {res:.4f}\")\n",
    "            iii = iii+1"
   ]
  },
  {
   "attachments": {},
   "cell_type": "markdown",
   "id": "663aedec",
   "metadata": {},
   "source": [
    "![](images/SimpleBidireccional_8_8.png)\n",
    "\n",
    "![](images/SimpleBidireccional_8_16.png)\n",
    "\n",
    "![](images/SimpleBidireccional_8_32.png)\n",
    "\n",
    "![](images/SimpleBidireccional_16_8.png)\n",
    "\n",
    "![](images/SimpleBidireccional_16_16.png)\n",
    "\n",
    "![](images/SimpleBidireccional_16_32.png)\n",
    "\n",
    "![](images/SimpleBidireccional_32_8.png)\n",
    "\n",
    "![](images/SimpleBidireccional_32_16.png)\n",
    "\n",
    "![](images/SimpleBidireccional_32_32.png)"
   ]
  },
  {
   "cell_type": "code",
   "execution_count": 38,
   "id": "722fa69d",
   "metadata": {},
   "outputs": [],
   "source": [
    "if test_complex == True:\n",
    "    name = \"SimpleBidireccional_Dense\"\n",
    "    inputs = keras.Input(shape=(None,), dtype=\"int32\")\n",
    "    x = layers.Embedding(maxFeatures, emb_dim, mask_zero=True)(inputs)\n",
    "    x = layers.Bidirectional(layers.GRU(16, return_sequences=True))(x)\n",
    "    x = layers.Bidirectional(layers.GRU(16))(x)\n",
    "    x = layers.Dense(16)(x)\n",
    "    outputs = layers.Dense(1, activation=\"sigmoid\")(x)\n",
    "    model = keras.Model(inputs, outputs)\n",
    "    model.summary()\n",
    "\n",
    "    model.compile(optimizer=get_optimizer(lr), loss=\"binary_crossentropy\", metrics=[\"accuracy\"])\n",
    "    history = model.fit(x_train_int, y_train, batch_size=batch_size, epochs=50, validation_data=(x_test_int, y_test), callbacks=get_callbacks(name))"
   ]
  },
  {
   "cell_type": "code",
   "execution_count": 39,
   "id": "d6436827",
   "metadata": {},
   "outputs": [],
   "source": [
    "if test_complex == True:\n",
    "    model = keras.models.load_model(\"models/\" + name + \".keras\") \n",
    "    res = model.evaluate(x=x_test_int, y=y_test)[1]\n",
    "\n",
    "    print_plot(name, history, f\"Best val Loss: {min(history.history['val_loss']):.4f}\",f\"Best val Accuracy: {res:.4f}\")"
   ]
  },
  {
   "attachments": {},
   "cell_type": "markdown",
   "id": "b928e70e",
   "metadata": {},
   "source": [
    "![](images/SimpleBidireccional_Dense.png)"
   ]
  },
  {
   "attachments": {},
   "cell_type": "markdown",
   "id": "f511f25a",
   "metadata": {},
   "source": [
    "As we can see in the plot, the results were not better than the ones we were having from our previous model."
   ]
  },
  {
   "cell_type": "code",
   "execution_count": 40,
   "id": "485d0ec2",
   "metadata": {},
   "outputs": [],
   "source": [
    "if test_complex == True:\n",
    "    name = \"TripleBidireccional\"\n",
    "    inputs = keras.Input(shape=(None,), dtype=\"int32\")\n",
    "    x = layers.Embedding(maxFeatures, emb_dim, mask_zero=True)(inputs)\n",
    "    x = layers.Bidirectional(layers.GRU(16, return_sequences=True))(x)\n",
    "    x = layers.Bidirectional(layers.GRU(16, return_sequences=True))(x)\n",
    "    x = layers.Bidirectional(layers.GRU(16))(x)\n",
    "    outputs = layers.Dense(1, activation=\"sigmoid\")(x)\n",
    "    model = keras.Model(inputs, outputs)\n",
    "    model.summary()\n",
    "\n",
    "    model.compile(optimizer=get_optimizer(lr), loss=\"binary_crossentropy\", metrics=[\"accuracy\"])\n",
    "    history = model.fit(x_train_int, y_train, batch_size=batch_size, epochs=50, validation_data=(x_test_int, y_test), callbacks=get_callbacks(name))"
   ]
  },
  {
   "cell_type": "code",
   "execution_count": 41,
   "id": "5a348e81",
   "metadata": {},
   "outputs": [],
   "source": [
    "if test_complex == True:\n",
    "    model = keras.models.load_model(\"models/\" + name + \".keras\") \n",
    "    res = model.evaluate(x=x_test_int, y=y_test)[1]\n",
    "\n",
    "    print_plot(name, history, f\"Best val Loss: {min(history.history['val_loss']):.4f}\",f\"Best val Accuracy: {res:.4f}\")"
   ]
  },
  {
   "attachments": {},
   "cell_type": "markdown",
   "id": "c284b0b8",
   "metadata": {},
   "source": [
    "![](images/TripleBidireccional.png)"
   ]
  },
  {
   "attachments": {},
   "cell_type": "markdown",
   "id": "51b091b3",
   "metadata": {},
   "source": [
    "As we can see in the plot, the results were not better that the ones we were having from our previous model."
   ]
  },
  {
   "cell_type": "code",
   "execution_count": 42,
   "id": "f47fb263",
   "metadata": {},
   "outputs": [],
   "source": [
    "if test_complex == True:\n",
    "    name = \"SimpleBidireccionalGRU_LSTM\"\n",
    "    inputs = keras.Input(shape=(None,), dtype=\"int32\")\n",
    "    x = layers.Embedding(maxFeatures, emb_dim, mask_zero=True)(inputs)\n",
    "    x = layers.Bidirectional(layers.GRU(16, return_sequences=True))(x)\n",
    "    x = layers.Bidirectional(layers.GRU(16, return_sequences=True))(x)\n",
    "    x = layers.LSTM(16)(x)\n",
    "    outputs = layers.Dense(1, activation=\"sigmoid\")(x)\n",
    "    model = keras.Model(inputs, outputs)\n",
    "    model.summary()\n",
    "\n",
    "    model.compile(optimizer=get_optimizer(lr), loss=\"binary_crossentropy\", metrics=[\"accuracy\"])\n",
    "    history = model.fit(x_train_int, y_train, batch_size=batch_size, epochs=50, validation_data=(x_test_int, y_test), callbacks=get_callbacks(name))"
   ]
  },
  {
   "cell_type": "code",
   "execution_count": 43,
   "id": "6ff1ee0c",
   "metadata": {},
   "outputs": [],
   "source": [
    "if test_complex == True:\n",
    "    model = keras.models.load_model(\"models/\" + name + \".keras\") \n",
    "    res = model.evaluate(x=x_test_int, y=y_test)[1]\n",
    "\n",
    "    print_plot(name, history, f\"Best val Loss: {min(history.history['val_loss']):.4f}\",f\"Best val Accuracy: {res:.4f}\")"
   ]
  },
  {
   "attachments": {},
   "cell_type": "markdown",
   "id": "a123d6a7",
   "metadata": {},
   "source": [
    "![](images/SimpleBidireccional_LSTM.png)"
   ]
  },
  {
   "attachments": {},
   "cell_type": "markdown",
   "id": "67fc18d9",
   "metadata": {},
   "source": [
    "As we can see in the plot, the results were not better that the ones we were having from our previous model."
   ]
  },
  {
   "cell_type": "code",
   "execution_count": 44,
   "id": "8d0a6651",
   "metadata": {},
   "outputs": [],
   "source": [
    "if test_complex == True:\n",
    "    name = \"SimpleBidireccionalGRU_Gru\"\n",
    "    inputs = keras.Input(shape=(None,), dtype=\"int32\")\n",
    "    x = layers.Embedding(maxFeatures, emb_dim, mask_zero=True)(inputs)\n",
    "    x = layers.Bidirectional(layers.GRU(16, return_sequences=True))(x)\n",
    "    x = layers.Bidirectional(layers.GRU(16, return_sequences=True))(x)\n",
    "    x = layers.GRU(16)(x)\n",
    "    outputs = layers.Dense(1, activation=\"sigmoid\")(x)\n",
    "    model = keras.Model(inputs, outputs)\n",
    "    model.summary()\n",
    "\n",
    "    model.compile(optimizer=get_optimizer(lr), loss=\"binary_crossentropy\", metrics=[\"accuracy\"])\n",
    "    history = model.fit(x_train_int, y_train, batch_size=batch_size, epochs=50, validation_data=(x_test_int, y_test), callbacks=get_callbacks(name))"
   ]
  },
  {
   "cell_type": "code",
   "execution_count": 45,
   "id": "471dcca5",
   "metadata": {},
   "outputs": [],
   "source": [
    "if test_complex == True:\n",
    "    model = keras.models.load_model(\"models/\" + name + \".keras\") \n",
    "    res = model.evaluate(x=x_test_int, y=y_test)[1]\n",
    "\n",
    "    print_plot(name, history, f\"Best val Loss: {min(history.history['val_loss']):.4f}\",f\"Best val Accuracy: {res:.4f}\")"
   ]
  },
  {
   "attachments": {},
   "cell_type": "markdown",
   "id": "7081ed59",
   "metadata": {},
   "source": [
    "As we can see in the plot, we have more epochs to train our model, but the final results were not better that the ones we were having from the previous models."
   ]
  },
  {
   "attachments": {},
   "cell_type": "markdown",
   "id": "45fdf898",
   "metadata": {},
   "source": [
    "![](images/SimpleBidireccional_Gru.png)"
   ]
  },
  {
   "cell_type": "code",
   "execution_count": 46,
   "id": "a4fc66c8",
   "metadata": {},
   "outputs": [],
   "source": [
    "if test_complex == True:\n",
    "    name = \"SimpleBidireccionalLSTM_GRU\"\n",
    "    inputs = keras.Input(shape=(None,), dtype=\"int32\")\n",
    "    x = layers.Embedding(maxFeatures, emb_dim, mask_zero=True)(inputs)\n",
    "    x = layers.Bidirectional(layers.LSTM(16, return_sequences=True))(x)\n",
    "    x = layers.Bidirectional(layers.GRU(16))(x)\n",
    "    outputs = layers.Dense(1, activation=\"sigmoid\")(x)\n",
    "    model = keras.Model(inputs, outputs)\n",
    "    model.summary()\n",
    "\n",
    "    model.compile(optimizer=get_optimizer(lr), loss=\"binary_crossentropy\", metrics=[\"accuracy\"])\n",
    "    history = model.fit(x_train_int, y_train, batch_size=batch_size, epochs=50, validation_data=(x_test_int, y_test), callbacks=get_callbacks(name))"
   ]
  },
  {
   "cell_type": "code",
   "execution_count": 47,
   "id": "4e80fc39",
   "metadata": {},
   "outputs": [],
   "source": [
    "if test_complex == True:\n",
    "    model = keras.models.load_model(\"models/\" + name + \".keras\") \n",
    "    res = model.evaluate(x=x_test_int, y=y_test)[1]\n",
    "\n",
    "    print_plot(name, history, f\"Best val Loss: {min(history.history['val_loss']):.4f}\",f\"Best val Accuracy: {res:.4f}\")"
   ]
  },
  {
   "attachments": {},
   "cell_type": "markdown",
   "id": "0f217b5d",
   "metadata": {},
   "source": [
    "![](images/SimpleBidireccionalLSTM_GRU.png)"
   ]
  },
  {
   "attachments": {},
   "cell_type": "markdown",
   "id": "033ea58a",
   "metadata": {},
   "source": [
    "As we can see in the plot, the results were not better that the ones we were having from our previous model."
   ]
  },
  {
   "attachments": {},
   "cell_type": "markdown",
   "id": "acb2c0ed",
   "metadata": {},
   "source": [
    "The best architecture after this experimentation is the same as the previous section but in this case with 16 units on each bidirectional GRU."
   ]
  },
  {
   "attachments": {},
   "cell_type": "markdown",
   "id": "b7c2360e",
   "metadata": {},
   "source": [
    "### Regularization\n",
    "\n",
    "In this section we try different regularization techniques to improve the results of our model."
   ]
  },
  {
   "cell_type": "code",
   "execution_count": 48,
   "id": "23c52d63",
   "metadata": {},
   "outputs": [],
   "source": [
    "if test_reg == True:\n",
    "    name = \"SimpleBidireccional16_dropout_recdropout\"\n",
    "    inputs = keras.Input(shape=(None,), dtype=\"int32\")\n",
    "    x = layers.Embedding(maxFeatures, emb_dim, mask_zero=True)(inputs)\n",
    "    x = layers.Dropout(0.2)(x)\n",
    "    x = layers.Bidirectional(layers.GRU(16, dropout=0.2 , recurrent_dropout=0.2, return_sequences=True))(x)\n",
    "    x = layers.Bidirectional(layers.GRU(16, dropout=0.2 , recurrent_dropout=0.2))(x)\n",
    "    outputs = layers.Dense(1, activation=\"sigmoid\")(x)\n",
    "    model = keras.Model(inputs, outputs)\n",
    "    model.summary()\n",
    "\n",
    "    model.compile(optimizer=get_optimizer(lr), loss=\"binary_crossentropy\", metrics=[\"accuracy\"])\n",
    "    history = model.fit(x_train_int, y_train, batch_size=batch_size, epochs=100, validation_data=(x_test_int, y_test), callbacks=get_callbacks(name))"
   ]
  },
  {
   "cell_type": "code",
   "execution_count": 49,
   "id": "61925016",
   "metadata": {},
   "outputs": [],
   "source": [
    "if test_reg == True:\n",
    "    model = keras.models.load_model(\"models/\" + name + \".keras\") \n",
    "    res = model.evaluate(x=x_test_int, y=y_test)[1]\n",
    "\n",
    "    print_plot(name, history, f\"Best val Loss: {min(history.history['val_loss']):.4f}\",f\"Best val Accuracy: {res:.4f}\")"
   ]
  },
  {
   "attachments": {},
   "cell_type": "markdown",
   "id": "549b6753",
   "metadata": {},
   "source": [
    "![](images/SimpleBidireccional16_dropout_recdropout.png)"
   ]
  },
  {
   "cell_type": "code",
   "execution_count": 50,
   "id": "c4b65422",
   "metadata": {},
   "outputs": [],
   "source": [
    "if test_reg == True:\n",
    "    name = \"SimpleBidireccional16_embdropout\"\n",
    "    inputs = keras.Input(shape=(None,), dtype=\"int32\")\n",
    "    x = layers.Embedding(maxFeatures, emb_dim, mask_zero=True)(inputs)\n",
    "    x = layers.Dropout(0.2)(x)\n",
    "    x = layers.Bidirectional(layers.GRU(16, return_sequences=True))(x)\n",
    "    x = layers.Bidirectional(layers.GRU(16))(x)\n",
    "    outputs = layers.Dense(1, activation=\"sigmoid\")(x)\n",
    "    model = keras.Model(inputs, outputs)\n",
    "    model.summary()\n",
    "\n",
    "    model.compile(optimizer=get_optimizer(lr), loss=\"binary_crossentropy\", metrics=[\"accuracy\"])\n",
    "    history = model.fit(x_train_int, y_train, batch_size=batch_size, epochs=100, validation_data=(x_test_int, y_test), callbacks=get_callbacks(name))"
   ]
  },
  {
   "cell_type": "code",
   "execution_count": 51,
   "id": "d08d6a18",
   "metadata": {},
   "outputs": [],
   "source": [
    "if test_reg == True:\n",
    "    model = keras.models.load_model(\"models/\" + name + \".keras\") \n",
    "    res = model.evaluate(x=x_test_int, y=y_test)[1]\n",
    "\n",
    "    print_plot(name, history, f\"Best val Loss: {min(history.history['val_loss']):.4f}\",f\"Best val Accuracy: {res:.4f}\")"
   ]
  },
  {
   "attachments": {},
   "cell_type": "markdown",
   "id": "c44c8cae",
   "metadata": {},
   "source": [
    "![](images/SimpleBidireccional16_embdropout.png)"
   ]
  },
  {
   "cell_type": "code",
   "execution_count": 52,
   "id": "7540daac",
   "metadata": {},
   "outputs": [],
   "source": [
    "if test_reg == True:\n",
    "    name = \"SimpleBidireccional16_simpledropout\"\n",
    "    inputs = keras.Input(shape=(None,), dtype=\"int32\")\n",
    "    x = layers.Embedding(maxFeatures, emb_dim, mask_zero=True)(inputs)\n",
    "    x = layers.Bidirectional(layers.GRU(16, return_sequences=True))(x)\n",
    "    x = layers.Bidirectional(layers.GRU(16))(x)\n",
    "    x = layers.Dropout(0.2)(x)\n",
    "    outputs = layers.Dense(1, activation=\"sigmoid\")(x)\n",
    "    model = keras.Model(inputs, outputs)\n",
    "    model.summary()\n",
    "\n",
    "    model.compile(optimizer=get_optimizer(lr), loss=\"binary_crossentropy\", metrics=[\"accuracy\"])\n",
    "    history = model.fit(x_train_int, y_train, batch_size=batch_size, epochs=100, validation_data=(x_test_int, y_test), callbacks=get_callbacks(name))"
   ]
  },
  {
   "cell_type": "code",
   "execution_count": 53,
   "id": "92570ebb",
   "metadata": {},
   "outputs": [],
   "source": [
    "if test_reg == True:\n",
    "    model = keras.models.load_model(\"models/\" + name + \".keras\") \n",
    "    res = model.evaluate(x=x_test_int, y=y_test)[1]\n",
    "\n",
    "    print_plot(name, history, f\"Best val Loss: {min(history.history['val_loss']):.4f}\",f\"Best val Accuracy: {res:.4f}\")"
   ]
  },
  {
   "attachments": {},
   "cell_type": "markdown",
   "id": "b20960b9",
   "metadata": {},
   "source": [
    "![](images/SimpleBidireccional16_simpledropout.png)"
   ]
  },
  {
   "cell_type": "code",
   "execution_count": 54,
   "id": "3a1abc6c",
   "metadata": {},
   "outputs": [],
   "source": [
    "if test_reg == True:\n",
    "    name = \"SimpleBidireccional16_dobledropout\"\n",
    "    inputs = keras.Input(shape=(None,), dtype=\"int32\")\n",
    "    x = layers.Embedding(maxFeatures, emb_dim, mask_zero=True)(inputs)\n",
    "    x = layers.Dropout(0.2)(x)\n",
    "    x = layers.Bidirectional(layers.GRU(16, return_sequences=True))(x)\n",
    "    x = layers.Bidirectional(layers.GRU(16))(x)\n",
    "    x = layers.Dropout(0.2)(x)\n",
    "    outputs = layers.Dense(1, activation=\"sigmoid\")(x)\n",
    "    model = keras.Model(inputs, outputs)\n",
    "    model.summary()\n",
    "\n",
    "    model.compile(optimizer=get_optimizer(lr), loss=\"binary_crossentropy\", metrics=[\"accuracy\"])\n",
    "    history = model.fit(x_train_int, y_train, batch_size=batch_size, epochs=100, validation_data=(x_test_int, y_test), callbacks=get_callbacks(name))"
   ]
  },
  {
   "cell_type": "code",
   "execution_count": 55,
   "id": "bb993724",
   "metadata": {},
   "outputs": [],
   "source": [
    "if test_reg == True:\n",
    "    model = keras.models.load_model(\"models/\" + name + \".keras\") \n",
    "    res = model.evaluate(x=x_test_int, y=y_test)[1]\n",
    "\n",
    "    print_plot(name, history, f\"Best val Loss: {min(history.history['val_loss']):.4f}\",f\"Best val Accuracy: {res:.4f}\")"
   ]
  },
  {
   "attachments": {},
   "cell_type": "markdown",
   "id": "2ec697bb",
   "metadata": {},
   "source": [
    "![](images/SimpleBidireccional16_dobledropout.png)"
   ]
  },
  {
   "attachments": {},
   "cell_type": "markdown",
   "id": "abef17a0",
   "metadata": {},
   "source": [
    "#### Normalization\n",
    "\n",
    "Normalizing the inputs of some layers could help to reduce overfitting so for out next test we are going to add a batch normalization layer after each bidirectional layer.\n",
    "\n",
    "In general is not recommended to use batch normalization with embedding layers, as the embedding layer produces a sparse output, meaning that many of the values in the output tensor are zero and this can lead to numerical instability when using batch normalization, so we wont add batch normalization after this type of layer."
   ]
  },
  {
   "cell_type": "code",
   "execution_count": 56,
   "id": "2685c76c",
   "metadata": {},
   "outputs": [],
   "source": [
    "if test_reg == True:\n",
    "    name = \"SimpleBidireccional16_norm\"\n",
    "    inputs = keras.Input(shape=(None,), dtype=\"int32\")\n",
    "    x = layers.Embedding(maxFeatures, emb_dim, mask_zero=True)(inputs)\n",
    "    x = layers.Bidirectional(layers.GRU(16, return_sequences=True))(x)\n",
    "    x = layers.BatchNormalization()(x)\n",
    "    x = layers.Bidirectional(layers.GRU(16))(x)\n",
    "    x = layers.BatchNormalization()(x)\n",
    "    outputs = layers.Dense(1, activation=\"sigmoid\")(x)\n",
    "    model = keras.Model(inputs, outputs)\n",
    "    model.summary()\n",
    "\n",
    "    model.compile(optimizer=get_optimizer(lr), loss=\"binary_crossentropy\", metrics=[\"accuracy\"])\n",
    "    history = model.fit(x_train_int, y_train, batch_size=batch_size, epochs=100, validation_data=(x_test_int, y_test), callbacks=get_callbacks(name))"
   ]
  },
  {
   "cell_type": "code",
   "execution_count": 57,
   "id": "531d28ac",
   "metadata": {},
   "outputs": [],
   "source": [
    "if test_reg == True:\n",
    "    model = keras.models.load_model(\"models/\" + name + \".keras\") \n",
    "    res = model.evaluate(x=x_test_int, y=y_test)[1]\n",
    "\n",
    "    print_plot(name, history, f\"Best val Loss: {min(history.history['val_loss']):.4f}\",f\"Best val Accuracy: {res:.4f}\")"
   ]
  },
  {
   "attachments": {},
   "cell_type": "markdown",
   "id": "16441b58",
   "metadata": {},
   "source": [
    "![](images/SimpleBidireccional16_norm.png)"
   ]
  },
  {
   "attachments": {},
   "cell_type": "markdown",
   "id": "9d0520a5",
   "metadata": {},
   "source": [
    "We can see that using a batch normalization layer after each GRU layer didn't improve the model so will we will discard this approach of regularization."
   ]
  },
  {
   "attachments": {},
   "cell_type": "markdown",
   "id": "c22a0991",
   "metadata": {},
   "source": [
    "#### Weight decay\n",
    "\n",
    "For our next test, we experiment with weight decay which works by adding an additional term to the loss function that penalizes large weights in the model. We use L1 (adds a penalty proportional to the absolute value of the weight coefficients), L2 (adds a penalty proportional to the square of the weight coefficients) regularization and a combination of both."
   ]
  },
  {
   "cell_type": "code",
   "execution_count": 58,
   "id": "f7f96fb8",
   "metadata": {},
   "outputs": [],
   "source": [
    "if test_reg == True:\n",
    "    name = \"SimpleBidireccional16_L1\"\n",
    "    inputs = keras.Input(shape=(None,), dtype=\"int32\")\n",
    "    x = layers.Embedding(maxFeatures, emb_dim, mask_zero=True, embeddings_regularizer=regularizers.l1(0.0001))(inputs)\n",
    "    x = layers.Bidirectional(layers.GRU(16, kernel_regularizer=regularizers.l1(0.0001), return_sequences=True))(x)\n",
    "    x = layers.Bidirectional(layers.GRU(16, kernel_regularizer=regularizers.l1(0.0001)))(x)\n",
    "    outputs = layers.Dense(1, activation=\"sigmoid\")(x)\n",
    "    model = keras.Model(inputs, outputs)\n",
    "    model.summary()\n",
    "\n",
    "    model.compile(optimizer=get_optimizer(lr), loss=\"binary_crossentropy\", metrics=[\"accuracy\"])\n",
    "    history = model.fit(x_train_int, y_train, batch_size=batch_size, epochs=100, validation_data=(x_test_int, y_test), callbacks=get_callbacks(name, patience=20))"
   ]
  },
  {
   "cell_type": "code",
   "execution_count": 59,
   "id": "2cea987f",
   "metadata": {},
   "outputs": [],
   "source": [
    "if test_reg == True:\n",
    "    model = keras.models.load_model(\"models/\" + name + \".keras\") \n",
    "    res = model.evaluate(x=x_test_int, y=y_test)[1]\n",
    "\n",
    "    print_plot(name, history, f\"Best val Loss: {min(history.history['val_loss']):.4f}\",f\"Best val Accuracy: {res:.4f}\")"
   ]
  },
  {
   "attachments": {},
   "cell_type": "markdown",
   "id": "c23fe29e",
   "metadata": {},
   "source": [
    "![](images/SimpleBidireccional16_L1.png)"
   ]
  },
  {
   "cell_type": "code",
   "execution_count": 60,
   "id": "284f7a7a",
   "metadata": {},
   "outputs": [],
   "source": [
    "if test_reg == True:\n",
    "    name = \"SimpleBidireccional16_L2\"\n",
    "    inputs = keras.Input(shape=(None,), dtype=\"int32\")\n",
    "    x = layers.Embedding(maxFeatures, emb_dim, mask_zero=True, embeddings_regularizer=regularizers.l2(0.001))(inputs)\n",
    "    x = layers.Bidirectional(layers.GRU(16, kernel_regularizer=regularizers.l2(0.001), return_sequences=True))(x)\n",
    "    x = layers.Bidirectional(layers.GRU(16, kernel_regularizer=regularizers.l2(0.001)))(x)\n",
    "    outputs = layers.Dense(1, activation=\"sigmoid\")(x)\n",
    "    model = keras.Model(inputs, outputs)\n",
    "    model.summary()\n",
    "\n",
    "    model.compile(optimizer=get_optimizer(lr), loss=\"binary_crossentropy\", metrics=[\"accuracy\"])\n",
    "    history = model.fit(x_train_int, y_train, batch_size=batch_size, epochs=100, validation_data=(x_test_int, y_test), callbacks=get_callbacks(name, patience=20))"
   ]
  },
  {
   "cell_type": "code",
   "execution_count": 61,
   "id": "d9479177",
   "metadata": {},
   "outputs": [],
   "source": [
    "if test_reg == True:\n",
    "    model = keras.models.load_model(\"models/\" + name + \".keras\") \n",
    "    res = model.evaluate(x=x_test_int, y=y_test)[1]\n",
    "\n",
    "    print_plot(name, history, f\"Best val Loss: {min(history.history['val_loss']):.4f}\",f\"Best val Accuracy: {res:.4f}\")"
   ]
  },
  {
   "attachments": {},
   "cell_type": "markdown",
   "id": "c8fe839e",
   "metadata": {},
   "source": [
    "![](images/SimpleBidireccional16_L2.png)"
   ]
  },
  {
   "cell_type": "code",
   "execution_count": 62,
   "id": "ec56481a",
   "metadata": {},
   "outputs": [],
   "source": [
    "if test_reg == True:\n",
    "    name = \"SimpleBidireccional16_L1L2\"\n",
    "    inputs = keras.Input(shape=(None,), dtype=\"int32\")\n",
    "    x = layers.Embedding(maxFeatures, emb_dim, mask_zero=True, embeddings_regularizer=regularizers.l1_l2(l1=0.0001,l2=0.001))(inputs)\n",
    "    x = layers.Bidirectional(layers.GRU(16, kernel_regularizer=regularizers.l1_l2(l1=0.0001,l2=0.001), return_sequences=True))(x)\n",
    "    x = layers.Bidirectional(layers.GRU(16, kernel_regularizer=regularizers.l1_l2(l1=0.0001,l2=0.001)))(x)\n",
    "    outputs = layers.Dense(1, activation=\"sigmoid\")(x)\n",
    "    model = keras.Model(inputs, outputs)\n",
    "    model.summary()\n",
    "\n",
    "    model.compile(optimizer=get_optimizer(lr), loss=\"binary_crossentropy\", metrics=[\"accuracy\"])\n",
    "    history = model.fit(x_train_int, y_train, batch_size=batch_size, epochs=100, validation_data=(x_test_int, y_test), callbacks=get_callbacks(name, patience=20))"
   ]
  },
  {
   "cell_type": "code",
   "execution_count": 63,
   "id": "23ea8482",
   "metadata": {},
   "outputs": [],
   "source": [
    "if test_reg == True:\n",
    "    model = keras.models.load_model(\"models/\" + name + \".keras\") \n",
    "    res = model.evaluate(x=x_test_int, y=y_test)[1]\n",
    "\n",
    "    print_plot(name, history, f\"Best val Loss: {min(history.history['val_loss']):.4f}\",f\"Best val Accuracy: {res:.4f}\")"
   ]
  },
  {
   "attachments": {},
   "cell_type": "markdown",
   "id": "58ab0919",
   "metadata": {},
   "source": [
    "![](images/SimpleBidireccional16_L1L2.png)"
   ]
  },
  {
   "attachments": {},
   "cell_type": "markdown",
   "id": "13fe3b69",
   "metadata": {},
   "source": [
    "After the execution of this subsection, we can see that using only the L2 regularization gave the best metrics with 0.8828 of accuracy,  even over the combination of both L1 and L2 with 0.8775 of accuracy."
   ]
  },
  {
   "attachments": {},
   "cell_type": "markdown",
   "id": "4eb594a9",
   "metadata": {},
   "source": [
    "#### Combination\n",
    "\n",
    "Next we test the combination of regularization techniques to see if we get better results than using them individually. We did not test dropout at the same time that batch normalization as they do not work well together. In fact, dropout could randomly drop out neurons that normalization is taking into account to make its calculations.\n",
    "We decide to test the model with dropout, recurrent dropout and L2 as they give the better results in the previous experimentation of this notebook. "
   ]
  },
  {
   "cell_type": "code",
   "execution_count": 64,
   "id": "b7816d21",
   "metadata": {},
   "outputs": [],
   "source": [
    "if test_reg == True:\n",
    "    name = \"SimpleBidireccional16_drop_recdrop_L2\"\n",
    "    inputs = keras.Input(shape=(None,), dtype=\"int32\")\n",
    "    x = layers.Embedding(maxFeatures, emb_dim, mask_zero=True, embeddings_regularizer=regularizers.l2(l2=0.001))(inputs)\n",
    "    x = layers.Dropout(0.2)(x)\n",
    "    x = layers.Bidirectional(layers.GRU(16, dropout=0.2 , recurrent_dropout=0.2, kernel_regularizer=regularizers.l2(l2=0.001), return_sequences=True))(x)\n",
    "    x = layers.Bidirectional(layers.GRU(16, dropout=0.2 , recurrent_dropout=0.2, kernel_regularizer=regularizers.l2(l2=0.001)))(x)\n",
    "    outputs = layers.Dense(1, activation=\"sigmoid\")(x)\n",
    "    model = keras.Model(inputs, outputs)\n",
    "    model.summary()\n",
    "\n",
    "    model.compile(optimizer=get_optimizer(lr), loss=\"binary_crossentropy\", metrics=[\"accuracy\"])\n",
    "    history = model.fit(x_train_int, y_train, batch_size=batch_size, epochs=100, validation_data=(x_test_int, y_test), callbacks=get_callbacks(name))"
   ]
  },
  {
   "cell_type": "code",
   "execution_count": 65,
   "id": "348a7040",
   "metadata": {},
   "outputs": [],
   "source": [
    "if test_reg == True:\n",
    "    model = keras.models.load_model(\"models/\" + name + \".keras\") \n",
    "    res = model.evaluate(x=x_test_int, y=y_test)[1]\n",
    "\n",
    "    print_plot(name, history, f\"Best val Loss: {min(history.history['val_loss']):.4f}\",f\"Best val Accuracy: {res:.4f}\")"
   ]
  },
  {
   "attachments": {},
   "cell_type": "markdown",
   "id": "b652ded8",
   "metadata": {},
   "source": [
    "![](images/SimpleBidireccional16_drop_recdrop_L2.png)"
   ]
  },
  {
   "attachments": {},
   "cell_type": "markdown",
   "id": "99891d3c",
   "metadata": {},
   "source": [
    "As we can see in the graph, the result of this model are very similar to the ones obtained in the simpleBidireccional16_dropout_recdropout one, which have a 88.58 against a 88.50 for our new experiment. We decide to keep this new model as our final model as adding the use of L2 will also give a better generalization than only using dropout.\n",
    "\n",
    "Now that we have our final model, we will try to optimize it more in the next Optimizing learning rate section."
   ]
  },
  {
   "attachments": {},
   "cell_type": "markdown",
   "id": "1755f159",
   "metadata": {},
   "source": [
    "### Optimizing learning rate\n",
    "\n",
    "In this subsection we do the fine tuning of the best model. "
   ]
  },
  {
   "attachments": {},
   "cell_type": "markdown",
   "id": "e1ba8e0f",
   "metadata": {},
   "source": [
    "After experimenting with different models and regularization techniques during the previous tests, we selected the final model to \"tune it\", this means, we train the model with a lower optimizer learning rate. As we have done before, we decided to also reduce the batch size."
   ]
  },
  {
   "cell_type": "code",
   "execution_count": 66,
   "id": "867f7ba6",
   "metadata": {},
   "outputs": [],
   "source": [
    "batch_size = 64\n",
    "lr = 0.000001"
   ]
  },
  {
   "cell_type": "code",
   "execution_count": 68,
   "id": "dc3e4858",
   "metadata": {},
   "outputs": [
    {
     "name": "stdout",
     "output_type": "stream",
     "text": [
      "Epoch 1/100\n",
      "391/391 [==============================] - ETA: 0s - loss: 0.2502 - accuracy: 0.9298\n",
      "Epoch 1: val_loss improved from inf to 0.34670, saving model to models\\FinalModel_lr00001.keras\n",
      "391/391 [==============================] - 157s 372ms/step - loss: 0.2502 - accuracy: 0.9298 - val_loss: 0.3467 - val_accuracy: 0.8851\n",
      "Epoch 2/100\n",
      "391/391 [==============================] - ETA: 0s - loss: 0.2471 - accuracy: 0.9305\n",
      "Epoch 2: val_loss did not improve from 0.34670\n",
      "391/391 [==============================] - 148s 379ms/step - loss: 0.2471 - accuracy: 0.9305 - val_loss: 0.3468 - val_accuracy: 0.8853\n",
      "Epoch 3/100\n",
      "391/391 [==============================] - ETA: 0s - loss: 0.2499 - accuracy: 0.9306\n",
      "Epoch 3: val_loss did not improve from 0.34670\n",
      "391/391 [==============================] - 150s 384ms/step - loss: 0.2499 - accuracy: 0.9306 - val_loss: 0.3469 - val_accuracy: 0.8846\n",
      "Epoch 4/100\n",
      "391/391 [==============================] - ETA: 0s - loss: 0.2478 - accuracy: 0.9304\n",
      "Epoch 4: val_loss did not improve from 0.34670\n",
      "391/391 [==============================] - 260s 666ms/step - loss: 0.2478 - accuracy: 0.9304 - val_loss: 0.3470 - val_accuracy: 0.8847\n",
      "Epoch 5/100\n",
      "391/391 [==============================] - ETA: 0s - loss: 0.2472 - accuracy: 0.9307\n",
      "Epoch 5: val_loss did not improve from 0.34670\n",
      "391/391 [==============================] - 165s 421ms/step - loss: 0.2472 - accuracy: 0.9307 - val_loss: 0.3471 - val_accuracy: 0.8844\n",
      "Epoch 6/100\n",
      "391/391 [==============================] - ETA: 0s - loss: 0.2500 - accuracy: 0.9300\n",
      "Epoch 6: val_loss did not improve from 0.34670\n",
      "391/391 [==============================] - 150s 384ms/step - loss: 0.2500 - accuracy: 0.9300 - val_loss: 0.3471 - val_accuracy: 0.8846\n",
      "Epoch 7/100\n",
      "391/391 [==============================] - ETA: 0s - loss: 0.2479 - accuracy: 0.9305\n",
      "Epoch 7: val_loss did not improve from 0.34670\n",
      "391/391 [==============================] - 151s 387ms/step - loss: 0.2479 - accuracy: 0.9305 - val_loss: 0.3471 - val_accuracy: 0.8845\n",
      "Epoch 8/100\n",
      "391/391 [==============================] - ETA: 0s - loss: 0.2477 - accuracy: 0.9317\n",
      "Epoch 8: val_loss did not improve from 0.34670\n",
      "391/391 [==============================] - 151s 387ms/step - loss: 0.2477 - accuracy: 0.9317 - val_loss: 0.3473 - val_accuracy: 0.8846\n",
      "Epoch 9/100\n",
      "391/391 [==============================] - ETA: 0s - loss: 0.2489 - accuracy: 0.9316\n",
      "Epoch 9: val_loss did not improve from 0.34670\n",
      "391/391 [==============================] - 151s 385ms/step - loss: 0.2489 - accuracy: 0.9316 - val_loss: 0.3473 - val_accuracy: 0.8846\n",
      "Epoch 10/100\n",
      "391/391 [==============================] - ETA: 0s - loss: 0.2479 - accuracy: 0.9302\n",
      "Epoch 10: val_loss did not improve from 0.34670\n",
      "391/391 [==============================] - 183s 467ms/step - loss: 0.2479 - accuracy: 0.9302 - val_loss: 0.3472 - val_accuracy: 0.8846\n",
      "Epoch 11/100\n",
      "391/391 [==============================] - ETA: 0s - loss: 0.2466 - accuracy: 0.9324\n",
      "Epoch 11: val_loss did not improve from 0.34670\n",
      "391/391 [==============================] - 154s 395ms/step - loss: 0.2466 - accuracy: 0.9324 - val_loss: 0.3474 - val_accuracy: 0.8847\n",
      "Epoch 11: early stopping\n"
     ]
    }
   ],
   "source": [
    "name = \"FinalModel_lr000001\"\n",
    "model = keras.models.load_model(\"models/SimpleBidireccional16_drop_recdrop_L2.keras\") \n",
    "\n",
    "model.compile(optimizer=get_optimizer(lr), loss=\"binary_crossentropy\", metrics=[\"accuracy\"])\n",
    "history = model.fit(x_train_int, y_train, batch_size=batch_size, epochs=100, validation_data=(x_test_int, y_test), callbacks=get_callbacks(name))"
   ]
  },
  {
   "cell_type": "code",
   "execution_count": 72,
   "id": "d96f41a6",
   "metadata": {},
   "outputs": [
    {
     "name": "stdout",
     "output_type": "stream",
     "text": [
      "Model: \"model\"\n",
      "_________________________________________________________________\n",
      " Layer (type)                Output Shape              Param #   \n",
      "=================================================================\n",
      " input_1 (InputLayer)        [(None, None)]            0         \n",
      "                                                                 \n",
      " embedding (Embedding)       (None, None, 64)          6400000   \n",
      "                                                                 \n",
      " dropout (Dropout)           (None, None, 64)          0         \n",
      "                                                                 \n",
      " bidirectional (Bidirectiona  (None, None, 32)         7872      \n",
      " l)                                                              \n",
      "                                                                 \n",
      " bidirectional_1 (Bidirectio  (None, 32)               4800      \n",
      " nal)                                                            \n",
      "                                                                 \n",
      " dense (Dense)               (None, 1)                 33        \n",
      "                                                                 \n",
      "=================================================================\n",
      "Total params: 6,412,705\n",
      "Trainable params: 6,412,705\n",
      "Non-trainable params: 0\n",
      "_________________________________________________________________\n"
     ]
    }
   ],
   "source": [
    "model.summary()"
   ]
  },
  {
   "cell_type": "code",
   "execution_count": 69,
   "id": "b687419e",
   "metadata": {},
   "outputs": [
    {
     "name": "stdout",
     "output_type": "stream",
     "text": [
      "782/782 [==============================] - 83s 104ms/step - loss: 0.3467 - accuracy: 0.8851\n"
     ]
    },
    {
     "data": {
      "image/png": "[encoded data removed]",
      "text/plain": [
       "<Figure size 1000x480 with 2 Axes>"
      ]
     },
     "metadata": {},
     "output_type": "display_data"
    }
   ],
   "source": [
    "model = keras.models.load_model(\"models/\" + name + \".keras\") \n",
    "res = model.evaluate(x=x_test_int, y=y_test)[1]\n",
    "\n",
    "print_plot(name, history, f\"Best val Loss: {min(history.history['val_loss']):.4f}\",f\"Best val Accuracy: {res:.4f}\")"
   ]
  },
  {
   "attachments": {},
   "cell_type": "markdown",
   "id": "018c8f32",
   "metadata": {},
   "source": [
    "The accuracy of the model increase only from 0.8850 to 0.8851. This is expected as when why starting testing more complex models, we also decided to reduce the learning rate and batch size, so the reach of a better minimum is limited."
   ]
  },
  {
   "attachments": {},
   "cell_type": "markdown",
   "id": "bdd36d83",
   "metadata": {},
   "source": [
    "## 4.Results\n",
    "\n",
    "In this section we show the final results about the project."
   ]
  },
  {
   "cell_type": "code",
   "execution_count": 80,
   "id": "b98c67ea",
   "metadata": {},
   "outputs": [
    {
     "name": "stdout",
     "output_type": "stream",
     "text": [
      "Basic model - Model evaluation accuracy: 0.879\n",
      "Optimizer selection - Model evaluation accuracy: 0.8794\n",
      "Max features selection - Model evaluation accuracy: 0.8791\n",
      "Length selection - Model evaluation accuracy: 0.8804\n",
      "Embedding selection - Model evaluation accuracy: 0.8824\n",
      "Complex model - Model evaluation accuracy: 0.8832\n",
      "Complex model with regularization - Model evaluation accuracy: 0.885\n",
      "Complex model with fine tuning - Model evaluation accuracy: 0.8851\n"
     ]
    },
    {
     "data": {
      "image/png": "[encoded data removed]",
      "text/plain": [
       "<Figure size 640x480 with 1 Axes>"
      ]
     },
     "metadata": {},
     "output_type": "display_data"
    }
   ],
   "source": [
    "acc_models = [0.8790, 0.8794, 0.8791, 0.8804, 0.8824, 0.8832, 0.8850, 0.8851]\n",
    "names = [\"Basic model\", \"Optimizer selection\", \"Max features selection\", \"Length selection\", \n",
    "         \"Embedding selection\", \"Complex model\", \"Complex model with regularization\", \"Complex model with fine tuning\"]\n",
    "\n",
    "for i in range(0,len(acc_models)):\n",
    "    print(names[i], '- Model evaluation accuracy:', acc_models[i])\n",
    "\n",
    "plt.bar(names, acc_models)\n",
    "plt.title('Final model accuracy evaluation')\n",
    "plt.ylabel('Accuracy')\n",
    "plt.tick_params(axis='x', rotation=70)\n",
    "plt.ylim([0.8, 0.9])\n",
    "plt.show()"
   ]
  },
  {
   "attachments": {},
   "cell_type": "markdown",
   "id": "8bbcb5f6",
   "metadata": {},
   "source": [
    "In the above graphic we can see the evolution of our model thought the different steps that we set for our selection, first the test of different basic architectures, then the selection of the optimizer, the test of better hyperparameters and more complex models, the use of different regularization techniques and finally the fine tunning of our final model.\n",
    "\n",
    "We can see how our metrics improve in most of the steps, except in the case of max features. In some sections we have models with better metrics, but we decide to select others that will theoretically have a better generalization.\n",
    "\n",
    "In the final execution of our model, the testing accuracy was 0.8851."
   ]
  }
 ],
 "metadata": {
  "kernelspec": {
   "display_name": "Python 3 (ipykernel)",
   "language": "python",
   "name": "python3"
  },
  "language_info": {
   "codemirror_mode": {
    "name": "ipython",
    "version": 3
   },
   "file_extension": ".py",
   "mimetype": "text/x-python",
   "name": "python",
   "nbconvert_exporter": "python",
   "pygments_lexer": "ipython3",
   "version": "3.8.15"
  }
 },
 "nbformat": 4,
 "nbformat_minor": 5
}
